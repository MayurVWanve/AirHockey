{
 "cells": [
  {
   "cell_type": "code",
   "execution_count": 2,
   "id": "6d348d70-ec09-4b8d-85b5-6e10979aed52",
   "metadata": {},
   "outputs": [
    {
     "name": "stdout",
     "output_type": "stream",
     "text": [
      "pygame 2.5.2 (SDL 2.28.3, Python 3.11.4)\n",
      "Hello from the pygame community. https://www.pygame.org/contribute.html\n"
     ]
    }
   ],
   "source": [
    "import numpy as np\n",
    "\n",
    "import matplotlib.pyplot as plt\n",
    "from matplotlib.patches import Circle, Rectangle\n",
    "\n",
    "import torch\n",
    "import torch.nn as nn\n",
    "import torch.optim as optim\n",
    "from torch.distributions import Categorical\n",
    "\n",
    "import pygame\n",
    "import random\n",
    "\n",
    "import pickle\n",
    "\n",
    "import gym\n",
    "from gym import spaces\n",
    "from gym.utils import seeding\n"
   ]
  },
  {
   "cell_type": "markdown",
   "id": "689f028f",
   "metadata": {},
   "source": [
    "# Multi Agent Reinforcement Learning - Lumberjack\n"
   ]
  },
  {
   "cell_type": "code",
   "execution_count": 106,
   "id": "e05b594b-217c-497b-9ff6-4fd347de711d",
   "metadata": {},
   "outputs": [
    {
     "name": "stdout",
     "output_type": "stream",
     "text": [
      "Requirement already satisfied: update in /Users/mayurwanve/.pyenv/versions/3.11.4/lib/python3.11/site-packages (0.0.1)\n",
      "Requirement already satisfied: pip in /Users/mayurwanve/.pyenv/versions/3.11.4/lib/python3.11/site-packages (23.0.1)\n",
      "Requirement already satisfied: style==1.1.0 in /Users/mayurwanve/.pyenv/versions/3.11.4/lib/python3.11/site-packages (from update) (1.1.0)\n",
      "\u001b[33mWARNING: There was an error checking the latest version of pip.\u001b[0m\u001b[33m\n",
      "\u001b[0mRequirement already satisfied: pip<=23.0.1 in /Users/mayurwanve/.pyenv/versions/3.11.4/lib/python3.11/site-packages (23.0.1)\n",
      "\u001b[33mWARNING: There was an error checking the latest version of pip.\u001b[0m\u001b[33m\n",
      "\u001b[0mRequirement already satisfied: setuptools<=66 in /Users/mayurwanve/.pyenv/versions/3.11.4/lib/python3.11/site-packages (65.5.0)\n",
      "\u001b[33mWARNING: There was an error checking the latest version of pip.\u001b[0m\u001b[33m\n",
      "\u001b[0mRequirement already satisfied: wheel<=0.38.4 in /Users/mayurwanve/.pyenv/versions/3.11.4/lib/python3.11/site-packages (0.38.4)\n",
      "\u001b[33mWARNING: There was an error checking the latest version of pip.\u001b[0m\u001b[33m\n",
      "\u001b[0m"
     ]
    }
   ],
   "source": [
    "!pip install update pip\n",
    "!pip install 'pip<=23.0.1'\n",
    "!pip install 'setuptools<=66'\n",
    "!pip install 'wheel<=0.38.4'\n"
   ]
  },
  {
   "cell_type": "code",
   "execution_count": 107,
   "id": "a1012ab5",
   "metadata": {},
   "outputs": [
    {
     "name": "stdout",
     "output_type": "stream",
     "text": [
      "Requirement already satisfied: ma-gym in /Users/mayurwanve/.pyenv/versions/3.11.4/lib/python3.11/site-packages (0.0.14)\n",
      "Requirement already satisfied: scipy>=1.3.0 in /Users/mayurwanve/.pyenv/versions/3.11.4/lib/python3.11/site-packages (from ma-gym) (1.11.4)\n",
      "Requirement already satisfied: numpy>=1.16.4 in /Users/mayurwanve/.pyenv/versions/3.11.4/lib/python3.11/site-packages (from ma-gym) (1.26.2)\n",
      "Requirement already satisfied: pyglet<=1.5.27,>=1.4.0 in /Users/mayurwanve/.pyenv/versions/3.11.4/lib/python3.11/site-packages (from ma-gym) (1.5.27)\n",
      "Requirement already satisfied: cloudpickle==2.0.0 in /Users/mayurwanve/.pyenv/versions/3.11.4/lib/python3.11/site-packages (from ma-gym) (2.0.0)\n",
      "Requirement already satisfied: gym<=0.20.0,>=0.19.0 in /Users/mayurwanve/.pyenv/versions/3.11.4/lib/python3.11/site-packages (from ma-gym) (0.20.0)\n",
      "Requirement already satisfied: pillow>=7.2.0 in /Users/mayurwanve/.pyenv/versions/3.11.4/lib/python3.11/site-packages (from ma-gym) (10.2.0)\n",
      "Requirement already satisfied: six>=1.16.0 in /Users/mayurwanve/.pyenv/versions/3.11.4/lib/python3.11/site-packages (from ma-gym) (1.16.0)\n",
      "\u001b[33mWARNING: There was an error checking the latest version of pip.\u001b[0m\u001b[33m\n",
      "\u001b[0mNote: you may need to restart the kernel to use updated packages.\n"
     ]
    }
   ],
   "source": [
    "%pip install ma-gym"
   ]
  },
  {
   "cell_type": "code",
   "execution_count": 108,
   "id": "0ff069a5",
   "metadata": {},
   "outputs": [],
   "source": [
    "from ma_gym.envs.lumberjacks.lumberjacks import Lumberjacks"
   ]
  },
  {
   "cell_type": "code",
   "execution_count": 124,
   "id": "67884955",
   "metadata": {},
   "outputs": [],
   "source": [
    "import torch\n",
    "import torch.nn as nn\n",
    "from torch.distributions import Categorical\n",
    "\n",
    "class ActorCritic(nn.Module):\n",
    "    def __init__(self, input_dim, action_dim):\n",
    "        super(ActorCritic, self).__init__()\n",
    "        self.fc1 = nn.Linear(input_dim, 128)\n",
    "        self.fc2 = nn.Linear(128, 64)\n",
    "        self.actor = nn.Linear(64, action_dim)\n",
    "        self.critic = nn.Linear(64, 1)\n",
    "\n",
    "    def forward(self, x):\n",
    "        x = torch.relu(self.fc1(x))\n",
    "        x = torch.relu(self.fc2(x))\n",
    "        action_probs = torch.softmax(self.actor(x), dim=-1)\n",
    "        state_value = self.critic(x)\n",
    "        return action_probs, state_value\n",
    "\n",
    "    def act(self, state):\n",
    "        action_probs, _ = self.forward(state)\n",
    "        action_dist = Categorical(action_probs)\n",
    "        action = action_dist.sample()\n",
    "        # print(\"Action: \",action)\n",
    "        return action.item(), action_dist.log_prob(action)\n",
    "\n",
    "\n",
    "def collect_trajectories(env, model_p1, model_p2, num_steps):\n",
    "    obs = env.reset()\n",
    "    states_p1, states_p2, actions_p1, actions_p2 = [], [], [], []\n",
    "    rewards_p1, rewards_p2 = [], []\n",
    "    dones, log_probs_p1, log_probs_p2 = [], [], []\n",
    "    values_p1, values_p2 = [], []\n",
    "\n",
    "    for _ in range(num_steps):\n",
    "        # Separate observation for each agent\n",
    "        state_p1 = torch.tensor(obs[0], dtype=torch.float32)\n",
    "        state_p2 = torch.tensor(obs[1], dtype=torch.float32)\n",
    "\n",
    "        # Get actions and log probabilities\n",
    "        action_p1, log_prob_p1 = model_p1.act(state_p1)\n",
    "        action_p2, log_prob_p2 = model_p2.act(state_p2)\n",
    "\n",
    "        # Get value predictions for the states\n",
    "        _, value_p1 = model_p1(state_p1)\n",
    "        _, value_p2 = model_p2(state_p2)\n",
    "\n",
    "        # Perform actions in the environment\n",
    "        next_obs, reward, done, _ = env.step([action_p1, action_p2])\n",
    "\n",
    "        # Store experience\n",
    "        states_p1.append(state_p1.clone().detach())\n",
    "        states_p2.append(state_p2.clone().detach())\n",
    "        actions_p1.append(action_p1)\n",
    "        actions_p2.append(action_p2)\n",
    "        rewards_p1.append(reward[0])\n",
    "        rewards_p2.append(reward[1])\n",
    "        dones.append(done)\n",
    "        log_probs_p1.append(log_prob_p1)\n",
    "        log_probs_p2.append(log_prob_p2)\n",
    "        values_p1.append(value_p1.item())  # Convert to scalar\n",
    "        values_p2.append(value_p2.item())  # Convert to scalar\n",
    "\n",
    "        # Move to the next state\n",
    "        obs = env.reset() if all(done) else next_obs\n",
    "\n",
    "    # Final value predictions for the last states\n",
    "    _, final_value_p1 = model_p1(torch.tensor(obs[0], dtype=torch.float32))\n",
    "    _, final_value_p2 = model_p2(torch.tensor(obs[1], dtype=torch.float32))\n",
    "    values_p1.append(final_value_p1.item())  # Convert to scalar\n",
    "    values_p2.append(final_value_p2.item())  # Convert to scalar\n",
    "\n",
    "    return states_p1, states_p2, actions_p1, actions_p2, rewards_p1, rewards_p2, dones, log_probs_p1, log_probs_p2, values_p1, values_p2\n",
    "\n",
    "     \n",
    "\n",
    "\n",
    "\n",
    "def compute_advantages(rewards, dones, values, gamma=0.99, lam=0.95,agent_idx=0):\n",
    "    T = len(rewards)\n",
    "    advantages = np.zeros(T)\n",
    "    last_advantage = 0\n",
    "\n",
    "    for i in reversed(range(T)):\n",
    "        # Ensure that we handle the last case properly\n",
    "        next_value = values[i + 1] if i + 1 < T else 0\n",
    "        # print(dones[i])\n",
    "        delta = rewards[i] + gamma * (1 - int(dones[i][agent_idx])) * next_value - values[i]\n",
    "        advantages[i] = last_advantage = delta + gamma * lam * (1 - int(dones[i][agent_idx])) * last_advantage\n",
    "\n",
    "    returns = advantages + np.array(values[:-1])\n",
    "    return advantages, returns\n",
    "\n",
    "\n",
    "\n",
    "def train_multiagent(env, model_p1, model_p2, optimizer_p1, optimizer_p2, num_updates=10000, batch_size=256):\n",
    "    rewards_p1 = []\n",
    "    rewards_p2 = []\n",
    "    for update in range(num_updates):\n",
    "        # Collect trajectories\n",
    "        states_p1, states_p2, actions_p1, actions_p2, rewards_1, rewards_2, dones, log_probs_p1, log_probs_p2, values_p1, values_p2 = collect_trajectories(env, model_p1, model_p2, batch_size)\n",
    "\n",
    "        # Convert lists to tensors, each element should be a separate tensor\n",
    "        states_p1_tensor = torch.stack([torch.tensor(state, dtype=torch.float32) for state in states_p1])\n",
    "        states_p2_tensor = torch.stack([torch.tensor(state, dtype=torch.float32) for state in states_p2])\n",
    "\n",
    "        actions_p1_tensor = torch.tensor(actions_p1, dtype=torch.int64)\n",
    "        actions_p2_tensor = torch.tensor(actions_p2, dtype=torch.int64)\n",
    "        \n",
    "        log_probs_p1_tensor = torch.stack(log_probs_p1)\n",
    "        log_probs_p2_tensor = torch.stack(log_probs_p2)\n",
    "        \n",
    "        advantages_p1, returns_p1 = compute_advantages(rewards_1, dones, values_p1,0)\n",
    "        advantages_p2, returns_p2 = compute_advantages(rewards_2, dones, values_p2,1)\n",
    "        \n",
    "        advantages_p1_tensor = torch.tensor(advantages_p1, dtype=torch.float32)\n",
    "        advantages_p2_tensor = torch.tensor(advantages_p2, dtype=torch.float32)\n",
    "        \n",
    "        returns_p1_tensor = torch.tensor(returns_p1, dtype=torch.float32)\n",
    "        returns_p2_tensor = torch.tensor(returns_p2, dtype=torch.float32)\n",
    "\n",
    "        # PPO update\n",
    "        ppo_update(model_p1, optimizer_p1, states_p1_tensor, actions_p1_tensor, log_probs_p1_tensor, advantages_p1_tensor, returns_p1_tensor)\n",
    "        ppo_update(model_p2, optimizer_p2, states_p2_tensor, actions_p2_tensor, log_probs_p2_tensor, advantages_p2_tensor, returns_p2_tensor)\n",
    "\n",
    "        total_reward_p1 = sum(rewards_1)\n",
    "        total_reward_p2 = sum(rewards_2)\n",
    "        rewards_p1.append(total_reward_p1)\n",
    "        rewards_p2.append(total_reward_p2)\n",
    "\n",
    "        print(f\"Update {update + 1}: Reward P1: {total_reward_p1}, Reward P2: {total_reward_p2}\")\n",
    "\n",
    "    return rewards_p1, rewards_p2\n",
    "\n",
    "\n",
    "\n",
    "def ppo_update(model, optimizer, states, actions, log_probs, advantages, returns, clip_ratio=0.1, vf_coef=0.5, ent_coef=0.01):\n",
    "    new_action_probs, new_values = model(states)\n",
    "    new_log_probs = Categorical(new_action_probs).log_prob(actions)\n",
    "    ratio = torch.exp(new_log_probs - log_probs)\n",
    "\n",
    "    surr1 = ratio * advantages\n",
    "    surr2 = torch.clamp(ratio, 1.0 - clip_ratio, 1.0 + clip_ratio) * advantages\n",
    "    policy_loss = -torch.min(surr1, surr2).mean()\n",
    "\n",
    "    value_loss = vf_coef * (returns - new_values).pow(2).mean()\n",
    "\n",
    "    entropy_loss = -ent_coef * Categorical(new_action_probs).entropy().mean()\n",
    "\n",
    "    loss = policy_loss + value_loss + entropy_loss\n",
    "    optimizer.zero_grad()\n",
    "    loss.backward()\n",
    "    optimizer.step()\n",
    "\n",
    "def plot_multiagent_rewards(rewards_p1, rewards_p2):\n",
    "    plt.plot(rewards_p1, label=\"Agent 1\")\n",
    "    plt.plot(rewards_p2, label=\"Agent 2\")\n",
    "    plt.xlabel(\"Updates\")\n",
    "    plt.ylabel(\"Total Rewards\")\n",
    "    plt.legend()\n",
    "    plt.title(\"Rewards per Update\")\n",
    "    plt.show()"
   ]
  },
  {
   "cell_type": "code",
   "execution_count": 125,
   "id": "804f7be6",
   "metadata": {},
   "outputs": [],
   "source": [
    "def save_multiagent_models(model_p1, model_p2, filepath_p1, filepath_p2):\n",
    "    torch.save(model_p1.state_dict(), filepath_p1)\n",
    "    torch.save(model_p2.state_dict(), filepath_p2)\n",
    "\n",
    "def load_multiagent_models(model_p1, model_p2, filepath_p1, filepath_p2):\n",
    "    model_p1.load_state_dict(torch.load(filepath_p1))\n",
    "    model_p2.load_state_dict(torch.load(filepath_p2))\n",
    "    model_p1.eval()\n",
    "    model_p2.eval()\n",
    "\n",
    "def plot_multiagent_rewards(rewards_p1, rewards_p2):\n",
    "    plt.plot(rewards_p1, label=\"Agent 1\")\n",
    "    plt.plot(rewards_p2, label=\"Agent 2\")\n",
    "    plt.xlabel(\"Updates\")\n",
    "    plt.ylabel(\"Total Rewards\")\n",
    "    plt.legend()\n",
    "    plt.title(\"Rewards per Update\")\n",
    "    plt.show()\n",
    "\n",
    "def evaluate_multiagent(env, model_p1, model_p2, num_episodes=10, render=False):\n",
    "    total_rewards_p1 = []\n",
    "    total_rewards_p2 = []\n",
    "    \n",
    "    for _ in range(num_episodes):\n",
    "        obs = env.reset()\n",
    "        episode_reward_p1 = 0\n",
    "        episode_reward_p2 = 0\n",
    "        \n",
    "        # Initialize hidden states if using RNNs\n",
    "        hidden_state_p1 = None\n",
    "        hidden_state_p2 = None\n",
    "        \n",
    "        done = [False] * env.n_agents  # Adjust for your environment\n",
    "        \n",
    "        while not all(done):\n",
    "            state_p1 = torch.tensor(obs[0], dtype=torch.float32)\n",
    "            state_p2 = torch.tensor(obs[1], dtype=torch.float32)\n",
    "            \n",
    "            action_p1, _= model_p1.act(state_p1)\n",
    "            action_p2, _ = model_p2.act(state_p2)\n",
    "            \n",
    "            obs, reward, done, _ = env.step([action_p1, action_p2])\n",
    "            \n",
    "            episode_reward_p1 += reward[0]\n",
    "            episode_reward_p2 += reward[1]\n",
    "            \n",
    "            if render:\n",
    "                env.render(episode_reward_p1, episode_reward_p2)\n",
    "        \n",
    "        total_rewards_p1.append(episode_reward_p1)\n",
    "        total_rewards_p2.append(episode_reward_p2)\n",
    "    \n",
    "    return total_rewards_p1, total_rewards_p2\n"
   ]
  },
  {
   "cell_type": "code",
   "execution_count": 135,
   "id": "a2869adb",
   "metadata": {},
   "outputs": [
    {
     "name": "stderr",
     "output_type": "stream",
     "text": [
      "Grid configuration same as last episode\n",
      "Grid configuration same as last episode\n",
      "/var/folders/5g/qlqfz90j623dbckxdcrvy7g00000gn/T/ipykernel_18079/891431880.py:104: UserWarning: To copy construct from a tensor, it is recommended to use sourceTensor.clone().detach() or sourceTensor.clone().detach().requires_grad_(True), rather than torch.tensor(sourceTensor).\n",
      "  states_p1_tensor = torch.stack([torch.tensor(state, dtype=torch.float32) for state in states_p1])\n",
      "/var/folders/5g/qlqfz90j623dbckxdcrvy7g00000gn/T/ipykernel_18079/891431880.py:105: UserWarning: To copy construct from a tensor, it is recommended to use sourceTensor.clone().detach() or sourceTensor.clone().detach().requires_grad_(True), rather than torch.tensor(sourceTensor).\n",
      "  states_p2_tensor = torch.stack([torch.tensor(state, dtype=torch.float32) for state in states_p2])\n",
      "Grid configuration same as last episode\n",
      "Grid configuration same as last episode\n",
      "Grid configuration same as last episode\n",
      "Grid configuration same as last episode\n"
     ]
    },
    {
     "name": "stdout",
     "output_type": "stream",
     "text": [
      "Update 1: Reward P1: -146, Reward P2: -146\n",
      "Update 2: Reward P1: -146, Reward P2: -146\n"
     ]
    },
    {
     "name": "stderr",
     "output_type": "stream",
     "text": [
      "Grid configuration same as last episode\n",
      "Grid configuration same as last episode\n",
      "Grid configuration same as last episode\n",
      "Grid configuration same as last episode\n",
      "Grid configuration same as last episode\n",
      "Grid configuration same as last episode\n"
     ]
    },
    {
     "name": "stdout",
     "output_type": "stream",
     "text": [
      "Update 3: Reward P1: -86, Reward P2: -86\n",
      "Update 4: Reward P1: -106, Reward P2: -106\n"
     ]
    },
    {
     "name": "stderr",
     "output_type": "stream",
     "text": [
      "Grid configuration same as last episode\n",
      "Grid configuration same as last episode\n",
      "Grid configuration same as last episode\n",
      "Grid configuration same as last episode\n",
      "Grid configuration same as last episode\n",
      "Grid configuration same as last episode\n"
     ]
    },
    {
     "name": "stdout",
     "output_type": "stream",
     "text": [
      "Update 5: Reward P1: -106, Reward P2: -106\n",
      "Update 6: Reward P1: -116, Reward P2: -116\n"
     ]
    },
    {
     "name": "stderr",
     "output_type": "stream",
     "text": [
      "Grid configuration same as last episode\n",
      "Grid configuration same as last episode\n",
      "Grid configuration same as last episode\n",
      "Grid configuration same as last episode\n",
      "Grid configuration same as last episode\n",
      "Grid configuration same as last episode\n"
     ]
    },
    {
     "name": "stdout",
     "output_type": "stream",
     "text": [
      "Update 7: Reward P1: -156, Reward P2: -156\n",
      "Update 8: Reward P1: -96, Reward P2: -96\n"
     ]
    },
    {
     "name": "stderr",
     "output_type": "stream",
     "text": [
      "Grid configuration same as last episode\n",
      "Grid configuration same as last episode\n",
      "Grid configuration same as last episode\n",
      "Grid configuration same as last episode\n",
      "Grid configuration same as last episode\n",
      "Grid configuration same as last episode\n"
     ]
    },
    {
     "name": "stdout",
     "output_type": "stream",
     "text": [
      "Update 9: Reward P1: -126, Reward P2: -126\n",
      "Update 10: Reward P1: -116, Reward P2: -116\n"
     ]
    },
    {
     "name": "stderr",
     "output_type": "stream",
     "text": [
      "Grid configuration same as last episode\n",
      "Grid configuration same as last episode\n",
      "Grid configuration same as last episode\n",
      "Grid configuration same as last episode\n",
      "Grid configuration same as last episode\n",
      "Grid configuration same as last episode\n"
     ]
    },
    {
     "name": "stdout",
     "output_type": "stream",
     "text": [
      "Update 11: Reward P1: -126, Reward P2: -126\n",
      "Update 12: Reward P1: -136, Reward P2: -136\n"
     ]
    },
    {
     "name": "stderr",
     "output_type": "stream",
     "text": [
      "Grid configuration same as last episode\n",
      "Grid configuration same as last episode\n",
      "Grid configuration same as last episode\n",
      "Grid configuration same as last episode\n",
      "Grid configuration same as last episode\n",
      "Grid configuration same as last episode\n"
     ]
    },
    {
     "name": "stdout",
     "output_type": "stream",
     "text": [
      "Update 13: Reward P1: -106, Reward P2: -106\n",
      "Update 14: Reward P1: -86, Reward P2: -86\n"
     ]
    },
    {
     "name": "stderr",
     "output_type": "stream",
     "text": [
      "Grid configuration same as last episode\n",
      "Grid configuration same as last episode\n",
      "Grid configuration same as last episode\n",
      "Grid configuration same as last episode\n",
      "Grid configuration same as last episode\n",
      "Grid configuration same as last episode\n"
     ]
    },
    {
     "name": "stdout",
     "output_type": "stream",
     "text": [
      "Update 15: Reward P1: -156, Reward P2: -156\n",
      "Update 16: Reward P1: -76, Reward P2: -76\n"
     ]
    },
    {
     "name": "stderr",
     "output_type": "stream",
     "text": [
      "Grid configuration same as last episode\n",
      "Grid configuration same as last episode\n",
      "Grid configuration same as last episode\n",
      "Grid configuration same as last episode\n",
      "Grid configuration same as last episode\n",
      "Grid configuration same as last episode\n"
     ]
    },
    {
     "name": "stdout",
     "output_type": "stream",
     "text": [
      "Update 17: Reward P1: -136, Reward P2: -136\n",
      "Update 18: Reward P1: -86, Reward P2: -86\n"
     ]
    },
    {
     "name": "stderr",
     "output_type": "stream",
     "text": [
      "Grid configuration same as last episode\n",
      "Grid configuration same as last episode\n",
      "Grid configuration same as last episode\n",
      "Grid configuration same as last episode\n",
      "Grid configuration same as last episode\n",
      "Grid configuration same as last episode\n"
     ]
    },
    {
     "name": "stdout",
     "output_type": "stream",
     "text": [
      "Update 19: Reward P1: -96, Reward P2: -96\n",
      "Update 20: Reward P1: -106, Reward P2: -106\n"
     ]
    },
    {
     "name": "stderr",
     "output_type": "stream",
     "text": [
      "Grid configuration same as last episode\n",
      "Grid configuration same as last episode\n",
      "Grid configuration same as last episode\n",
      "Grid configuration same as last episode\n",
      "Grid configuration same as last episode\n",
      "Grid configuration same as last episode\n"
     ]
    },
    {
     "name": "stdout",
     "output_type": "stream",
     "text": [
      "Update 21: Reward P1: -136, Reward P2: -136\n",
      "Update 22: Reward P1: -106, Reward P2: -106\n"
     ]
    },
    {
     "name": "stderr",
     "output_type": "stream",
     "text": [
      "Grid configuration same as last episode\n",
      "Grid configuration same as last episode\n",
      "Grid configuration same as last episode\n",
      "Grid configuration same as last episode\n",
      "Grid configuration same as last episode\n",
      "Grid configuration same as last episode\n"
     ]
    },
    {
     "name": "stdout",
     "output_type": "stream",
     "text": [
      "Update 23: Reward P1: -96, Reward P2: -96\n",
      "Update 24: Reward P1: -96, Reward P2: -96\n"
     ]
    },
    {
     "name": "stderr",
     "output_type": "stream",
     "text": [
      "Grid configuration same as last episode\n",
      "Grid configuration same as last episode\n",
      "Grid configuration same as last episode\n",
      "Grid configuration same as last episode\n",
      "Grid configuration same as last episode\n",
      "Grid configuration same as last episode\n"
     ]
    },
    {
     "name": "stdout",
     "output_type": "stream",
     "text": [
      "Update 25: Reward P1: -176, Reward P2: -176\n",
      "Update 26: Reward P1: -76, Reward P2: -76\n"
     ]
    },
    {
     "name": "stderr",
     "output_type": "stream",
     "text": [
      "Grid configuration same as last episode\n",
      "Grid configuration same as last episode\n",
      "Grid configuration same as last episode\n",
      "Grid configuration same as last episode\n",
      "Grid configuration same as last episode\n",
      "Grid configuration same as last episode\n"
     ]
    },
    {
     "name": "stdout",
     "output_type": "stream",
     "text": [
      "Update 27: Reward P1: -156, Reward P2: -156\n",
      "Update 28: Reward P1: -136, Reward P2: -136\n"
     ]
    },
    {
     "name": "stderr",
     "output_type": "stream",
     "text": [
      "Grid configuration same as last episode\n",
      "Grid configuration same as last episode\n",
      "Grid configuration same as last episode\n",
      "Grid configuration same as last episode\n",
      "Grid configuration same as last episode\n",
      "Grid configuration same as last episode\n"
     ]
    },
    {
     "name": "stdout",
     "output_type": "stream",
     "text": [
      "Update 29: Reward P1: -106, Reward P2: -106\n",
      "Update 30: Reward P1: -106, Reward P2: -106\n"
     ]
    },
    {
     "name": "stderr",
     "output_type": "stream",
     "text": [
      "Grid configuration same as last episode\n",
      "Grid configuration same as last episode\n",
      "Grid configuration same as last episode\n",
      "Grid configuration same as last episode\n",
      "Grid configuration same as last episode\n",
      "Grid configuration same as last episode\n"
     ]
    },
    {
     "name": "stdout",
     "output_type": "stream",
     "text": [
      "Update 31: Reward P1: -66, Reward P2: -66\n",
      "Update 32: Reward P1: -166, Reward P2: -166\n"
     ]
    },
    {
     "name": "stderr",
     "output_type": "stream",
     "text": [
      "Grid configuration same as last episode\n",
      "Grid configuration same as last episode\n",
      "Grid configuration same as last episode\n",
      "Grid configuration same as last episode\n",
      "Grid configuration same as last episode\n",
      "Grid configuration same as last episode\n"
     ]
    },
    {
     "name": "stdout",
     "output_type": "stream",
     "text": [
      "Update 33: Reward P1: -106, Reward P2: -106\n",
      "Update 34: Reward P1: -136, Reward P2: -136\n"
     ]
    },
    {
     "name": "stderr",
     "output_type": "stream",
     "text": [
      "Grid configuration same as last episode\n",
      "Grid configuration same as last episode\n",
      "Grid configuration same as last episode\n",
      "Grid configuration same as last episode\n",
      "Grid configuration same as last episode\n",
      "Grid configuration same as last episode\n"
     ]
    },
    {
     "name": "stdout",
     "output_type": "stream",
     "text": [
      "Update 35: Reward P1: -96, Reward P2: -96\n",
      "Update 36: Reward P1: -156, Reward P2: -156\n"
     ]
    },
    {
     "name": "stderr",
     "output_type": "stream",
     "text": [
      "Grid configuration same as last episode\n",
      "Grid configuration same as last episode\n",
      "Grid configuration same as last episode\n",
      "Grid configuration same as last episode\n",
      "Grid configuration same as last episode\n",
      "Grid configuration same as last episode\n"
     ]
    },
    {
     "name": "stdout",
     "output_type": "stream",
     "text": [
      "Update 37: Reward P1: -126, Reward P2: -126\n",
      "Update 38: Reward P1: -106, Reward P2: -106\n"
     ]
    },
    {
     "name": "stderr",
     "output_type": "stream",
     "text": [
      "Grid configuration same as last episode\n",
      "Grid configuration same as last episode\n",
      "Grid configuration same as last episode\n",
      "Grid configuration same as last episode\n",
      "Grid configuration same as last episode\n",
      "Grid configuration same as last episode\n"
     ]
    },
    {
     "name": "stdout",
     "output_type": "stream",
     "text": [
      "Update 39: Reward P1: -106, Reward P2: -106\n",
      "Update 40: Reward P1: -176, Reward P2: -176\n"
     ]
    },
    {
     "name": "stderr",
     "output_type": "stream",
     "text": [
      "Grid configuration same as last episode\n",
      "Grid configuration same as last episode\n",
      "Grid configuration same as last episode\n",
      "Grid configuration same as last episode\n",
      "Grid configuration same as last episode\n",
      "Grid configuration same as last episode\n"
     ]
    },
    {
     "name": "stdout",
     "output_type": "stream",
     "text": [
      "Update 41: Reward P1: -86, Reward P2: -86\n",
      "Update 42: Reward P1: -126, Reward P2: -126\n"
     ]
    },
    {
     "name": "stderr",
     "output_type": "stream",
     "text": [
      "Grid configuration same as last episode\n",
      "Grid configuration same as last episode\n",
      "Grid configuration same as last episode\n",
      "Grid configuration same as last episode\n",
      "Grid configuration same as last episode\n",
      "Grid configuration same as last episode\n"
     ]
    },
    {
     "name": "stdout",
     "output_type": "stream",
     "text": [
      "Update 43: Reward P1: -76, Reward P2: -76\n",
      "Update 44: Reward P1: -136, Reward P2: -136\n"
     ]
    },
    {
     "name": "stderr",
     "output_type": "stream",
     "text": [
      "Grid configuration same as last episode\n",
      "Grid configuration same as last episode\n",
      "Grid configuration same as last episode\n",
      "Grid configuration same as last episode\n",
      "Grid configuration same as last episode\n",
      "Grid configuration same as last episode\n"
     ]
    },
    {
     "name": "stdout",
     "output_type": "stream",
     "text": [
      "Update 45: Reward P1: -126, Reward P2: -126\n",
      "Update 46: Reward P1: -106, Reward P2: -106\n"
     ]
    },
    {
     "name": "stderr",
     "output_type": "stream",
     "text": [
      "Grid configuration same as last episode\n",
      "Grid configuration same as last episode\n",
      "Grid configuration same as last episode\n",
      "Grid configuration same as last episode\n",
      "Grid configuration same as last episode\n",
      "Grid configuration same as last episode\n"
     ]
    },
    {
     "name": "stdout",
     "output_type": "stream",
     "text": [
      "Update 47: Reward P1: -86, Reward P2: -86\n",
      "Update 48: Reward P1: -136, Reward P2: -136\n"
     ]
    },
    {
     "name": "stderr",
     "output_type": "stream",
     "text": [
      "Grid configuration same as last episode\n",
      "Grid configuration same as last episode\n",
      "Grid configuration same as last episode\n",
      "Grid configuration same as last episode\n",
      "Grid configuration same as last episode\n",
      "Grid configuration same as last episode\n"
     ]
    },
    {
     "name": "stdout",
     "output_type": "stream",
     "text": [
      "Update 49: Reward P1: -86, Reward P2: -86\n",
      "Update 50: Reward P1: -106, Reward P2: -106\n"
     ]
    },
    {
     "name": "stderr",
     "output_type": "stream",
     "text": [
      "Grid configuration same as last episode\n",
      "Grid configuration same as last episode\n",
      "Grid configuration same as last episode\n",
      "Grid configuration same as last episode\n",
      "Grid configuration same as last episode\n",
      "Grid configuration same as last episode\n"
     ]
    },
    {
     "name": "stdout",
     "output_type": "stream",
     "text": [
      "Update 51: Reward P1: -136, Reward P2: -136\n",
      "Update 52: Reward P1: -136, Reward P2: -136\n"
     ]
    },
    {
     "name": "stderr",
     "output_type": "stream",
     "text": [
      "Grid configuration same as last episode\n",
      "Grid configuration same as last episode\n",
      "Grid configuration same as last episode\n",
      "Grid configuration same as last episode\n",
      "Grid configuration same as last episode\n",
      "Grid configuration same as last episode\n"
     ]
    },
    {
     "name": "stdout",
     "output_type": "stream",
     "text": [
      "Update 53: Reward P1: -146, Reward P2: -146\n",
      "Update 54: Reward P1: -146, Reward P2: -146\n"
     ]
    },
    {
     "name": "stderr",
     "output_type": "stream",
     "text": [
      "Grid configuration same as last episode\n",
      "Grid configuration same as last episode\n",
      "Grid configuration same as last episode\n",
      "Grid configuration same as last episode\n",
      "Grid configuration same as last episode\n",
      "Grid configuration same as last episode\n"
     ]
    },
    {
     "name": "stdout",
     "output_type": "stream",
     "text": [
      "Update 55: Reward P1: -66, Reward P2: -66\n",
      "Update 56: Reward P1: -136, Reward P2: -136\n"
     ]
    },
    {
     "name": "stderr",
     "output_type": "stream",
     "text": [
      "Grid configuration same as last episode\n",
      "Grid configuration same as last episode\n",
      "Grid configuration same as last episode\n",
      "Grid configuration same as last episode\n",
      "Grid configuration same as last episode\n",
      "Grid configuration same as last episode\n"
     ]
    },
    {
     "name": "stdout",
     "output_type": "stream",
     "text": [
      "Update 57: Reward P1: -156, Reward P2: -156\n",
      "Update 58: Reward P1: -96, Reward P2: -96\n"
     ]
    },
    {
     "name": "stderr",
     "output_type": "stream",
     "text": [
      "Grid configuration same as last episode\n",
      "Grid configuration same as last episode\n",
      "Grid configuration same as last episode\n",
      "Grid configuration same as last episode\n",
      "Grid configuration same as last episode\n",
      "Grid configuration same as last episode\n",
      "Grid configuration same as last episode\n"
     ]
    },
    {
     "name": "stdout",
     "output_type": "stream",
     "text": [
      "Update 59: Reward P1: -126, Reward P2: -126\n",
      "Update 60: Reward P1: -146, Reward P2: -146\n"
     ]
    },
    {
     "name": "stderr",
     "output_type": "stream",
     "text": [
      "Grid configuration same as last episode\n",
      "Grid configuration same as last episode\n",
      "Grid configuration same as last episode\n",
      "Grid configuration same as last episode\n",
      "Grid configuration same as last episode\n"
     ]
    },
    {
     "name": "stdout",
     "output_type": "stream",
     "text": [
      "Update 61: Reward P1: -146, Reward P2: -146\n",
      "Update 62: Reward P1: -76, Reward P2: -76\n"
     ]
    },
    {
     "name": "stderr",
     "output_type": "stream",
     "text": [
      "Grid configuration same as last episode\n",
      "Grid configuration same as last episode\n",
      "Grid configuration same as last episode\n",
      "Grid configuration same as last episode\n",
      "Grid configuration same as last episode\n",
      "Grid configuration same as last episode\n"
     ]
    },
    {
     "name": "stdout",
     "output_type": "stream",
     "text": [
      "Update 63: Reward P1: -86, Reward P2: -86\n",
      "Update 64: Reward P1: -146, Reward P2: -146\n"
     ]
    },
    {
     "name": "stderr",
     "output_type": "stream",
     "text": [
      "Grid configuration same as last episode\n",
      "Grid configuration same as last episode\n",
      "Grid configuration same as last episode\n",
      "Grid configuration same as last episode\n",
      "Grid configuration same as last episode\n",
      "Grid configuration same as last episode\n"
     ]
    },
    {
     "name": "stdout",
     "output_type": "stream",
     "text": [
      "Update 65: Reward P1: -136, Reward P2: -136\n",
      "Update 66: Reward P1: -116, Reward P2: -116\n"
     ]
    },
    {
     "name": "stderr",
     "output_type": "stream",
     "text": [
      "Grid configuration same as last episode\n",
      "Grid configuration same as last episode\n",
      "Grid configuration same as last episode\n",
      "Grid configuration same as last episode\n",
      "Grid configuration same as last episode\n",
      "Grid configuration same as last episode\n"
     ]
    },
    {
     "name": "stdout",
     "output_type": "stream",
     "text": [
      "Update 67: Reward P1: -186, Reward P2: -186\n",
      "Update 68: Reward P1: -136, Reward P2: -136\n"
     ]
    },
    {
     "name": "stderr",
     "output_type": "stream",
     "text": [
      "Grid configuration same as last episode\n",
      "Grid configuration same as last episode\n",
      "Grid configuration same as last episode\n",
      "Grid configuration same as last episode\n",
      "Grid configuration same as last episode\n",
      "Grid configuration same as last episode\n"
     ]
    },
    {
     "name": "stdout",
     "output_type": "stream",
     "text": [
      "Update 69: Reward P1: -136, Reward P2: -136\n",
      "Update 70: Reward P1: -106, Reward P2: -106\n"
     ]
    },
    {
     "name": "stderr",
     "output_type": "stream",
     "text": [
      "Grid configuration same as last episode\n",
      "Grid configuration same as last episode\n",
      "Grid configuration same as last episode\n",
      "Grid configuration same as last episode\n",
      "Grid configuration same as last episode\n",
      "Grid configuration same as last episode\n"
     ]
    },
    {
     "name": "stdout",
     "output_type": "stream",
     "text": [
      "Update 71: Reward P1: -156, Reward P2: -156\n",
      "Update 72: Reward P1: -126, Reward P2: -126\n"
     ]
    },
    {
     "name": "stderr",
     "output_type": "stream",
     "text": [
      "Grid configuration same as last episode\n",
      "Grid configuration same as last episode\n",
      "Grid configuration same as last episode\n",
      "Grid configuration same as last episode\n",
      "Grid configuration same as last episode\n",
      "Grid configuration same as last episode\n"
     ]
    },
    {
     "name": "stdout",
     "output_type": "stream",
     "text": [
      "Update 73: Reward P1: -116, Reward P2: -116\n",
      "Update 74: Reward P1: -106, Reward P2: -106\n"
     ]
    },
    {
     "name": "stderr",
     "output_type": "stream",
     "text": [
      "Grid configuration same as last episode\n",
      "Grid configuration same as last episode\n",
      "Grid configuration same as last episode\n",
      "Grid configuration same as last episode\n",
      "Grid configuration same as last episode\n",
      "Grid configuration same as last episode\n"
     ]
    },
    {
     "name": "stdout",
     "output_type": "stream",
     "text": [
      "Update 75: Reward P1: -126, Reward P2: -126\n",
      "Update 76: Reward P1: -106, Reward P2: -106\n"
     ]
    },
    {
     "name": "stderr",
     "output_type": "stream",
     "text": [
      "Grid configuration same as last episode\n",
      "Grid configuration same as last episode\n",
      "Grid configuration same as last episode\n",
      "Grid configuration same as last episode\n",
      "Grid configuration same as last episode\n",
      "Grid configuration same as last episode\n"
     ]
    },
    {
     "name": "stdout",
     "output_type": "stream",
     "text": [
      "Update 77: Reward P1: -136, Reward P2: -136\n",
      "Update 78: Reward P1: -66, Reward P2: -66\n"
     ]
    },
    {
     "name": "stderr",
     "output_type": "stream",
     "text": [
      "Grid configuration same as last episode\n",
      "Grid configuration same as last episode\n",
      "Grid configuration same as last episode\n",
      "Grid configuration same as last episode\n",
      "Grid configuration same as last episode\n",
      "Grid configuration same as last episode\n"
     ]
    },
    {
     "name": "stdout",
     "output_type": "stream",
     "text": [
      "Update 79: Reward P1: -116, Reward P2: -116\n",
      "Update 80: Reward P1: -106, Reward P2: -106\n"
     ]
    },
    {
     "name": "stderr",
     "output_type": "stream",
     "text": [
      "Grid configuration same as last episode\n",
      "Grid configuration same as last episode\n",
      "Grid configuration same as last episode\n",
      "Grid configuration same as last episode\n",
      "Grid configuration same as last episode\n",
      "Grid configuration same as last episode\n"
     ]
    },
    {
     "name": "stdout",
     "output_type": "stream",
     "text": [
      "Update 81: Reward P1: -76, Reward P2: -76\n",
      "Update 82: Reward P1: -126, Reward P2: -126\n"
     ]
    },
    {
     "name": "stderr",
     "output_type": "stream",
     "text": [
      "Grid configuration same as last episode\n",
      "Grid configuration same as last episode\n",
      "Grid configuration same as last episode\n",
      "Grid configuration same as last episode\n",
      "Grid configuration same as last episode\n",
      "Grid configuration same as last episode\n"
     ]
    },
    {
     "name": "stdout",
     "output_type": "stream",
     "text": [
      "Update 83: Reward P1: -96, Reward P2: -96\n",
      "Update 84: Reward P1: -146, Reward P2: -146\n"
     ]
    },
    {
     "name": "stderr",
     "output_type": "stream",
     "text": [
      "Grid configuration same as last episode\n",
      "Grid configuration same as last episode\n",
      "Grid configuration same as last episode\n",
      "Grid configuration same as last episode\n",
      "Grid configuration same as last episode\n",
      "Grid configuration same as last episode\n"
     ]
    },
    {
     "name": "stdout",
     "output_type": "stream",
     "text": [
      "Update 85: Reward P1: -116, Reward P2: -116\n",
      "Update 86: Reward P1: -126, Reward P2: -126\n"
     ]
    },
    {
     "name": "stderr",
     "output_type": "stream",
     "text": [
      "Grid configuration same as last episode\n",
      "Grid configuration same as last episode\n",
      "Grid configuration same as last episode\n",
      "Grid configuration same as last episode\n",
      "Grid configuration same as last episode\n",
      "Grid configuration same as last episode\n"
     ]
    },
    {
     "name": "stdout",
     "output_type": "stream",
     "text": [
      "Update 87: Reward P1: -166, Reward P2: -166\n",
      "Update 88: Reward P1: -96, Reward P2: -96\n"
     ]
    },
    {
     "name": "stderr",
     "output_type": "stream",
     "text": [
      "Grid configuration same as last episode\n",
      "Grid configuration same as last episode\n",
      "Grid configuration same as last episode\n",
      "Grid configuration same as last episode\n",
      "Grid configuration same as last episode\n",
      "Grid configuration same as last episode\n"
     ]
    },
    {
     "name": "stdout",
     "output_type": "stream",
     "text": [
      "Update 89: Reward P1: -106, Reward P2: -106\n",
      "Update 90: Reward P1: -106, Reward P2: -106\n"
     ]
    },
    {
     "name": "stderr",
     "output_type": "stream",
     "text": [
      "Grid configuration same as last episode\n",
      "Grid configuration same as last episode\n",
      "Grid configuration same as last episode\n",
      "Grid configuration same as last episode\n",
      "Grid configuration same as last episode\n",
      "Grid configuration same as last episode\n"
     ]
    },
    {
     "name": "stdout",
     "output_type": "stream",
     "text": [
      "Update 91: Reward P1: -136, Reward P2: -136\n",
      "Update 92: Reward P1: -76, Reward P2: -76\n"
     ]
    },
    {
     "name": "stderr",
     "output_type": "stream",
     "text": [
      "Grid configuration same as last episode\n",
      "Grid configuration same as last episode\n",
      "Grid configuration same as last episode\n",
      "Grid configuration same as last episode\n",
      "Grid configuration same as last episode\n",
      "Grid configuration same as last episode\n"
     ]
    },
    {
     "name": "stdout",
     "output_type": "stream",
     "text": [
      "Update 93: Reward P1: -96, Reward P2: -96\n",
      "Update 94: Reward P1: -86, Reward P2: -86\n"
     ]
    },
    {
     "name": "stderr",
     "output_type": "stream",
     "text": [
      "Grid configuration same as last episode\n",
      "Grid configuration same as last episode\n",
      "Grid configuration same as last episode\n",
      "Grid configuration same as last episode\n",
      "Grid configuration same as last episode\n",
      "Grid configuration same as last episode\n"
     ]
    },
    {
     "name": "stdout",
     "output_type": "stream",
     "text": [
      "Update 95: Reward P1: -96, Reward P2: -96\n",
      "Update 96: Reward P1: -76, Reward P2: -76\n"
     ]
    },
    {
     "name": "stderr",
     "output_type": "stream",
     "text": [
      "Grid configuration same as last episode\n",
      "Grid configuration same as last episode\n",
      "Grid configuration same as last episode\n",
      "Grid configuration same as last episode\n",
      "Grid configuration same as last episode\n",
      "Grid configuration same as last episode\n"
     ]
    },
    {
     "name": "stdout",
     "output_type": "stream",
     "text": [
      "Update 97: Reward P1: -146, Reward P2: -146\n",
      "Update 98: Reward P1: -126, Reward P2: -126\n"
     ]
    },
    {
     "name": "stderr",
     "output_type": "stream",
     "text": [
      "Grid configuration same as last episode\n",
      "Grid configuration same as last episode\n",
      "Grid configuration same as last episode\n",
      "Grid configuration same as last episode\n",
      "Grid configuration same as last episode\n",
      "Grid configuration same as last episode\n"
     ]
    },
    {
     "name": "stdout",
     "output_type": "stream",
     "text": [
      "Update 99: Reward P1: -146, Reward P2: -146\n",
      "Update 100: Reward P1: -166, Reward P2: -166\n"
     ]
    },
    {
     "name": "stderr",
     "output_type": "stream",
     "text": [
      "Grid configuration same as last episode\n",
      "Grid configuration same as last episode\n",
      "Grid configuration same as last episode\n",
      "Grid configuration same as last episode\n",
      "Grid configuration same as last episode\n",
      "Grid configuration same as last episode\n"
     ]
    },
    {
     "name": "stdout",
     "output_type": "stream",
     "text": [
      "Update 101: Reward P1: -126, Reward P2: -126\n",
      "Update 102: Reward P1: -166, Reward P2: -166\n"
     ]
    },
    {
     "name": "stderr",
     "output_type": "stream",
     "text": [
      "Grid configuration same as last episode\n",
      "Grid configuration same as last episode\n",
      "Grid configuration same as last episode\n",
      "Grid configuration same as last episode\n",
      "Grid configuration same as last episode\n",
      "Grid configuration same as last episode\n"
     ]
    },
    {
     "name": "stdout",
     "output_type": "stream",
     "text": [
      "Update 103: Reward P1: -126, Reward P2: -126\n",
      "Update 104: Reward P1: -186, Reward P2: -186\n"
     ]
    },
    {
     "name": "stderr",
     "output_type": "stream",
     "text": [
      "Grid configuration same as last episode\n",
      "Grid configuration same as last episode\n",
      "Grid configuration same as last episode\n",
      "Grid configuration same as last episode\n",
      "Grid configuration same as last episode\n",
      "Grid configuration same as last episode\n"
     ]
    },
    {
     "name": "stdout",
     "output_type": "stream",
     "text": [
      "Update 105: Reward P1: -126, Reward P2: -126\n",
      "Update 106: Reward P1: -156, Reward P2: -156\n"
     ]
    },
    {
     "name": "stderr",
     "output_type": "stream",
     "text": [
      "Grid configuration same as last episode\n",
      "Grid configuration same as last episode\n",
      "Grid configuration same as last episode\n",
      "Grid configuration same as last episode\n",
      "Grid configuration same as last episode\n",
      "Grid configuration same as last episode\n"
     ]
    },
    {
     "name": "stdout",
     "output_type": "stream",
     "text": [
      "Update 107: Reward P1: -96, Reward P2: -96\n",
      "Update 108: Reward P1: -136, Reward P2: -136\n"
     ]
    },
    {
     "name": "stderr",
     "output_type": "stream",
     "text": [
      "Grid configuration same as last episode\n",
      "Grid configuration same as last episode\n",
      "Grid configuration same as last episode\n",
      "Grid configuration same as last episode\n",
      "Grid configuration same as last episode\n",
      "Grid configuration same as last episode\n"
     ]
    },
    {
     "name": "stdout",
     "output_type": "stream",
     "text": [
      "Update 109: Reward P1: -126, Reward P2: -126\n",
      "Update 110: Reward P1: -156, Reward P2: -156\n"
     ]
    },
    {
     "name": "stderr",
     "output_type": "stream",
     "text": [
      "Grid configuration same as last episode\n",
      "Grid configuration same as last episode\n",
      "Grid configuration same as last episode\n",
      "Grid configuration same as last episode\n",
      "Grid configuration same as last episode\n",
      "Grid configuration same as last episode\n"
     ]
    },
    {
     "name": "stdout",
     "output_type": "stream",
     "text": [
      "Update 111: Reward P1: -126, Reward P2: -126\n",
      "Update 112: Reward P1: -96, Reward P2: -96\n"
     ]
    },
    {
     "name": "stderr",
     "output_type": "stream",
     "text": [
      "Grid configuration same as last episode\n",
      "Grid configuration same as last episode\n",
      "Grid configuration same as last episode\n",
      "Grid configuration same as last episode\n",
      "Grid configuration same as last episode\n",
      "Grid configuration same as last episode\n"
     ]
    },
    {
     "name": "stdout",
     "output_type": "stream",
     "text": [
      "Update 113: Reward P1: -106, Reward P2: -106\n",
      "Update 114: Reward P1: -56, Reward P2: -56\n"
     ]
    },
    {
     "name": "stderr",
     "output_type": "stream",
     "text": [
      "Grid configuration same as last episode\n",
      "Grid configuration same as last episode\n",
      "Grid configuration same as last episode\n",
      "Grid configuration same as last episode\n",
      "Grid configuration same as last episode\n",
      "Grid configuration same as last episode\n"
     ]
    },
    {
     "name": "stdout",
     "output_type": "stream",
     "text": [
      "Update 115: Reward P1: -116, Reward P2: -116\n",
      "Update 116: Reward P1: -116, Reward P2: -116\n"
     ]
    },
    {
     "name": "stderr",
     "output_type": "stream",
     "text": [
      "Grid configuration same as last episode\n",
      "Grid configuration same as last episode\n",
      "Grid configuration same as last episode\n",
      "Grid configuration same as last episode\n",
      "Grid configuration same as last episode\n",
      "Grid configuration same as last episode\n"
     ]
    },
    {
     "name": "stdout",
     "output_type": "stream",
     "text": [
      "Update 117: Reward P1: -76, Reward P2: -76\n",
      "Update 118: Reward P1: -126, Reward P2: -126\n"
     ]
    },
    {
     "name": "stderr",
     "output_type": "stream",
     "text": [
      "Grid configuration same as last episode\n",
      "Grid configuration same as last episode\n",
      "Grid configuration same as last episode\n",
      "Grid configuration same as last episode\n",
      "Grid configuration same as last episode\n",
      "Grid configuration same as last episode\n"
     ]
    },
    {
     "name": "stdout",
     "output_type": "stream",
     "text": [
      "Update 119: Reward P1: -66, Reward P2: -66\n",
      "Update 120: Reward P1: -96, Reward P2: -96\n"
     ]
    },
    {
     "name": "stderr",
     "output_type": "stream",
     "text": [
      "Grid configuration same as last episode\n",
      "Grid configuration same as last episode\n",
      "Grid configuration same as last episode\n",
      "Grid configuration same as last episode\n",
      "Grid configuration same as last episode\n",
      "Grid configuration same as last episode\n"
     ]
    },
    {
     "name": "stdout",
     "output_type": "stream",
     "text": [
      "Update 121: Reward P1: -96, Reward P2: -96\n",
      "Update 122: Reward P1: -56, Reward P2: -56\n"
     ]
    },
    {
     "name": "stderr",
     "output_type": "stream",
     "text": [
      "Grid configuration same as last episode\n",
      "Grid configuration same as last episode\n",
      "Grid configuration same as last episode\n",
      "Grid configuration same as last episode\n",
      "Grid configuration same as last episode\n",
      "Grid configuration same as last episode\n"
     ]
    },
    {
     "name": "stdout",
     "output_type": "stream",
     "text": [
      "Update 123: Reward P1: -106, Reward P2: -106\n",
      "Update 124: Reward P1: -96, Reward P2: -96\n"
     ]
    },
    {
     "name": "stderr",
     "output_type": "stream",
     "text": [
      "Grid configuration same as last episode\n",
      "Grid configuration same as last episode\n",
      "Grid configuration same as last episode\n",
      "Grid configuration same as last episode\n",
      "Grid configuration same as last episode\n",
      "Grid configuration same as last episode\n"
     ]
    },
    {
     "name": "stdout",
     "output_type": "stream",
     "text": [
      "Update 125: Reward P1: -176, Reward P2: -176\n",
      "Update 126: Reward P1: -186, Reward P2: -186\n"
     ]
    },
    {
     "name": "stderr",
     "output_type": "stream",
     "text": [
      "Grid configuration same as last episode\n",
      "Grid configuration same as last episode\n",
      "Grid configuration same as last episode\n",
      "Grid configuration same as last episode\n",
      "Grid configuration same as last episode\n",
      "Grid configuration same as last episode\n",
      "Grid configuration same as last episode\n"
     ]
    },
    {
     "name": "stdout",
     "output_type": "stream",
     "text": [
      "Update 127: Reward P1: -136, Reward P2: -136\n",
      "Update 128: Reward P1: -116, Reward P2: -116\n"
     ]
    },
    {
     "name": "stderr",
     "output_type": "stream",
     "text": [
      "Grid configuration same as last episode\n",
      "Grid configuration same as last episode\n",
      "Grid configuration same as last episode\n",
      "Grid configuration same as last episode\n",
      "Grid configuration same as last episode\n"
     ]
    },
    {
     "name": "stdout",
     "output_type": "stream",
     "text": [
      "Update 129: Reward P1: -76, Reward P2: -76\n",
      "Update 130: Reward P1: -76, Reward P2: -76\n"
     ]
    },
    {
     "name": "stderr",
     "output_type": "stream",
     "text": [
      "Grid configuration same as last episode\n",
      "Grid configuration same as last episode\n",
      "Grid configuration same as last episode\n",
      "Grid configuration same as last episode\n",
      "Grid configuration same as last episode\n",
      "Grid configuration same as last episode\n"
     ]
    },
    {
     "name": "stdout",
     "output_type": "stream",
     "text": [
      "Update 131: Reward P1: -166, Reward P2: -166\n",
      "Update 132: Reward P1: -166, Reward P2: -166\n"
     ]
    },
    {
     "name": "stderr",
     "output_type": "stream",
     "text": [
      "Grid configuration same as last episode\n",
      "Grid configuration same as last episode\n",
      "Grid configuration same as last episode\n",
      "Grid configuration same as last episode\n",
      "Grid configuration same as last episode\n",
      "Grid configuration same as last episode\n"
     ]
    },
    {
     "name": "stdout",
     "output_type": "stream",
     "text": [
      "Update 133: Reward P1: -156, Reward P2: -156\n",
      "Update 134: Reward P1: -146, Reward P2: -146\n"
     ]
    },
    {
     "name": "stderr",
     "output_type": "stream",
     "text": [
      "Grid configuration same as last episode\n",
      "Grid configuration same as last episode\n",
      "Grid configuration same as last episode\n",
      "Grid configuration same as last episode\n",
      "Grid configuration same as last episode\n",
      "Grid configuration same as last episode\n"
     ]
    },
    {
     "name": "stdout",
     "output_type": "stream",
     "text": [
      "Update 135: Reward P1: -86, Reward P2: -86\n",
      "Update 136: Reward P1: -136, Reward P2: -136\n"
     ]
    },
    {
     "name": "stderr",
     "output_type": "stream",
     "text": [
      "Grid configuration same as last episode\n",
      "Grid configuration same as last episode\n",
      "Grid configuration same as last episode\n",
      "Grid configuration same as last episode\n",
      "Grid configuration same as last episode\n",
      "Grid configuration same as last episode\n"
     ]
    },
    {
     "name": "stdout",
     "output_type": "stream",
     "text": [
      "Update 137: Reward P1: -96, Reward P2: -96\n",
      "Update 138: Reward P1: -106, Reward P2: -106\n"
     ]
    },
    {
     "name": "stderr",
     "output_type": "stream",
     "text": [
      "Grid configuration same as last episode\n",
      "Grid configuration same as last episode\n",
      "Grid configuration same as last episode\n",
      "Grid configuration same as last episode\n",
      "Grid configuration same as last episode\n",
      "Grid configuration same as last episode\n"
     ]
    },
    {
     "name": "stdout",
     "output_type": "stream",
     "text": [
      "Update 139: Reward P1: -116, Reward P2: -116\n",
      "Update 140: Reward P1: -116, Reward P2: -116\n"
     ]
    },
    {
     "name": "stderr",
     "output_type": "stream",
     "text": [
      "Grid configuration same as last episode\n",
      "Grid configuration same as last episode\n",
      "Grid configuration same as last episode\n",
      "Grid configuration same as last episode\n",
      "Grid configuration same as last episode\n",
      "Grid configuration same as last episode\n"
     ]
    },
    {
     "name": "stdout",
     "output_type": "stream",
     "text": [
      "Update 141: Reward P1: -136, Reward P2: -136\n",
      "Update 142: Reward P1: -116, Reward P2: -116\n"
     ]
    },
    {
     "name": "stderr",
     "output_type": "stream",
     "text": [
      "Grid configuration same as last episode\n",
      "Grid configuration same as last episode\n",
      "Grid configuration same as last episode\n",
      "Grid configuration same as last episode\n",
      "Grid configuration same as last episode\n",
      "Grid configuration same as last episode\n"
     ]
    },
    {
     "name": "stdout",
     "output_type": "stream",
     "text": [
      "Update 143: Reward P1: -146, Reward P2: -146\n",
      "Update 144: Reward P1: -106, Reward P2: -106\n"
     ]
    },
    {
     "name": "stderr",
     "output_type": "stream",
     "text": [
      "Grid configuration same as last episode\n",
      "Grid configuration same as last episode\n",
      "Grid configuration same as last episode\n",
      "Grid configuration same as last episode\n",
      "Grid configuration same as last episode\n",
      "Grid configuration same as last episode\n",
      "Grid configuration same as last episode\n"
     ]
    },
    {
     "name": "stdout",
     "output_type": "stream",
     "text": [
      "Update 145: Reward P1: -56, Reward P2: -56\n",
      "Update 146: Reward P1: -116, Reward P2: -116\n"
     ]
    },
    {
     "name": "stderr",
     "output_type": "stream",
     "text": [
      "Grid configuration same as last episode\n",
      "Grid configuration same as last episode\n",
      "Grid configuration same as last episode\n",
      "Grid configuration same as last episode\n",
      "Grid configuration same as last episode\n"
     ]
    },
    {
     "name": "stdout",
     "output_type": "stream",
     "text": [
      "Update 147: Reward P1: -126, Reward P2: -126\n",
      "Update 148: Reward P1: -156, Reward P2: -156\n"
     ]
    },
    {
     "name": "stderr",
     "output_type": "stream",
     "text": [
      "Grid configuration same as last episode\n",
      "Grid configuration same as last episode\n",
      "Grid configuration same as last episode\n",
      "Grid configuration same as last episode\n",
      "Grid configuration same as last episode\n",
      "Grid configuration same as last episode\n"
     ]
    },
    {
     "name": "stdout",
     "output_type": "stream",
     "text": [
      "Update 149: Reward P1: -116, Reward P2: -116\n",
      "Update 150: Reward P1: -146, Reward P2: -146\n"
     ]
    },
    {
     "name": "stderr",
     "output_type": "stream",
     "text": [
      "Grid configuration same as last episode\n",
      "Grid configuration same as last episode\n",
      "Grid configuration same as last episode\n",
      "Grid configuration same as last episode\n",
      "Grid configuration same as last episode\n",
      "Grid configuration same as last episode\n"
     ]
    },
    {
     "name": "stdout",
     "output_type": "stream",
     "text": [
      "Update 151: Reward P1: -156, Reward P2: -156\n",
      "Update 152: Reward P1: -126, Reward P2: -126\n"
     ]
    },
    {
     "name": "stderr",
     "output_type": "stream",
     "text": [
      "Grid configuration same as last episode\n",
      "Grid configuration same as last episode\n",
      "Grid configuration same as last episode\n",
      "Grid configuration same as last episode\n",
      "Grid configuration same as last episode\n",
      "Grid configuration same as last episode\n"
     ]
    },
    {
     "name": "stdout",
     "output_type": "stream",
     "text": [
      "Update 153: Reward P1: -96, Reward P2: -96\n",
      "Update 154: Reward P1: -136, Reward P2: -136\n"
     ]
    },
    {
     "name": "stderr",
     "output_type": "stream",
     "text": [
      "Grid configuration same as last episode\n",
      "Grid configuration same as last episode\n",
      "Grid configuration same as last episode\n",
      "Grid configuration same as last episode\n",
      "Grid configuration same as last episode\n",
      "Grid configuration same as last episode\n"
     ]
    },
    {
     "name": "stdout",
     "output_type": "stream",
     "text": [
      "Update 155: Reward P1: -146, Reward P2: -146\n",
      "Update 156: Reward P1: -116, Reward P2: -116\n"
     ]
    },
    {
     "name": "stderr",
     "output_type": "stream",
     "text": [
      "Grid configuration same as last episode\n",
      "Grid configuration same as last episode\n",
      "Grid configuration same as last episode\n",
      "Grid configuration same as last episode\n",
      "Grid configuration same as last episode\n",
      "Grid configuration same as last episode\n"
     ]
    },
    {
     "name": "stdout",
     "output_type": "stream",
     "text": [
      "Update 157: Reward P1: -136, Reward P2: -136\n",
      "Update 158: Reward P1: -116, Reward P2: -116\n"
     ]
    },
    {
     "name": "stderr",
     "output_type": "stream",
     "text": [
      "Grid configuration same as last episode\n",
      "Grid configuration same as last episode\n",
      "Grid configuration same as last episode\n",
      "Grid configuration same as last episode\n",
      "Grid configuration same as last episode\n",
      "Grid configuration same as last episode\n"
     ]
    },
    {
     "name": "stdout",
     "output_type": "stream",
     "text": [
      "Update 159: Reward P1: -86, Reward P2: -86\n",
      "Update 160: Reward P1: -136, Reward P2: -136\n"
     ]
    },
    {
     "name": "stderr",
     "output_type": "stream",
     "text": [
      "Grid configuration same as last episode\n",
      "Grid configuration same as last episode\n",
      "Grid configuration same as last episode\n",
      "Grid configuration same as last episode\n"
     ]
    },
    {
     "name": "stdout",
     "output_type": "stream",
     "text": [
      "Update 161: Reward P1: -126, Reward P2: -126\n"
     ]
    },
    {
     "name": "stderr",
     "output_type": "stream",
     "text": [
      "Grid configuration same as last episode\n",
      "Grid configuration same as last episode\n",
      "Grid configuration same as last episode\n",
      "Grid configuration same as last episode\n",
      "Grid configuration same as last episode\n"
     ]
    },
    {
     "name": "stdout",
     "output_type": "stream",
     "text": [
      "Update 162: Reward P1: -106, Reward P2: -106\n",
      "Update 163: Reward P1: -86, Reward P2: -86\n"
     ]
    },
    {
     "name": "stderr",
     "output_type": "stream",
     "text": [
      "Grid configuration same as last episode\n",
      "Grid configuration same as last episode\n",
      "Grid configuration same as last episode\n",
      "Grid configuration same as last episode\n",
      "Grid configuration same as last episode\n",
      "Grid configuration same as last episode\n",
      "Grid configuration same as last episode\n"
     ]
    },
    {
     "name": "stdout",
     "output_type": "stream",
     "text": [
      "Update 164: Reward P1: -156, Reward P2: -156\n",
      "Update 165: Reward P1: -156, Reward P2: -156\n"
     ]
    },
    {
     "name": "stderr",
     "output_type": "stream",
     "text": [
      "Grid configuration same as last episode\n",
      "Grid configuration same as last episode\n",
      "Grid configuration same as last episode\n",
      "Grid configuration same as last episode\n",
      "Grid configuration same as last episode\n"
     ]
    },
    {
     "name": "stdout",
     "output_type": "stream",
     "text": [
      "Update 166: Reward P1: -126, Reward P2: -126\n",
      "Update 167: Reward P1: -156, Reward P2: -156\n"
     ]
    },
    {
     "name": "stderr",
     "output_type": "stream",
     "text": [
      "Grid configuration same as last episode\n",
      "Grid configuration same as last episode\n",
      "Grid configuration same as last episode\n",
      "Grid configuration same as last episode\n",
      "Grid configuration same as last episode\n",
      "Grid configuration same as last episode\n",
      "Grid configuration same as last episode\n"
     ]
    },
    {
     "name": "stdout",
     "output_type": "stream",
     "text": [
      "Update 168: Reward P1: -136, Reward P2: -136\n",
      "Update 169: Reward P1: -126, Reward P2: -126\n"
     ]
    },
    {
     "name": "stderr",
     "output_type": "stream",
     "text": [
      "Grid configuration same as last episode\n",
      "Grid configuration same as last episode\n",
      "Grid configuration same as last episode\n",
      "Grid configuration same as last episode\n",
      "Grid configuration same as last episode\n",
      "Grid configuration same as last episode\n"
     ]
    },
    {
     "name": "stdout",
     "output_type": "stream",
     "text": [
      "Update 170: Reward P1: -146, Reward P2: -146\n",
      "Update 171: Reward P1: -136, Reward P2: -136\n"
     ]
    },
    {
     "name": "stderr",
     "output_type": "stream",
     "text": [
      "Grid configuration same as last episode\n",
      "Grid configuration same as last episode\n",
      "Grid configuration same as last episode\n",
      "Grid configuration same as last episode\n",
      "Grid configuration same as last episode\n"
     ]
    },
    {
     "name": "stdout",
     "output_type": "stream",
     "text": [
      "Update 172: Reward P1: -106, Reward P2: -106\n",
      "Update 173: Reward P1: -146, Reward P2: -146\n"
     ]
    },
    {
     "name": "stderr",
     "output_type": "stream",
     "text": [
      "Grid configuration same as last episode\n",
      "Grid configuration same as last episode\n",
      "Grid configuration same as last episode\n",
      "Grid configuration same as last episode\n",
      "Grid configuration same as last episode\n",
      "Grid configuration same as last episode\n"
     ]
    },
    {
     "name": "stdout",
     "output_type": "stream",
     "text": [
      "Update 174: Reward P1: -126, Reward P2: -126\n",
      "Update 175: Reward P1: -106, Reward P2: -106\n"
     ]
    },
    {
     "name": "stderr",
     "output_type": "stream",
     "text": [
      "Grid configuration same as last episode\n",
      "Grid configuration same as last episode\n",
      "Grid configuration same as last episode\n",
      "Grid configuration same as last episode\n",
      "Grid configuration same as last episode\n",
      "Grid configuration same as last episode\n"
     ]
    },
    {
     "name": "stdout",
     "output_type": "stream",
     "text": [
      "Update 176: Reward P1: -146, Reward P2: -146\n",
      "Update 177: Reward P1: -66, Reward P2: -66\n"
     ]
    },
    {
     "name": "stderr",
     "output_type": "stream",
     "text": [
      "Grid configuration same as last episode\n",
      "Grid configuration same as last episode\n",
      "Grid configuration same as last episode\n",
      "Grid configuration same as last episode\n",
      "Grid configuration same as last episode\n",
      "Grid configuration same as last episode\n",
      "Grid configuration same as last episode\n"
     ]
    },
    {
     "name": "stdout",
     "output_type": "stream",
     "text": [
      "Update 178: Reward P1: -146, Reward P2: -146\n",
      "Update 179: Reward P1: -56, Reward P2: -56\n"
     ]
    },
    {
     "name": "stderr",
     "output_type": "stream",
     "text": [
      "Grid configuration same as last episode\n",
      "Grid configuration same as last episode\n",
      "Grid configuration same as last episode\n",
      "Grid configuration same as last episode\n",
      "Grid configuration same as last episode\n"
     ]
    },
    {
     "name": "stdout",
     "output_type": "stream",
     "text": [
      "Update 180: Reward P1: -106, Reward P2: -106\n",
      "Update 181: Reward P1: -96, Reward P2: -96\n"
     ]
    },
    {
     "name": "stderr",
     "output_type": "stream",
     "text": [
      "Grid configuration same as last episode\n",
      "Grid configuration same as last episode\n",
      "Grid configuration same as last episode\n",
      "Grid configuration same as last episode\n",
      "Grid configuration same as last episode\n",
      "Grid configuration same as last episode\n",
      "Grid configuration same as last episode\n"
     ]
    },
    {
     "name": "stdout",
     "output_type": "stream",
     "text": [
      "Update 182: Reward P1: -96, Reward P2: -96\n",
      "Update 183: Reward P1: -156, Reward P2: -156\n"
     ]
    },
    {
     "name": "stderr",
     "output_type": "stream",
     "text": [
      "Grid configuration same as last episode\n",
      "Grid configuration same as last episode\n",
      "Grid configuration same as last episode\n",
      "Grid configuration same as last episode\n",
      "Grid configuration same as last episode\n",
      "Grid configuration same as last episode\n"
     ]
    },
    {
     "name": "stdout",
     "output_type": "stream",
     "text": [
      "Update 184: Reward P1: -116, Reward P2: -116\n",
      "Update 185: Reward P1: -136, Reward P2: -136\n"
     ]
    },
    {
     "name": "stderr",
     "output_type": "stream",
     "text": [
      "Grid configuration same as last episode\n",
      "Grid configuration same as last episode\n",
      "Grid configuration same as last episode\n",
      "Grid configuration same as last episode\n",
      "Grid configuration same as last episode\n",
      "Grid configuration same as last episode\n"
     ]
    },
    {
     "name": "stdout",
     "output_type": "stream",
     "text": [
      "Update 186: Reward P1: -126, Reward P2: -126\n",
      "Update 187: Reward P1: -156, Reward P2: -156\n"
     ]
    },
    {
     "name": "stderr",
     "output_type": "stream",
     "text": [
      "Grid configuration same as last episode\n",
      "Grid configuration same as last episode\n",
      "Grid configuration same as last episode\n",
      "Grid configuration same as last episode\n",
      "Grid configuration same as last episode\n",
      "Grid configuration same as last episode\n"
     ]
    },
    {
     "name": "stdout",
     "output_type": "stream",
     "text": [
      "Update 188: Reward P1: -96, Reward P2: -96\n",
      "Update 189: Reward P1: -136, Reward P2: -136\n"
     ]
    },
    {
     "name": "stderr",
     "output_type": "stream",
     "text": [
      "Grid configuration same as last episode\n",
      "Grid configuration same as last episode\n",
      "Grid configuration same as last episode\n",
      "Grid configuration same as last episode\n",
      "Grid configuration same as last episode\n"
     ]
    },
    {
     "name": "stdout",
     "output_type": "stream",
     "text": [
      "Update 190: Reward P1: -116, Reward P2: -116\n",
      "Update 191: Reward P1: -96, Reward P2: -96\n"
     ]
    },
    {
     "name": "stderr",
     "output_type": "stream",
     "text": [
      "Grid configuration same as last episode\n",
      "Grid configuration same as last episode\n",
      "Grid configuration same as last episode\n",
      "Grid configuration same as last episode\n",
      "Grid configuration same as last episode\n",
      "Grid configuration same as last episode\n"
     ]
    },
    {
     "name": "stdout",
     "output_type": "stream",
     "text": [
      "Update 192: Reward P1: -146, Reward P2: -146\n",
      "Update 193: Reward P1: -156, Reward P2: -156\n"
     ]
    },
    {
     "name": "stderr",
     "output_type": "stream",
     "text": [
      "Grid configuration same as last episode\n",
      "Grid configuration same as last episode\n",
      "Grid configuration same as last episode\n",
      "Grid configuration same as last episode\n",
      "Grid configuration same as last episode\n",
      "Grid configuration same as last episode\n"
     ]
    },
    {
     "name": "stdout",
     "output_type": "stream",
     "text": [
      "Update 194: Reward P1: -56, Reward P2: -56\n",
      "Update 195: Reward P1: -96, Reward P2: -96\n"
     ]
    },
    {
     "name": "stderr",
     "output_type": "stream",
     "text": [
      "Grid configuration same as last episode\n",
      "Grid configuration same as last episode\n",
      "Grid configuration same as last episode\n",
      "Grid configuration same as last episode\n",
      "Grid configuration same as last episode\n",
      "Grid configuration same as last episode\n"
     ]
    },
    {
     "name": "stdout",
     "output_type": "stream",
     "text": [
      "Update 196: Reward P1: -116, Reward P2: -116\n",
      "Update 197: Reward P1: -116, Reward P2: -116\n"
     ]
    },
    {
     "name": "stderr",
     "output_type": "stream",
     "text": [
      "Grid configuration same as last episode\n",
      "Grid configuration same as last episode\n",
      "Grid configuration same as last episode\n",
      "Grid configuration same as last episode\n",
      "Grid configuration same as last episode\n",
      "Grid configuration same as last episode\n"
     ]
    },
    {
     "name": "stdout",
     "output_type": "stream",
     "text": [
      "Update 198: Reward P1: -136, Reward P2: -136\n",
      "Update 199: Reward P1: -146, Reward P2: -146\n"
     ]
    },
    {
     "name": "stderr",
     "output_type": "stream",
     "text": [
      "Grid configuration same as last episode\n",
      "Grid configuration same as last episode\n",
      "Grid configuration same as last episode\n",
      "Grid configuration same as last episode\n",
      "Grid configuration same as last episode\n",
      "Grid configuration same as last episode\n",
      "Grid configuration same as last episode\n"
     ]
    },
    {
     "name": "stdout",
     "output_type": "stream",
     "text": [
      "Update 200: Reward P1: -86, Reward P2: -86\n",
      "Update 201: Reward P1: -136, Reward P2: -136\n"
     ]
    },
    {
     "name": "stderr",
     "output_type": "stream",
     "text": [
      "Grid configuration same as last episode\n",
      "Grid configuration same as last episode\n",
      "Grid configuration same as last episode\n",
      "Grid configuration same as last episode\n",
      "Grid configuration same as last episode\n"
     ]
    },
    {
     "name": "stdout",
     "output_type": "stream",
     "text": [
      "Update 202: Reward P1: -116, Reward P2: -116\n",
      "Update 203: Reward P1: -126, Reward P2: -126\n"
     ]
    },
    {
     "name": "stderr",
     "output_type": "stream",
     "text": [
      "Grid configuration same as last episode\n",
      "Grid configuration same as last episode\n",
      "Grid configuration same as last episode\n",
      "Grid configuration same as last episode\n",
      "Grid configuration same as last episode\n",
      "Grid configuration same as last episode\n"
     ]
    },
    {
     "name": "stdout",
     "output_type": "stream",
     "text": [
      "Update 204: Reward P1: -136, Reward P2: -136\n",
      "Update 205: Reward P1: -166, Reward P2: -166\n"
     ]
    },
    {
     "name": "stderr",
     "output_type": "stream",
     "text": [
      "Grid configuration same as last episode\n",
      "Grid configuration same as last episode\n",
      "Grid configuration same as last episode\n",
      "Grid configuration same as last episode\n",
      "Grid configuration same as last episode\n",
      "Grid configuration same as last episode\n"
     ]
    },
    {
     "name": "stdout",
     "output_type": "stream",
     "text": [
      "Update 206: Reward P1: -66, Reward P2: -66\n",
      "Update 207: Reward P1: -116, Reward P2: -116\n"
     ]
    },
    {
     "name": "stderr",
     "output_type": "stream",
     "text": [
      "Grid configuration same as last episode\n",
      "Grid configuration same as last episode\n",
      "Grid configuration same as last episode\n",
      "Grid configuration same as last episode\n",
      "Grid configuration same as last episode\n",
      "Grid configuration same as last episode\n"
     ]
    },
    {
     "name": "stdout",
     "output_type": "stream",
     "text": [
      "Update 208: Reward P1: -116, Reward P2: -116\n",
      "Update 209: Reward P1: -186, Reward P2: -186\n"
     ]
    },
    {
     "name": "stderr",
     "output_type": "stream",
     "text": [
      "Grid configuration same as last episode\n",
      "Grid configuration same as last episode\n",
      "Grid configuration same as last episode\n",
      "Grid configuration same as last episode\n",
      "Grid configuration same as last episode\n",
      "Grid configuration same as last episode\n"
     ]
    },
    {
     "name": "stdout",
     "output_type": "stream",
     "text": [
      "Update 210: Reward P1: -76, Reward P2: -76\n",
      "Update 211: Reward P1: -126, Reward P2: -126\n"
     ]
    },
    {
     "name": "stderr",
     "output_type": "stream",
     "text": [
      "Grid configuration same as last episode\n",
      "Grid configuration same as last episode\n",
      "Grid configuration same as last episode\n",
      "Grid configuration same as last episode\n",
      "Grid configuration same as last episode\n",
      "Grid configuration same as last episode\n"
     ]
    },
    {
     "name": "stdout",
     "output_type": "stream",
     "text": [
      "Update 212: Reward P1: -66, Reward P2: -66\n",
      "Update 213: Reward P1: -86, Reward P2: -86\n"
     ]
    },
    {
     "name": "stderr",
     "output_type": "stream",
     "text": [
      "Grid configuration same as last episode\n",
      "Grid configuration same as last episode\n",
      "Grid configuration same as last episode\n",
      "Grid configuration same as last episode\n",
      "Grid configuration same as last episode\n",
      "Grid configuration same as last episode\n",
      "Grid configuration same as last episode\n"
     ]
    },
    {
     "name": "stdout",
     "output_type": "stream",
     "text": [
      "Update 214: Reward P1: -146, Reward P2: -146\n",
      "Update 215: Reward P1: -86, Reward P2: -86\n"
     ]
    },
    {
     "name": "stderr",
     "output_type": "stream",
     "text": [
      "Grid configuration same as last episode\n",
      "Grid configuration same as last episode\n",
      "Grid configuration same as last episode\n",
      "Grid configuration same as last episode\n",
      "Grid configuration same as last episode\n",
      "Grid configuration same as last episode\n"
     ]
    },
    {
     "name": "stdout",
     "output_type": "stream",
     "text": [
      "Update 216: Reward P1: -86, Reward P2: -86\n",
      "Update 217: Reward P1: -156, Reward P2: -156\n"
     ]
    },
    {
     "name": "stderr",
     "output_type": "stream",
     "text": [
      "Grid configuration same as last episode\n",
      "Grid configuration same as last episode\n",
      "Grid configuration same as last episode\n",
      "Grid configuration same as last episode\n",
      "Grid configuration same as last episode\n",
      "Grid configuration same as last episode\n"
     ]
    },
    {
     "name": "stdout",
     "output_type": "stream",
     "text": [
      "Update 218: Reward P1: -76, Reward P2: -76\n",
      "Update 219: Reward P1: -116, Reward P2: -116\n"
     ]
    },
    {
     "name": "stderr",
     "output_type": "stream",
     "text": [
      "Grid configuration same as last episode\n",
      "Grid configuration same as last episode\n",
      "Grid configuration same as last episode\n",
      "Grid configuration same as last episode\n",
      "Grid configuration same as last episode\n",
      "Grid configuration same as last episode\n"
     ]
    },
    {
     "name": "stdout",
     "output_type": "stream",
     "text": [
      "Update 220: Reward P1: -136, Reward P2: -136\n",
      "Update 221: Reward P1: -76, Reward P2: -76\n"
     ]
    },
    {
     "name": "stderr",
     "output_type": "stream",
     "text": [
      "Grid configuration same as last episode\n",
      "Grid configuration same as last episode\n",
      "Grid configuration same as last episode\n",
      "Grid configuration same as last episode\n",
      "Grid configuration same as last episode\n"
     ]
    },
    {
     "name": "stdout",
     "output_type": "stream",
     "text": [
      "Update 222: Reward P1: -156, Reward P2: -156\n",
      "Update 223: Reward P1: -106, Reward P2: -106\n"
     ]
    },
    {
     "name": "stderr",
     "output_type": "stream",
     "text": [
      "Grid configuration same as last episode\n",
      "Grid configuration same as last episode\n",
      "Grid configuration same as last episode\n",
      "Grid configuration same as last episode\n",
      "Grid configuration same as last episode\n",
      "Grid configuration same as last episode\n"
     ]
    },
    {
     "name": "stdout",
     "output_type": "stream",
     "text": [
      "Update 224: Reward P1: -116, Reward P2: -116\n",
      "Update 225: Reward P1: -96, Reward P2: -96\n"
     ]
    },
    {
     "name": "stderr",
     "output_type": "stream",
     "text": [
      "Grid configuration same as last episode\n",
      "Grid configuration same as last episode\n",
      "Grid configuration same as last episode\n",
      "Grid configuration same as last episode\n",
      "Grid configuration same as last episode\n",
      "Grid configuration same as last episode\n"
     ]
    },
    {
     "name": "stdout",
     "output_type": "stream",
     "text": [
      "Update 226: Reward P1: -86, Reward P2: -86\n",
      "Update 227: Reward P1: -106, Reward P2: -106\n"
     ]
    },
    {
     "name": "stderr",
     "output_type": "stream",
     "text": [
      "Grid configuration same as last episode\n",
      "Grid configuration same as last episode\n",
      "Grid configuration same as last episode\n",
      "Grid configuration same as last episode\n",
      "Grid configuration same as last episode\n",
      "Grid configuration same as last episode\n"
     ]
    },
    {
     "name": "stdout",
     "output_type": "stream",
     "text": [
      "Update 228: Reward P1: -106, Reward P2: -106\n",
      "Update 229: Reward P1: -116, Reward P2: -116\n"
     ]
    },
    {
     "name": "stderr",
     "output_type": "stream",
     "text": [
      "Grid configuration same as last episode\n",
      "Grid configuration same as last episode\n",
      "Grid configuration same as last episode\n",
      "Grid configuration same as last episode\n",
      "Grid configuration same as last episode\n",
      "Grid configuration same as last episode\n"
     ]
    },
    {
     "name": "stdout",
     "output_type": "stream",
     "text": [
      "Update 230: Reward P1: -126, Reward P2: -126\n",
      "Update 231: Reward P1: -106, Reward P2: -106\n"
     ]
    },
    {
     "name": "stderr",
     "output_type": "stream",
     "text": [
      "Grid configuration same as last episode\n",
      "Grid configuration same as last episode\n",
      "Grid configuration same as last episode\n",
      "Grid configuration same as last episode\n",
      "Grid configuration same as last episode\n",
      "Grid configuration same as last episode\n"
     ]
    },
    {
     "name": "stdout",
     "output_type": "stream",
     "text": [
      "Update 232: Reward P1: -156, Reward P2: -156\n",
      "Update 233: Reward P1: -146, Reward P2: -146\n"
     ]
    },
    {
     "name": "stderr",
     "output_type": "stream",
     "text": [
      "Grid configuration same as last episode\n",
      "Grid configuration same as last episode\n",
      "Grid configuration same as last episode\n",
      "Grid configuration same as last episode\n",
      "Grid configuration same as last episode\n",
      "Grid configuration same as last episode\n",
      "Grid configuration same as last episode\n"
     ]
    },
    {
     "name": "stdout",
     "output_type": "stream",
     "text": [
      "Update 234: Reward P1: -76, Reward P2: -76\n",
      "Update 235: Reward P1: -76, Reward P2: -76\n"
     ]
    },
    {
     "name": "stderr",
     "output_type": "stream",
     "text": [
      "Grid configuration same as last episode\n",
      "Grid configuration same as last episode\n",
      "Grid configuration same as last episode\n",
      "Grid configuration same as last episode\n",
      "Grid configuration same as last episode\n",
      "Grid configuration same as last episode\n"
     ]
    },
    {
     "name": "stdout",
     "output_type": "stream",
     "text": [
      "Update 236: Reward P1: -76, Reward P2: -76\n",
      "Update 237: Reward P1: -106, Reward P2: -106\n"
     ]
    },
    {
     "name": "stderr",
     "output_type": "stream",
     "text": [
      "Grid configuration same as last episode\n",
      "Grid configuration same as last episode\n",
      "Grid configuration same as last episode\n",
      "Grid configuration same as last episode\n",
      "Grid configuration same as last episode\n",
      "Grid configuration same as last episode\n"
     ]
    },
    {
     "name": "stdout",
     "output_type": "stream",
     "text": [
      "Update 238: Reward P1: -76, Reward P2: -76\n",
      "Update 239: Reward P1: -106, Reward P2: -106\n"
     ]
    },
    {
     "name": "stderr",
     "output_type": "stream",
     "text": [
      "Grid configuration same as last episode\n",
      "Grid configuration same as last episode\n",
      "Grid configuration same as last episode\n",
      "Grid configuration same as last episode\n",
      "Grid configuration same as last episode\n",
      "Grid configuration same as last episode\n"
     ]
    },
    {
     "name": "stdout",
     "output_type": "stream",
     "text": [
      "Update 240: Reward P1: -136, Reward P2: -136\n",
      "Update 241: Reward P1: -46, Reward P2: -46\n"
     ]
    },
    {
     "name": "stderr",
     "output_type": "stream",
     "text": [
      "Grid configuration same as last episode\n",
      "Grid configuration same as last episode\n",
      "Grid configuration same as last episode\n",
      "Grid configuration same as last episode\n",
      "Grid configuration same as last episode\n"
     ]
    },
    {
     "name": "stdout",
     "output_type": "stream",
     "text": [
      "Update 242: Reward P1: -66, Reward P2: -66\n",
      "Update 243: Reward P1: -96, Reward P2: -96\n"
     ]
    },
    {
     "name": "stderr",
     "output_type": "stream",
     "text": [
      "Grid configuration same as last episode\n",
      "Grid configuration same as last episode\n",
      "Grid configuration same as last episode\n",
      "Grid configuration same as last episode\n",
      "Grid configuration same as last episode\n",
      "Grid configuration same as last episode\n",
      "Grid configuration same as last episode\n"
     ]
    },
    {
     "name": "stdout",
     "output_type": "stream",
     "text": [
      "Update 244: Reward P1: -126, Reward P2: -126\n",
      "Update 245: Reward P1: -116, Reward P2: -116\n"
     ]
    },
    {
     "name": "stderr",
     "output_type": "stream",
     "text": [
      "Grid configuration same as last episode\n",
      "Grid configuration same as last episode\n",
      "Grid configuration same as last episode\n",
      "Grid configuration same as last episode\n",
      "Grid configuration same as last episode\n",
      "Grid configuration same as last episode\n"
     ]
    },
    {
     "name": "stdout",
     "output_type": "stream",
     "text": [
      "Update 246: Reward P1: -86, Reward P2: -86\n",
      "Update 247: Reward P1: -106, Reward P2: -106\n"
     ]
    },
    {
     "name": "stderr",
     "output_type": "stream",
     "text": [
      "Grid configuration same as last episode\n",
      "Grid configuration same as last episode\n",
      "Grid configuration same as last episode\n",
      "Grid configuration same as last episode\n",
      "Grid configuration same as last episode\n",
      "Grid configuration same as last episode\n"
     ]
    },
    {
     "name": "stdout",
     "output_type": "stream",
     "text": [
      "Update 248: Reward P1: -146, Reward P2: -146\n",
      "Update 249: Reward P1: -166, Reward P2: -166\n"
     ]
    },
    {
     "name": "stderr",
     "output_type": "stream",
     "text": [
      "Grid configuration same as last episode\n",
      "Grid configuration same as last episode\n",
      "Grid configuration same as last episode\n",
      "Grid configuration same as last episode\n",
      "Grid configuration same as last episode\n",
      "Grid configuration same as last episode\n"
     ]
    },
    {
     "name": "stdout",
     "output_type": "stream",
     "text": [
      "Update 250: Reward P1: -116, Reward P2: -116\n",
      "Update 251: Reward P1: -126, Reward P2: -126\n"
     ]
    },
    {
     "name": "stderr",
     "output_type": "stream",
     "text": [
      "Grid configuration same as last episode\n",
      "Grid configuration same as last episode\n",
      "Grid configuration same as last episode\n",
      "Grid configuration same as last episode\n",
      "Grid configuration same as last episode\n"
     ]
    },
    {
     "name": "stdout",
     "output_type": "stream",
     "text": [
      "Update 252: Reward P1: -66, Reward P2: -66\n",
      "Update 253: Reward P1: -176, Reward P2: -176\n"
     ]
    },
    {
     "name": "stderr",
     "output_type": "stream",
     "text": [
      "Grid configuration same as last episode\n",
      "Grid configuration same as last episode\n",
      "Grid configuration same as last episode\n",
      "Grid configuration same as last episode\n",
      "Grid configuration same as last episode\n",
      "Grid configuration same as last episode\n"
     ]
    },
    {
     "name": "stdout",
     "output_type": "stream",
     "text": [
      "Update 254: Reward P1: -156, Reward P2: -156\n",
      "Update 255: Reward P1: -126, Reward P2: -126\n"
     ]
    },
    {
     "name": "stderr",
     "output_type": "stream",
     "text": [
      "Grid configuration same as last episode\n",
      "Grid configuration same as last episode\n",
      "Grid configuration same as last episode\n",
      "Grid configuration same as last episode\n",
      "Grid configuration same as last episode\n",
      "Grid configuration same as last episode\n"
     ]
    },
    {
     "name": "stdout",
     "output_type": "stream",
     "text": [
      "Update 256: Reward P1: -136, Reward P2: -136\n",
      "Update 257: Reward P1: -126, Reward P2: -126\n"
     ]
    },
    {
     "name": "stderr",
     "output_type": "stream",
     "text": [
      "Grid configuration same as last episode\n",
      "Grid configuration same as last episode\n",
      "Grid configuration same as last episode\n",
      "Grid configuration same as last episode\n",
      "Grid configuration same as last episode\n",
      "Grid configuration same as last episode\n"
     ]
    },
    {
     "name": "stdout",
     "output_type": "stream",
     "text": [
      "Update 258: Reward P1: -136, Reward P2: -136\n",
      "Update 259: Reward P1: -96, Reward P2: -96\n"
     ]
    },
    {
     "name": "stderr",
     "output_type": "stream",
     "text": [
      "Grid configuration same as last episode\n",
      "Grid configuration same as last episode\n",
      "Grid configuration same as last episode\n",
      "Grid configuration same as last episode\n",
      "Grid configuration same as last episode\n",
      "Grid configuration same as last episode\n"
     ]
    },
    {
     "name": "stdout",
     "output_type": "stream",
     "text": [
      "Update 260: Reward P1: -96, Reward P2: -96\n",
      "Update 261: Reward P1: -116, Reward P2: -116\n"
     ]
    },
    {
     "name": "stderr",
     "output_type": "stream",
     "text": [
      "Grid configuration same as last episode\n",
      "Grid configuration same as last episode\n",
      "Grid configuration same as last episode\n",
      "Grid configuration same as last episode\n",
      "Grid configuration same as last episode\n",
      "Grid configuration same as last episode\n",
      "Grid configuration same as last episode\n"
     ]
    },
    {
     "name": "stdout",
     "output_type": "stream",
     "text": [
      "Update 262: Reward P1: -196, Reward P2: -196\n",
      "Update 263: Reward P1: -116, Reward P2: -116\n"
     ]
    },
    {
     "name": "stderr",
     "output_type": "stream",
     "text": [
      "Grid configuration same as last episode\n",
      "Grid configuration same as last episode\n",
      "Grid configuration same as last episode\n",
      "Grid configuration same as last episode\n",
      "Grid configuration same as last episode\n",
      "Grid configuration same as last episode\n"
     ]
    },
    {
     "name": "stdout",
     "output_type": "stream",
     "text": [
      "Update 264: Reward P1: -86, Reward P2: -86\n",
      "Update 265: Reward P1: -146, Reward P2: -146\n"
     ]
    },
    {
     "name": "stderr",
     "output_type": "stream",
     "text": [
      "Grid configuration same as last episode\n",
      "Grid configuration same as last episode\n",
      "Grid configuration same as last episode\n",
      "Grid configuration same as last episode\n",
      "Grid configuration same as last episode\n",
      "Grid configuration same as last episode\n"
     ]
    },
    {
     "name": "stdout",
     "output_type": "stream",
     "text": [
      "Update 266: Reward P1: -166, Reward P2: -166\n",
      "Update 267: Reward P1: -126, Reward P2: -126\n"
     ]
    },
    {
     "name": "stderr",
     "output_type": "stream",
     "text": [
      "Grid configuration same as last episode\n",
      "Grid configuration same as last episode\n",
      "Grid configuration same as last episode\n",
      "Grid configuration same as last episode\n",
      "Grid configuration same as last episode\n",
      "Grid configuration same as last episode\n"
     ]
    },
    {
     "name": "stdout",
     "output_type": "stream",
     "text": [
      "Update 268: Reward P1: -126, Reward P2: -126\n",
      "Update 269: Reward P1: -146, Reward P2: -146\n"
     ]
    },
    {
     "name": "stderr",
     "output_type": "stream",
     "text": [
      "Grid configuration same as last episode\n",
      "Grid configuration same as last episode\n",
      "Grid configuration same as last episode\n",
      "Grid configuration same as last episode\n",
      "Grid configuration same as last episode\n",
      "Grid configuration same as last episode\n"
     ]
    },
    {
     "name": "stdout",
     "output_type": "stream",
     "text": [
      "Update 270: Reward P1: -116, Reward P2: -116\n",
      "Update 271: Reward P1: -106, Reward P2: -106\n"
     ]
    },
    {
     "name": "stderr",
     "output_type": "stream",
     "text": [
      "Grid configuration same as last episode\n",
      "Grid configuration same as last episode\n",
      "Grid configuration same as last episode\n",
      "Grid configuration same as last episode\n",
      "Grid configuration same as last episode\n"
     ]
    },
    {
     "name": "stdout",
     "output_type": "stream",
     "text": [
      "Update 272: Reward P1: -136, Reward P2: -136\n",
      "Update 273: Reward P1: -96, Reward P2: -96\n"
     ]
    },
    {
     "name": "stderr",
     "output_type": "stream",
     "text": [
      "Grid configuration same as last episode\n",
      "Grid configuration same as last episode\n",
      "Grid configuration same as last episode\n",
      "Grid configuration same as last episode\n",
      "Grid configuration same as last episode\n",
      "Grid configuration same as last episode\n",
      "Grid configuration same as last episode\n"
     ]
    },
    {
     "name": "stdout",
     "output_type": "stream",
     "text": [
      "Update 274: Reward P1: -106, Reward P2: -106\n",
      "Update 275: Reward P1: -106, Reward P2: -106\n"
     ]
    },
    {
     "name": "stderr",
     "output_type": "stream",
     "text": [
      "Grid configuration same as last episode\n",
      "Grid configuration same as last episode\n",
      "Grid configuration same as last episode\n",
      "Grid configuration same as last episode\n",
      "Grid configuration same as last episode\n",
      "Grid configuration same as last episode\n"
     ]
    },
    {
     "name": "stdout",
     "output_type": "stream",
     "text": [
      "Update 276: Reward P1: -126, Reward P2: -126\n",
      "Update 277: Reward P1: -176, Reward P2: -176\n"
     ]
    },
    {
     "name": "stderr",
     "output_type": "stream",
     "text": [
      "Grid configuration same as last episode\n",
      "Grid configuration same as last episode\n",
      "Grid configuration same as last episode\n",
      "Grid configuration same as last episode\n",
      "Grid configuration same as last episode\n",
      "Grid configuration same as last episode\n"
     ]
    },
    {
     "name": "stdout",
     "output_type": "stream",
     "text": [
      "Update 278: Reward P1: -86, Reward P2: -86\n",
      "Update 279: Reward P1: -106, Reward P2: -106\n"
     ]
    },
    {
     "name": "stderr",
     "output_type": "stream",
     "text": [
      "Grid configuration same as last episode\n",
      "Grid configuration same as last episode\n",
      "Grid configuration same as last episode\n",
      "Grid configuration same as last episode\n",
      "Grid configuration same as last episode\n",
      "Grid configuration same as last episode\n"
     ]
    },
    {
     "name": "stdout",
     "output_type": "stream",
     "text": [
      "Update 280: Reward P1: -116, Reward P2: -116\n",
      "Update 281: Reward P1: -156, Reward P2: -156\n"
     ]
    },
    {
     "name": "stderr",
     "output_type": "stream",
     "text": [
      "Grid configuration same as last episode\n",
      "Grid configuration same as last episode\n",
      "Grid configuration same as last episode\n",
      "Grid configuration same as last episode\n",
      "Grid configuration same as last episode\n",
      "Grid configuration same as last episode\n"
     ]
    },
    {
     "name": "stdout",
     "output_type": "stream",
     "text": [
      "Update 282: Reward P1: -156, Reward P2: -156\n",
      "Update 283: Reward P1: -166, Reward P2: -166\n"
     ]
    },
    {
     "name": "stderr",
     "output_type": "stream",
     "text": [
      "Grid configuration same as last episode\n",
      "Grid configuration same as last episode\n",
      "Grid configuration same as last episode\n",
      "Grid configuration same as last episode\n",
      "Grid configuration same as last episode\n",
      "Grid configuration same as last episode\n"
     ]
    },
    {
     "name": "stdout",
     "output_type": "stream",
     "text": [
      "Update 284: Reward P1: -96, Reward P2: -96\n",
      "Update 285: Reward P1: -126, Reward P2: -126\n"
     ]
    },
    {
     "name": "stderr",
     "output_type": "stream",
     "text": [
      "Grid configuration same as last episode\n",
      "Grid configuration same as last episode\n",
      "Grid configuration same as last episode\n",
      "Grid configuration same as last episode\n",
      "Grid configuration same as last episode\n",
      "Grid configuration same as last episode\n"
     ]
    },
    {
     "name": "stdout",
     "output_type": "stream",
     "text": [
      "Update 286: Reward P1: -116, Reward P2: -116\n",
      "Update 287: Reward P1: -166, Reward P2: -166\n"
     ]
    },
    {
     "name": "stderr",
     "output_type": "stream",
     "text": [
      "Grid configuration same as last episode\n",
      "Grid configuration same as last episode\n",
      "Grid configuration same as last episode\n",
      "Grid configuration same as last episode\n",
      "Grid configuration same as last episode\n",
      "Grid configuration same as last episode\n"
     ]
    },
    {
     "name": "stdout",
     "output_type": "stream",
     "text": [
      "Update 288: Reward P1: -96, Reward P2: -96\n",
      "Update 289: Reward P1: -106, Reward P2: -106\n"
     ]
    },
    {
     "name": "stderr",
     "output_type": "stream",
     "text": [
      "Grid configuration same as last episode\n",
      "Grid configuration same as last episode\n",
      "Grid configuration same as last episode\n",
      "Grid configuration same as last episode\n",
      "Grid configuration same as last episode\n",
      "Grid configuration same as last episode\n"
     ]
    },
    {
     "name": "stdout",
     "output_type": "stream",
     "text": [
      "Update 290: Reward P1: -66, Reward P2: -66\n",
      "Update 291: Reward P1: -146, Reward P2: -146\n"
     ]
    },
    {
     "name": "stderr",
     "output_type": "stream",
     "text": [
      "Grid configuration same as last episode\n",
      "Grid configuration same as last episode\n",
      "Grid configuration same as last episode\n",
      "Grid configuration same as last episode\n",
      "Grid configuration same as last episode\n",
      "Grid configuration same as last episode\n"
     ]
    },
    {
     "name": "stdout",
     "output_type": "stream",
     "text": [
      "Update 292: Reward P1: -126, Reward P2: -126\n",
      "Update 293: Reward P1: -76, Reward P2: -76\n"
     ]
    },
    {
     "name": "stderr",
     "output_type": "stream",
     "text": [
      "Grid configuration same as last episode\n",
      "Grid configuration same as last episode\n",
      "Grid configuration same as last episode\n",
      "Grid configuration same as last episode\n",
      "Grid configuration same as last episode\n",
      "Grid configuration same as last episode\n"
     ]
    },
    {
     "name": "stdout",
     "output_type": "stream",
     "text": [
      "Update 294: Reward P1: -106, Reward P2: -106\n",
      "Update 295: Reward P1: -106, Reward P2: -106\n"
     ]
    },
    {
     "name": "stderr",
     "output_type": "stream",
     "text": [
      "Grid configuration same as last episode\n",
      "Grid configuration same as last episode\n",
      "Grid configuration same as last episode\n",
      "Grid configuration same as last episode\n",
      "Grid configuration same as last episode\n",
      "Grid configuration same as last episode\n"
     ]
    },
    {
     "name": "stdout",
     "output_type": "stream",
     "text": [
      "Update 296: Reward P1: -56, Reward P2: -56\n",
      "Update 297: Reward P1: -96, Reward P2: -96\n"
     ]
    },
    {
     "name": "stderr",
     "output_type": "stream",
     "text": [
      "Grid configuration same as last episode\n",
      "Grid configuration same as last episode\n",
      "Grid configuration same as last episode\n",
      "Grid configuration same as last episode\n",
      "Grid configuration same as last episode\n",
      "Grid configuration same as last episode\n"
     ]
    },
    {
     "name": "stdout",
     "output_type": "stream",
     "text": [
      "Update 298: Reward P1: -136, Reward P2: -136\n",
      "Update 299: Reward P1: -146, Reward P2: -146\n"
     ]
    },
    {
     "name": "stderr",
     "output_type": "stream",
     "text": [
      "Grid configuration same as last episode\n",
      "Grid configuration same as last episode\n",
      "Grid configuration same as last episode\n",
      "Grid configuration same as last episode\n",
      "Grid configuration same as last episode\n",
      "Grid configuration same as last episode\n"
     ]
    },
    {
     "name": "stdout",
     "output_type": "stream",
     "text": [
      "Update 300: Reward P1: -106, Reward P2: -106\n",
      "Update 301: Reward P1: -106, Reward P2: -106\n"
     ]
    },
    {
     "name": "stderr",
     "output_type": "stream",
     "text": [
      "Grid configuration same as last episode\n",
      "Grid configuration same as last episode\n",
      "Grid configuration same as last episode\n",
      "Grid configuration same as last episode\n",
      "Grid configuration same as last episode\n",
      "Grid configuration same as last episode\n"
     ]
    },
    {
     "name": "stdout",
     "output_type": "stream",
     "text": [
      "Update 302: Reward P1: -96, Reward P2: -96\n",
      "Update 303: Reward P1: -156, Reward P2: -156\n"
     ]
    },
    {
     "name": "stderr",
     "output_type": "stream",
     "text": [
      "Grid configuration same as last episode\n",
      "Grid configuration same as last episode\n",
      "Grid configuration same as last episode\n",
      "Grid configuration same as last episode\n",
      "Grid configuration same as last episode\n",
      "Grid configuration same as last episode\n"
     ]
    },
    {
     "name": "stdout",
     "output_type": "stream",
     "text": [
      "Update 304: Reward P1: -126, Reward P2: -126\n",
      "Update 305: Reward P1: -76, Reward P2: -76\n"
     ]
    },
    {
     "name": "stderr",
     "output_type": "stream",
     "text": [
      "Grid configuration same as last episode\n",
      "Grid configuration same as last episode\n",
      "Grid configuration same as last episode\n",
      "Grid configuration same as last episode\n",
      "Grid configuration same as last episode\n",
      "Grid configuration same as last episode\n"
     ]
    },
    {
     "name": "stdout",
     "output_type": "stream",
     "text": [
      "Update 306: Reward P1: -116, Reward P2: -116\n",
      "Update 307: Reward P1: -136, Reward P2: -136\n"
     ]
    },
    {
     "name": "stderr",
     "output_type": "stream",
     "text": [
      "Grid configuration same as last episode\n",
      "Grid configuration same as last episode\n",
      "Grid configuration same as last episode\n",
      "Grid configuration same as last episode\n"
     ]
    },
    {
     "name": "stdout",
     "output_type": "stream",
     "text": [
      "Update 308: Reward P1: -106, Reward P2: -106\n"
     ]
    },
    {
     "name": "stderr",
     "output_type": "stream",
     "text": [
      "Grid configuration same as last episode\n",
      "Grid configuration same as last episode\n",
      "Grid configuration same as last episode\n",
      "Grid configuration same as last episode\n",
      "Grid configuration same as last episode\n"
     ]
    },
    {
     "name": "stdout",
     "output_type": "stream",
     "text": [
      "Update 309: Reward P1: -136, Reward P2: -136\n",
      "Update 310: Reward P1: -136, Reward P2: -136\n"
     ]
    },
    {
     "name": "stderr",
     "output_type": "stream",
     "text": [
      "Grid configuration same as last episode\n",
      "Grid configuration same as last episode\n",
      "Grid configuration same as last episode\n",
      "Grid configuration same as last episode\n",
      "Grid configuration same as last episode\n",
      "Grid configuration same as last episode\n"
     ]
    },
    {
     "name": "stdout",
     "output_type": "stream",
     "text": [
      "Update 311: Reward P1: -156, Reward P2: -156\n",
      "Update 312: Reward P1: -136, Reward P2: -136\n"
     ]
    },
    {
     "name": "stderr",
     "output_type": "stream",
     "text": [
      "Grid configuration same as last episode\n",
      "Grid configuration same as last episode\n",
      "Grid configuration same as last episode\n",
      "Grid configuration same as last episode\n",
      "Grid configuration same as last episode\n",
      "Grid configuration same as last episode\n"
     ]
    },
    {
     "name": "stdout",
     "output_type": "stream",
     "text": [
      "Update 313: Reward P1: -146, Reward P2: -146\n",
      "Update 314: Reward P1: -126, Reward P2: -126\n"
     ]
    },
    {
     "name": "stderr",
     "output_type": "stream",
     "text": [
      "Grid configuration same as last episode\n",
      "Grid configuration same as last episode\n",
      "Grid configuration same as last episode\n",
      "Grid configuration same as last episode\n",
      "Grid configuration same as last episode\n",
      "Grid configuration same as last episode\n"
     ]
    },
    {
     "name": "stdout",
     "output_type": "stream",
     "text": [
      "Update 315: Reward P1: -96, Reward P2: -96\n",
      "Update 316: Reward P1: -76, Reward P2: -76\n"
     ]
    },
    {
     "name": "stderr",
     "output_type": "stream",
     "text": [
      "Grid configuration same as last episode\n",
      "Grid configuration same as last episode\n",
      "Grid configuration same as last episode\n",
      "Grid configuration same as last episode\n",
      "Grid configuration same as last episode\n",
      "Grid configuration same as last episode\n"
     ]
    },
    {
     "name": "stdout",
     "output_type": "stream",
     "text": [
      "Update 317: Reward P1: -116, Reward P2: -116\n",
      "Update 318: Reward P1: -106, Reward P2: -106\n"
     ]
    },
    {
     "name": "stderr",
     "output_type": "stream",
     "text": [
      "Grid configuration same as last episode\n",
      "Grid configuration same as last episode\n",
      "Grid configuration same as last episode\n",
      "Grid configuration same as last episode\n",
      "Grid configuration same as last episode\n",
      "Grid configuration same as last episode\n"
     ]
    },
    {
     "name": "stdout",
     "output_type": "stream",
     "text": [
      "Update 319: Reward P1: -136, Reward P2: -136\n",
      "Update 320: Reward P1: -116, Reward P2: -116\n"
     ]
    },
    {
     "name": "stderr",
     "output_type": "stream",
     "text": [
      "Grid configuration same as last episode\n",
      "Grid configuration same as last episode\n",
      "Grid configuration same as last episode\n",
      "Grid configuration same as last episode\n",
      "Grid configuration same as last episode\n",
      "Grid configuration same as last episode\n"
     ]
    },
    {
     "name": "stdout",
     "output_type": "stream",
     "text": [
      "Update 321: Reward P1: -86, Reward P2: -86\n",
      "Update 322: Reward P1: -106, Reward P2: -106\n"
     ]
    },
    {
     "name": "stderr",
     "output_type": "stream",
     "text": [
      "Grid configuration same as last episode\n",
      "Grid configuration same as last episode\n",
      "Grid configuration same as last episode\n",
      "Grid configuration same as last episode\n",
      "Grid configuration same as last episode\n",
      "Grid configuration same as last episode\n"
     ]
    },
    {
     "name": "stdout",
     "output_type": "stream",
     "text": [
      "Update 323: Reward P1: -76, Reward P2: -76\n",
      "Update 324: Reward P1: -126, Reward P2: -126\n"
     ]
    },
    {
     "name": "stderr",
     "output_type": "stream",
     "text": [
      "Grid configuration same as last episode\n",
      "Grid configuration same as last episode\n",
      "Grid configuration same as last episode\n",
      "Grid configuration same as last episode\n",
      "Grid configuration same as last episode\n",
      "Grid configuration same as last episode\n"
     ]
    },
    {
     "name": "stdout",
     "output_type": "stream",
     "text": [
      "Update 325: Reward P1: -106, Reward P2: -106\n",
      "Update 326: Reward P1: -116, Reward P2: -116\n"
     ]
    },
    {
     "name": "stderr",
     "output_type": "stream",
     "text": [
      "Grid configuration same as last episode\n",
      "Grid configuration same as last episode\n",
      "Grid configuration same as last episode\n",
      "Grid configuration same as last episode\n",
      "Grid configuration same as last episode\n"
     ]
    },
    {
     "name": "stdout",
     "output_type": "stream",
     "text": [
      "Update 327: Reward P1: -146, Reward P2: -146\n",
      "Update 328: Reward P1: -86, Reward P2: -86\n"
     ]
    },
    {
     "name": "stderr",
     "output_type": "stream",
     "text": [
      "Grid configuration same as last episode\n",
      "Grid configuration same as last episode\n",
      "Grid configuration same as last episode\n",
      "Grid configuration same as last episode\n",
      "Grid configuration same as last episode\n",
      "Grid configuration same as last episode\n"
     ]
    },
    {
     "name": "stdout",
     "output_type": "stream",
     "text": [
      "Update 329: Reward P1: -86, Reward P2: -86\n",
      "Update 330: Reward P1: -106, Reward P2: -106\n"
     ]
    },
    {
     "name": "stderr",
     "output_type": "stream",
     "text": [
      "Grid configuration same as last episode\n",
      "Grid configuration same as last episode\n",
      "Grid configuration same as last episode\n",
      "Grid configuration same as last episode\n",
      "Grid configuration same as last episode\n",
      "Grid configuration same as last episode\n"
     ]
    },
    {
     "name": "stdout",
     "output_type": "stream",
     "text": [
      "Update 331: Reward P1: -56, Reward P2: -56\n",
      "Update 332: Reward P1: -126, Reward P2: -126\n"
     ]
    },
    {
     "name": "stderr",
     "output_type": "stream",
     "text": [
      "Grid configuration same as last episode\n",
      "Grid configuration same as last episode\n",
      "Grid configuration same as last episode\n",
      "Grid configuration same as last episode\n",
      "Grid configuration same as last episode\n",
      "Grid configuration same as last episode\n"
     ]
    },
    {
     "name": "stdout",
     "output_type": "stream",
     "text": [
      "Update 333: Reward P1: -106, Reward P2: -106\n",
      "Update 334: Reward P1: -96, Reward P2: -96\n"
     ]
    },
    {
     "name": "stderr",
     "output_type": "stream",
     "text": [
      "Grid configuration same as last episode\n",
      "Grid configuration same as last episode\n",
      "Grid configuration same as last episode\n",
      "Grid configuration same as last episode\n",
      "Grid configuration same as last episode\n",
      "Grid configuration same as last episode\n"
     ]
    },
    {
     "name": "stdout",
     "output_type": "stream",
     "text": [
      "Update 335: Reward P1: -166, Reward P2: -166\n",
      "Update 336: Reward P1: -126, Reward P2: -126\n"
     ]
    },
    {
     "name": "stderr",
     "output_type": "stream",
     "text": [
      "Grid configuration same as last episode\n",
      "Grid configuration same as last episode\n",
      "Grid configuration same as last episode\n",
      "Grid configuration same as last episode\n",
      "Grid configuration same as last episode\n",
      "Grid configuration same as last episode\n"
     ]
    },
    {
     "name": "stdout",
     "output_type": "stream",
     "text": [
      "Update 337: Reward P1: -126, Reward P2: -126\n",
      "Update 338: Reward P1: -96, Reward P2: -96\n"
     ]
    },
    {
     "name": "stderr",
     "output_type": "stream",
     "text": [
      "Grid configuration same as last episode\n",
      "Grid configuration same as last episode\n",
      "Grid configuration same as last episode\n",
      "Grid configuration same as last episode\n",
      "Grid configuration same as last episode\n",
      "Grid configuration same as last episode\n"
     ]
    },
    {
     "name": "stdout",
     "output_type": "stream",
     "text": [
      "Update 339: Reward P1: -116, Reward P2: -116\n",
      "Update 340: Reward P1: -136, Reward P2: -136\n"
     ]
    },
    {
     "name": "stderr",
     "output_type": "stream",
     "text": [
      "Grid configuration same as last episode\n",
      "Grid configuration same as last episode\n",
      "Grid configuration same as last episode\n",
      "Grid configuration same as last episode\n",
      "Grid configuration same as last episode\n",
      "Grid configuration same as last episode\n"
     ]
    },
    {
     "name": "stdout",
     "output_type": "stream",
     "text": [
      "Update 341: Reward P1: -126, Reward P2: -126\n",
      "Update 342: Reward P1: -86, Reward P2: -86\n"
     ]
    },
    {
     "name": "stderr",
     "output_type": "stream",
     "text": [
      "Grid configuration same as last episode\n",
      "Grid configuration same as last episode\n",
      "Grid configuration same as last episode\n",
      "Grid configuration same as last episode\n",
      "Grid configuration same as last episode\n",
      "Grid configuration same as last episode\n"
     ]
    },
    {
     "name": "stdout",
     "output_type": "stream",
     "text": [
      "Update 343: Reward P1: -156, Reward P2: -156\n",
      "Update 344: Reward P1: -106, Reward P2: -106\n"
     ]
    },
    {
     "name": "stderr",
     "output_type": "stream",
     "text": [
      "Grid configuration same as last episode\n",
      "Grid configuration same as last episode\n",
      "Grid configuration same as last episode\n",
      "Grid configuration same as last episode\n",
      "Grid configuration same as last episode\n",
      "Grid configuration same as last episode\n"
     ]
    },
    {
     "name": "stdout",
     "output_type": "stream",
     "text": [
      "Update 345: Reward P1: -126, Reward P2: -126\n",
      "Update 346: Reward P1: -126, Reward P2: -126\n"
     ]
    },
    {
     "name": "stderr",
     "output_type": "stream",
     "text": [
      "Grid configuration same as last episode\n",
      "Grid configuration same as last episode\n",
      "Grid configuration same as last episode\n",
      "Grid configuration same as last episode\n",
      "Grid configuration same as last episode\n",
      "Grid configuration same as last episode\n"
     ]
    },
    {
     "name": "stdout",
     "output_type": "stream",
     "text": [
      "Update 347: Reward P1: -156, Reward P2: -156\n",
      "Update 348: Reward P1: -96, Reward P2: -96\n"
     ]
    },
    {
     "name": "stderr",
     "output_type": "stream",
     "text": [
      "Grid configuration same as last episode\n",
      "Grid configuration same as last episode\n",
      "Grid configuration same as last episode\n",
      "Grid configuration same as last episode\n",
      "Grid configuration same as last episode\n",
      "Grid configuration same as last episode\n"
     ]
    },
    {
     "name": "stdout",
     "output_type": "stream",
     "text": [
      "Update 349: Reward P1: -126, Reward P2: -126\n",
      "Update 350: Reward P1: -116, Reward P2: -116\n"
     ]
    },
    {
     "name": "stderr",
     "output_type": "stream",
     "text": [
      "Grid configuration same as last episode\n",
      "Grid configuration same as last episode\n",
      "Grid configuration same as last episode\n",
      "Grid configuration same as last episode\n",
      "Grid configuration same as last episode\n",
      "Grid configuration same as last episode\n"
     ]
    },
    {
     "name": "stdout",
     "output_type": "stream",
     "text": [
      "Update 351: Reward P1: -106, Reward P2: -106\n",
      "Update 352: Reward P1: -96, Reward P2: -96\n"
     ]
    },
    {
     "name": "stderr",
     "output_type": "stream",
     "text": [
      "Grid configuration same as last episode\n",
      "Grid configuration same as last episode\n",
      "Grid configuration same as last episode\n",
      "Grid configuration same as last episode\n",
      "Grid configuration same as last episode\n",
      "Grid configuration same as last episode\n"
     ]
    },
    {
     "name": "stdout",
     "output_type": "stream",
     "text": [
      "Update 353: Reward P1: -126, Reward P2: -126\n",
      "Update 354: Reward P1: -126, Reward P2: -126\n"
     ]
    },
    {
     "name": "stderr",
     "output_type": "stream",
     "text": [
      "Grid configuration same as last episode\n",
      "Grid configuration same as last episode\n",
      "Grid configuration same as last episode\n",
      "Grid configuration same as last episode\n",
      "Grid configuration same as last episode\n",
      "Grid configuration same as last episode\n"
     ]
    },
    {
     "name": "stdout",
     "output_type": "stream",
     "text": [
      "Update 355: Reward P1: -166, Reward P2: -166\n",
      "Update 356: Reward P1: -106, Reward P2: -106\n"
     ]
    },
    {
     "name": "stderr",
     "output_type": "stream",
     "text": [
      "Grid configuration same as last episode\n",
      "Grid configuration same as last episode\n",
      "Grid configuration same as last episode\n",
      "Grid configuration same as last episode\n",
      "Grid configuration same as last episode\n",
      "Grid configuration same as last episode\n"
     ]
    },
    {
     "name": "stdout",
     "output_type": "stream",
     "text": [
      "Update 357: Reward P1: -86, Reward P2: -86\n",
      "Update 358: Reward P1: -136, Reward P2: -136\n"
     ]
    },
    {
     "name": "stderr",
     "output_type": "stream",
     "text": [
      "Grid configuration same as last episode\n",
      "Grid configuration same as last episode\n",
      "Grid configuration same as last episode\n",
      "Grid configuration same as last episode\n",
      "Grid configuration same as last episode\n",
      "Grid configuration same as last episode\n"
     ]
    },
    {
     "name": "stdout",
     "output_type": "stream",
     "text": [
      "Update 359: Reward P1: -116, Reward P2: -116\n",
      "Update 360: Reward P1: -126, Reward P2: -126\n"
     ]
    },
    {
     "name": "stderr",
     "output_type": "stream",
     "text": [
      "Grid configuration same as last episode\n",
      "Grid configuration same as last episode\n",
      "Grid configuration same as last episode\n",
      "Grid configuration same as last episode\n",
      "Grid configuration same as last episode\n",
      "Grid configuration same as last episode\n"
     ]
    },
    {
     "name": "stdout",
     "output_type": "stream",
     "text": [
      "Update 361: Reward P1: -126, Reward P2: -126\n",
      "Update 362: Reward P1: -126, Reward P2: -126\n"
     ]
    },
    {
     "name": "stderr",
     "output_type": "stream",
     "text": [
      "Grid configuration same as last episode\n",
      "Grid configuration same as last episode\n",
      "Grid configuration same as last episode\n",
      "Grid configuration same as last episode\n",
      "Grid configuration same as last episode\n",
      "Grid configuration same as last episode\n"
     ]
    },
    {
     "name": "stdout",
     "output_type": "stream",
     "text": [
      "Update 363: Reward P1: -156, Reward P2: -156\n",
      "Update 364: Reward P1: -76, Reward P2: -76\n"
     ]
    },
    {
     "name": "stderr",
     "output_type": "stream",
     "text": [
      "Grid configuration same as last episode\n",
      "Grid configuration same as last episode\n",
      "Grid configuration same as last episode\n",
      "Grid configuration same as last episode\n",
      "Grid configuration same as last episode\n",
      "Grid configuration same as last episode\n"
     ]
    },
    {
     "name": "stdout",
     "output_type": "stream",
     "text": [
      "Update 365: Reward P1: -106, Reward P2: -106\n",
      "Update 366: Reward P1: -166, Reward P2: -166\n"
     ]
    },
    {
     "name": "stderr",
     "output_type": "stream",
     "text": [
      "Grid configuration same as last episode\n",
      "Grid configuration same as last episode\n",
      "Grid configuration same as last episode\n",
      "Grid configuration same as last episode\n",
      "Grid configuration same as last episode\n",
      "Grid configuration same as last episode\n"
     ]
    },
    {
     "name": "stdout",
     "output_type": "stream",
     "text": [
      "Update 367: Reward P1: -86, Reward P2: -86\n",
      "Update 368: Reward P1: -76, Reward P2: -76\n"
     ]
    },
    {
     "name": "stderr",
     "output_type": "stream",
     "text": [
      "Grid configuration same as last episode\n",
      "Grid configuration same as last episode\n",
      "Grid configuration same as last episode\n",
      "Grid configuration same as last episode\n",
      "Grid configuration same as last episode\n",
      "Grid configuration same as last episode\n"
     ]
    },
    {
     "name": "stdout",
     "output_type": "stream",
     "text": [
      "Update 369: Reward P1: -116, Reward P2: -116\n",
      "Update 370: Reward P1: -106, Reward P2: -106\n"
     ]
    },
    {
     "name": "stderr",
     "output_type": "stream",
     "text": [
      "Grid configuration same as last episode\n",
      "Grid configuration same as last episode\n",
      "Grid configuration same as last episode\n",
      "Grid configuration same as last episode\n",
      "Grid configuration same as last episode\n",
      "Grid configuration same as last episode\n"
     ]
    },
    {
     "name": "stdout",
     "output_type": "stream",
     "text": [
      "Update 371: Reward P1: -116, Reward P2: -116\n",
      "Update 372: Reward P1: -146, Reward P2: -146\n"
     ]
    },
    {
     "name": "stderr",
     "output_type": "stream",
     "text": [
      "Grid configuration same as last episode\n",
      "Grid configuration same as last episode\n",
      "Grid configuration same as last episode\n",
      "Grid configuration same as last episode\n",
      "Grid configuration same as last episode\n",
      "Grid configuration same as last episode\n"
     ]
    },
    {
     "name": "stdout",
     "output_type": "stream",
     "text": [
      "Update 373: Reward P1: -76, Reward P2: -76\n",
      "Update 374: Reward P1: -146, Reward P2: -146\n"
     ]
    },
    {
     "name": "stderr",
     "output_type": "stream",
     "text": [
      "Grid configuration same as last episode\n",
      "Grid configuration same as last episode\n",
      "Grid configuration same as last episode\n",
      "Grid configuration same as last episode\n",
      "Grid configuration same as last episode\n",
      "Grid configuration same as last episode\n"
     ]
    },
    {
     "name": "stdout",
     "output_type": "stream",
     "text": [
      "Update 375: Reward P1: -136, Reward P2: -136\n",
      "Update 376: Reward P1: -76, Reward P2: -76\n"
     ]
    },
    {
     "name": "stderr",
     "output_type": "stream",
     "text": [
      "Grid configuration same as last episode\n",
      "Grid configuration same as last episode\n",
      "Grid configuration same as last episode\n",
      "Grid configuration same as last episode\n",
      "Grid configuration same as last episode\n",
      "Grid configuration same as last episode\n"
     ]
    },
    {
     "name": "stdout",
     "output_type": "stream",
     "text": [
      "Update 377: Reward P1: -116, Reward P2: -116\n",
      "Update 378: Reward P1: -136, Reward P2: -136\n"
     ]
    },
    {
     "name": "stderr",
     "output_type": "stream",
     "text": [
      "Grid configuration same as last episode\n",
      "Grid configuration same as last episode\n",
      "Grid configuration same as last episode\n",
      "Grid configuration same as last episode\n",
      "Grid configuration same as last episode\n",
      "Grid configuration same as last episode\n"
     ]
    },
    {
     "name": "stdout",
     "output_type": "stream",
     "text": [
      "Update 379: Reward P1: -146, Reward P2: -146\n",
      "Update 380: Reward P1: -116, Reward P2: -116\n"
     ]
    },
    {
     "name": "stderr",
     "output_type": "stream",
     "text": [
      "Grid configuration same as last episode\n",
      "Grid configuration same as last episode\n",
      "Grid configuration same as last episode\n",
      "Grid configuration same as last episode\n",
      "Grid configuration same as last episode\n",
      "Grid configuration same as last episode\n"
     ]
    },
    {
     "name": "stdout",
     "output_type": "stream",
     "text": [
      "Update 381: Reward P1: -106, Reward P2: -106\n",
      "Update 382: Reward P1: -106, Reward P2: -106\n"
     ]
    },
    {
     "name": "stderr",
     "output_type": "stream",
     "text": [
      "Grid configuration same as last episode\n",
      "Grid configuration same as last episode\n",
      "Grid configuration same as last episode\n",
      "Grid configuration same as last episode\n",
      "Grid configuration same as last episode\n",
      "Grid configuration same as last episode\n"
     ]
    },
    {
     "name": "stdout",
     "output_type": "stream",
     "text": [
      "Update 383: Reward P1: -166, Reward P2: -166\n",
      "Update 384: Reward P1: -106, Reward P2: -106\n"
     ]
    },
    {
     "name": "stderr",
     "output_type": "stream",
     "text": [
      "Grid configuration same as last episode\n",
      "Grid configuration same as last episode\n",
      "Grid configuration same as last episode\n",
      "Grid configuration same as last episode\n",
      "Grid configuration same as last episode\n",
      "Grid configuration same as last episode\n"
     ]
    },
    {
     "name": "stdout",
     "output_type": "stream",
     "text": [
      "Update 385: Reward P1: -126, Reward P2: -126\n",
      "Update 386: Reward P1: -116, Reward P2: -116\n"
     ]
    },
    {
     "name": "stderr",
     "output_type": "stream",
     "text": [
      "Grid configuration same as last episode\n",
      "Grid configuration same as last episode\n",
      "Grid configuration same as last episode\n",
      "Grid configuration same as last episode\n",
      "Grid configuration same as last episode\n",
      "Grid configuration same as last episode\n"
     ]
    },
    {
     "name": "stdout",
     "output_type": "stream",
     "text": [
      "Update 387: Reward P1: -136, Reward P2: -136\n",
      "Update 388: Reward P1: -166, Reward P2: -166\n"
     ]
    },
    {
     "name": "stderr",
     "output_type": "stream",
     "text": [
      "Grid configuration same as last episode\n",
      "Grid configuration same as last episode\n",
      "Grid configuration same as last episode\n",
      "Grid configuration same as last episode\n",
      "Grid configuration same as last episode\n",
      "Grid configuration same as last episode\n"
     ]
    },
    {
     "name": "stdout",
     "output_type": "stream",
     "text": [
      "Update 389: Reward P1: -76, Reward P2: -76\n",
      "Update 390: Reward P1: -116, Reward P2: -116\n"
     ]
    },
    {
     "name": "stderr",
     "output_type": "stream",
     "text": [
      "Grid configuration same as last episode\n",
      "Grid configuration same as last episode\n",
      "Grid configuration same as last episode\n",
      "Grid configuration same as last episode\n",
      "Grid configuration same as last episode\n",
      "Grid configuration same as last episode\n"
     ]
    },
    {
     "name": "stdout",
     "output_type": "stream",
     "text": [
      "Update 391: Reward P1: -116, Reward P2: -116\n",
      "Update 392: Reward P1: -106, Reward P2: -106\n"
     ]
    },
    {
     "name": "stderr",
     "output_type": "stream",
     "text": [
      "Grid configuration same as last episode\n",
      "Grid configuration same as last episode\n",
      "Grid configuration same as last episode\n",
      "Grid configuration same as last episode\n",
      "Grid configuration same as last episode\n",
      "Grid configuration same as last episode\n"
     ]
    },
    {
     "name": "stdout",
     "output_type": "stream",
     "text": [
      "Update 393: Reward P1: -146, Reward P2: -146\n",
      "Update 394: Reward P1: -166, Reward P2: -166\n"
     ]
    },
    {
     "name": "stderr",
     "output_type": "stream",
     "text": [
      "Grid configuration same as last episode\n",
      "Grid configuration same as last episode\n",
      "Grid configuration same as last episode\n",
      "Grid configuration same as last episode\n",
      "Grid configuration same as last episode\n",
      "Grid configuration same as last episode\n"
     ]
    },
    {
     "name": "stdout",
     "output_type": "stream",
     "text": [
      "Update 395: Reward P1: -136, Reward P2: -136\n",
      "Update 396: Reward P1: -96, Reward P2: -96\n"
     ]
    },
    {
     "name": "stderr",
     "output_type": "stream",
     "text": [
      "Grid configuration same as last episode\n",
      "Grid configuration same as last episode\n",
      "Grid configuration same as last episode\n",
      "Grid configuration same as last episode\n",
      "Grid configuration same as last episode\n",
      "Grid configuration same as last episode\n"
     ]
    },
    {
     "name": "stdout",
     "output_type": "stream",
     "text": [
      "Update 397: Reward P1: -86, Reward P2: -86\n",
      "Update 398: Reward P1: -116, Reward P2: -116\n"
     ]
    },
    {
     "name": "stderr",
     "output_type": "stream",
     "text": [
      "Grid configuration same as last episode\n",
      "Grid configuration same as last episode\n",
      "Grid configuration same as last episode\n",
      "Grid configuration same as last episode\n",
      "Grid configuration same as last episode\n",
      "Grid configuration same as last episode\n"
     ]
    },
    {
     "name": "stdout",
     "output_type": "stream",
     "text": [
      "Update 399: Reward P1: -116, Reward P2: -116\n",
      "Update 400: Reward P1: -176, Reward P2: -176\n"
     ]
    },
    {
     "name": "stderr",
     "output_type": "stream",
     "text": [
      "Grid configuration same as last episode\n",
      "Grid configuration same as last episode\n",
      "Grid configuration same as last episode\n",
      "Grid configuration same as last episode\n",
      "Grid configuration same as last episode\n",
      "Grid configuration same as last episode\n"
     ]
    },
    {
     "name": "stdout",
     "output_type": "stream",
     "text": [
      "Update 401: Reward P1: -86, Reward P2: -86\n",
      "Update 402: Reward P1: -96, Reward P2: -96\n"
     ]
    },
    {
     "name": "stderr",
     "output_type": "stream",
     "text": [
      "Grid configuration same as last episode\n",
      "Grid configuration same as last episode\n",
      "Grid configuration same as last episode\n",
      "Grid configuration same as last episode\n",
      "Grid configuration same as last episode\n",
      "Grid configuration same as last episode\n"
     ]
    },
    {
     "name": "stdout",
     "output_type": "stream",
     "text": [
      "Update 403: Reward P1: -156, Reward P2: -156\n",
      "Update 404: Reward P1: -136, Reward P2: -136\n"
     ]
    },
    {
     "name": "stderr",
     "output_type": "stream",
     "text": [
      "Grid configuration same as last episode\n",
      "Grid configuration same as last episode\n",
      "Grid configuration same as last episode\n",
      "Grid configuration same as last episode\n",
      "Grid configuration same as last episode\n",
      "Grid configuration same as last episode\n"
     ]
    },
    {
     "name": "stdout",
     "output_type": "stream",
     "text": [
      "Update 405: Reward P1: -126, Reward P2: -126\n",
      "Update 406: Reward P1: -126, Reward P2: -126\n"
     ]
    },
    {
     "name": "stderr",
     "output_type": "stream",
     "text": [
      "Grid configuration same as last episode\n",
      "Grid configuration same as last episode\n",
      "Grid configuration same as last episode\n",
      "Grid configuration same as last episode\n",
      "Grid configuration same as last episode\n",
      "Grid configuration same as last episode\n"
     ]
    },
    {
     "name": "stdout",
     "output_type": "stream",
     "text": [
      "Update 407: Reward P1: -96, Reward P2: -96\n",
      "Update 408: Reward P1: -76, Reward P2: -76\n"
     ]
    },
    {
     "name": "stderr",
     "output_type": "stream",
     "text": [
      "Grid configuration same as last episode\n",
      "Grid configuration same as last episode\n",
      "Grid configuration same as last episode\n",
      "Grid configuration same as last episode\n",
      "Grid configuration same as last episode\n",
      "Grid configuration same as last episode\n"
     ]
    },
    {
     "name": "stdout",
     "output_type": "stream",
     "text": [
      "Update 409: Reward P1: -46, Reward P2: -46\n",
      "Update 410: Reward P1: -146, Reward P2: -146\n"
     ]
    },
    {
     "name": "stderr",
     "output_type": "stream",
     "text": [
      "Grid configuration same as last episode\n",
      "Grid configuration same as last episode\n",
      "Grid configuration same as last episode\n",
      "Grid configuration same as last episode\n",
      "Grid configuration same as last episode\n",
      "Grid configuration same as last episode\n"
     ]
    },
    {
     "name": "stdout",
     "output_type": "stream",
     "text": [
      "Update 411: Reward P1: -126, Reward P2: -126\n",
      "Update 412: Reward P1: -116, Reward P2: -116\n"
     ]
    },
    {
     "name": "stderr",
     "output_type": "stream",
     "text": [
      "Grid configuration same as last episode\n",
      "Grid configuration same as last episode\n",
      "Grid configuration same as last episode\n",
      "Grid configuration same as last episode\n",
      "Grid configuration same as last episode\n",
      "Grid configuration same as last episode\n"
     ]
    },
    {
     "name": "stdout",
     "output_type": "stream",
     "text": [
      "Update 413: Reward P1: -116, Reward P2: -116\n",
      "Update 414: Reward P1: -96, Reward P2: -96\n"
     ]
    },
    {
     "name": "stderr",
     "output_type": "stream",
     "text": [
      "Grid configuration same as last episode\n",
      "Grid configuration same as last episode\n",
      "Grid configuration same as last episode\n",
      "Grid configuration same as last episode\n",
      "Grid configuration same as last episode\n",
      "Grid configuration same as last episode\n"
     ]
    },
    {
     "name": "stdout",
     "output_type": "stream",
     "text": [
      "Update 415: Reward P1: -96, Reward P2: -96\n",
      "Update 416: Reward P1: -156, Reward P2: -156\n"
     ]
    },
    {
     "name": "stderr",
     "output_type": "stream",
     "text": [
      "Grid configuration same as last episode\n",
      "Grid configuration same as last episode\n",
      "Grid configuration same as last episode\n",
      "Grid configuration same as last episode\n",
      "Grid configuration same as last episode\n",
      "Grid configuration same as last episode\n"
     ]
    },
    {
     "name": "stdout",
     "output_type": "stream",
     "text": [
      "Update 417: Reward P1: -126, Reward P2: -126\n",
      "Update 418: Reward P1: -76, Reward P2: -76\n"
     ]
    },
    {
     "name": "stderr",
     "output_type": "stream",
     "text": [
      "Grid configuration same as last episode\n",
      "Grid configuration same as last episode\n",
      "Grid configuration same as last episode\n",
      "Grid configuration same as last episode\n",
      "Grid configuration same as last episode\n",
      "Grid configuration same as last episode\n"
     ]
    },
    {
     "name": "stdout",
     "output_type": "stream",
     "text": [
      "Update 419: Reward P1: -106, Reward P2: -106\n",
      "Update 420: Reward P1: -166, Reward P2: -166\n"
     ]
    },
    {
     "name": "stderr",
     "output_type": "stream",
     "text": [
      "Grid configuration same as last episode\n",
      "Grid configuration same as last episode\n",
      "Grid configuration same as last episode\n",
      "Grid configuration same as last episode\n",
      "Grid configuration same as last episode\n",
      "Grid configuration same as last episode\n"
     ]
    },
    {
     "name": "stdout",
     "output_type": "stream",
     "text": [
      "Update 421: Reward P1: -106, Reward P2: -106\n",
      "Update 422: Reward P1: -146, Reward P2: -146\n"
     ]
    },
    {
     "name": "stderr",
     "output_type": "stream",
     "text": [
      "Grid configuration same as last episode\n",
      "Grid configuration same as last episode\n",
      "Grid configuration same as last episode\n",
      "Grid configuration same as last episode\n",
      "Grid configuration same as last episode\n",
      "Grid configuration same as last episode\n"
     ]
    },
    {
     "name": "stdout",
     "output_type": "stream",
     "text": [
      "Update 423: Reward P1: -36, Reward P2: -36\n",
      "Update 424: Reward P1: -176, Reward P2: -176\n"
     ]
    },
    {
     "name": "stderr",
     "output_type": "stream",
     "text": [
      "Grid configuration same as last episode\n",
      "Grid configuration same as last episode\n",
      "Grid configuration same as last episode\n",
      "Grid configuration same as last episode\n",
      "Grid configuration same as last episode\n",
      "Grid configuration same as last episode\n"
     ]
    },
    {
     "name": "stdout",
     "output_type": "stream",
     "text": [
      "Update 425: Reward P1: -136, Reward P2: -136\n",
      "Update 426: Reward P1: -86, Reward P2: -86\n"
     ]
    },
    {
     "name": "stderr",
     "output_type": "stream",
     "text": [
      "Grid configuration same as last episode\n",
      "Grid configuration same as last episode\n",
      "Grid configuration same as last episode\n",
      "Grid configuration same as last episode\n",
      "Grid configuration same as last episode\n",
      "Grid configuration same as last episode\n"
     ]
    },
    {
     "name": "stdout",
     "output_type": "stream",
     "text": [
      "Update 427: Reward P1: -126, Reward P2: -126\n",
      "Update 428: Reward P1: -166, Reward P2: -166\n"
     ]
    },
    {
     "name": "stderr",
     "output_type": "stream",
     "text": [
      "Grid configuration same as last episode\n",
      "Grid configuration same as last episode\n",
      "Grid configuration same as last episode\n",
      "Grid configuration same as last episode\n",
      "Grid configuration same as last episode\n",
      "Grid configuration same as last episode\n"
     ]
    },
    {
     "name": "stdout",
     "output_type": "stream",
     "text": [
      "Update 429: Reward P1: -136, Reward P2: -136\n",
      "Update 430: Reward P1: -146, Reward P2: -146\n"
     ]
    },
    {
     "name": "stderr",
     "output_type": "stream",
     "text": [
      "Grid configuration same as last episode\n",
      "Grid configuration same as last episode\n",
      "Grid configuration same as last episode\n",
      "Grid configuration same as last episode\n",
      "Grid configuration same as last episode\n",
      "Grid configuration same as last episode\n"
     ]
    },
    {
     "name": "stdout",
     "output_type": "stream",
     "text": [
      "Update 431: Reward P1: -116, Reward P2: -116\n",
      "Update 432: Reward P1: -86, Reward P2: -86\n"
     ]
    },
    {
     "name": "stderr",
     "output_type": "stream",
     "text": [
      "Grid configuration same as last episode\n",
      "Grid configuration same as last episode\n",
      "Grid configuration same as last episode\n",
      "Grid configuration same as last episode\n",
      "Grid configuration same as last episode\n",
      "Grid configuration same as last episode\n"
     ]
    },
    {
     "name": "stdout",
     "output_type": "stream",
     "text": [
      "Update 433: Reward P1: -106, Reward P2: -106\n",
      "Update 434: Reward P1: -106, Reward P2: -106\n"
     ]
    },
    {
     "name": "stderr",
     "output_type": "stream",
     "text": [
      "Grid configuration same as last episode\n",
      "Grid configuration same as last episode\n",
      "Grid configuration same as last episode\n",
      "Grid configuration same as last episode\n",
      "Grid configuration same as last episode\n",
      "Grid configuration same as last episode\n"
     ]
    },
    {
     "name": "stdout",
     "output_type": "stream",
     "text": [
      "Update 435: Reward P1: -96, Reward P2: -96\n",
      "Update 436: Reward P1: -126, Reward P2: -126\n"
     ]
    },
    {
     "name": "stderr",
     "output_type": "stream",
     "text": [
      "Grid configuration same as last episode\n",
      "Grid configuration same as last episode\n",
      "Grid configuration same as last episode\n",
      "Grid configuration same as last episode\n",
      "Grid configuration same as last episode\n",
      "Grid configuration same as last episode\n"
     ]
    },
    {
     "name": "stdout",
     "output_type": "stream",
     "text": [
      "Update 437: Reward P1: -86, Reward P2: -86\n",
      "Update 438: Reward P1: -156, Reward P2: -156\n"
     ]
    },
    {
     "name": "stderr",
     "output_type": "stream",
     "text": [
      "Grid configuration same as last episode\n",
      "Grid configuration same as last episode\n",
      "Grid configuration same as last episode\n",
      "Grid configuration same as last episode\n",
      "Grid configuration same as last episode\n",
      "Grid configuration same as last episode\n"
     ]
    },
    {
     "name": "stdout",
     "output_type": "stream",
     "text": [
      "Update 439: Reward P1: -116, Reward P2: -116\n",
      "Update 440: Reward P1: -156, Reward P2: -156\n"
     ]
    },
    {
     "name": "stderr",
     "output_type": "stream",
     "text": [
      "Grid configuration same as last episode\n",
      "Grid configuration same as last episode\n",
      "Grid configuration same as last episode\n",
      "Grid configuration same as last episode\n",
      "Grid configuration same as last episode\n",
      "Grid configuration same as last episode\n"
     ]
    },
    {
     "name": "stdout",
     "output_type": "stream",
     "text": [
      "Update 441: Reward P1: -96, Reward P2: -96\n",
      "Update 442: Reward P1: -116, Reward P2: -116\n"
     ]
    },
    {
     "name": "stderr",
     "output_type": "stream",
     "text": [
      "Grid configuration same as last episode\n",
      "Grid configuration same as last episode\n",
      "Grid configuration same as last episode\n",
      "Grid configuration same as last episode\n",
      "Grid configuration same as last episode\n",
      "Grid configuration same as last episode\n"
     ]
    },
    {
     "name": "stdout",
     "output_type": "stream",
     "text": [
      "Update 443: Reward P1: -136, Reward P2: -136\n",
      "Update 444: Reward P1: -136, Reward P2: -136\n"
     ]
    },
    {
     "name": "stderr",
     "output_type": "stream",
     "text": [
      "Grid configuration same as last episode\n",
      "Grid configuration same as last episode\n",
      "Grid configuration same as last episode\n",
      "Grid configuration same as last episode\n",
      "Grid configuration same as last episode\n",
      "Grid configuration same as last episode\n"
     ]
    },
    {
     "name": "stdout",
     "output_type": "stream",
     "text": [
      "Update 445: Reward P1: -156, Reward P2: -156\n",
      "Update 446: Reward P1: -76, Reward P2: -76\n"
     ]
    },
    {
     "name": "stderr",
     "output_type": "stream",
     "text": [
      "Grid configuration same as last episode\n",
      "Grid configuration same as last episode\n",
      "Grid configuration same as last episode\n",
      "Grid configuration same as last episode\n",
      "Grid configuration same as last episode\n",
      "Grid configuration same as last episode\n"
     ]
    },
    {
     "name": "stdout",
     "output_type": "stream",
     "text": [
      "Update 447: Reward P1: -136, Reward P2: -136\n",
      "Update 448: Reward P1: -136, Reward P2: -136\n"
     ]
    },
    {
     "name": "stderr",
     "output_type": "stream",
     "text": [
      "Grid configuration same as last episode\n",
      "Grid configuration same as last episode\n",
      "Grid configuration same as last episode\n",
      "Grid configuration same as last episode\n",
      "Grid configuration same as last episode\n",
      "Grid configuration same as last episode\n"
     ]
    },
    {
     "name": "stdout",
     "output_type": "stream",
     "text": [
      "Update 449: Reward P1: -76, Reward P2: -76\n",
      "Update 450: Reward P1: -116, Reward P2: -116\n"
     ]
    },
    {
     "name": "stderr",
     "output_type": "stream",
     "text": [
      "Grid configuration same as last episode\n",
      "Grid configuration same as last episode\n",
      "Grid configuration same as last episode\n",
      "Grid configuration same as last episode\n",
      "Grid configuration same as last episode\n",
      "Grid configuration same as last episode\n"
     ]
    },
    {
     "name": "stdout",
     "output_type": "stream",
     "text": [
      "Update 451: Reward P1: -126, Reward P2: -126\n",
      "Update 452: Reward P1: -76, Reward P2: -76\n"
     ]
    },
    {
     "name": "stderr",
     "output_type": "stream",
     "text": [
      "Grid configuration same as last episode\n",
      "Grid configuration same as last episode\n",
      "Grid configuration same as last episode\n",
      "Grid configuration same as last episode\n",
      "Grid configuration same as last episode\n",
      "Grid configuration same as last episode\n"
     ]
    },
    {
     "name": "stdout",
     "output_type": "stream",
     "text": [
      "Update 453: Reward P1: -66, Reward P2: -66\n",
      "Update 454: Reward P1: -136, Reward P2: -136\n"
     ]
    },
    {
     "name": "stderr",
     "output_type": "stream",
     "text": [
      "Grid configuration same as last episode\n",
      "Grid configuration same as last episode\n",
      "Grid configuration same as last episode\n",
      "Grid configuration same as last episode\n"
     ]
    },
    {
     "name": "stdout",
     "output_type": "stream",
     "text": [
      "Update 455: Reward P1: -86, Reward P2: -86\n"
     ]
    },
    {
     "name": "stderr",
     "output_type": "stream",
     "text": [
      "Grid configuration same as last episode\n",
      "Grid configuration same as last episode\n",
      "Grid configuration same as last episode\n",
      "Grid configuration same as last episode\n",
      "Grid configuration same as last episode\n"
     ]
    },
    {
     "name": "stdout",
     "output_type": "stream",
     "text": [
      "Update 456: Reward P1: -126, Reward P2: -126\n",
      "Update 457: Reward P1: -126, Reward P2: -126\n"
     ]
    },
    {
     "name": "stderr",
     "output_type": "stream",
     "text": [
      "Grid configuration same as last episode\n",
      "Grid configuration same as last episode\n",
      "Grid configuration same as last episode\n",
      "Grid configuration same as last episode\n",
      "Grid configuration same as last episode\n",
      "Grid configuration same as last episode\n"
     ]
    },
    {
     "name": "stdout",
     "output_type": "stream",
     "text": [
      "Update 458: Reward P1: -116, Reward P2: -116\n",
      "Update 459: Reward P1: -146, Reward P2: -146\n"
     ]
    },
    {
     "name": "stderr",
     "output_type": "stream",
     "text": [
      "Grid configuration same as last episode\n",
      "Grid configuration same as last episode\n",
      "Grid configuration same as last episode\n",
      "Grid configuration same as last episode\n",
      "Grid configuration same as last episode\n",
      "Grid configuration same as last episode\n"
     ]
    },
    {
     "name": "stdout",
     "output_type": "stream",
     "text": [
      "Update 460: Reward P1: -136, Reward P2: -136\n",
      "Update 461: Reward P1: -116, Reward P2: -116\n"
     ]
    },
    {
     "name": "stderr",
     "output_type": "stream",
     "text": [
      "Grid configuration same as last episode\n",
      "Grid configuration same as last episode\n",
      "Grid configuration same as last episode\n",
      "Grid configuration same as last episode\n",
      "Grid configuration same as last episode\n",
      "Grid configuration same as last episode\n"
     ]
    },
    {
     "name": "stdout",
     "output_type": "stream",
     "text": [
      "Update 462: Reward P1: -106, Reward P2: -106\n",
      "Update 463: Reward P1: -116, Reward P2: -116\n"
     ]
    },
    {
     "name": "stderr",
     "output_type": "stream",
     "text": [
      "Grid configuration same as last episode\n",
      "Grid configuration same as last episode\n",
      "Grid configuration same as last episode\n",
      "Grid configuration same as last episode\n",
      "Grid configuration same as last episode\n",
      "Grid configuration same as last episode\n"
     ]
    },
    {
     "name": "stdout",
     "output_type": "stream",
     "text": [
      "Update 464: Reward P1: -116, Reward P2: -116\n",
      "Update 465: Reward P1: -136, Reward P2: -136\n"
     ]
    },
    {
     "name": "stderr",
     "output_type": "stream",
     "text": [
      "Grid configuration same as last episode\n",
      "Grid configuration same as last episode\n",
      "Grid configuration same as last episode\n",
      "Grid configuration same as last episode\n",
      "Grid configuration same as last episode\n",
      "Grid configuration same as last episode\n"
     ]
    },
    {
     "name": "stdout",
     "output_type": "stream",
     "text": [
      "Update 466: Reward P1: -116, Reward P2: -116\n",
      "Update 467: Reward P1: -96, Reward P2: -96\n"
     ]
    },
    {
     "name": "stderr",
     "output_type": "stream",
     "text": [
      "Grid configuration same as last episode\n",
      "Grid configuration same as last episode\n",
      "Grid configuration same as last episode\n",
      "Grid configuration same as last episode\n",
      "Grid configuration same as last episode\n",
      "Grid configuration same as last episode\n"
     ]
    },
    {
     "name": "stdout",
     "output_type": "stream",
     "text": [
      "Update 468: Reward P1: -106, Reward P2: -106\n",
      "Update 469: Reward P1: -126, Reward P2: -126\n"
     ]
    },
    {
     "name": "stderr",
     "output_type": "stream",
     "text": [
      "Grid configuration same as last episode\n",
      "Grid configuration same as last episode\n",
      "Grid configuration same as last episode\n",
      "Grid configuration same as last episode\n",
      "Grid configuration same as last episode\n",
      "Grid configuration same as last episode\n"
     ]
    },
    {
     "name": "stdout",
     "output_type": "stream",
     "text": [
      "Update 470: Reward P1: -146, Reward P2: -146\n",
      "Update 471: Reward P1: -166, Reward P2: -166\n"
     ]
    },
    {
     "name": "stderr",
     "output_type": "stream",
     "text": [
      "Grid configuration same as last episode\n",
      "Grid configuration same as last episode\n",
      "Grid configuration same as last episode\n",
      "Grid configuration same as last episode\n",
      "Grid configuration same as last episode\n",
      "Grid configuration same as last episode\n"
     ]
    },
    {
     "name": "stdout",
     "output_type": "stream",
     "text": [
      "Update 472: Reward P1: -146, Reward P2: -146\n",
      "Update 473: Reward P1: -166, Reward P2: -166\n"
     ]
    },
    {
     "name": "stderr",
     "output_type": "stream",
     "text": [
      "Grid configuration same as last episode\n",
      "Grid configuration same as last episode\n",
      "Grid configuration same as last episode\n",
      "Grid configuration same as last episode\n",
      "Grid configuration same as last episode\n",
      "Grid configuration same as last episode\n"
     ]
    },
    {
     "name": "stdout",
     "output_type": "stream",
     "text": [
      "Update 474: Reward P1: -76, Reward P2: -76\n",
      "Update 475: Reward P1: -146, Reward P2: -146\n"
     ]
    },
    {
     "name": "stderr",
     "output_type": "stream",
     "text": [
      "Grid configuration same as last episode\n",
      "Grid configuration same as last episode\n",
      "Grid configuration same as last episode\n",
      "Grid configuration same as last episode\n",
      "Grid configuration same as last episode\n",
      "Grid configuration same as last episode\n"
     ]
    },
    {
     "name": "stdout",
     "output_type": "stream",
     "text": [
      "Update 476: Reward P1: -76, Reward P2: -76\n",
      "Update 477: Reward P1: -116, Reward P2: -116\n"
     ]
    },
    {
     "name": "stderr",
     "output_type": "stream",
     "text": [
      "Grid configuration same as last episode\n",
      "Grid configuration same as last episode\n",
      "Grid configuration same as last episode\n",
      "Grid configuration same as last episode\n",
      "Grid configuration same as last episode\n",
      "Grid configuration same as last episode\n"
     ]
    },
    {
     "name": "stdout",
     "output_type": "stream",
     "text": [
      "Update 478: Reward P1: -136, Reward P2: -136\n",
      "Update 479: Reward P1: -106, Reward P2: -106\n"
     ]
    },
    {
     "name": "stderr",
     "output_type": "stream",
     "text": [
      "Grid configuration same as last episode\n",
      "Grid configuration same as last episode\n",
      "Grid configuration same as last episode\n",
      "Grid configuration same as last episode\n",
      "Grid configuration same as last episode\n",
      "Grid configuration same as last episode\n"
     ]
    },
    {
     "name": "stdout",
     "output_type": "stream",
     "text": [
      "Update 480: Reward P1: -126, Reward P2: -126\n",
      "Update 481: Reward P1: -126, Reward P2: -126\n"
     ]
    },
    {
     "name": "stderr",
     "output_type": "stream",
     "text": [
      "Grid configuration same as last episode\n",
      "Grid configuration same as last episode\n",
      "Grid configuration same as last episode\n",
      "Grid configuration same as last episode\n",
      "Grid configuration same as last episode\n",
      "Grid configuration same as last episode\n"
     ]
    },
    {
     "name": "stdout",
     "output_type": "stream",
     "text": [
      "Update 482: Reward P1: -136, Reward P2: -136\n",
      "Update 483: Reward P1: -106, Reward P2: -106\n"
     ]
    },
    {
     "name": "stderr",
     "output_type": "stream",
     "text": [
      "Grid configuration same as last episode\n",
      "Grid configuration same as last episode\n",
      "Grid configuration same as last episode\n",
      "Grid configuration same as last episode\n",
      "Grid configuration same as last episode\n",
      "Grid configuration same as last episode\n"
     ]
    },
    {
     "name": "stdout",
     "output_type": "stream",
     "text": [
      "Update 484: Reward P1: -126, Reward P2: -126\n",
      "Update 485: Reward P1: -76, Reward P2: -76\n"
     ]
    },
    {
     "name": "stderr",
     "output_type": "stream",
     "text": [
      "Grid configuration same as last episode\n",
      "Grid configuration same as last episode\n",
      "Grid configuration same as last episode\n",
      "Grid configuration same as last episode\n",
      "Grid configuration same as last episode\n",
      "Grid configuration same as last episode\n"
     ]
    },
    {
     "name": "stdout",
     "output_type": "stream",
     "text": [
      "Update 486: Reward P1: -116, Reward P2: -116\n",
      "Update 487: Reward P1: -156, Reward P2: -156\n"
     ]
    },
    {
     "name": "stderr",
     "output_type": "stream",
     "text": [
      "Grid configuration same as last episode\n",
      "Grid configuration same as last episode\n",
      "Grid configuration same as last episode\n",
      "Grid configuration same as last episode\n",
      "Grid configuration same as last episode\n",
      "Grid configuration same as last episode\n"
     ]
    },
    {
     "name": "stdout",
     "output_type": "stream",
     "text": [
      "Update 488: Reward P1: -126, Reward P2: -126\n",
      "Update 489: Reward P1: -136, Reward P2: -136\n"
     ]
    },
    {
     "name": "stderr",
     "output_type": "stream",
     "text": [
      "Grid configuration same as last episode\n",
      "Grid configuration same as last episode\n",
      "Grid configuration same as last episode\n",
      "Grid configuration same as last episode\n",
      "Grid configuration same as last episode\n",
      "Grid configuration same as last episode\n"
     ]
    },
    {
     "name": "stdout",
     "output_type": "stream",
     "text": [
      "Update 490: Reward P1: -136, Reward P2: -136\n",
      "Update 491: Reward P1: -176, Reward P2: -176\n"
     ]
    },
    {
     "name": "stderr",
     "output_type": "stream",
     "text": [
      "Grid configuration same as last episode\n",
      "Grid configuration same as last episode\n",
      "Grid configuration same as last episode\n",
      "Grid configuration same as last episode\n",
      "Grid configuration same as last episode\n",
      "Grid configuration same as last episode\n"
     ]
    },
    {
     "name": "stdout",
     "output_type": "stream",
     "text": [
      "Update 492: Reward P1: -146, Reward P2: -146\n",
      "Update 493: Reward P1: -156, Reward P2: -156\n"
     ]
    },
    {
     "name": "stderr",
     "output_type": "stream",
     "text": [
      "Grid configuration same as last episode\n",
      "Grid configuration same as last episode\n",
      "Grid configuration same as last episode\n",
      "Grid configuration same as last episode\n",
      "Grid configuration same as last episode\n",
      "Grid configuration same as last episode\n"
     ]
    },
    {
     "name": "stdout",
     "output_type": "stream",
     "text": [
      "Update 494: Reward P1: -106, Reward P2: -106\n",
      "Update 495: Reward P1: -136, Reward P2: -136\n"
     ]
    },
    {
     "name": "stderr",
     "output_type": "stream",
     "text": [
      "Grid configuration same as last episode\n",
      "Grid configuration same as last episode\n",
      "Grid configuration same as last episode\n",
      "Grid configuration same as last episode\n",
      "Grid configuration same as last episode\n",
      "Grid configuration same as last episode\n"
     ]
    },
    {
     "name": "stdout",
     "output_type": "stream",
     "text": [
      "Update 496: Reward P1: -106, Reward P2: -106\n",
      "Update 497: Reward P1: -66, Reward P2: -66\n"
     ]
    },
    {
     "name": "stderr",
     "output_type": "stream",
     "text": [
      "Grid configuration same as last episode\n",
      "Grid configuration same as last episode\n",
      "Grid configuration same as last episode\n",
      "Grid configuration same as last episode\n",
      "Grid configuration same as last episode\n",
      "Grid configuration same as last episode\n",
      "Grid configuration same as last episode\n"
     ]
    },
    {
     "name": "stdout",
     "output_type": "stream",
     "text": [
      "Update 498: Reward P1: -116, Reward P2: -116\n",
      "Update 499: Reward P1: -156, Reward P2: -156\n"
     ]
    },
    {
     "name": "stderr",
     "output_type": "stream",
     "text": [
      "Grid configuration same as last episode\n",
      "Grid configuration same as last episode\n",
      "Grid configuration same as last episode\n",
      "Grid configuration same as last episode\n",
      "Grid configuration same as last episode\n"
     ]
    },
    {
     "name": "stdout",
     "output_type": "stream",
     "text": [
      "Update 500: Reward P1: -146, Reward P2: -146\n",
      "Update 501: Reward P1: -136, Reward P2: -136\n"
     ]
    },
    {
     "name": "stderr",
     "output_type": "stream",
     "text": [
      "Grid configuration same as last episode\n",
      "Grid configuration same as last episode\n",
      "Grid configuration same as last episode\n",
      "Grid configuration same as last episode\n",
      "Grid configuration same as last episode\n",
      "Grid configuration same as last episode\n",
      "Grid configuration same as last episode\n"
     ]
    },
    {
     "name": "stdout",
     "output_type": "stream",
     "text": [
      "Update 502: Reward P1: -126, Reward P2: -126\n",
      "Update 503: Reward P1: -106, Reward P2: -106\n"
     ]
    },
    {
     "name": "stderr",
     "output_type": "stream",
     "text": [
      "Grid configuration same as last episode\n",
      "Grid configuration same as last episode\n",
      "Grid configuration same as last episode\n",
      "Grid configuration same as last episode\n",
      "Grid configuration same as last episode\n",
      "Grid configuration same as last episode\n"
     ]
    },
    {
     "name": "stdout",
     "output_type": "stream",
     "text": [
      "Update 504: Reward P1: -176, Reward P2: -176\n",
      "Update 505: Reward P1: -106, Reward P2: -106\n"
     ]
    },
    {
     "name": "stderr",
     "output_type": "stream",
     "text": [
      "Grid configuration same as last episode\n",
      "Grid configuration same as last episode\n",
      "Grid configuration same as last episode\n",
      "Grid configuration same as last episode\n",
      "Grid configuration same as last episode\n"
     ]
    },
    {
     "name": "stdout",
     "output_type": "stream",
     "text": [
      "Update 506: Reward P1: -176, Reward P2: -176\n",
      "Update 507: Reward P1: -136, Reward P2: -136\n"
     ]
    },
    {
     "name": "stderr",
     "output_type": "stream",
     "text": [
      "Grid configuration same as last episode\n",
      "Grid configuration same as last episode\n",
      "Grid configuration same as last episode\n",
      "Grid configuration same as last episode\n",
      "Grid configuration same as last episode\n",
      "Grid configuration same as last episode\n"
     ]
    },
    {
     "name": "stdout",
     "output_type": "stream",
     "text": [
      "Update 508: Reward P1: -186, Reward P2: -186\n",
      "Update 509: Reward P1: -126, Reward P2: -126\n"
     ]
    },
    {
     "name": "stderr",
     "output_type": "stream",
     "text": [
      "Grid configuration same as last episode\n",
      "Grid configuration same as last episode\n",
      "Grid configuration same as last episode\n",
      "Grid configuration same as last episode\n",
      "Grid configuration same as last episode\n",
      "Grid configuration same as last episode\n",
      "Grid configuration same as last episode\n"
     ]
    },
    {
     "name": "stdout",
     "output_type": "stream",
     "text": [
      "Update 510: Reward P1: -126, Reward P2: -126\n",
      "Update 511: Reward P1: -126, Reward P2: -126\n"
     ]
    },
    {
     "name": "stderr",
     "output_type": "stream",
     "text": [
      "Grid configuration same as last episode\n",
      "Grid configuration same as last episode\n",
      "Grid configuration same as last episode\n",
      "Grid configuration same as last episode\n",
      "Grid configuration same as last episode\n",
      "Grid configuration same as last episode\n"
     ]
    },
    {
     "name": "stdout",
     "output_type": "stream",
     "text": [
      "Update 512: Reward P1: -116, Reward P2: -116\n",
      "Update 513: Reward P1: -106, Reward P2: -106\n"
     ]
    },
    {
     "name": "stderr",
     "output_type": "stream",
     "text": [
      "Grid configuration same as last episode\n",
      "Grid configuration same as last episode\n",
      "Grid configuration same as last episode\n",
      "Grid configuration same as last episode\n",
      "Grid configuration same as last episode\n"
     ]
    },
    {
     "name": "stdout",
     "output_type": "stream",
     "text": [
      "Update 514: Reward P1: -146, Reward P2: -146\n",
      "Update 515: Reward P1: -146, Reward P2: -146\n"
     ]
    },
    {
     "name": "stderr",
     "output_type": "stream",
     "text": [
      "Grid configuration same as last episode\n",
      "Grid configuration same as last episode\n",
      "Grid configuration same as last episode\n",
      "Grid configuration same as last episode\n",
      "Grid configuration same as last episode\n",
      "Grid configuration same as last episode\n",
      "Grid configuration same as last episode\n"
     ]
    },
    {
     "name": "stdout",
     "output_type": "stream",
     "text": [
      "Update 516: Reward P1: -136, Reward P2: -136\n",
      "Update 517: Reward P1: -166, Reward P2: -166\n"
     ]
    },
    {
     "name": "stderr",
     "output_type": "stream",
     "text": [
      "Grid configuration same as last episode\n",
      "Grid configuration same as last episode\n",
      "Grid configuration same as last episode\n",
      "Grid configuration same as last episode\n",
      "Grid configuration same as last episode\n",
      "Grid configuration same as last episode\n"
     ]
    },
    {
     "name": "stdout",
     "output_type": "stream",
     "text": [
      "Update 518: Reward P1: -156, Reward P2: -156\n",
      "Update 519: Reward P1: -96, Reward P2: -96\n"
     ]
    },
    {
     "name": "stderr",
     "output_type": "stream",
     "text": [
      "Grid configuration same as last episode\n",
      "Grid configuration same as last episode\n",
      "Grid configuration same as last episode\n",
      "Grid configuration same as last episode\n",
      "Grid configuration same as last episode\n",
      "Grid configuration same as last episode\n"
     ]
    },
    {
     "name": "stdout",
     "output_type": "stream",
     "text": [
      "Update 520: Reward P1: -116, Reward P2: -116\n",
      "Update 521: Reward P1: -116, Reward P2: -116\n"
     ]
    },
    {
     "name": "stderr",
     "output_type": "stream",
     "text": [
      "Grid configuration same as last episode\n",
      "Grid configuration same as last episode\n",
      "Grid configuration same as last episode\n",
      "Grid configuration same as last episode\n",
      "Grid configuration same as last episode\n",
      "Grid configuration same as last episode\n"
     ]
    },
    {
     "name": "stdout",
     "output_type": "stream",
     "text": [
      "Update 522: Reward P1: -196, Reward P2: -196\n",
      "Update 523: Reward P1: -136, Reward P2: -136\n"
     ]
    },
    {
     "name": "stderr",
     "output_type": "stream",
     "text": [
      "Grid configuration same as last episode\n",
      "Grid configuration same as last episode\n",
      "Grid configuration same as last episode\n",
      "Grid configuration same as last episode\n",
      "Grid configuration same as last episode\n",
      "Grid configuration same as last episode\n"
     ]
    },
    {
     "name": "stdout",
     "output_type": "stream",
     "text": [
      "Update 524: Reward P1: -176, Reward P2: -176\n",
      "Update 525: Reward P1: -86, Reward P2: -86\n"
     ]
    },
    {
     "name": "stderr",
     "output_type": "stream",
     "text": [
      "Grid configuration same as last episode\n",
      "Grid configuration same as last episode\n",
      "Grid configuration same as last episode\n",
      "Grid configuration same as last episode\n",
      "Grid configuration same as last episode\n",
      "Grid configuration same as last episode\n"
     ]
    },
    {
     "name": "stdout",
     "output_type": "stream",
     "text": [
      "Update 526: Reward P1: -176, Reward P2: -176\n",
      "Update 527: Reward P1: -136, Reward P2: -136\n"
     ]
    },
    {
     "name": "stderr",
     "output_type": "stream",
     "text": [
      "Grid configuration same as last episode\n",
      "Grid configuration same as last episode\n",
      "Grid configuration same as last episode\n",
      "Grid configuration same as last episode\n",
      "Grid configuration same as last episode\n",
      "Grid configuration same as last episode\n"
     ]
    },
    {
     "name": "stdout",
     "output_type": "stream",
     "text": [
      "Update 528: Reward P1: -146, Reward P2: -146\n",
      "Update 529: Reward P1: -166, Reward P2: -166\n"
     ]
    },
    {
     "name": "stderr",
     "output_type": "stream",
     "text": [
      "Grid configuration same as last episode\n",
      "Grid configuration same as last episode\n",
      "Grid configuration same as last episode\n",
      "Grid configuration same as last episode\n",
      "Grid configuration same as last episode\n"
     ]
    },
    {
     "name": "stdout",
     "output_type": "stream",
     "text": [
      "Update 530: Reward P1: -116, Reward P2: -116\n",
      "Update 531: Reward P1: -106, Reward P2: -106\n"
     ]
    },
    {
     "name": "stderr",
     "output_type": "stream",
     "text": [
      "Grid configuration same as last episode\n",
      "Grid configuration same as last episode\n",
      "Grid configuration same as last episode\n",
      "Grid configuration same as last episode\n",
      "Grid configuration same as last episode\n",
      "Grid configuration same as last episode\n",
      "Grid configuration same as last episode\n"
     ]
    },
    {
     "name": "stdout",
     "output_type": "stream",
     "text": [
      "Update 532: Reward P1: -76, Reward P2: -76\n",
      "Update 533: Reward P1: -166, Reward P2: -166\n"
     ]
    },
    {
     "name": "stderr",
     "output_type": "stream",
     "text": [
      "Grid configuration same as last episode\n",
      "Grid configuration same as last episode\n",
      "Grid configuration same as last episode\n",
      "Grid configuration same as last episode\n",
      "Grid configuration same as last episode\n",
      "Grid configuration same as last episode\n"
     ]
    },
    {
     "name": "stdout",
     "output_type": "stream",
     "text": [
      "Update 534: Reward P1: -106, Reward P2: -106\n",
      "Update 535: Reward P1: -116, Reward P2: -116\n"
     ]
    },
    {
     "name": "stderr",
     "output_type": "stream",
     "text": [
      "Grid configuration same as last episode\n",
      "Grid configuration same as last episode\n",
      "Grid configuration same as last episode\n",
      "Grid configuration same as last episode\n",
      "Grid configuration same as last episode\n"
     ]
    },
    {
     "name": "stdout",
     "output_type": "stream",
     "text": [
      "Update 536: Reward P1: -146, Reward P2: -146\n",
      "Update 537: Reward P1: -116, Reward P2: -116\n"
     ]
    },
    {
     "name": "stderr",
     "output_type": "stream",
     "text": [
      "Grid configuration same as last episode\n",
      "Grid configuration same as last episode\n",
      "Grid configuration same as last episode\n",
      "Grid configuration same as last episode\n",
      "Grid configuration same as last episode\n",
      "Grid configuration same as last episode\n"
     ]
    },
    {
     "name": "stdout",
     "output_type": "stream",
     "text": [
      "Update 538: Reward P1: -106, Reward P2: -106\n",
      "Update 539: Reward P1: -136, Reward P2: -136\n"
     ]
    },
    {
     "name": "stderr",
     "output_type": "stream",
     "text": [
      "Grid configuration same as last episode\n",
      "Grid configuration same as last episode\n",
      "Grid configuration same as last episode\n",
      "Grid configuration same as last episode\n",
      "Grid configuration same as last episode\n",
      "Grid configuration same as last episode\n",
      "Grid configuration same as last episode\n"
     ]
    },
    {
     "name": "stdout",
     "output_type": "stream",
     "text": [
      "Update 540: Reward P1: -116, Reward P2: -116\n",
      "Update 541: Reward P1: -116, Reward P2: -116\n"
     ]
    },
    {
     "name": "stderr",
     "output_type": "stream",
     "text": [
      "Grid configuration same as last episode\n",
      "Grid configuration same as last episode\n",
      "Grid configuration same as last episode\n",
      "Grid configuration same as last episode\n",
      "Grid configuration same as last episode\n",
      "Grid configuration same as last episode\n"
     ]
    },
    {
     "name": "stdout",
     "output_type": "stream",
     "text": [
      "Update 542: Reward P1: -106, Reward P2: -106\n",
      "Update 543: Reward P1: -126, Reward P2: -126\n"
     ]
    },
    {
     "name": "stderr",
     "output_type": "stream",
     "text": [
      "Grid configuration same as last episode\n",
      "Grid configuration same as last episode\n",
      "Grid configuration same as last episode\n",
      "Grid configuration same as last episode\n",
      "Grid configuration same as last episode\n",
      "Grid configuration same as last episode\n"
     ]
    },
    {
     "name": "stdout",
     "output_type": "stream",
     "text": [
      "Update 544: Reward P1: -106, Reward P2: -106\n",
      "Update 545: Reward P1: -106, Reward P2: -106\n"
     ]
    },
    {
     "name": "stderr",
     "output_type": "stream",
     "text": [
      "Grid configuration same as last episode\n",
      "Grid configuration same as last episode\n",
      "Grid configuration same as last episode\n",
      "Grid configuration same as last episode\n",
      "Grid configuration same as last episode\n",
      "Grid configuration same as last episode\n"
     ]
    },
    {
     "name": "stdout",
     "output_type": "stream",
     "text": [
      "Update 546: Reward P1: -156, Reward P2: -156\n",
      "Update 547: Reward P1: -176, Reward P2: -176\n"
     ]
    },
    {
     "name": "stderr",
     "output_type": "stream",
     "text": [
      "Grid configuration same as last episode\n",
      "Grid configuration same as last episode\n",
      "Grid configuration same as last episode\n",
      "Grid configuration same as last episode\n",
      "Grid configuration same as last episode\n",
      "Grid configuration same as last episode\n"
     ]
    },
    {
     "name": "stdout",
     "output_type": "stream",
     "text": [
      "Update 548: Reward P1: -76, Reward P2: -76\n",
      "Update 549: Reward P1: -126, Reward P2: -126\n"
     ]
    },
    {
     "name": "stderr",
     "output_type": "stream",
     "text": [
      "Grid configuration same as last episode\n",
      "Grid configuration same as last episode\n",
      "Grid configuration same as last episode\n",
      "Grid configuration same as last episode\n",
      "Grid configuration same as last episode\n",
      "Grid configuration same as last episode\n"
     ]
    },
    {
     "name": "stdout",
     "output_type": "stream",
     "text": [
      "Update 550: Reward P1: -96, Reward P2: -96\n",
      "Update 551: Reward P1: -146, Reward P2: -146\n"
     ]
    },
    {
     "name": "stderr",
     "output_type": "stream",
     "text": [
      "Grid configuration same as last episode\n",
      "Grid configuration same as last episode\n",
      "Grid configuration same as last episode\n",
      "Grid configuration same as last episode\n",
      "Grid configuration same as last episode\n",
      "Grid configuration same as last episode\n"
     ]
    },
    {
     "name": "stdout",
     "output_type": "stream",
     "text": [
      "Update 552: Reward P1: -146, Reward P2: -146\n",
      "Update 553: Reward P1: -126, Reward P2: -126\n"
     ]
    },
    {
     "name": "stderr",
     "output_type": "stream",
     "text": [
      "Grid configuration same as last episode\n",
      "Grid configuration same as last episode\n",
      "Grid configuration same as last episode\n",
      "Grid configuration same as last episode\n",
      "Grid configuration same as last episode\n",
      "Grid configuration same as last episode\n"
     ]
    },
    {
     "name": "stdout",
     "output_type": "stream",
     "text": [
      "Update 554: Reward P1: -106, Reward P2: -106\n",
      "Update 555: Reward P1: -146, Reward P2: -146\n"
     ]
    },
    {
     "name": "stderr",
     "output_type": "stream",
     "text": [
      "Grid configuration same as last episode\n",
      "Grid configuration same as last episode\n",
      "Grid configuration same as last episode\n",
      "Grid configuration same as last episode\n",
      "Grid configuration same as last episode\n",
      "Grid configuration same as last episode\n"
     ]
    },
    {
     "name": "stdout",
     "output_type": "stream",
     "text": [
      "Update 556: Reward P1: -96, Reward P2: -96\n",
      "Update 557: Reward P1: -116, Reward P2: -116\n"
     ]
    },
    {
     "name": "stderr",
     "output_type": "stream",
     "text": [
      "Grid configuration same as last episode\n",
      "Grid configuration same as last episode\n",
      "Grid configuration same as last episode\n",
      "Grid configuration same as last episode\n",
      "Grid configuration same as last episode\n",
      "Grid configuration same as last episode\n"
     ]
    },
    {
     "name": "stdout",
     "output_type": "stream",
     "text": [
      "Update 558: Reward P1: -106, Reward P2: -106\n",
      "Update 559: Reward P1: -66, Reward P2: -66\n"
     ]
    },
    {
     "name": "stderr",
     "output_type": "stream",
     "text": [
      "Grid configuration same as last episode\n",
      "Grid configuration same as last episode\n",
      "Grid configuration same as last episode\n",
      "Grid configuration same as last episode\n",
      "Grid configuration same as last episode\n",
      "Grid configuration same as last episode\n"
     ]
    },
    {
     "name": "stdout",
     "output_type": "stream",
     "text": [
      "Update 560: Reward P1: -136, Reward P2: -136\n",
      "Update 561: Reward P1: -66, Reward P2: -66\n"
     ]
    },
    {
     "name": "stderr",
     "output_type": "stream",
     "text": [
      "Grid configuration same as last episode\n",
      "Grid configuration same as last episode\n",
      "Grid configuration same as last episode\n",
      "Grid configuration same as last episode\n",
      "Grid configuration same as last episode\n"
     ]
    },
    {
     "name": "stdout",
     "output_type": "stream",
     "text": [
      "Update 562: Reward P1: -126, Reward P2: -126\n",
      "Update 563: Reward P1: -146, Reward P2: -146\n"
     ]
    },
    {
     "name": "stderr",
     "output_type": "stream",
     "text": [
      "Grid configuration same as last episode\n",
      "Grid configuration same as last episode\n",
      "Grid configuration same as last episode\n",
      "Grid configuration same as last episode\n",
      "Grid configuration same as last episode\n",
      "Grid configuration same as last episode\n",
      "Grid configuration same as last episode\n"
     ]
    },
    {
     "name": "stdout",
     "output_type": "stream",
     "text": [
      "Update 564: Reward P1: -66, Reward P2: -66\n",
      "Update 565: Reward P1: -96, Reward P2: -96\n"
     ]
    },
    {
     "name": "stderr",
     "output_type": "stream",
     "text": [
      "Grid configuration same as last episode\n",
      "Grid configuration same as last episode\n",
      "Grid configuration same as last episode\n",
      "Grid configuration same as last episode\n",
      "Grid configuration same as last episode\n",
      "Grid configuration same as last episode\n"
     ]
    },
    {
     "name": "stdout",
     "output_type": "stream",
     "text": [
      "Update 566: Reward P1: -66, Reward P2: -66\n",
      "Update 567: Reward P1: -16, Reward P2: -16\n"
     ]
    },
    {
     "name": "stderr",
     "output_type": "stream",
     "text": [
      "Grid configuration same as last episode\n",
      "Grid configuration same as last episode\n",
      "Grid configuration same as last episode\n",
      "Grid configuration same as last episode\n",
      "Grid configuration same as last episode\n",
      "Grid configuration same as last episode\n"
     ]
    },
    {
     "name": "stdout",
     "output_type": "stream",
     "text": [
      "Update 568: Reward P1: -176, Reward P2: -176\n",
      "Update 569: Reward P1: -106, Reward P2: -106\n"
     ]
    },
    {
     "name": "stderr",
     "output_type": "stream",
     "text": [
      "Grid configuration same as last episode\n",
      "Grid configuration same as last episode\n",
      "Grid configuration same as last episode\n",
      "Grid configuration same as last episode\n",
      "Grid configuration same as last episode\n",
      "Grid configuration same as last episode\n"
     ]
    },
    {
     "name": "stdout",
     "output_type": "stream",
     "text": [
      "Update 570: Reward P1: -56, Reward P2: -56\n",
      "Update 571: Reward P1: -96, Reward P2: -96\n"
     ]
    },
    {
     "name": "stderr",
     "output_type": "stream",
     "text": [
      "Grid configuration same as last episode\n",
      "Grid configuration same as last episode\n",
      "Grid configuration same as last episode\n",
      "Grid configuration same as last episode\n",
      "Grid configuration same as last episode\n",
      "Grid configuration same as last episode\n"
     ]
    },
    {
     "name": "stdout",
     "output_type": "stream",
     "text": [
      "Update 572: Reward P1: -96, Reward P2: -96\n",
      "Update 573: Reward P1: -146, Reward P2: -146\n"
     ]
    },
    {
     "name": "stderr",
     "output_type": "stream",
     "text": [
      "Grid configuration same as last episode\n",
      "Grid configuration same as last episode\n",
      "Grid configuration same as last episode\n",
      "Grid configuration same as last episode\n",
      "Grid configuration same as last episode\n",
      "Grid configuration same as last episode\n"
     ]
    },
    {
     "name": "stdout",
     "output_type": "stream",
     "text": [
      "Update 574: Reward P1: -166, Reward P2: -166\n",
      "Update 575: Reward P1: -126, Reward P2: -126\n"
     ]
    },
    {
     "name": "stderr",
     "output_type": "stream",
     "text": [
      "Grid configuration same as last episode\n",
      "Grid configuration same as last episode\n",
      "Grid configuration same as last episode\n",
      "Grid configuration same as last episode\n",
      "Grid configuration same as last episode\n",
      "Grid configuration same as last episode\n"
     ]
    },
    {
     "name": "stdout",
     "output_type": "stream",
     "text": [
      "Update 576: Reward P1: -66, Reward P2: -66\n",
      "Update 577: Reward P1: -126, Reward P2: -126\n"
     ]
    },
    {
     "name": "stderr",
     "output_type": "stream",
     "text": [
      "Grid configuration same as last episode\n",
      "Grid configuration same as last episode\n",
      "Grid configuration same as last episode\n",
      "Grid configuration same as last episode\n",
      "Grid configuration same as last episode\n",
      "Grid configuration same as last episode\n"
     ]
    },
    {
     "name": "stdout",
     "output_type": "stream",
     "text": [
      "Update 578: Reward P1: -146, Reward P2: -146\n",
      "Update 579: Reward P1: -116, Reward P2: -116\n"
     ]
    },
    {
     "name": "stderr",
     "output_type": "stream",
     "text": [
      "Grid configuration same as last episode\n",
      "Grid configuration same as last episode\n",
      "Grid configuration same as last episode\n",
      "Grid configuration same as last episode\n",
      "Grid configuration same as last episode\n",
      "Grid configuration same as last episode\n"
     ]
    },
    {
     "name": "stdout",
     "output_type": "stream",
     "text": [
      "Update 580: Reward P1: -116, Reward P2: -116\n",
      "Update 581: Reward P1: -126, Reward P2: -126\n"
     ]
    },
    {
     "name": "stderr",
     "output_type": "stream",
     "text": [
      "Grid configuration same as last episode\n",
      "Grid configuration same as last episode\n",
      "Grid configuration same as last episode\n",
      "Grid configuration same as last episode\n",
      "Grid configuration same as last episode\n",
      "Grid configuration same as last episode\n"
     ]
    },
    {
     "name": "stdout",
     "output_type": "stream",
     "text": [
      "Update 582: Reward P1: -86, Reward P2: -86\n",
      "Update 583: Reward P1: -116, Reward P2: -116\n"
     ]
    },
    {
     "name": "stderr",
     "output_type": "stream",
     "text": [
      "Grid configuration same as last episode\n",
      "Grid configuration same as last episode\n",
      "Grid configuration same as last episode\n",
      "Grid configuration same as last episode\n",
      "Grid configuration same as last episode\n"
     ]
    },
    {
     "name": "stdout",
     "output_type": "stream",
     "text": [
      "Update 584: Reward P1: -126, Reward P2: -126\n",
      "Update 585: Reward P1: -86, Reward P2: -86\n"
     ]
    },
    {
     "name": "stderr",
     "output_type": "stream",
     "text": [
      "Grid configuration same as last episode\n",
      "Grid configuration same as last episode\n",
      "Grid configuration same as last episode\n",
      "Grid configuration same as last episode\n",
      "Grid configuration same as last episode\n",
      "Grid configuration same as last episode\n",
      "Grid configuration same as last episode\n"
     ]
    },
    {
     "name": "stdout",
     "output_type": "stream",
     "text": [
      "Update 586: Reward P1: -106, Reward P2: -106\n",
      "Update 587: Reward P1: -96, Reward P2: -96\n"
     ]
    },
    {
     "name": "stderr",
     "output_type": "stream",
     "text": [
      "Grid configuration same as last episode\n",
      "Grid configuration same as last episode\n",
      "Grid configuration same as last episode\n",
      "Grid configuration same as last episode\n",
      "Grid configuration same as last episode\n",
      "Grid configuration same as last episode\n"
     ]
    },
    {
     "name": "stdout",
     "output_type": "stream",
     "text": [
      "Update 588: Reward P1: -106, Reward P2: -106\n",
      "Update 589: Reward P1: -86, Reward P2: -86\n"
     ]
    },
    {
     "name": "stderr",
     "output_type": "stream",
     "text": [
      "Grid configuration same as last episode\n",
      "Grid configuration same as last episode\n",
      "Grid configuration same as last episode\n",
      "Grid configuration same as last episode\n",
      "Grid configuration same as last episode\n",
      "Grid configuration same as last episode\n"
     ]
    },
    {
     "name": "stdout",
     "output_type": "stream",
     "text": [
      "Update 590: Reward P1: -146, Reward P2: -146\n",
      "Update 591: Reward P1: -86, Reward P2: -86\n"
     ]
    },
    {
     "name": "stderr",
     "output_type": "stream",
     "text": [
      "Grid configuration same as last episode\n",
      "Grid configuration same as last episode\n",
      "Grid configuration same as last episode\n",
      "Grid configuration same as last episode\n",
      "Grid configuration same as last episode\n"
     ]
    },
    {
     "name": "stdout",
     "output_type": "stream",
     "text": [
      "Update 592: Reward P1: -116, Reward P2: -116\n",
      "Update 593: Reward P1: -166, Reward P2: -166\n"
     ]
    },
    {
     "name": "stderr",
     "output_type": "stream",
     "text": [
      "Grid configuration same as last episode\n",
      "Grid configuration same as last episode\n",
      "Grid configuration same as last episode\n",
      "Grid configuration same as last episode\n",
      "Grid configuration same as last episode\n",
      "Grid configuration same as last episode\n",
      "Grid configuration same as last episode\n"
     ]
    },
    {
     "name": "stdout",
     "output_type": "stream",
     "text": [
      "Update 594: Reward P1: -66, Reward P2: -66\n",
      "Update 595: Reward P1: -156, Reward P2: -156\n"
     ]
    },
    {
     "name": "stderr",
     "output_type": "stream",
     "text": [
      "Grid configuration same as last episode\n",
      "Grid configuration same as last episode\n",
      "Grid configuration same as last episode\n",
      "Grid configuration same as last episode\n",
      "Grid configuration same as last episode\n",
      "Grid configuration same as last episode\n"
     ]
    },
    {
     "name": "stdout",
     "output_type": "stream",
     "text": [
      "Update 596: Reward P1: -116, Reward P2: -116\n",
      "Update 597: Reward P1: -116, Reward P2: -116\n"
     ]
    },
    {
     "name": "stderr",
     "output_type": "stream",
     "text": [
      "Grid configuration same as last episode\n",
      "Grid configuration same as last episode\n",
      "Grid configuration same as last episode\n",
      "Grid configuration same as last episode\n",
      "Grid configuration same as last episode\n",
      "Grid configuration same as last episode\n"
     ]
    },
    {
     "name": "stdout",
     "output_type": "stream",
     "text": [
      "Update 598: Reward P1: -86, Reward P2: -86\n",
      "Update 599: Reward P1: -116, Reward P2: -116\n"
     ]
    },
    {
     "name": "stderr",
     "output_type": "stream",
     "text": [
      "Grid configuration same as last episode\n",
      "Grid configuration same as last episode\n",
      "Grid configuration same as last episode\n",
      "Grid configuration same as last episode\n",
      "Grid configuration same as last episode\n",
      "Grid configuration same as last episode\n"
     ]
    },
    {
     "name": "stdout",
     "output_type": "stream",
     "text": [
      "Update 600: Reward P1: -116, Reward P2: -116\n",
      "Update 601: Reward P1: -136, Reward P2: -136\n"
     ]
    },
    {
     "name": "stderr",
     "output_type": "stream",
     "text": [
      "Grid configuration same as last episode\n",
      "Grid configuration same as last episode\n",
      "Grid configuration same as last episode\n",
      "Grid configuration same as last episode\n"
     ]
    },
    {
     "name": "stdout",
     "output_type": "stream",
     "text": [
      "Update 602: Reward P1: -126, Reward P2: -126\n"
     ]
    },
    {
     "name": "stderr",
     "output_type": "stream",
     "text": [
      "Grid configuration same as last episode\n",
      "Grid configuration same as last episode\n",
      "Grid configuration same as last episode\n",
      "Grid configuration same as last episode\n",
      "Grid configuration same as last episode\n"
     ]
    },
    {
     "name": "stdout",
     "output_type": "stream",
     "text": [
      "Update 603: Reward P1: -126, Reward P2: -126\n",
      "Update 604: Reward P1: -106, Reward P2: -106\n"
     ]
    },
    {
     "name": "stderr",
     "output_type": "stream",
     "text": [
      "Grid configuration same as last episode\n",
      "Grid configuration same as last episode\n",
      "Grid configuration same as last episode\n",
      "Grid configuration same as last episode\n",
      "Grid configuration same as last episode\n",
      "Grid configuration same as last episode\n"
     ]
    },
    {
     "name": "stdout",
     "output_type": "stream",
     "text": [
      "Update 605: Reward P1: -146, Reward P2: -146\n",
      "Update 606: Reward P1: -106, Reward P2: -106\n"
     ]
    },
    {
     "name": "stderr",
     "output_type": "stream",
     "text": [
      "Grid configuration same as last episode\n",
      "Grid configuration same as last episode\n",
      "Grid configuration same as last episode\n",
      "Grid configuration same as last episode\n",
      "Grid configuration same as last episode\n",
      "Grid configuration same as last episode\n"
     ]
    },
    {
     "name": "stdout",
     "output_type": "stream",
     "text": [
      "Update 607: Reward P1: -106, Reward P2: -106\n",
      "Update 608: Reward P1: -106, Reward P2: -106\n"
     ]
    },
    {
     "name": "stderr",
     "output_type": "stream",
     "text": [
      "Grid configuration same as last episode\n",
      "Grid configuration same as last episode\n",
      "Grid configuration same as last episode\n",
      "Grid configuration same as last episode\n",
      "Grid configuration same as last episode\n",
      "Grid configuration same as last episode\n"
     ]
    },
    {
     "name": "stdout",
     "output_type": "stream",
     "text": [
      "Update 609: Reward P1: -126, Reward P2: -126\n",
      "Update 610: Reward P1: -126, Reward P2: -126\n"
     ]
    },
    {
     "name": "stderr",
     "output_type": "stream",
     "text": [
      "Grid configuration same as last episode\n",
      "Grid configuration same as last episode\n",
      "Grid configuration same as last episode\n",
      "Grid configuration same as last episode\n",
      "Grid configuration same as last episode\n",
      "Grid configuration same as last episode\n"
     ]
    },
    {
     "name": "stdout",
     "output_type": "stream",
     "text": [
      "Update 611: Reward P1: -136, Reward P2: -136\n",
      "Update 612: Reward P1: -146, Reward P2: -146\n"
     ]
    },
    {
     "name": "stderr",
     "output_type": "stream",
     "text": [
      "Grid configuration same as last episode\n",
      "Grid configuration same as last episode\n",
      "Grid configuration same as last episode\n",
      "Grid configuration same as last episode\n",
      "Grid configuration same as last episode\n",
      "Grid configuration same as last episode\n"
     ]
    },
    {
     "name": "stdout",
     "output_type": "stream",
     "text": [
      "Update 613: Reward P1: -156, Reward P2: -156\n",
      "Update 614: Reward P1: -136, Reward P2: -136\n"
     ]
    },
    {
     "name": "stderr",
     "output_type": "stream",
     "text": [
      "Grid configuration same as last episode\n",
      "Grid configuration same as last episode\n",
      "Grid configuration same as last episode\n",
      "Grid configuration same as last episode\n",
      "Grid configuration same as last episode\n",
      "Grid configuration same as last episode\n"
     ]
    },
    {
     "name": "stdout",
     "output_type": "stream",
     "text": [
      "Update 615: Reward P1: -176, Reward P2: -176\n",
      "Update 616: Reward P1: -136, Reward P2: -136\n"
     ]
    },
    {
     "name": "stderr",
     "output_type": "stream",
     "text": [
      "Grid configuration same as last episode\n",
      "Grid configuration same as last episode\n",
      "Grid configuration same as last episode\n",
      "Grid configuration same as last episode\n",
      "Grid configuration same as last episode\n",
      "Grid configuration same as last episode\n"
     ]
    },
    {
     "name": "stdout",
     "output_type": "stream",
     "text": [
      "Update 617: Reward P1: -166, Reward P2: -166\n",
      "Update 618: Reward P1: -136, Reward P2: -136\n"
     ]
    },
    {
     "name": "stderr",
     "output_type": "stream",
     "text": [
      "Grid configuration same as last episode\n",
      "Grid configuration same as last episode\n",
      "Grid configuration same as last episode\n",
      "Grid configuration same as last episode\n",
      "Grid configuration same as last episode\n",
      "Grid configuration same as last episode\n"
     ]
    },
    {
     "name": "stdout",
     "output_type": "stream",
     "text": [
      "Update 619: Reward P1: -146, Reward P2: -146\n",
      "Update 620: Reward P1: -86, Reward P2: -86\n"
     ]
    },
    {
     "name": "stderr",
     "output_type": "stream",
     "text": [
      "Grid configuration same as last episode\n",
      "Grid configuration same as last episode\n",
      "Grid configuration same as last episode\n",
      "Grid configuration same as last episode\n",
      "Grid configuration same as last episode\n",
      "Grid configuration same as last episode\n"
     ]
    },
    {
     "name": "stdout",
     "output_type": "stream",
     "text": [
      "Update 621: Reward P1: -126, Reward P2: -126\n",
      "Update 622: Reward P1: -96, Reward P2: -96\n"
     ]
    },
    {
     "name": "stderr",
     "output_type": "stream",
     "text": [
      "Grid configuration same as last episode\n",
      "Grid configuration same as last episode\n",
      "Grid configuration same as last episode\n",
      "Grid configuration same as last episode\n",
      "Grid configuration same as last episode\n",
      "Grid configuration same as last episode\n"
     ]
    },
    {
     "name": "stdout",
     "output_type": "stream",
     "text": [
      "Update 623: Reward P1: -76, Reward P2: -76\n",
      "Update 624: Reward P1: -116, Reward P2: -116\n"
     ]
    },
    {
     "name": "stderr",
     "output_type": "stream",
     "text": [
      "Grid configuration same as last episode\n",
      "Grid configuration same as last episode\n",
      "Grid configuration same as last episode\n",
      "Grid configuration same as last episode\n",
      "Grid configuration same as last episode\n",
      "Grid configuration same as last episode\n"
     ]
    },
    {
     "name": "stdout",
     "output_type": "stream",
     "text": [
      "Update 625: Reward P1: -106, Reward P2: -106\n",
      "Update 626: Reward P1: -106, Reward P2: -106\n"
     ]
    },
    {
     "name": "stderr",
     "output_type": "stream",
     "text": [
      "Grid configuration same as last episode\n",
      "Grid configuration same as last episode\n",
      "Grid configuration same as last episode\n",
      "Grid configuration same as last episode\n",
      "Grid configuration same as last episode\n",
      "Grid configuration same as last episode\n"
     ]
    },
    {
     "name": "stdout",
     "output_type": "stream",
     "text": [
      "Update 627: Reward P1: -176, Reward P2: -176\n",
      "Update 628: Reward P1: -96, Reward P2: -96\n"
     ]
    },
    {
     "name": "stderr",
     "output_type": "stream",
     "text": [
      "Grid configuration same as last episode\n",
      "Grid configuration same as last episode\n",
      "Grid configuration same as last episode\n",
      "Grid configuration same as last episode\n",
      "Grid configuration same as last episode\n",
      "Grid configuration same as last episode\n"
     ]
    },
    {
     "name": "stdout",
     "output_type": "stream",
     "text": [
      "Update 629: Reward P1: -116, Reward P2: -116\n",
      "Update 630: Reward P1: -146, Reward P2: -146\n"
     ]
    },
    {
     "name": "stderr",
     "output_type": "stream",
     "text": [
      "Grid configuration same as last episode\n",
      "Grid configuration same as last episode\n",
      "Grid configuration same as last episode\n",
      "Grid configuration same as last episode\n",
      "Grid configuration same as last episode\n",
      "Grid configuration same as last episode\n"
     ]
    },
    {
     "name": "stdout",
     "output_type": "stream",
     "text": [
      "Update 631: Reward P1: -126, Reward P2: -126\n",
      "Update 632: Reward P1: -116, Reward P2: -116\n"
     ]
    },
    {
     "name": "stderr",
     "output_type": "stream",
     "text": [
      "Grid configuration same as last episode\n",
      "Grid configuration same as last episode\n",
      "Grid configuration same as last episode\n",
      "Grid configuration same as last episode\n",
      "Grid configuration same as last episode\n",
      "Grid configuration same as last episode\n"
     ]
    },
    {
     "name": "stdout",
     "output_type": "stream",
     "text": [
      "Update 633: Reward P1: -116, Reward P2: -116\n",
      "Update 634: Reward P1: -116, Reward P2: -116\n"
     ]
    },
    {
     "name": "stderr",
     "output_type": "stream",
     "text": [
      "Grid configuration same as last episode\n",
      "Grid configuration same as last episode\n",
      "Grid configuration same as last episode\n",
      "Grid configuration same as last episode\n",
      "Grid configuration same as last episode\n",
      "Grid configuration same as last episode\n"
     ]
    },
    {
     "name": "stdout",
     "output_type": "stream",
     "text": [
      "Update 635: Reward P1: -146, Reward P2: -146\n",
      "Update 636: Reward P1: -106, Reward P2: -106\n"
     ]
    },
    {
     "name": "stderr",
     "output_type": "stream",
     "text": [
      "Grid configuration same as last episode\n",
      "Grid configuration same as last episode\n",
      "Grid configuration same as last episode\n",
      "Grid configuration same as last episode\n",
      "Grid configuration same as last episode\n",
      "Grid configuration same as last episode\n"
     ]
    },
    {
     "name": "stdout",
     "output_type": "stream",
     "text": [
      "Update 637: Reward P1: -176, Reward P2: -176\n",
      "Update 638: Reward P1: -96, Reward P2: -96\n"
     ]
    },
    {
     "name": "stderr",
     "output_type": "stream",
     "text": [
      "Grid configuration same as last episode\n",
      "Grid configuration same as last episode\n",
      "Grid configuration same as last episode\n",
      "Grid configuration same as last episode\n",
      "Grid configuration same as last episode\n",
      "Grid configuration same as last episode\n"
     ]
    },
    {
     "name": "stdout",
     "output_type": "stream",
     "text": [
      "Update 639: Reward P1: -126, Reward P2: -126\n",
      "Update 640: Reward P1: -96, Reward P2: -96\n"
     ]
    },
    {
     "name": "stderr",
     "output_type": "stream",
     "text": [
      "Grid configuration same as last episode\n",
      "Grid configuration same as last episode\n",
      "Grid configuration same as last episode\n",
      "Grid configuration same as last episode\n",
      "Grid configuration same as last episode\n",
      "Grid configuration same as last episode\n"
     ]
    },
    {
     "name": "stdout",
     "output_type": "stream",
     "text": [
      "Update 641: Reward P1: -136, Reward P2: -136\n",
      "Update 642: Reward P1: -76, Reward P2: -76\n"
     ]
    },
    {
     "name": "stderr",
     "output_type": "stream",
     "text": [
      "Grid configuration same as last episode\n",
      "Grid configuration same as last episode\n",
      "Grid configuration same as last episode\n",
      "Grid configuration same as last episode\n",
      "Grid configuration same as last episode\n",
      "Grid configuration same as last episode\n"
     ]
    },
    {
     "name": "stdout",
     "output_type": "stream",
     "text": [
      "Update 643: Reward P1: -96, Reward P2: -96\n",
      "Update 644: Reward P1: -116, Reward P2: -116\n"
     ]
    },
    {
     "name": "stderr",
     "output_type": "stream",
     "text": [
      "Grid configuration same as last episode\n",
      "Grid configuration same as last episode\n",
      "Grid configuration same as last episode\n",
      "Grid configuration same as last episode\n",
      "Grid configuration same as last episode\n"
     ]
    },
    {
     "name": "stdout",
     "output_type": "stream",
     "text": [
      "Update 645: Reward P1: -106, Reward P2: -106\n",
      "Update 646: Reward P1: -106, Reward P2: -106\n"
     ]
    },
    {
     "name": "stderr",
     "output_type": "stream",
     "text": [
      "Grid configuration same as last episode\n",
      "Grid configuration same as last episode\n",
      "Grid configuration same as last episode\n",
      "Grid configuration same as last episode\n",
      "Grid configuration same as last episode\n",
      "Grid configuration same as last episode\n",
      "Grid configuration same as last episode\n"
     ]
    },
    {
     "name": "stdout",
     "output_type": "stream",
     "text": [
      "Update 647: Reward P1: -126, Reward P2: -126\n",
      "Update 648: Reward P1: -126, Reward P2: -126\n"
     ]
    },
    {
     "name": "stderr",
     "output_type": "stream",
     "text": [
      "Grid configuration same as last episode\n",
      "Grid configuration same as last episode\n",
      "Grid configuration same as last episode\n",
      "Grid configuration same as last episode\n",
      "Grid configuration same as last episode\n",
      "Grid configuration same as last episode\n"
     ]
    },
    {
     "name": "stdout",
     "output_type": "stream",
     "text": [
      "Update 649: Reward P1: -156, Reward P2: -156\n",
      "Update 650: Reward P1: -66, Reward P2: -66\n"
     ]
    },
    {
     "name": "stderr",
     "output_type": "stream",
     "text": [
      "Grid configuration same as last episode\n",
      "Grid configuration same as last episode\n",
      "Grid configuration same as last episode\n",
      "Grid configuration same as last episode\n",
      "Grid configuration same as last episode\n"
     ]
    },
    {
     "name": "stdout",
     "output_type": "stream",
     "text": [
      "Update 651: Reward P1: -136, Reward P2: -136\n",
      "Update 652: Reward P1: -126, Reward P2: -126\n"
     ]
    },
    {
     "name": "stderr",
     "output_type": "stream",
     "text": [
      "Grid configuration same as last episode\n",
      "Grid configuration same as last episode\n",
      "Grid configuration same as last episode\n",
      "Grid configuration same as last episode\n",
      "Grid configuration same as last episode\n",
      "Grid configuration same as last episode\n",
      "Grid configuration same as last episode\n"
     ]
    },
    {
     "name": "stdout",
     "output_type": "stream",
     "text": [
      "Update 653: Reward P1: -116, Reward P2: -116\n",
      "Update 654: Reward P1: -106, Reward P2: -106\n"
     ]
    },
    {
     "name": "stderr",
     "output_type": "stream",
     "text": [
      "Grid configuration same as last episode\n",
      "Grid configuration same as last episode\n",
      "Grid configuration same as last episode\n",
      "Grid configuration same as last episode\n",
      "Grid configuration same as last episode\n",
      "Grid configuration same as last episode\n"
     ]
    },
    {
     "name": "stdout",
     "output_type": "stream",
     "text": [
      "Update 655: Reward P1: -76, Reward P2: -76\n",
      "Update 656: Reward P1: -136, Reward P2: -136\n"
     ]
    },
    {
     "name": "stderr",
     "output_type": "stream",
     "text": [
      "Grid configuration same as last episode\n",
      "Grid configuration same as last episode\n",
      "Grid configuration same as last episode\n",
      "Grid configuration same as last episode\n",
      "Grid configuration same as last episode\n"
     ]
    },
    {
     "name": "stdout",
     "output_type": "stream",
     "text": [
      "Update 657: Reward P1: -146, Reward P2: -146\n",
      "Update 658: Reward P1: -146, Reward P2: -146\n"
     ]
    },
    {
     "name": "stderr",
     "output_type": "stream",
     "text": [
      "Grid configuration same as last episode\n",
      "Grid configuration same as last episode\n",
      "Grid configuration same as last episode\n",
      "Grid configuration same as last episode\n",
      "Grid configuration same as last episode\n",
      "Grid configuration same as last episode\n"
     ]
    },
    {
     "name": "stdout",
     "output_type": "stream",
     "text": [
      "Update 659: Reward P1: -156, Reward P2: -156\n",
      "Update 660: Reward P1: -146, Reward P2: -146\n"
     ]
    },
    {
     "name": "stderr",
     "output_type": "stream",
     "text": [
      "Grid configuration same as last episode\n",
      "Grid configuration same as last episode\n",
      "Grid configuration same as last episode\n",
      "Grid configuration same as last episode\n",
      "Grid configuration same as last episode\n",
      "Grid configuration same as last episode\n"
     ]
    },
    {
     "name": "stdout",
     "output_type": "stream",
     "text": [
      "Update 661: Reward P1: -126, Reward P2: -126\n",
      "Update 662: Reward P1: -146, Reward P2: -146\n"
     ]
    },
    {
     "name": "stderr",
     "output_type": "stream",
     "text": [
      "Grid configuration same as last episode\n",
      "Grid configuration same as last episode\n",
      "Grid configuration same as last episode\n",
      "Grid configuration same as last episode\n",
      "Grid configuration same as last episode\n",
      "Grid configuration same as last episode\n"
     ]
    },
    {
     "name": "stdout",
     "output_type": "stream",
     "text": [
      "Update 663: Reward P1: -106, Reward P2: -106\n",
      "Update 664: Reward P1: -136, Reward P2: -136\n"
     ]
    },
    {
     "name": "stderr",
     "output_type": "stream",
     "text": [
      "Grid configuration same as last episode\n",
      "Grid configuration same as last episode\n",
      "Grid configuration same as last episode\n",
      "Grid configuration same as last episode\n",
      "Grid configuration same as last episode\n",
      "Grid configuration same as last episode\n"
     ]
    },
    {
     "name": "stdout",
     "output_type": "stream",
     "text": [
      "Update 665: Reward P1: -136, Reward P2: -136\n",
      "Update 666: Reward P1: -136, Reward P2: -136\n"
     ]
    },
    {
     "name": "stderr",
     "output_type": "stream",
     "text": [
      "Grid configuration same as last episode\n",
      "Grid configuration same as last episode\n",
      "Grid configuration same as last episode\n",
      "Grid configuration same as last episode\n",
      "Grid configuration same as last episode\n",
      "Grid configuration same as last episode\n"
     ]
    },
    {
     "name": "stdout",
     "output_type": "stream",
     "text": [
      "Update 667: Reward P1: -86, Reward P2: -86\n",
      "Update 668: Reward P1: -96, Reward P2: -96\n"
     ]
    },
    {
     "name": "stderr",
     "output_type": "stream",
     "text": [
      "Grid configuration same as last episode\n",
      "Grid configuration same as last episode\n",
      "Grid configuration same as last episode\n",
      "Grid configuration same as last episode\n",
      "Grid configuration same as last episode\n",
      "Grid configuration same as last episode\n"
     ]
    },
    {
     "name": "stdout",
     "output_type": "stream",
     "text": [
      "Update 669: Reward P1: -126, Reward P2: -126\n",
      "Update 670: Reward P1: -86, Reward P2: -86\n"
     ]
    },
    {
     "name": "stderr",
     "output_type": "stream",
     "text": [
      "Grid configuration same as last episode\n",
      "Grid configuration same as last episode\n",
      "Grid configuration same as last episode\n",
      "Grid configuration same as last episode\n",
      "Grid configuration same as last episode\n",
      "Grid configuration same as last episode\n"
     ]
    },
    {
     "name": "stdout",
     "output_type": "stream",
     "text": [
      "Update 671: Reward P1: -86, Reward P2: -86\n",
      "Update 672: Reward P1: -96, Reward P2: -96\n"
     ]
    },
    {
     "name": "stderr",
     "output_type": "stream",
     "text": [
      "Grid configuration same as last episode\n",
      "Grid configuration same as last episode\n",
      "Grid configuration same as last episode\n",
      "Grid configuration same as last episode\n",
      "Grid configuration same as last episode\n",
      "Grid configuration same as last episode\n"
     ]
    },
    {
     "name": "stdout",
     "output_type": "stream",
     "text": [
      "Update 673: Reward P1: -106, Reward P2: -106\n",
      "Update 674: Reward P1: -116, Reward P2: -116\n"
     ]
    },
    {
     "name": "stderr",
     "output_type": "stream",
     "text": [
      "Grid configuration same as last episode\n",
      "Grid configuration same as last episode\n",
      "Grid configuration same as last episode\n",
      "Grid configuration same as last episode\n",
      "Grid configuration same as last episode\n",
      "Grid configuration same as last episode\n"
     ]
    },
    {
     "name": "stdout",
     "output_type": "stream",
     "text": [
      "Update 675: Reward P1: -126, Reward P2: -126\n",
      "Update 676: Reward P1: -86, Reward P2: -86\n"
     ]
    },
    {
     "name": "stderr",
     "output_type": "stream",
     "text": [
      "Grid configuration same as last episode\n",
      "Grid configuration same as last episode\n",
      "Grid configuration same as last episode\n",
      "Grid configuration same as last episode\n",
      "Grid configuration same as last episode\n",
      "Grid configuration same as last episode\n"
     ]
    },
    {
     "name": "stdout",
     "output_type": "stream",
     "text": [
      "Update 677: Reward P1: -76, Reward P2: -76\n",
      "Update 678: Reward P1: -106, Reward P2: -106\n"
     ]
    },
    {
     "name": "stderr",
     "output_type": "stream",
     "text": [
      "Grid configuration same as last episode\n",
      "Grid configuration same as last episode\n",
      "Grid configuration same as last episode\n",
      "Grid configuration same as last episode\n",
      "Grid configuration same as last episode\n",
      "Grid configuration same as last episode\n"
     ]
    },
    {
     "name": "stdout",
     "output_type": "stream",
     "text": [
      "Update 679: Reward P1: -96, Reward P2: -96\n",
      "Update 680: Reward P1: -156, Reward P2: -156\n"
     ]
    },
    {
     "name": "stderr",
     "output_type": "stream",
     "text": [
      "Grid configuration same as last episode\n",
      "Grid configuration same as last episode\n",
      "Grid configuration same as last episode\n",
      "Grid configuration same as last episode\n",
      "Grid configuration same as last episode\n",
      "Grid configuration same as last episode\n"
     ]
    },
    {
     "name": "stdout",
     "output_type": "stream",
     "text": [
      "Update 681: Reward P1: -126, Reward P2: -126\n",
      "Update 682: Reward P1: -156, Reward P2: -156\n"
     ]
    },
    {
     "name": "stderr",
     "output_type": "stream",
     "text": [
      "Grid configuration same as last episode\n",
      "Grid configuration same as last episode\n",
      "Grid configuration same as last episode\n",
      "Grid configuration same as last episode\n",
      "Grid configuration same as last episode\n",
      "Grid configuration same as last episode\n"
     ]
    },
    {
     "name": "stdout",
     "output_type": "stream",
     "text": [
      "Update 683: Reward P1: -66, Reward P2: -66\n",
      "Update 684: Reward P1: -156, Reward P2: -156\n"
     ]
    },
    {
     "name": "stderr",
     "output_type": "stream",
     "text": [
      "Grid configuration same as last episode\n",
      "Grid configuration same as last episode\n",
      "Grid configuration same as last episode\n",
      "Grid configuration same as last episode\n",
      "Grid configuration same as last episode\n",
      "Grid configuration same as last episode\n"
     ]
    },
    {
     "name": "stdout",
     "output_type": "stream",
     "text": [
      "Update 685: Reward P1: -156, Reward P2: -156\n",
      "Update 686: Reward P1: -146, Reward P2: -146\n"
     ]
    },
    {
     "name": "stderr",
     "output_type": "stream",
     "text": [
      "Grid configuration same as last episode\n",
      "Grid configuration same as last episode\n",
      "Grid configuration same as last episode\n",
      "Grid configuration same as last episode\n",
      "Grid configuration same as last episode\n",
      "Grid configuration same as last episode\n"
     ]
    },
    {
     "name": "stdout",
     "output_type": "stream",
     "text": [
      "Update 687: Reward P1: -106, Reward P2: -106\n",
      "Update 688: Reward P1: -96, Reward P2: -96\n"
     ]
    },
    {
     "name": "stderr",
     "output_type": "stream",
     "text": [
      "Grid configuration same as last episode\n",
      "Grid configuration same as last episode\n",
      "Grid configuration same as last episode\n",
      "Grid configuration same as last episode\n",
      "Grid configuration same as last episode\n",
      "Grid configuration same as last episode\n"
     ]
    },
    {
     "name": "stdout",
     "output_type": "stream",
     "text": [
      "Update 689: Reward P1: -126, Reward P2: -126\n",
      "Update 690: Reward P1: -96, Reward P2: -96\n"
     ]
    },
    {
     "name": "stderr",
     "output_type": "stream",
     "text": [
      "Grid configuration same as last episode\n",
      "Grid configuration same as last episode\n",
      "Grid configuration same as last episode\n",
      "Grid configuration same as last episode\n",
      "Grid configuration same as last episode\n",
      "Grid configuration same as last episode\n"
     ]
    },
    {
     "name": "stdout",
     "output_type": "stream",
     "text": [
      "Update 691: Reward P1: -126, Reward P2: -126\n",
      "Update 692: Reward P1: -116, Reward P2: -116\n"
     ]
    },
    {
     "name": "stderr",
     "output_type": "stream",
     "text": [
      "Grid configuration same as last episode\n",
      "Grid configuration same as last episode\n",
      "Grid configuration same as last episode\n",
      "Grid configuration same as last episode\n",
      "Grid configuration same as last episode\n",
      "Grid configuration same as last episode\n",
      "Grid configuration same as last episode\n"
     ]
    },
    {
     "name": "stdout",
     "output_type": "stream",
     "text": [
      "Update 693: Reward P1: -96, Reward P2: -96\n",
      "Update 694: Reward P1: -156, Reward P2: -156\n"
     ]
    },
    {
     "name": "stderr",
     "output_type": "stream",
     "text": [
      "Grid configuration same as last episode\n",
      "Grid configuration same as last episode\n",
      "Grid configuration same as last episode\n",
      "Grid configuration same as last episode\n",
      "Grid configuration same as last episode\n"
     ]
    },
    {
     "name": "stdout",
     "output_type": "stream",
     "text": [
      "Update 695: Reward P1: -186, Reward P2: -186\n",
      "Update 696: Reward P1: -136, Reward P2: -136\n"
     ]
    },
    {
     "name": "stderr",
     "output_type": "stream",
     "text": [
      "Grid configuration same as last episode\n",
      "Grid configuration same as last episode\n",
      "Grid configuration same as last episode\n",
      "Grid configuration same as last episode\n",
      "Grid configuration same as last episode\n",
      "Grid configuration same as last episode\n"
     ]
    },
    {
     "name": "stdout",
     "output_type": "stream",
     "text": [
      "Update 697: Reward P1: -146, Reward P2: -146\n",
      "Update 698: Reward P1: -156, Reward P2: -156\n"
     ]
    },
    {
     "name": "stderr",
     "output_type": "stream",
     "text": [
      "Grid configuration same as last episode\n",
      "Grid configuration same as last episode\n",
      "Grid configuration same as last episode\n",
      "Grid configuration same as last episode\n",
      "Grid configuration same as last episode\n",
      "Grid configuration same as last episode\n"
     ]
    },
    {
     "name": "stdout",
     "output_type": "stream",
     "text": [
      "Update 699: Reward P1: -136, Reward P2: -136\n",
      "Update 700: Reward P1: -106, Reward P2: -106\n"
     ]
    },
    {
     "name": "stderr",
     "output_type": "stream",
     "text": [
      "Grid configuration same as last episode\n",
      "Grid configuration same as last episode\n",
      "Grid configuration same as last episode\n",
      "Grid configuration same as last episode\n",
      "Grid configuration same as last episode\n",
      "Grid configuration same as last episode\n"
     ]
    },
    {
     "name": "stdout",
     "output_type": "stream",
     "text": [
      "Update 701: Reward P1: -106, Reward P2: -106\n",
      "Update 702: Reward P1: -126, Reward P2: -126\n"
     ]
    },
    {
     "name": "stderr",
     "output_type": "stream",
     "text": [
      "Grid configuration same as last episode\n",
      "Grid configuration same as last episode\n",
      "Grid configuration same as last episode\n",
      "Grid configuration same as last episode\n",
      "Grid configuration same as last episode\n",
      "Grid configuration same as last episode\n",
      "Grid configuration same as last episode\n"
     ]
    },
    {
     "name": "stdout",
     "output_type": "stream",
     "text": [
      "Update 703: Reward P1: -166, Reward P2: -166\n",
      "Update 704: Reward P1: -126, Reward P2: -126\n"
     ]
    },
    {
     "name": "stderr",
     "output_type": "stream",
     "text": [
      "Grid configuration same as last episode\n",
      "Grid configuration same as last episode\n",
      "Grid configuration same as last episode\n",
      "Grid configuration same as last episode\n",
      "Grid configuration same as last episode\n"
     ]
    },
    {
     "name": "stdout",
     "output_type": "stream",
     "text": [
      "Update 705: Reward P1: -46, Reward P2: -46\n",
      "Update 706: Reward P1: -156, Reward P2: -156\n"
     ]
    },
    {
     "name": "stderr",
     "output_type": "stream",
     "text": [
      "Grid configuration same as last episode\n",
      "Grid configuration same as last episode\n",
      "Grid configuration same as last episode\n",
      "Grid configuration same as last episode\n",
      "Grid configuration same as last episode\n",
      "Grid configuration same as last episode\n"
     ]
    },
    {
     "name": "stdout",
     "output_type": "stream",
     "text": [
      "Update 707: Reward P1: -136, Reward P2: -136\n",
      "Update 708: Reward P1: -156, Reward P2: -156\n"
     ]
    },
    {
     "name": "stderr",
     "output_type": "stream",
     "text": [
      "Grid configuration same as last episode\n",
      "Grid configuration same as last episode\n",
      "Grid configuration same as last episode\n",
      "Grid configuration same as last episode\n",
      "Grid configuration same as last episode\n",
      "Grid configuration same as last episode\n",
      "Grid configuration same as last episode\n"
     ]
    },
    {
     "name": "stdout",
     "output_type": "stream",
     "text": [
      "Update 709: Reward P1: -106, Reward P2: -106\n",
      "Update 710: Reward P1: -156, Reward P2: -156\n"
     ]
    },
    {
     "name": "stderr",
     "output_type": "stream",
     "text": [
      "Grid configuration same as last episode\n",
      "Grid configuration same as last episode\n",
      "Grid configuration same as last episode\n",
      "Grid configuration same as last episode\n",
      "Grid configuration same as last episode\n",
      "Grid configuration same as last episode\n"
     ]
    },
    {
     "name": "stdout",
     "output_type": "stream",
     "text": [
      "Update 711: Reward P1: -96, Reward P2: -96\n",
      "Update 712: Reward P1: -156, Reward P2: -156\n"
     ]
    },
    {
     "name": "stderr",
     "output_type": "stream",
     "text": [
      "Grid configuration same as last episode\n",
      "Grid configuration same as last episode\n",
      "Grid configuration same as last episode\n",
      "Grid configuration same as last episode\n",
      "Grid configuration same as last episode\n"
     ]
    },
    {
     "name": "stdout",
     "output_type": "stream",
     "text": [
      "Update 713: Reward P1: -146, Reward P2: -146\n",
      "Update 714: Reward P1: -136, Reward P2: -136\n"
     ]
    },
    {
     "name": "stderr",
     "output_type": "stream",
     "text": [
      "Grid configuration same as last episode\n",
      "Grid configuration same as last episode\n",
      "Grid configuration same as last episode\n",
      "Grid configuration same as last episode\n",
      "Grid configuration same as last episode\n",
      "Grid configuration same as last episode\n",
      "Grid configuration same as last episode\n"
     ]
    },
    {
     "name": "stdout",
     "output_type": "stream",
     "text": [
      "Update 715: Reward P1: -136, Reward P2: -136\n",
      "Update 716: Reward P1: -106, Reward P2: -106\n"
     ]
    },
    {
     "name": "stderr",
     "output_type": "stream",
     "text": [
      "Grid configuration same as last episode\n",
      "Grid configuration same as last episode\n",
      "Grid configuration same as last episode\n",
      "Grid configuration same as last episode\n",
      "Grid configuration same as last episode\n",
      "Grid configuration same as last episode\n"
     ]
    },
    {
     "name": "stdout",
     "output_type": "stream",
     "text": [
      "Update 717: Reward P1: -106, Reward P2: -106\n",
      "Update 718: Reward P1: -86, Reward P2: -86\n"
     ]
    },
    {
     "name": "stderr",
     "output_type": "stream",
     "text": [
      "Grid configuration same as last episode\n",
      "Grid configuration same as last episode\n",
      "Grid configuration same as last episode\n",
      "Grid configuration same as last episode\n",
      "Grid configuration same as last episode\n",
      "Grid configuration same as last episode\n"
     ]
    },
    {
     "name": "stdout",
     "output_type": "stream",
     "text": [
      "Update 719: Reward P1: -126, Reward P2: -126\n",
      "Update 720: Reward P1: -86, Reward P2: -86\n"
     ]
    },
    {
     "name": "stderr",
     "output_type": "stream",
     "text": [
      "Grid configuration same as last episode\n",
      "Grid configuration same as last episode\n",
      "Grid configuration same as last episode\n",
      "Grid configuration same as last episode\n",
      "Grid configuration same as last episode\n"
     ]
    },
    {
     "name": "stdout",
     "output_type": "stream",
     "text": [
      "Update 721: Reward P1: -136, Reward P2: -136\n",
      "Update 722: Reward P1: -66, Reward P2: -66\n"
     ]
    },
    {
     "name": "stderr",
     "output_type": "stream",
     "text": [
      "Grid configuration same as last episode\n",
      "Grid configuration same as last episode\n",
      "Grid configuration same as last episode\n",
      "Grid configuration same as last episode\n",
      "Grid configuration same as last episode\n",
      "Grid configuration same as last episode\n",
      "Grid configuration same as last episode\n"
     ]
    },
    {
     "name": "stdout",
     "output_type": "stream",
     "text": [
      "Update 723: Reward P1: -156, Reward P2: -156\n",
      "Update 724: Reward P1: -86, Reward P2: -86\n"
     ]
    },
    {
     "name": "stderr",
     "output_type": "stream",
     "text": [
      "Grid configuration same as last episode\n",
      "Grid configuration same as last episode\n",
      "Grid configuration same as last episode\n",
      "Grid configuration same as last episode\n",
      "Grid configuration same as last episode\n",
      "Grid configuration same as last episode\n"
     ]
    },
    {
     "name": "stdout",
     "output_type": "stream",
     "text": [
      "Update 725: Reward P1: -76, Reward P2: -76\n",
      "Update 726: Reward P1: -126, Reward P2: -126\n"
     ]
    },
    {
     "name": "stderr",
     "output_type": "stream",
     "text": [
      "Grid configuration same as last episode\n",
      "Grid configuration same as last episode\n",
      "Grid configuration same as last episode\n",
      "Grid configuration same as last episode\n",
      "Grid configuration same as last episode\n",
      "Grid configuration same as last episode\n"
     ]
    },
    {
     "name": "stdout",
     "output_type": "stream",
     "text": [
      "Update 727: Reward P1: -76, Reward P2: -76\n",
      "Update 728: Reward P1: -136, Reward P2: -136\n"
     ]
    },
    {
     "name": "stderr",
     "output_type": "stream",
     "text": [
      "Grid configuration same as last episode\n",
      "Grid configuration same as last episode\n",
      "Grid configuration same as last episode\n",
      "Grid configuration same as last episode\n",
      "Grid configuration same as last episode\n",
      "Grid configuration same as last episode\n"
     ]
    },
    {
     "name": "stdout",
     "output_type": "stream",
     "text": [
      "Update 729: Reward P1: -146, Reward P2: -146\n",
      "Update 730: Reward P1: -96, Reward P2: -96\n"
     ]
    },
    {
     "name": "stderr",
     "output_type": "stream",
     "text": [
      "Grid configuration same as last episode\n",
      "Grid configuration same as last episode\n",
      "Grid configuration same as last episode\n",
      "Grid configuration same as last episode\n",
      "Grid configuration same as last episode\n",
      "Grid configuration same as last episode\n"
     ]
    },
    {
     "name": "stdout",
     "output_type": "stream",
     "text": [
      "Update 731: Reward P1: -116, Reward P2: -116\n",
      "Update 732: Reward P1: -86, Reward P2: -86\n"
     ]
    },
    {
     "name": "stderr",
     "output_type": "stream",
     "text": [
      "Grid configuration same as last episode\n",
      "Grid configuration same as last episode\n",
      "Grid configuration same as last episode\n",
      "Grid configuration same as last episode\n",
      "Grid configuration same as last episode\n",
      "Grid configuration same as last episode\n"
     ]
    },
    {
     "name": "stdout",
     "output_type": "stream",
     "text": [
      "Update 733: Reward P1: -106, Reward P2: -106\n",
      "Update 734: Reward P1: -76, Reward P2: -76\n"
     ]
    },
    {
     "name": "stderr",
     "output_type": "stream",
     "text": [
      "Grid configuration same as last episode\n",
      "Grid configuration same as last episode\n",
      "Grid configuration same as last episode\n",
      "Grid configuration same as last episode\n",
      "Grid configuration same as last episode\n",
      "Grid configuration same as last episode\n"
     ]
    },
    {
     "name": "stdout",
     "output_type": "stream",
     "text": [
      "Update 735: Reward P1: -36, Reward P2: -36\n",
      "Update 736: Reward P1: -126, Reward P2: -126\n"
     ]
    },
    {
     "name": "stderr",
     "output_type": "stream",
     "text": [
      "Grid configuration same as last episode\n",
      "Grid configuration same as last episode\n",
      "Grid configuration same as last episode\n",
      "Grid configuration same as last episode\n",
      "Grid configuration same as last episode\n",
      "Grid configuration same as last episode\n"
     ]
    },
    {
     "name": "stdout",
     "output_type": "stream",
     "text": [
      "Update 737: Reward P1: -86, Reward P2: -86\n",
      "Update 738: Reward P1: -116, Reward P2: -116\n"
     ]
    },
    {
     "name": "stderr",
     "output_type": "stream",
     "text": [
      "Grid configuration same as last episode\n",
      "Grid configuration same as last episode\n",
      "Grid configuration same as last episode\n",
      "Grid configuration same as last episode\n",
      "Grid configuration same as last episode\n"
     ]
    },
    {
     "name": "stdout",
     "output_type": "stream",
     "text": [
      "Update 739: Reward P1: -116, Reward P2: -116\n",
      "Update 740: Reward P1: -86, Reward P2: -86\n"
     ]
    },
    {
     "name": "stderr",
     "output_type": "stream",
     "text": [
      "Grid configuration same as last episode\n",
      "Grid configuration same as last episode\n",
      "Grid configuration same as last episode\n",
      "Grid configuration same as last episode\n",
      "Grid configuration same as last episode\n",
      "Grid configuration same as last episode\n",
      "Grid configuration same as last episode\n"
     ]
    },
    {
     "name": "stdout",
     "output_type": "stream",
     "text": [
      "Update 741: Reward P1: -156, Reward P2: -156\n",
      "Update 742: Reward P1: -86, Reward P2: -86\n"
     ]
    },
    {
     "name": "stderr",
     "output_type": "stream",
     "text": [
      "Grid configuration same as last episode\n",
      "Grid configuration same as last episode\n",
      "Grid configuration same as last episode\n",
      "Grid configuration same as last episode\n",
      "Grid configuration same as last episode\n",
      "Grid configuration same as last episode\n"
     ]
    },
    {
     "name": "stdout",
     "output_type": "stream",
     "text": [
      "Update 743: Reward P1: -156, Reward P2: -156\n",
      "Update 744: Reward P1: -96, Reward P2: -96\n"
     ]
    },
    {
     "name": "stderr",
     "output_type": "stream",
     "text": [
      "Grid configuration same as last episode\n",
      "Grid configuration same as last episode\n",
      "Grid configuration same as last episode\n",
      "Grid configuration same as last episode\n",
      "Grid configuration same as last episode\n"
     ]
    },
    {
     "name": "stdout",
     "output_type": "stream",
     "text": [
      "Update 745: Reward P1: -146, Reward P2: -146\n",
      "Update 746: Reward P1: -136, Reward P2: -136\n"
     ]
    },
    {
     "name": "stderr",
     "output_type": "stream",
     "text": [
      "Grid configuration same as last episode\n",
      "Grid configuration same as last episode\n",
      "Grid configuration same as last episode\n",
      "Grid configuration same as last episode\n",
      "Grid configuration same as last episode\n",
      "Grid configuration same as last episode\n",
      "Grid configuration same as last episode\n"
     ]
    },
    {
     "name": "stdout",
     "output_type": "stream",
     "text": [
      "Update 747: Reward P1: -96, Reward P2: -96\n",
      "Update 748: Reward P1: -96, Reward P2: -96\n"
     ]
    },
    {
     "name": "stderr",
     "output_type": "stream",
     "text": [
      "Grid configuration same as last episode\n",
      "Grid configuration same as last episode\n",
      "Grid configuration same as last episode\n"
     ]
    },
    {
     "name": "stdout",
     "output_type": "stream",
     "text": [
      "Update 749: Reward P1: -136, Reward P2: -136\n"
     ]
    },
    {
     "name": "stderr",
     "output_type": "stream",
     "text": [
      "Grid configuration same as last episode\n",
      "Grid configuration same as last episode\n",
      "Grid configuration same as last episode\n",
      "Grid configuration same as last episode\n",
      "Grid configuration same as last episode\n"
     ]
    },
    {
     "name": "stdout",
     "output_type": "stream",
     "text": [
      "Update 750: Reward P1: -126, Reward P2: -126\n",
      "Update 751: Reward P1: -106, Reward P2: -106\n"
     ]
    },
    {
     "name": "stderr",
     "output_type": "stream",
     "text": [
      "Grid configuration same as last episode\n",
      "Grid configuration same as last episode\n",
      "Grid configuration same as last episode\n",
      "Grid configuration same as last episode\n",
      "Grid configuration same as last episode\n",
      "Grid configuration same as last episode\n",
      "Grid configuration same as last episode\n"
     ]
    },
    {
     "name": "stdout",
     "output_type": "stream",
     "text": [
      "Update 752: Reward P1: -76, Reward P2: -76\n",
      "Update 753: Reward P1: -106, Reward P2: -106\n"
     ]
    },
    {
     "name": "stderr",
     "output_type": "stream",
     "text": [
      "Grid configuration same as last episode\n",
      "Grid configuration same as last episode\n",
      "Grid configuration same as last episode\n",
      "Grid configuration same as last episode\n",
      "Grid configuration same as last episode\n"
     ]
    },
    {
     "name": "stdout",
     "output_type": "stream",
     "text": [
      "Update 754: Reward P1: -146, Reward P2: -146\n",
      "Update 755: Reward P1: -176, Reward P2: -176\n"
     ]
    },
    {
     "name": "stderr",
     "output_type": "stream",
     "text": [
      "Grid configuration same as last episode\n",
      "Grid configuration same as last episode\n",
      "Grid configuration same as last episode\n",
      "Grid configuration same as last episode\n",
      "Grid configuration same as last episode\n",
      "Grid configuration same as last episode\n",
      "Grid configuration same as last episode\n"
     ]
    },
    {
     "name": "stdout",
     "output_type": "stream",
     "text": [
      "Update 756: Reward P1: -126, Reward P2: -126\n",
      "Update 757: Reward P1: -156, Reward P2: -156\n"
     ]
    },
    {
     "name": "stderr",
     "output_type": "stream",
     "text": [
      "Grid configuration same as last episode\n",
      "Grid configuration same as last episode\n",
      "Grid configuration same as last episode\n",
      "Grid configuration same as last episode\n",
      "Grid configuration same as last episode\n",
      "Grid configuration same as last episode\n"
     ]
    },
    {
     "name": "stdout",
     "output_type": "stream",
     "text": [
      "Update 758: Reward P1: -126, Reward P2: -126\n",
      "Update 759: Reward P1: -126, Reward P2: -126\n"
     ]
    },
    {
     "name": "stderr",
     "output_type": "stream",
     "text": [
      "Grid configuration same as last episode\n",
      "Grid configuration same as last episode\n",
      "Grid configuration same as last episode\n",
      "Grid configuration same as last episode\n",
      "Grid configuration same as last episode\n",
      "Grid configuration same as last episode\n"
     ]
    },
    {
     "name": "stdout",
     "output_type": "stream",
     "text": [
      "Update 760: Reward P1: -106, Reward P2: -106\n",
      "Update 761: Reward P1: -106, Reward P2: -106\n"
     ]
    },
    {
     "name": "stderr",
     "output_type": "stream",
     "text": [
      "Grid configuration same as last episode\n",
      "Grid configuration same as last episode\n",
      "Grid configuration same as last episode\n",
      "Grid configuration same as last episode\n",
      "Grid configuration same as last episode\n",
      "Grid configuration same as last episode\n"
     ]
    },
    {
     "name": "stdout",
     "output_type": "stream",
     "text": [
      "Update 762: Reward P1: -106, Reward P2: -106\n",
      "Update 763: Reward P1: -86, Reward P2: -86\n"
     ]
    },
    {
     "name": "stderr",
     "output_type": "stream",
     "text": [
      "Grid configuration same as last episode\n",
      "Grid configuration same as last episode\n",
      "Grid configuration same as last episode\n",
      "Grid configuration same as last episode\n",
      "Grid configuration same as last episode\n"
     ]
    },
    {
     "name": "stdout",
     "output_type": "stream",
     "text": [
      "Update 764: Reward P1: -146, Reward P2: -146\n",
      "Update 765: Reward P1: -136, Reward P2: -136\n"
     ]
    },
    {
     "name": "stderr",
     "output_type": "stream",
     "text": [
      "Grid configuration same as last episode\n",
      "Grid configuration same as last episode\n",
      "Grid configuration same as last episode\n",
      "Grid configuration same as last episode\n",
      "Grid configuration same as last episode\n",
      "Grid configuration same as last episode\n"
     ]
    },
    {
     "name": "stdout",
     "output_type": "stream",
     "text": [
      "Update 766: Reward P1: -126, Reward P2: -126\n",
      "Update 767: Reward P1: -116, Reward P2: -116\n"
     ]
    },
    {
     "name": "stderr",
     "output_type": "stream",
     "text": [
      "Grid configuration same as last episode\n",
      "Grid configuration same as last episode\n",
      "Grid configuration same as last episode\n",
      "Grid configuration same as last episode\n",
      "Grid configuration same as last episode\n",
      "Grid configuration same as last episode\n"
     ]
    },
    {
     "name": "stdout",
     "output_type": "stream",
     "text": [
      "Update 768: Reward P1: -186, Reward P2: -186\n",
      "Update 769: Reward P1: -106, Reward P2: -106\n"
     ]
    },
    {
     "name": "stderr",
     "output_type": "stream",
     "text": [
      "Grid configuration same as last episode\n",
      "Grid configuration same as last episode\n",
      "Grid configuration same as last episode\n",
      "Grid configuration same as last episode\n",
      "Grid configuration same as last episode\n",
      "Grid configuration same as last episode\n"
     ]
    },
    {
     "name": "stdout",
     "output_type": "stream",
     "text": [
      "Update 770: Reward P1: -106, Reward P2: -106\n",
      "Update 771: Reward P1: -126, Reward P2: -126\n"
     ]
    },
    {
     "name": "stderr",
     "output_type": "stream",
     "text": [
      "Grid configuration same as last episode\n",
      "Grid configuration same as last episode\n",
      "Grid configuration same as last episode\n",
      "Grid configuration same as last episode\n",
      "Grid configuration same as last episode\n",
      "Grid configuration same as last episode\n",
      "Grid configuration same as last episode\n"
     ]
    },
    {
     "name": "stdout",
     "output_type": "stream",
     "text": [
      "Update 772: Reward P1: -186, Reward P2: -186\n",
      "Update 773: Reward P1: -136, Reward P2: -136\n"
     ]
    },
    {
     "name": "stderr",
     "output_type": "stream",
     "text": [
      "Grid configuration same as last episode\n",
      "Grid configuration same as last episode\n",
      "Grid configuration same as last episode\n",
      "Grid configuration same as last episode\n",
      "Grid configuration same as last episode\n"
     ]
    },
    {
     "name": "stdout",
     "output_type": "stream",
     "text": [
      "Update 774: Reward P1: -56, Reward P2: -56\n",
      "Update 775: Reward P1: -106, Reward P2: -106\n"
     ]
    },
    {
     "name": "stderr",
     "output_type": "stream",
     "text": [
      "Grid configuration same as last episode\n",
      "Grid configuration same as last episode\n",
      "Grid configuration same as last episode\n",
      "Grid configuration same as last episode\n",
      "Grid configuration same as last episode\n",
      "Grid configuration same as last episode\n",
      "Grid configuration same as last episode\n"
     ]
    },
    {
     "name": "stdout",
     "output_type": "stream",
     "text": [
      "Update 776: Reward P1: -166, Reward P2: -166\n",
      "Update 777: Reward P1: -86, Reward P2: -86\n"
     ]
    },
    {
     "name": "stderr",
     "output_type": "stream",
     "text": [
      "Grid configuration same as last episode\n",
      "Grid configuration same as last episode\n",
      "Grid configuration same as last episode\n",
      "Grid configuration same as last episode\n",
      "Grid configuration same as last episode\n",
      "Grid configuration same as last episode\n"
     ]
    },
    {
     "name": "stdout",
     "output_type": "stream",
     "text": [
      "Update 778: Reward P1: -96, Reward P2: -96\n",
      "Update 779: Reward P1: -66, Reward P2: -66\n"
     ]
    },
    {
     "name": "stderr",
     "output_type": "stream",
     "text": [
      "Grid configuration same as last episode\n",
      "Grid configuration same as last episode\n",
      "Grid configuration same as last episode\n",
      "Grid configuration same as last episode\n",
      "Grid configuration same as last episode\n",
      "Grid configuration same as last episode\n"
     ]
    },
    {
     "name": "stdout",
     "output_type": "stream",
     "text": [
      "Update 780: Reward P1: -106, Reward P2: -106\n",
      "Update 781: Reward P1: -156, Reward P2: -156\n"
     ]
    },
    {
     "name": "stderr",
     "output_type": "stream",
     "text": [
      "Grid configuration same as last episode\n",
      "Grid configuration same as last episode\n",
      "Grid configuration same as last episode\n",
      "Grid configuration same as last episode\n",
      "Grid configuration same as last episode\n",
      "Grid configuration same as last episode\n"
     ]
    },
    {
     "name": "stdout",
     "output_type": "stream",
     "text": [
      "Update 782: Reward P1: -186, Reward P2: -186\n",
      "Update 783: Reward P1: -76, Reward P2: -76\n"
     ]
    },
    {
     "name": "stderr",
     "output_type": "stream",
     "text": [
      "Grid configuration same as last episode\n",
      "Grid configuration same as last episode\n",
      "Grid configuration same as last episode\n",
      "Grid configuration same as last episode\n",
      "Grid configuration same as last episode\n",
      "Grid configuration same as last episode\n"
     ]
    },
    {
     "name": "stdout",
     "output_type": "stream",
     "text": [
      "Update 784: Reward P1: -116, Reward P2: -116\n",
      "Update 785: Reward P1: -96, Reward P2: -96\n"
     ]
    },
    {
     "name": "stderr",
     "output_type": "stream",
     "text": [
      "Grid configuration same as last episode\n",
      "Grid configuration same as last episode\n",
      "Grid configuration same as last episode\n",
      "Grid configuration same as last episode\n",
      "Grid configuration same as last episode\n",
      "Grid configuration same as last episode\n"
     ]
    },
    {
     "name": "stdout",
     "output_type": "stream",
     "text": [
      "Update 786: Reward P1: -106, Reward P2: -106\n",
      "Update 787: Reward P1: -136, Reward P2: -136\n"
     ]
    },
    {
     "name": "stderr",
     "output_type": "stream",
     "text": [
      "Grid configuration same as last episode\n",
      "Grid configuration same as last episode\n",
      "Grid configuration same as last episode\n",
      "Grid configuration same as last episode\n",
      "Grid configuration same as last episode\n",
      "Grid configuration same as last episode\n"
     ]
    },
    {
     "name": "stdout",
     "output_type": "stream",
     "text": [
      "Update 788: Reward P1: -76, Reward P2: -76\n",
      "Update 789: Reward P1: -116, Reward P2: -116\n"
     ]
    },
    {
     "name": "stderr",
     "output_type": "stream",
     "text": [
      "Grid configuration same as last episode\n",
      "Grid configuration same as last episode\n",
      "Grid configuration same as last episode\n",
      "Grid configuration same as last episode\n",
      "Grid configuration same as last episode\n",
      "Grid configuration same as last episode\n"
     ]
    },
    {
     "name": "stdout",
     "output_type": "stream",
     "text": [
      "Update 790: Reward P1: -126, Reward P2: -126\n",
      "Update 791: Reward P1: -116, Reward P2: -116\n"
     ]
    },
    {
     "name": "stderr",
     "output_type": "stream",
     "text": [
      "Grid configuration same as last episode\n",
      "Grid configuration same as last episode\n",
      "Grid configuration same as last episode\n",
      "Grid configuration same as last episode\n",
      "Grid configuration same as last episode\n",
      "Grid configuration same as last episode\n"
     ]
    },
    {
     "name": "stdout",
     "output_type": "stream",
     "text": [
      "Update 792: Reward P1: -126, Reward P2: -126\n",
      "Update 793: Reward P1: -126, Reward P2: -126\n"
     ]
    },
    {
     "name": "stderr",
     "output_type": "stream",
     "text": [
      "Grid configuration same as last episode\n",
      "Grid configuration same as last episode\n",
      "Grid configuration same as last episode\n",
      "Grid configuration same as last episode\n",
      "Grid configuration same as last episode\n",
      "Grid configuration same as last episode\n"
     ]
    },
    {
     "name": "stdout",
     "output_type": "stream",
     "text": [
      "Update 794: Reward P1: -156, Reward P2: -156\n",
      "Update 795: Reward P1: -146, Reward P2: -146\n"
     ]
    },
    {
     "name": "stderr",
     "output_type": "stream",
     "text": [
      "Grid configuration same as last episode\n",
      "Grid configuration same as last episode\n",
      "Grid configuration same as last episode\n",
      "Grid configuration same as last episode\n",
      "Grid configuration same as last episode\n"
     ]
    },
    {
     "name": "stdout",
     "output_type": "stream",
     "text": [
      "Update 796: Reward P1: -166, Reward P2: -166\n",
      "Update 797: Reward P1: -146, Reward P2: -146\n"
     ]
    },
    {
     "name": "stderr",
     "output_type": "stream",
     "text": [
      "Grid configuration same as last episode\n",
      "Grid configuration same as last episode\n",
      "Grid configuration same as last episode\n",
      "Grid configuration same as last episode\n",
      "Grid configuration same as last episode\n",
      "Grid configuration same as last episode\n"
     ]
    },
    {
     "name": "stdout",
     "output_type": "stream",
     "text": [
      "Update 798: Reward P1: -86, Reward P2: -86\n",
      "Update 799: Reward P1: -186, Reward P2: -186\n"
     ]
    },
    {
     "name": "stderr",
     "output_type": "stream",
     "text": [
      "Grid configuration same as last episode\n",
      "Grid configuration same as last episode\n",
      "Grid configuration same as last episode\n",
      "Grid configuration same as last episode\n",
      "Grid configuration same as last episode\n",
      "Grid configuration same as last episode\n",
      "Grid configuration same as last episode\n"
     ]
    },
    {
     "name": "stdout",
     "output_type": "stream",
     "text": [
      "Update 800: Reward P1: -126, Reward P2: -126\n",
      "Update 801: Reward P1: -126, Reward P2: -126\n"
     ]
    },
    {
     "name": "stderr",
     "output_type": "stream",
     "text": [
      "Grid configuration same as last episode\n",
      "Grid configuration same as last episode\n",
      "Grid configuration same as last episode\n",
      "Grid configuration same as last episode\n",
      "Grid configuration same as last episode\n",
      "Grid configuration same as last episode\n"
     ]
    },
    {
     "name": "stdout",
     "output_type": "stream",
     "text": [
      "Update 802: Reward P1: -126, Reward P2: -126\n",
      "Update 803: Reward P1: -106, Reward P2: -106\n"
     ]
    },
    {
     "name": "stderr",
     "output_type": "stream",
     "text": [
      "Grid configuration same as last episode\n",
      "Grid configuration same as last episode\n",
      "Grid configuration same as last episode\n",
      "Grid configuration same as last episode\n",
      "Grid configuration same as last episode\n",
      "Grid configuration same as last episode\n"
     ]
    },
    {
     "name": "stdout",
     "output_type": "stream",
     "text": [
      "Update 804: Reward P1: -106, Reward P2: -106\n",
      "Update 805: Reward P1: -116, Reward P2: -116\n"
     ]
    },
    {
     "name": "stderr",
     "output_type": "stream",
     "text": [
      "Grid configuration same as last episode\n",
      "Grid configuration same as last episode\n",
      "Grid configuration same as last episode\n",
      "Grid configuration same as last episode\n",
      "Grid configuration same as last episode\n",
      "Grid configuration same as last episode\n"
     ]
    },
    {
     "name": "stdout",
     "output_type": "stream",
     "text": [
      "Update 806: Reward P1: -126, Reward P2: -126\n",
      "Update 807: Reward P1: -136, Reward P2: -136\n"
     ]
    },
    {
     "name": "stderr",
     "output_type": "stream",
     "text": [
      "Grid configuration same as last episode\n",
      "Grid configuration same as last episode\n",
      "Grid configuration same as last episode\n",
      "Grid configuration same as last episode\n",
      "Grid configuration same as last episode\n"
     ]
    },
    {
     "name": "stdout",
     "output_type": "stream",
     "text": [
      "Update 808: Reward P1: -86, Reward P2: -86\n",
      "Update 809: Reward P1: -116, Reward P2: -116\n"
     ]
    },
    {
     "name": "stderr",
     "output_type": "stream",
     "text": [
      "Grid configuration same as last episode\n",
      "Grid configuration same as last episode\n",
      "Grid configuration same as last episode\n",
      "Grid configuration same as last episode\n",
      "Grid configuration same as last episode\n",
      "Grid configuration same as last episode\n"
     ]
    },
    {
     "name": "stdout",
     "output_type": "stream",
     "text": [
      "Update 810: Reward P1: -126, Reward P2: -126\n",
      "Update 811: Reward P1: -136, Reward P2: -136\n"
     ]
    },
    {
     "name": "stderr",
     "output_type": "stream",
     "text": [
      "Grid configuration same as last episode\n",
      "Grid configuration same as last episode\n",
      "Grid configuration same as last episode\n",
      "Grid configuration same as last episode\n",
      "Grid configuration same as last episode\n",
      "Grid configuration same as last episode\n",
      "Grid configuration same as last episode\n"
     ]
    },
    {
     "name": "stdout",
     "output_type": "stream",
     "text": [
      "Update 812: Reward P1: -116, Reward P2: -116\n",
      "Update 813: Reward P1: -156, Reward P2: -156\n"
     ]
    },
    {
     "name": "stderr",
     "output_type": "stream",
     "text": [
      "Grid configuration same as last episode\n",
      "Grid configuration same as last episode\n",
      "Grid configuration same as last episode\n",
      "Grid configuration same as last episode\n",
      "Grid configuration same as last episode\n",
      "Grid configuration same as last episode\n"
     ]
    },
    {
     "name": "stdout",
     "output_type": "stream",
     "text": [
      "Update 814: Reward P1: -136, Reward P2: -136\n",
      "Update 815: Reward P1: -96, Reward P2: -96\n"
     ]
    },
    {
     "name": "stderr",
     "output_type": "stream",
     "text": [
      "Grid configuration same as last episode\n",
      "Grid configuration same as last episode\n",
      "Grid configuration same as last episode\n",
      "Grid configuration same as last episode\n",
      "Grid configuration same as last episode\n",
      "Grid configuration same as last episode\n"
     ]
    },
    {
     "name": "stdout",
     "output_type": "stream",
     "text": [
      "Update 816: Reward P1: -136, Reward P2: -136\n",
      "Update 817: Reward P1: -56, Reward P2: -56\n"
     ]
    },
    {
     "name": "stderr",
     "output_type": "stream",
     "text": [
      "Grid configuration same as last episode\n",
      "Grid configuration same as last episode\n",
      "Grid configuration same as last episode\n",
      "Grid configuration same as last episode\n",
      "Grid configuration same as last episode\n"
     ]
    },
    {
     "name": "stdout",
     "output_type": "stream",
     "text": [
      "Update 818: Reward P1: -146, Reward P2: -146\n",
      "Update 819: Reward P1: -126, Reward P2: -126\n"
     ]
    },
    {
     "name": "stderr",
     "output_type": "stream",
     "text": [
      "Grid configuration same as last episode\n",
      "Grid configuration same as last episode\n",
      "Grid configuration same as last episode\n",
      "Grid configuration same as last episode\n",
      "Grid configuration same as last episode\n",
      "Grid configuration same as last episode\n"
     ]
    },
    {
     "name": "stdout",
     "output_type": "stream",
     "text": [
      "Update 820: Reward P1: -186, Reward P2: -186\n",
      "Update 821: Reward P1: -136, Reward P2: -136\n"
     ]
    },
    {
     "name": "stderr",
     "output_type": "stream",
     "text": [
      "Grid configuration same as last episode\n",
      "Grid configuration same as last episode\n",
      "Grid configuration same as last episode\n",
      "Grid configuration same as last episode\n",
      "Grid configuration same as last episode\n",
      "Grid configuration same as last episode\n"
     ]
    },
    {
     "name": "stdout",
     "output_type": "stream",
     "text": [
      "Update 822: Reward P1: -166, Reward P2: -166\n",
      "Update 823: Reward P1: -116, Reward P2: -116\n"
     ]
    },
    {
     "name": "stderr",
     "output_type": "stream",
     "text": [
      "Grid configuration same as last episode\n",
      "Grid configuration same as last episode\n",
      "Grid configuration same as last episode\n",
      "Grid configuration same as last episode\n",
      "Grid configuration same as last episode\n",
      "Grid configuration same as last episode\n"
     ]
    },
    {
     "name": "stdout",
     "output_type": "stream",
     "text": [
      "Update 824: Reward P1: -106, Reward P2: -106\n",
      "Update 825: Reward P1: -96, Reward P2: -96\n"
     ]
    },
    {
     "name": "stderr",
     "output_type": "stream",
     "text": [
      "Grid configuration same as last episode\n",
      "Grid configuration same as last episode\n",
      "Grid configuration same as last episode\n",
      "Grid configuration same as last episode\n",
      "Grid configuration same as last episode\n",
      "Grid configuration same as last episode\n"
     ]
    },
    {
     "name": "stdout",
     "output_type": "stream",
     "text": [
      "Update 826: Reward P1: -126, Reward P2: -126\n",
      "Update 827: Reward P1: -96, Reward P2: -96\n"
     ]
    },
    {
     "name": "stderr",
     "output_type": "stream",
     "text": [
      "Grid configuration same as last episode\n",
      "Grid configuration same as last episode\n",
      "Grid configuration same as last episode\n",
      "Grid configuration same as last episode\n",
      "Grid configuration same as last episode\n",
      "Grid configuration same as last episode\n"
     ]
    },
    {
     "name": "stdout",
     "output_type": "stream",
     "text": [
      "Update 828: Reward P1: -96, Reward P2: -96\n",
      "Update 829: Reward P1: -126, Reward P2: -126\n"
     ]
    },
    {
     "name": "stderr",
     "output_type": "stream",
     "text": [
      "Grid configuration same as last episode\n",
      "Grid configuration same as last episode\n",
      "Grid configuration same as last episode\n",
      "Grid configuration same as last episode\n",
      "Grid configuration same as last episode\n",
      "Grid configuration same as last episode\n"
     ]
    },
    {
     "name": "stdout",
     "output_type": "stream",
     "text": [
      "Update 830: Reward P1: -106, Reward P2: -106\n",
      "Update 831: Reward P1: -86, Reward P2: -86\n"
     ]
    },
    {
     "name": "stderr",
     "output_type": "stream",
     "text": [
      "Grid configuration same as last episode\n",
      "Grid configuration same as last episode\n",
      "Grid configuration same as last episode\n",
      "Grid configuration same as last episode\n",
      "Grid configuration same as last episode\n",
      "Grid configuration same as last episode\n"
     ]
    },
    {
     "name": "stdout",
     "output_type": "stream",
     "text": [
      "Update 832: Reward P1: -146, Reward P2: -146\n",
      "Update 833: Reward P1: -96, Reward P2: -96\n"
     ]
    },
    {
     "name": "stderr",
     "output_type": "stream",
     "text": [
      "Grid configuration same as last episode\n",
      "Grid configuration same as last episode\n",
      "Grid configuration same as last episode\n",
      "Grid configuration same as last episode\n",
      "Grid configuration same as last episode\n",
      "Grid configuration same as last episode\n"
     ]
    },
    {
     "name": "stdout",
     "output_type": "stream",
     "text": [
      "Update 834: Reward P1: -176, Reward P2: -176\n",
      "Update 835: Reward P1: -126, Reward P2: -126\n"
     ]
    },
    {
     "name": "stderr",
     "output_type": "stream",
     "text": [
      "Grid configuration same as last episode\n",
      "Grid configuration same as last episode\n",
      "Grid configuration same as last episode\n",
      "Grid configuration same as last episode\n",
      "Grid configuration same as last episode\n",
      "Grid configuration same as last episode\n"
     ]
    },
    {
     "name": "stdout",
     "output_type": "stream",
     "text": [
      "Update 836: Reward P1: -76, Reward P2: -76\n",
      "Update 837: Reward P1: -176, Reward P2: -176\n"
     ]
    },
    {
     "name": "stderr",
     "output_type": "stream",
     "text": [
      "Grid configuration same as last episode\n",
      "Grid configuration same as last episode\n",
      "Grid configuration same as last episode\n",
      "Grid configuration same as last episode\n",
      "Grid configuration same as last episode\n",
      "Grid configuration same as last episode\n"
     ]
    },
    {
     "name": "stdout",
     "output_type": "stream",
     "text": [
      "Update 838: Reward P1: -126, Reward P2: -126\n",
      "Update 839: Reward P1: -86, Reward P2: -86\n"
     ]
    },
    {
     "name": "stderr",
     "output_type": "stream",
     "text": [
      "Grid configuration same as last episode\n",
      "Grid configuration same as last episode\n",
      "Grid configuration same as last episode\n",
      "Grid configuration same as last episode\n",
      "Grid configuration same as last episode\n",
      "Grid configuration same as last episode\n"
     ]
    },
    {
     "name": "stdout",
     "output_type": "stream",
     "text": [
      "Update 840: Reward P1: -136, Reward P2: -136\n",
      "Update 841: Reward P1: -156, Reward P2: -156\n"
     ]
    },
    {
     "name": "stderr",
     "output_type": "stream",
     "text": [
      "Grid configuration same as last episode\n",
      "Grid configuration same as last episode\n",
      "Grid configuration same as last episode\n",
      "Grid configuration same as last episode\n",
      "Grid configuration same as last episode\n",
      "Grid configuration same as last episode\n"
     ]
    },
    {
     "name": "stdout",
     "output_type": "stream",
     "text": [
      "Update 842: Reward P1: -136, Reward P2: -136\n",
      "Update 843: Reward P1: -96, Reward P2: -96\n"
     ]
    },
    {
     "name": "stderr",
     "output_type": "stream",
     "text": [
      "Grid configuration same as last episode\n",
      "Grid configuration same as last episode\n",
      "Grid configuration same as last episode\n",
      "Grid configuration same as last episode\n",
      "Grid configuration same as last episode\n",
      "Grid configuration same as last episode\n"
     ]
    },
    {
     "name": "stdout",
     "output_type": "stream",
     "text": [
      "Update 844: Reward P1: -106, Reward P2: -106\n",
      "Update 845: Reward P1: -116, Reward P2: -116\n"
     ]
    },
    {
     "name": "stderr",
     "output_type": "stream",
     "text": [
      "Grid configuration same as last episode\n",
      "Grid configuration same as last episode\n",
      "Grid configuration same as last episode\n",
      "Grid configuration same as last episode\n",
      "Grid configuration same as last episode\n",
      "Grid configuration same as last episode\n"
     ]
    },
    {
     "name": "stdout",
     "output_type": "stream",
     "text": [
      "Update 846: Reward P1: -116, Reward P2: -116\n",
      "Update 847: Reward P1: -126, Reward P2: -126\n"
     ]
    },
    {
     "name": "stderr",
     "output_type": "stream",
     "text": [
      "Grid configuration same as last episode\n",
      "Grid configuration same as last episode\n",
      "Grid configuration same as last episode\n",
      "Grid configuration same as last episode\n",
      "Grid configuration same as last episode\n",
      "Grid configuration same as last episode\n"
     ]
    },
    {
     "name": "stdout",
     "output_type": "stream",
     "text": [
      "Update 848: Reward P1: -126, Reward P2: -126\n",
      "Update 849: Reward P1: -76, Reward P2: -76\n"
     ]
    },
    {
     "name": "stderr",
     "output_type": "stream",
     "text": [
      "Grid configuration same as last episode\n",
      "Grid configuration same as last episode\n",
      "Grid configuration same as last episode\n",
      "Grid configuration same as last episode\n",
      "Grid configuration same as last episode\n",
      "Grid configuration same as last episode\n"
     ]
    },
    {
     "name": "stdout",
     "output_type": "stream",
     "text": [
      "Update 850: Reward P1: -126, Reward P2: -126\n",
      "Update 851: Reward P1: -176, Reward P2: -176\n"
     ]
    },
    {
     "name": "stderr",
     "output_type": "stream",
     "text": [
      "Grid configuration same as last episode\n",
      "Grid configuration same as last episode\n",
      "Grid configuration same as last episode\n",
      "Grid configuration same as last episode\n",
      "Grid configuration same as last episode\n",
      "Grid configuration same as last episode\n"
     ]
    },
    {
     "name": "stdout",
     "output_type": "stream",
     "text": [
      "Update 852: Reward P1: -176, Reward P2: -176\n",
      "Update 853: Reward P1: -106, Reward P2: -106\n"
     ]
    },
    {
     "name": "stderr",
     "output_type": "stream",
     "text": [
      "Grid configuration same as last episode\n",
      "Grid configuration same as last episode\n",
      "Grid configuration same as last episode\n",
      "Grid configuration same as last episode\n",
      "Grid configuration same as last episode\n",
      "Grid configuration same as last episode\n",
      "Grid configuration same as last episode\n"
     ]
    },
    {
     "name": "stdout",
     "output_type": "stream",
     "text": [
      "Update 854: Reward P1: -156, Reward P2: -156\n",
      "Update 855: Reward P1: -106, Reward P2: -106\n"
     ]
    },
    {
     "name": "stderr",
     "output_type": "stream",
     "text": [
      "Grid configuration same as last episode\n",
      "Grid configuration same as last episode\n",
      "Grid configuration same as last episode\n",
      "Grid configuration same as last episode\n",
      "Grid configuration same as last episode\n",
      "Grid configuration same as last episode\n"
     ]
    },
    {
     "name": "stdout",
     "output_type": "stream",
     "text": [
      "Update 856: Reward P1: -106, Reward P2: -106\n",
      "Update 857: Reward P1: -136, Reward P2: -136\n"
     ]
    },
    {
     "name": "stderr",
     "output_type": "stream",
     "text": [
      "Grid configuration same as last episode\n",
      "Grid configuration same as last episode\n",
      "Grid configuration same as last episode\n",
      "Grid configuration same as last episode\n",
      "Grid configuration same as last episode\n"
     ]
    },
    {
     "name": "stdout",
     "output_type": "stream",
     "text": [
      "Update 858: Reward P1: -56, Reward P2: -56\n",
      "Update 859: Reward P1: -136, Reward P2: -136\n"
     ]
    },
    {
     "name": "stderr",
     "output_type": "stream",
     "text": [
      "Grid configuration same as last episode\n",
      "Grid configuration same as last episode\n",
      "Grid configuration same as last episode\n",
      "Grid configuration same as last episode\n",
      "Grid configuration same as last episode\n",
      "Grid configuration same as last episode\n"
     ]
    },
    {
     "name": "stdout",
     "output_type": "stream",
     "text": [
      "Update 860: Reward P1: -106, Reward P2: -106\n",
      "Update 861: Reward P1: -126, Reward P2: -126\n"
     ]
    },
    {
     "name": "stderr",
     "output_type": "stream",
     "text": [
      "Grid configuration same as last episode\n",
      "Grid configuration same as last episode\n",
      "Grid configuration same as last episode\n",
      "Grid configuration same as last episode\n",
      "Grid configuration same as last episode\n",
      "Grid configuration same as last episode\n"
     ]
    },
    {
     "name": "stdout",
     "output_type": "stream",
     "text": [
      "Update 862: Reward P1: -116, Reward P2: -116\n",
      "Update 863: Reward P1: -136, Reward P2: -136\n"
     ]
    },
    {
     "name": "stderr",
     "output_type": "stream",
     "text": [
      "Grid configuration same as last episode\n",
      "Grid configuration same as last episode\n",
      "Grid configuration same as last episode\n",
      "Grid configuration same as last episode\n",
      "Grid configuration same as last episode\n",
      "Grid configuration same as last episode\n",
      "Grid configuration same as last episode\n"
     ]
    },
    {
     "name": "stdout",
     "output_type": "stream",
     "text": [
      "Update 864: Reward P1: -96, Reward P2: -96\n",
      "Update 865: Reward P1: -116, Reward P2: -116\n"
     ]
    },
    {
     "name": "stderr",
     "output_type": "stream",
     "text": [
      "Grid configuration same as last episode\n",
      "Grid configuration same as last episode\n",
      "Grid configuration same as last episode\n",
      "Grid configuration same as last episode\n",
      "Grid configuration same as last episode\n",
      "Grid configuration same as last episode\n"
     ]
    },
    {
     "name": "stdout",
     "output_type": "stream",
     "text": [
      "Update 866: Reward P1: -106, Reward P2: -106\n",
      "Update 867: Reward P1: -176, Reward P2: -176\n"
     ]
    },
    {
     "name": "stderr",
     "output_type": "stream",
     "text": [
      "Grid configuration same as last episode\n",
      "Grid configuration same as last episode\n",
      "Grid configuration same as last episode\n",
      "Grid configuration same as last episode\n",
      "Grid configuration same as last episode\n",
      "Grid configuration same as last episode\n"
     ]
    },
    {
     "name": "stdout",
     "output_type": "stream",
     "text": [
      "Update 868: Reward P1: -136, Reward P2: -136\n",
      "Update 869: Reward P1: -86, Reward P2: -86\n"
     ]
    },
    {
     "name": "stderr",
     "output_type": "stream",
     "text": [
      "Grid configuration same as last episode\n",
      "Grid configuration same as last episode\n",
      "Grid configuration same as last episode\n",
      "Grid configuration same as last episode\n",
      "Grid configuration same as last episode\n",
      "Grid configuration same as last episode\n"
     ]
    },
    {
     "name": "stdout",
     "output_type": "stream",
     "text": [
      "Update 870: Reward P1: -116, Reward P2: -116\n",
      "Update 871: Reward P1: -146, Reward P2: -146\n"
     ]
    },
    {
     "name": "stderr",
     "output_type": "stream",
     "text": [
      "Grid configuration same as last episode\n",
      "Grid configuration same as last episode\n",
      "Grid configuration same as last episode\n",
      "Grid configuration same as last episode\n",
      "Grid configuration same as last episode\n",
      "Grid configuration same as last episode\n"
     ]
    },
    {
     "name": "stdout",
     "output_type": "stream",
     "text": [
      "Update 872: Reward P1: -116, Reward P2: -116\n",
      "Update 873: Reward P1: -136, Reward P2: -136\n"
     ]
    },
    {
     "name": "stderr",
     "output_type": "stream",
     "text": [
      "Grid configuration same as last episode\n",
      "Grid configuration same as last episode\n",
      "Grid configuration same as last episode\n",
      "Grid configuration same as last episode\n",
      "Grid configuration same as last episode\n",
      "Grid configuration same as last episode\n"
     ]
    },
    {
     "name": "stdout",
     "output_type": "stream",
     "text": [
      "Update 874: Reward P1: -116, Reward P2: -116\n",
      "Update 875: Reward P1: -126, Reward P2: -126\n"
     ]
    },
    {
     "name": "stderr",
     "output_type": "stream",
     "text": [
      "Grid configuration same as last episode\n",
      "Grid configuration same as last episode\n",
      "Grid configuration same as last episode\n",
      "Grid configuration same as last episode\n",
      "Grid configuration same as last episode\n",
      "Grid configuration same as last episode\n"
     ]
    },
    {
     "name": "stdout",
     "output_type": "stream",
     "text": [
      "Update 876: Reward P1: -86, Reward P2: -86\n",
      "Update 877: Reward P1: -86, Reward P2: -86\n"
     ]
    },
    {
     "name": "stderr",
     "output_type": "stream",
     "text": [
      "Grid configuration same as last episode\n",
      "Grid configuration same as last episode\n",
      "Grid configuration same as last episode\n",
      "Grid configuration same as last episode\n",
      "Grid configuration same as last episode\n",
      "Grid configuration same as last episode\n"
     ]
    },
    {
     "name": "stdout",
     "output_type": "stream",
     "text": [
      "Update 878: Reward P1: -106, Reward P2: -106\n",
      "Update 879: Reward P1: -126, Reward P2: -126\n"
     ]
    },
    {
     "name": "stderr",
     "output_type": "stream",
     "text": [
      "Grid configuration same as last episode\n",
      "Grid configuration same as last episode\n",
      "Grid configuration same as last episode\n",
      "Grid configuration same as last episode\n",
      "Grid configuration same as last episode\n",
      "Grid configuration same as last episode\n"
     ]
    },
    {
     "name": "stdout",
     "output_type": "stream",
     "text": [
      "Update 880: Reward P1: -156, Reward P2: -156\n",
      "Update 881: Reward P1: -116, Reward P2: -116\n"
     ]
    },
    {
     "name": "stderr",
     "output_type": "stream",
     "text": [
      "Grid configuration same as last episode\n",
      "Grid configuration same as last episode\n",
      "Grid configuration same as last episode\n",
      "Grid configuration same as last episode\n",
      "Grid configuration same as last episode\n",
      "Grid configuration same as last episode\n"
     ]
    },
    {
     "name": "stdout",
     "output_type": "stream",
     "text": [
      "Update 882: Reward P1: -156, Reward P2: -156\n",
      "Update 883: Reward P1: -146, Reward P2: -146\n"
     ]
    },
    {
     "name": "stderr",
     "output_type": "stream",
     "text": [
      "Grid configuration same as last episode\n",
      "Grid configuration same as last episode\n",
      "Grid configuration same as last episode\n",
      "Grid configuration same as last episode\n",
      "Grid configuration same as last episode\n"
     ]
    },
    {
     "name": "stdout",
     "output_type": "stream",
     "text": [
      "Update 884: Reward P1: -176, Reward P2: -176\n",
      "Update 885: Reward P1: -126, Reward P2: -126\n"
     ]
    },
    {
     "name": "stderr",
     "output_type": "stream",
     "text": [
      "Grid configuration same as last episode\n",
      "Grid configuration same as last episode\n",
      "Grid configuration same as last episode\n",
      "Grid configuration same as last episode\n",
      "Grid configuration same as last episode\n",
      "Grid configuration same as last episode\n",
      "Grid configuration same as last episode\n"
     ]
    },
    {
     "name": "stdout",
     "output_type": "stream",
     "text": [
      "Update 886: Reward P1: -136, Reward P2: -136\n",
      "Update 887: Reward P1: -76, Reward P2: -76\n"
     ]
    },
    {
     "name": "stderr",
     "output_type": "stream",
     "text": [
      "Grid configuration same as last episode\n",
      "Grid configuration same as last episode\n",
      "Grid configuration same as last episode\n",
      "Grid configuration same as last episode\n",
      "Grid configuration same as last episode\n",
      "Grid configuration same as last episode\n"
     ]
    },
    {
     "name": "stdout",
     "output_type": "stream",
     "text": [
      "Update 888: Reward P1: -116, Reward P2: -116\n",
      "Update 889: Reward P1: -116, Reward P2: -116\n"
     ]
    },
    {
     "name": "stderr",
     "output_type": "stream",
     "text": [
      "Grid configuration same as last episode\n",
      "Grid configuration same as last episode\n",
      "Grid configuration same as last episode\n",
      "Grid configuration same as last episode\n",
      "Grid configuration same as last episode\n"
     ]
    },
    {
     "name": "stdout",
     "output_type": "stream",
     "text": [
      "Update 890: Reward P1: -136, Reward P2: -136\n",
      "Update 891: Reward P1: -116, Reward P2: -116\n"
     ]
    },
    {
     "name": "stderr",
     "output_type": "stream",
     "text": [
      "Grid configuration same as last episode\n",
      "Grid configuration same as last episode\n",
      "Grid configuration same as last episode\n",
      "Grid configuration same as last episode\n",
      "Grid configuration same as last episode\n",
      "Grid configuration same as last episode\n",
      "Grid configuration same as last episode\n"
     ]
    },
    {
     "name": "stdout",
     "output_type": "stream",
     "text": [
      "Update 892: Reward P1: -116, Reward P2: -116\n",
      "Update 893: Reward P1: -116, Reward P2: -116\n"
     ]
    },
    {
     "name": "stderr",
     "output_type": "stream",
     "text": [
      "Grid configuration same as last episode\n",
      "Grid configuration same as last episode\n",
      "Grid configuration same as last episode\n",
      "Grid configuration same as last episode\n",
      "Grid configuration same as last episode\n",
      "Grid configuration same as last episode\n"
     ]
    },
    {
     "name": "stdout",
     "output_type": "stream",
     "text": [
      "Update 894: Reward P1: -136, Reward P2: -136\n",
      "Update 895: Reward P1: -136, Reward P2: -136\n"
     ]
    },
    {
     "name": "stderr",
     "output_type": "stream",
     "text": [
      "Grid configuration same as last episode\n",
      "Grid configuration same as last episode\n",
      "Grid configuration same as last episode\n"
     ]
    },
    {
     "name": "stdout",
     "output_type": "stream",
     "text": [
      "Update 896: Reward P1: -96, Reward P2: -96\n"
     ]
    },
    {
     "name": "stderr",
     "output_type": "stream",
     "text": [
      "Grid configuration same as last episode\n",
      "Grid configuration same as last episode\n",
      "Grid configuration same as last episode\n",
      "Grid configuration same as last episode\n",
      "Grid configuration same as last episode\n",
      "Grid configuration same as last episode\n"
     ]
    },
    {
     "name": "stdout",
     "output_type": "stream",
     "text": [
      "Update 897: Reward P1: -106, Reward P2: -106\n",
      "Update 898: Reward P1: -196, Reward P2: -196\n"
     ]
    },
    {
     "name": "stderr",
     "output_type": "stream",
     "text": [
      "Grid configuration same as last episode\n",
      "Grid configuration same as last episode\n",
      "Grid configuration same as last episode\n",
      "Grid configuration same as last episode\n",
      "Grid configuration same as last episode\n",
      "Grid configuration same as last episode\n"
     ]
    },
    {
     "name": "stdout",
     "output_type": "stream",
     "text": [
      "Update 899: Reward P1: -146, Reward P2: -146\n",
      "Update 900: Reward P1: -146, Reward P2: -146\n"
     ]
    },
    {
     "name": "stderr",
     "output_type": "stream",
     "text": [
      "Grid configuration same as last episode\n",
      "Grid configuration same as last episode\n",
      "Grid configuration same as last episode\n",
      "Grid configuration same as last episode\n",
      "Grid configuration same as last episode\n",
      "Grid configuration same as last episode\n"
     ]
    },
    {
     "name": "stdout",
     "output_type": "stream",
     "text": [
      "Update 901: Reward P1: -116, Reward P2: -116\n",
      "Update 902: Reward P1: -136, Reward P2: -136\n"
     ]
    },
    {
     "name": "stderr",
     "output_type": "stream",
     "text": [
      "Grid configuration same as last episode\n",
      "Grid configuration same as last episode\n",
      "Grid configuration same as last episode\n",
      "Grid configuration same as last episode\n",
      "Grid configuration same as last episode\n",
      "Grid configuration same as last episode\n"
     ]
    },
    {
     "name": "stdout",
     "output_type": "stream",
     "text": [
      "Update 903: Reward P1: -106, Reward P2: -106\n",
      "Update 904: Reward P1: -156, Reward P2: -156\n"
     ]
    },
    {
     "name": "stderr",
     "output_type": "stream",
     "text": [
      "Grid configuration same as last episode\n",
      "Grid configuration same as last episode\n",
      "Grid configuration same as last episode\n",
      "Grid configuration same as last episode\n",
      "Grid configuration same as last episode\n"
     ]
    },
    {
     "name": "stdout",
     "output_type": "stream",
     "text": [
      "Update 905: Reward P1: -86, Reward P2: -86\n",
      "Update 906: Reward P1: -96, Reward P2: -96\n"
     ]
    },
    {
     "name": "stderr",
     "output_type": "stream",
     "text": [
      "Grid configuration same as last episode\n",
      "Grid configuration same as last episode\n",
      "Grid configuration same as last episode\n",
      "Grid configuration same as last episode\n",
      "Grid configuration same as last episode\n",
      "Grid configuration same as last episode\n",
      "Grid configuration same as last episode\n"
     ]
    },
    {
     "name": "stdout",
     "output_type": "stream",
     "text": [
      "Update 907: Reward P1: -106, Reward P2: -106\n",
      "Update 908: Reward P1: -86, Reward P2: -86\n"
     ]
    },
    {
     "name": "stderr",
     "output_type": "stream",
     "text": [
      "Grid configuration same as last episode\n",
      "Grid configuration same as last episode\n",
      "Grid configuration same as last episode\n",
      "Grid configuration same as last episode\n",
      "Grid configuration same as last episode\n",
      "Grid configuration same as last episode\n"
     ]
    },
    {
     "name": "stdout",
     "output_type": "stream",
     "text": [
      "Update 909: Reward P1: -156, Reward P2: -156\n",
      "Update 910: Reward P1: -126, Reward P2: -126\n"
     ]
    },
    {
     "name": "stderr",
     "output_type": "stream",
     "text": [
      "Grid configuration same as last episode\n",
      "Grid configuration same as last episode\n",
      "Grid configuration same as last episode\n",
      "Grid configuration same as last episode\n",
      "Grid configuration same as last episode\n",
      "Grid configuration same as last episode\n"
     ]
    },
    {
     "name": "stdout",
     "output_type": "stream",
     "text": [
      "Update 911: Reward P1: -126, Reward P2: -126\n",
      "Update 912: Reward P1: -56, Reward P2: -56\n"
     ]
    },
    {
     "name": "stderr",
     "output_type": "stream",
     "text": [
      "Grid configuration same as last episode\n",
      "Grid configuration same as last episode\n",
      "Grid configuration same as last episode\n",
      "Grid configuration same as last episode\n",
      "Grid configuration same as last episode\n",
      "Grid configuration same as last episode\n"
     ]
    },
    {
     "name": "stdout",
     "output_type": "stream",
     "text": [
      "Update 913: Reward P1: -86, Reward P2: -86\n",
      "Update 914: Reward P1: -146, Reward P2: -146\n"
     ]
    },
    {
     "name": "stderr",
     "output_type": "stream",
     "text": [
      "Grid configuration same as last episode\n",
      "Grid configuration same as last episode\n",
      "Grid configuration same as last episode\n",
      "Grid configuration same as last episode\n",
      "Grid configuration same as last episode\n",
      "Grid configuration same as last episode\n"
     ]
    },
    {
     "name": "stdout",
     "output_type": "stream",
     "text": [
      "Update 915: Reward P1: -146, Reward P2: -146\n",
      "Update 916: Reward P1: -186, Reward P2: -186\n"
     ]
    },
    {
     "name": "stderr",
     "output_type": "stream",
     "text": [
      "Grid configuration same as last episode\n",
      "Grid configuration same as last episode\n",
      "Grid configuration same as last episode\n",
      "Grid configuration same as last episode\n",
      "Grid configuration same as last episode\n",
      "Grid configuration same as last episode\n"
     ]
    },
    {
     "name": "stdout",
     "output_type": "stream",
     "text": [
      "Update 917: Reward P1: -96, Reward P2: -96\n",
      "Update 918: Reward P1: -96, Reward P2: -96\n"
     ]
    },
    {
     "name": "stderr",
     "output_type": "stream",
     "text": [
      "Grid configuration same as last episode\n",
      "Grid configuration same as last episode\n",
      "Grid configuration same as last episode\n",
      "Grid configuration same as last episode\n",
      "Grid configuration same as last episode\n",
      "Grid configuration same as last episode\n"
     ]
    },
    {
     "name": "stdout",
     "output_type": "stream",
     "text": [
      "Update 919: Reward P1: -166, Reward P2: -166\n",
      "Update 920: Reward P1: -106, Reward P2: -106\n"
     ]
    },
    {
     "name": "stderr",
     "output_type": "stream",
     "text": [
      "Grid configuration same as last episode\n",
      "Grid configuration same as last episode\n",
      "Grid configuration same as last episode\n",
      "Grid configuration same as last episode\n",
      "Grid configuration same as last episode\n",
      "Grid configuration same as last episode\n"
     ]
    },
    {
     "name": "stdout",
     "output_type": "stream",
     "text": [
      "Update 921: Reward P1: -116, Reward P2: -116\n",
      "Update 922: Reward P1: -146, Reward P2: -146\n"
     ]
    },
    {
     "name": "stderr",
     "output_type": "stream",
     "text": [
      "Grid configuration same as last episode\n",
      "Grid configuration same as last episode\n",
      "Grid configuration same as last episode\n",
      "Grid configuration same as last episode\n",
      "Grid configuration same as last episode\n",
      "Grid configuration same as last episode\n"
     ]
    },
    {
     "name": "stdout",
     "output_type": "stream",
     "text": [
      "Update 923: Reward P1: -116, Reward P2: -116\n",
      "Update 924: Reward P1: -76, Reward P2: -76\n"
     ]
    },
    {
     "name": "stderr",
     "output_type": "stream",
     "text": [
      "Grid configuration same as last episode\n",
      "Grid configuration same as last episode\n",
      "Grid configuration same as last episode\n",
      "Grid configuration same as last episode\n",
      "Grid configuration same as last episode\n",
      "Grid configuration same as last episode\n"
     ]
    },
    {
     "name": "stdout",
     "output_type": "stream",
     "text": [
      "Update 925: Reward P1: -146, Reward P2: -146\n",
      "Update 926: Reward P1: -146, Reward P2: -146\n"
     ]
    },
    {
     "name": "stderr",
     "output_type": "stream",
     "text": [
      "Grid configuration same as last episode\n",
      "Grid configuration same as last episode\n",
      "Grid configuration same as last episode\n",
      "Grid configuration same as last episode\n",
      "Grid configuration same as last episode\n",
      "Grid configuration same as last episode\n"
     ]
    },
    {
     "name": "stdout",
     "output_type": "stream",
     "text": [
      "Update 927: Reward P1: -186, Reward P2: -186\n",
      "Update 928: Reward P1: -136, Reward P2: -136\n"
     ]
    },
    {
     "name": "stderr",
     "output_type": "stream",
     "text": [
      "Grid configuration same as last episode\n",
      "Grid configuration same as last episode\n",
      "Grid configuration same as last episode\n",
      "Grid configuration same as last episode\n",
      "Grid configuration same as last episode\n",
      "Grid configuration same as last episode\n"
     ]
    },
    {
     "name": "stdout",
     "output_type": "stream",
     "text": [
      "Update 929: Reward P1: -96, Reward P2: -96\n",
      "Update 930: Reward P1: -126, Reward P2: -126\n"
     ]
    },
    {
     "name": "stderr",
     "output_type": "stream",
     "text": [
      "Grid configuration same as last episode\n",
      "Grid configuration same as last episode\n",
      "Grid configuration same as last episode\n",
      "Grid configuration same as last episode\n",
      "Grid configuration same as last episode\n",
      "Grid configuration same as last episode\n"
     ]
    },
    {
     "name": "stdout",
     "output_type": "stream",
     "text": [
      "Update 931: Reward P1: -186, Reward P2: -186\n",
      "Update 932: Reward P1: -136, Reward P2: -136\n"
     ]
    },
    {
     "name": "stderr",
     "output_type": "stream",
     "text": [
      "Grid configuration same as last episode\n",
      "Grid configuration same as last episode\n",
      "Grid configuration same as last episode\n",
      "Grid configuration same as last episode\n",
      "Grid configuration same as last episode\n",
      "Grid configuration same as last episode\n"
     ]
    },
    {
     "name": "stdout",
     "output_type": "stream",
     "text": [
      "Update 933: Reward P1: -86, Reward P2: -86\n",
      "Update 934: Reward P1: -126, Reward P2: -126\n"
     ]
    },
    {
     "name": "stderr",
     "output_type": "stream",
     "text": [
      "Grid configuration same as last episode\n",
      "Grid configuration same as last episode\n",
      "Grid configuration same as last episode\n",
      "Grid configuration same as last episode\n",
      "Grid configuration same as last episode\n",
      "Grid configuration same as last episode\n"
     ]
    },
    {
     "name": "stdout",
     "output_type": "stream",
     "text": [
      "Update 935: Reward P1: -156, Reward P2: -156\n",
      "Update 936: Reward P1: -86, Reward P2: -86\n"
     ]
    },
    {
     "name": "stderr",
     "output_type": "stream",
     "text": [
      "Grid configuration same as last episode\n",
      "Grid configuration same as last episode\n",
      "Grid configuration same as last episode\n",
      "Grid configuration same as last episode\n",
      "Grid configuration same as last episode\n",
      "Grid configuration same as last episode\n"
     ]
    },
    {
     "name": "stdout",
     "output_type": "stream",
     "text": [
      "Update 937: Reward P1: -166, Reward P2: -166\n",
      "Update 938: Reward P1: -146, Reward P2: -146\n"
     ]
    },
    {
     "name": "stderr",
     "output_type": "stream",
     "text": [
      "Grid configuration same as last episode\n",
      "Grid configuration same as last episode\n",
      "Grid configuration same as last episode\n",
      "Grid configuration same as last episode\n",
      "Grid configuration same as last episode\n",
      "Grid configuration same as last episode\n"
     ]
    },
    {
     "name": "stdout",
     "output_type": "stream",
     "text": [
      "Update 939: Reward P1: -116, Reward P2: -116\n",
      "Update 940: Reward P1: -166, Reward P2: -166\n"
     ]
    },
    {
     "name": "stderr",
     "output_type": "stream",
     "text": [
      "Grid configuration same as last episode\n",
      "Grid configuration same as last episode\n",
      "Grid configuration same as last episode\n",
      "Grid configuration same as last episode\n",
      "Grid configuration same as last episode\n",
      "Grid configuration same as last episode\n"
     ]
    },
    {
     "name": "stdout",
     "output_type": "stream",
     "text": [
      "Update 941: Reward P1: -146, Reward P2: -146\n",
      "Update 942: Reward P1: -106, Reward P2: -106\n"
     ]
    },
    {
     "name": "stderr",
     "output_type": "stream",
     "text": [
      "Grid configuration same as last episode\n",
      "Grid configuration same as last episode\n",
      "Grid configuration same as last episode\n",
      "Grid configuration same as last episode\n",
      "Grid configuration same as last episode\n",
      "Grid configuration same as last episode\n"
     ]
    },
    {
     "name": "stdout",
     "output_type": "stream",
     "text": [
      "Update 943: Reward P1: -136, Reward P2: -136\n",
      "Update 944: Reward P1: -156, Reward P2: -156\n"
     ]
    },
    {
     "name": "stderr",
     "output_type": "stream",
     "text": [
      "Grid configuration same as last episode\n",
      "Grid configuration same as last episode\n",
      "Grid configuration same as last episode\n",
      "Grid configuration same as last episode\n",
      "Grid configuration same as last episode\n",
      "Grid configuration same as last episode\n"
     ]
    },
    {
     "name": "stdout",
     "output_type": "stream",
     "text": [
      "Update 945: Reward P1: -106, Reward P2: -106\n",
      "Update 946: Reward P1: -126, Reward P2: -126\n"
     ]
    },
    {
     "name": "stderr",
     "output_type": "stream",
     "text": [
      "Grid configuration same as last episode\n",
      "Grid configuration same as last episode\n",
      "Grid configuration same as last episode\n",
      "Grid configuration same as last episode\n",
      "Grid configuration same as last episode\n",
      "Grid configuration same as last episode\n"
     ]
    },
    {
     "name": "stdout",
     "output_type": "stream",
     "text": [
      "Update 947: Reward P1: -106, Reward P2: -106\n",
      "Update 948: Reward P1: -136, Reward P2: -136\n"
     ]
    },
    {
     "name": "stderr",
     "output_type": "stream",
     "text": [
      "Grid configuration same as last episode\n",
      "Grid configuration same as last episode\n",
      "Grid configuration same as last episode\n",
      "Grid configuration same as last episode\n",
      "Grid configuration same as last episode\n"
     ]
    },
    {
     "name": "stdout",
     "output_type": "stream",
     "text": [
      "Update 949: Reward P1: -116, Reward P2: -116\n",
      "Update 950: Reward P1: -106, Reward P2: -106\n"
     ]
    },
    {
     "name": "stderr",
     "output_type": "stream",
     "text": [
      "Grid configuration same as last episode\n",
      "Grid configuration same as last episode\n",
      "Grid configuration same as last episode\n",
      "Grid configuration same as last episode\n",
      "Grid configuration same as last episode\n",
      "Grid configuration same as last episode\n",
      "Grid configuration same as last episode\n"
     ]
    },
    {
     "name": "stdout",
     "output_type": "stream",
     "text": [
      "Update 951: Reward P1: -96, Reward P2: -96\n",
      "Update 952: Reward P1: -136, Reward P2: -136\n"
     ]
    },
    {
     "name": "stderr",
     "output_type": "stream",
     "text": [
      "Grid configuration same as last episode\n",
      "Grid configuration same as last episode\n",
      "Grid configuration same as last episode\n",
      "Grid configuration same as last episode\n",
      "Grid configuration same as last episode\n",
      "Grid configuration same as last episode\n"
     ]
    },
    {
     "name": "stdout",
     "output_type": "stream",
     "text": [
      "Update 953: Reward P1: -126, Reward P2: -126\n",
      "Update 954: Reward P1: -96, Reward P2: -96\n"
     ]
    },
    {
     "name": "stderr",
     "output_type": "stream",
     "text": [
      "Grid configuration same as last episode\n",
      "Grid configuration same as last episode\n",
      "Grid configuration same as last episode\n",
      "Grid configuration same as last episode\n",
      "Grid configuration same as last episode\n",
      "Grid configuration same as last episode\n"
     ]
    },
    {
     "name": "stdout",
     "output_type": "stream",
     "text": [
      "Update 955: Reward P1: -86, Reward P2: -86\n",
      "Update 956: Reward P1: -136, Reward P2: -136\n"
     ]
    },
    {
     "name": "stderr",
     "output_type": "stream",
     "text": [
      "Grid configuration same as last episode\n",
      "Grid configuration same as last episode\n",
      "Grid configuration same as last episode\n",
      "Grid configuration same as last episode\n",
      "Grid configuration same as last episode\n",
      "Grid configuration same as last episode\n"
     ]
    },
    {
     "name": "stdout",
     "output_type": "stream",
     "text": [
      "Update 957: Reward P1: -166, Reward P2: -166\n",
      "Update 958: Reward P1: -86, Reward P2: -86\n"
     ]
    },
    {
     "name": "stderr",
     "output_type": "stream",
     "text": [
      "Grid configuration same as last episode\n",
      "Grid configuration same as last episode\n",
      "Grid configuration same as last episode\n",
      "Grid configuration same as last episode\n",
      "Grid configuration same as last episode\n",
      "Grid configuration same as last episode\n"
     ]
    },
    {
     "name": "stdout",
     "output_type": "stream",
     "text": [
      "Update 959: Reward P1: -96, Reward P2: -96\n",
      "Update 960: Reward P1: -136, Reward P2: -136\n"
     ]
    },
    {
     "name": "stderr",
     "output_type": "stream",
     "text": [
      "Grid configuration same as last episode\n",
      "Grid configuration same as last episode\n",
      "Grid configuration same as last episode\n",
      "Grid configuration same as last episode\n",
      "Grid configuration same as last episode\n",
      "Grid configuration same as last episode\n"
     ]
    },
    {
     "name": "stdout",
     "output_type": "stream",
     "text": [
      "Update 961: Reward P1: -166, Reward P2: -166\n",
      "Update 962: Reward P1: -96, Reward P2: -96\n"
     ]
    },
    {
     "name": "stderr",
     "output_type": "stream",
     "text": [
      "Grid configuration same as last episode\n",
      "Grid configuration same as last episode\n",
      "Grid configuration same as last episode\n",
      "Grid configuration same as last episode\n",
      "Grid configuration same as last episode\n"
     ]
    },
    {
     "name": "stdout",
     "output_type": "stream",
     "text": [
      "Update 963: Reward P1: -146, Reward P2: -146\n",
      "Update 964: Reward P1: -136, Reward P2: -136\n"
     ]
    },
    {
     "name": "stderr",
     "output_type": "stream",
     "text": [
      "Grid configuration same as last episode\n",
      "Grid configuration same as last episode\n",
      "Grid configuration same as last episode\n",
      "Grid configuration same as last episode\n",
      "Grid configuration same as last episode\n",
      "Grid configuration same as last episode\n",
      "Grid configuration same as last episode\n"
     ]
    },
    {
     "name": "stdout",
     "output_type": "stream",
     "text": [
      "Update 965: Reward P1: -126, Reward P2: -126\n",
      "Update 966: Reward P1: -176, Reward P2: -176\n"
     ]
    },
    {
     "name": "stderr",
     "output_type": "stream",
     "text": [
      "Grid configuration same as last episode\n",
      "Grid configuration same as last episode\n",
      "Grid configuration same as last episode\n",
      "Grid configuration same as last episode\n",
      "Grid configuration same as last episode\n",
      "Grid configuration same as last episode\n"
     ]
    },
    {
     "name": "stdout",
     "output_type": "stream",
     "text": [
      "Update 967: Reward P1: -166, Reward P2: -166\n",
      "Update 968: Reward P1: -136, Reward P2: -136\n"
     ]
    },
    {
     "name": "stderr",
     "output_type": "stream",
     "text": [
      "Grid configuration same as last episode\n",
      "Grid configuration same as last episode\n",
      "Grid configuration same as last episode\n",
      "Grid configuration same as last episode\n",
      "Grid configuration same as last episode\n",
      "Grid configuration same as last episode\n"
     ]
    },
    {
     "name": "stdout",
     "output_type": "stream",
     "text": [
      "Update 969: Reward P1: -76, Reward P2: -76\n",
      "Update 970: Reward P1: -136, Reward P2: -136\n"
     ]
    },
    {
     "name": "stderr",
     "output_type": "stream",
     "text": [
      "Grid configuration same as last episode\n",
      "Grid configuration same as last episode\n",
      "Grid configuration same as last episode\n",
      "Grid configuration same as last episode\n",
      "Grid configuration same as last episode\n",
      "Grid configuration same as last episode\n"
     ]
    },
    {
     "name": "stdout",
     "output_type": "stream",
     "text": [
      "Update 971: Reward P1: -86, Reward P2: -86\n",
      "Update 972: Reward P1: -136, Reward P2: -136\n"
     ]
    },
    {
     "name": "stderr",
     "output_type": "stream",
     "text": [
      "Grid configuration same as last episode\n",
      "Grid configuration same as last episode\n",
      "Grid configuration same as last episode\n",
      "Grid configuration same as last episode\n",
      "Grid configuration same as last episode\n",
      "Grid configuration same as last episode\n"
     ]
    },
    {
     "name": "stdout",
     "output_type": "stream",
     "text": [
      "Update 973: Reward P1: -86, Reward P2: -86\n",
      "Update 974: Reward P1: -106, Reward P2: -106\n"
     ]
    },
    {
     "name": "stderr",
     "output_type": "stream",
     "text": [
      "Grid configuration same as last episode\n",
      "Grid configuration same as last episode\n",
      "Grid configuration same as last episode\n",
      "Grid configuration same as last episode\n",
      "Grid configuration same as last episode\n",
      "Grid configuration same as last episode\n"
     ]
    },
    {
     "name": "stdout",
     "output_type": "stream",
     "text": [
      "Update 975: Reward P1: -136, Reward P2: -136\n",
      "Update 976: Reward P1: -126, Reward P2: -126\n"
     ]
    },
    {
     "name": "stderr",
     "output_type": "stream",
     "text": [
      "Grid configuration same as last episode\n",
      "Grid configuration same as last episode\n",
      "Grid configuration same as last episode\n",
      "Grid configuration same as last episode\n",
      "Grid configuration same as last episode\n"
     ]
    },
    {
     "name": "stdout",
     "output_type": "stream",
     "text": [
      "Update 977: Reward P1: -156, Reward P2: -156\n",
      "Update 978: Reward P1: -106, Reward P2: -106\n"
     ]
    },
    {
     "name": "stderr",
     "output_type": "stream",
     "text": [
      "Grid configuration same as last episode\n",
      "Grid configuration same as last episode\n",
      "Grid configuration same as last episode\n",
      "Grid configuration same as last episode\n",
      "Grid configuration same as last episode\n",
      "Grid configuration same as last episode\n",
      "Grid configuration same as last episode\n"
     ]
    },
    {
     "name": "stdout",
     "output_type": "stream",
     "text": [
      "Update 979: Reward P1: -106, Reward P2: -106\n",
      "Update 980: Reward P1: -136, Reward P2: -136\n"
     ]
    },
    {
     "name": "stderr",
     "output_type": "stream",
     "text": [
      "Grid configuration same as last episode\n",
      "Grid configuration same as last episode\n",
      "Grid configuration same as last episode\n",
      "Grid configuration same as last episode\n",
      "Grid configuration same as last episode\n",
      "Grid configuration same as last episode\n"
     ]
    },
    {
     "name": "stdout",
     "output_type": "stream",
     "text": [
      "Update 981: Reward P1: -106, Reward P2: -106\n",
      "Update 982: Reward P1: -106, Reward P2: -106\n"
     ]
    },
    {
     "name": "stderr",
     "output_type": "stream",
     "text": [
      "Grid configuration same as last episode\n",
      "Grid configuration same as last episode\n",
      "Grid configuration same as last episode\n",
      "Grid configuration same as last episode\n",
      "Grid configuration same as last episode\n",
      "Grid configuration same as last episode\n"
     ]
    },
    {
     "name": "stdout",
     "output_type": "stream",
     "text": [
      "Update 983: Reward P1: -86, Reward P2: -86\n",
      "Update 984: Reward P1: -116, Reward P2: -116\n"
     ]
    },
    {
     "name": "stderr",
     "output_type": "stream",
     "text": [
      "Grid configuration same as last episode\n",
      "Grid configuration same as last episode\n",
      "Grid configuration same as last episode\n",
      "Grid configuration same as last episode\n",
      "Grid configuration same as last episode\n",
      "Grid configuration same as last episode\n"
     ]
    },
    {
     "name": "stdout",
     "output_type": "stream",
     "text": [
      "Update 985: Reward P1: -96, Reward P2: -96\n",
      "Update 986: Reward P1: -126, Reward P2: -126\n"
     ]
    },
    {
     "name": "stderr",
     "output_type": "stream",
     "text": [
      "Grid configuration same as last episode\n",
      "Grid configuration same as last episode\n",
      "Grid configuration same as last episode\n",
      "Grid configuration same as last episode\n",
      "Grid configuration same as last episode\n",
      "Grid configuration same as last episode\n"
     ]
    },
    {
     "name": "stdout",
     "output_type": "stream",
     "text": [
      "Update 987: Reward P1: -76, Reward P2: -76\n",
      "Update 988: Reward P1: -146, Reward P2: -146\n"
     ]
    },
    {
     "name": "stderr",
     "output_type": "stream",
     "text": [
      "Grid configuration same as last episode\n",
      "Grid configuration same as last episode\n",
      "Grid configuration same as last episode\n",
      "Grid configuration same as last episode\n",
      "Grid configuration same as last episode\n",
      "Grid configuration same as last episode\n"
     ]
    },
    {
     "name": "stdout",
     "output_type": "stream",
     "text": [
      "Update 989: Reward P1: -86, Reward P2: -86\n",
      "Update 990: Reward P1: -106, Reward P2: -106\n"
     ]
    },
    {
     "name": "stderr",
     "output_type": "stream",
     "text": [
      "Grid configuration same as last episode\n",
      "Grid configuration same as last episode\n",
      "Grid configuration same as last episode\n",
      "Grid configuration same as last episode\n",
      "Grid configuration same as last episode\n",
      "Grid configuration same as last episode\n"
     ]
    },
    {
     "name": "stdout",
     "output_type": "stream",
     "text": [
      "Update 991: Reward P1: -136, Reward P2: -136\n",
      "Update 992: Reward P1: -136, Reward P2: -136\n"
     ]
    },
    {
     "name": "stderr",
     "output_type": "stream",
     "text": [
      "Grid configuration same as last episode\n",
      "Grid configuration same as last episode\n",
      "Grid configuration same as last episode\n",
      "Grid configuration same as last episode\n",
      "Grid configuration same as last episode\n",
      "Grid configuration same as last episode\n"
     ]
    },
    {
     "name": "stdout",
     "output_type": "stream",
     "text": [
      "Update 993: Reward P1: -126, Reward P2: -126\n",
      "Update 994: Reward P1: -96, Reward P2: -96\n"
     ]
    },
    {
     "name": "stderr",
     "output_type": "stream",
     "text": [
      "Grid configuration same as last episode\n",
      "Grid configuration same as last episode\n",
      "Grid configuration same as last episode\n",
      "Grid configuration same as last episode\n",
      "Grid configuration same as last episode\n",
      "Grid configuration same as last episode\n"
     ]
    },
    {
     "name": "stdout",
     "output_type": "stream",
     "text": [
      "Update 995: Reward P1: -116, Reward P2: -116\n",
      "Update 996: Reward P1: -116, Reward P2: -116\n"
     ]
    },
    {
     "name": "stderr",
     "output_type": "stream",
     "text": [
      "Grid configuration same as last episode\n",
      "Grid configuration same as last episode\n",
      "Grid configuration same as last episode\n",
      "Grid configuration same as last episode\n",
      "Grid configuration same as last episode\n",
      "Grid configuration same as last episode\n"
     ]
    },
    {
     "name": "stdout",
     "output_type": "stream",
     "text": [
      "Update 997: Reward P1: -126, Reward P2: -126\n",
      "Update 998: Reward P1: -66, Reward P2: -66\n"
     ]
    },
    {
     "name": "stderr",
     "output_type": "stream",
     "text": [
      "Grid configuration same as last episode\n",
      "Grid configuration same as last episode\n",
      "Grid configuration same as last episode\n",
      "Grid configuration same as last episode\n",
      "Grid configuration same as last episode\n",
      "Grid configuration same as last episode\n"
     ]
    },
    {
     "name": "stdout",
     "output_type": "stream",
     "text": [
      "Update 999: Reward P1: -126, Reward P2: -126\n",
      "Update 1000: Reward P1: -96, Reward P2: -96\n"
     ]
    },
    {
     "name": "stderr",
     "output_type": "stream",
     "text": [
      "Grid configuration same as last episode\n",
      "Grid configuration same as last episode\n",
      "Grid configuration same as last episode\n",
      "Grid configuration same as last episode\n",
      "Grid configuration same as last episode\n",
      "Grid configuration same as last episode\n"
     ]
    },
    {
     "name": "stdout",
     "output_type": "stream",
     "text": [
      "Update 1001: Reward P1: -96, Reward P2: -96\n",
      "Update 1002: Reward P1: -126, Reward P2: -126\n"
     ]
    },
    {
     "name": "stderr",
     "output_type": "stream",
     "text": [
      "Grid configuration same as last episode\n",
      "Grid configuration same as last episode\n",
      "Grid configuration same as last episode\n",
      "Grid configuration same as last episode\n",
      "Grid configuration same as last episode\n",
      "Grid configuration same as last episode\n"
     ]
    },
    {
     "name": "stdout",
     "output_type": "stream",
     "text": [
      "Update 1003: Reward P1: -116, Reward P2: -116\n",
      "Update 1004: Reward P1: -136, Reward P2: -136\n"
     ]
    },
    {
     "name": "stderr",
     "output_type": "stream",
     "text": [
      "Grid configuration same as last episode\n",
      "Grid configuration same as last episode\n",
      "Grid configuration same as last episode\n",
      "Grid configuration same as last episode\n",
      "Grid configuration same as last episode\n",
      "Grid configuration same as last episode\n"
     ]
    },
    {
     "name": "stdout",
     "output_type": "stream",
     "text": [
      "Update 1005: Reward P1: -136, Reward P2: -136\n",
      "Update 1006: Reward P1: -136, Reward P2: -136\n"
     ]
    },
    {
     "name": "stderr",
     "output_type": "stream",
     "text": [
      "Grid configuration same as last episode\n",
      "Grid configuration same as last episode\n",
      "Grid configuration same as last episode\n",
      "Grid configuration same as last episode\n",
      "Grid configuration same as last episode\n",
      "Grid configuration same as last episode\n"
     ]
    },
    {
     "name": "stdout",
     "output_type": "stream",
     "text": [
      "Update 1007: Reward P1: -116, Reward P2: -116\n",
      "Update 1008: Reward P1: -186, Reward P2: -186\n"
     ]
    },
    {
     "name": "stderr",
     "output_type": "stream",
     "text": [
      "Grid configuration same as last episode\n",
      "Grid configuration same as last episode\n",
      "Grid configuration same as last episode\n",
      "Grid configuration same as last episode\n",
      "Grid configuration same as last episode\n",
      "Grid configuration same as last episode\n"
     ]
    },
    {
     "name": "stdout",
     "output_type": "stream",
     "text": [
      "Update 1009: Reward P1: -116, Reward P2: -116\n",
      "Update 1010: Reward P1: -76, Reward P2: -76\n"
     ]
    },
    {
     "name": "stderr",
     "output_type": "stream",
     "text": [
      "Grid configuration same as last episode\n",
      "Grid configuration same as last episode\n",
      "Grid configuration same as last episode\n",
      "Grid configuration same as last episode\n",
      "Grid configuration same as last episode\n",
      "Grid configuration same as last episode\n"
     ]
    },
    {
     "name": "stdout",
     "output_type": "stream",
     "text": [
      "Update 1011: Reward P1: -126, Reward P2: -126\n",
      "Update 1012: Reward P1: -96, Reward P2: -96\n"
     ]
    },
    {
     "name": "stderr",
     "output_type": "stream",
     "text": [
      "Grid configuration same as last episode\n",
      "Grid configuration same as last episode\n",
      "Grid configuration same as last episode\n",
      "Grid configuration same as last episode\n",
      "Grid configuration same as last episode\n",
      "Grid configuration same as last episode\n"
     ]
    },
    {
     "name": "stdout",
     "output_type": "stream",
     "text": [
      "Update 1013: Reward P1: -176, Reward P2: -176\n",
      "Update 1014: Reward P1: -106, Reward P2: -106\n"
     ]
    },
    {
     "name": "stderr",
     "output_type": "stream",
     "text": [
      "Grid configuration same as last episode\n",
      "Grid configuration same as last episode\n",
      "Grid configuration same as last episode\n",
      "Grid configuration same as last episode\n",
      "Grid configuration same as last episode\n",
      "Grid configuration same as last episode\n"
     ]
    },
    {
     "name": "stdout",
     "output_type": "stream",
     "text": [
      "Update 1015: Reward P1: -136, Reward P2: -136\n",
      "Update 1016: Reward P1: -146, Reward P2: -146\n"
     ]
    },
    {
     "name": "stderr",
     "output_type": "stream",
     "text": [
      "Grid configuration same as last episode\n",
      "Grid configuration same as last episode\n",
      "Grid configuration same as last episode\n",
      "Grid configuration same as last episode\n",
      "Grid configuration same as last episode\n",
      "Grid configuration same as last episode\n"
     ]
    },
    {
     "name": "stdout",
     "output_type": "stream",
     "text": [
      "Update 1017: Reward P1: -86, Reward P2: -86\n",
      "Update 1018: Reward P1: -86, Reward P2: -86\n"
     ]
    },
    {
     "name": "stderr",
     "output_type": "stream",
     "text": [
      "Grid configuration same as last episode\n",
      "Grid configuration same as last episode\n",
      "Grid configuration same as last episode\n",
      "Grid configuration same as last episode\n",
      "Grid configuration same as last episode\n",
      "Grid configuration same as last episode\n"
     ]
    },
    {
     "name": "stdout",
     "output_type": "stream",
     "text": [
      "Update 1019: Reward P1: -106, Reward P2: -106\n",
      "Update 1020: Reward P1: -146, Reward P2: -146\n"
     ]
    },
    {
     "name": "stderr",
     "output_type": "stream",
     "text": [
      "Grid configuration same as last episode\n",
      "Grid configuration same as last episode\n",
      "Grid configuration same as last episode\n",
      "Grid configuration same as last episode\n",
      "Grid configuration same as last episode\n",
      "Grid configuration same as last episode\n"
     ]
    },
    {
     "name": "stdout",
     "output_type": "stream",
     "text": [
      "Update 1021: Reward P1: -166, Reward P2: -166\n",
      "Update 1022: Reward P1: -106, Reward P2: -106\n"
     ]
    },
    {
     "name": "stderr",
     "output_type": "stream",
     "text": [
      "Grid configuration same as last episode\n",
      "Grid configuration same as last episode\n",
      "Grid configuration same as last episode\n",
      "Grid configuration same as last episode\n",
      "Grid configuration same as last episode\n",
      "Grid configuration same as last episode\n"
     ]
    },
    {
     "name": "stdout",
     "output_type": "stream",
     "text": [
      "Update 1023: Reward P1: -106, Reward P2: -106\n",
      "Update 1024: Reward P1: -126, Reward P2: -126\n"
     ]
    },
    {
     "name": "stderr",
     "output_type": "stream",
     "text": [
      "Grid configuration same as last episode\n",
      "Grid configuration same as last episode\n",
      "Grid configuration same as last episode\n",
      "Grid configuration same as last episode\n",
      "Grid configuration same as last episode\n"
     ]
    },
    {
     "name": "stdout",
     "output_type": "stream",
     "text": [
      "Update 1025: Reward P1: -106, Reward P2: -106\n",
      "Update 1026: Reward P1: -136, Reward P2: -136\n"
     ]
    },
    {
     "name": "stderr",
     "output_type": "stream",
     "text": [
      "Grid configuration same as last episode\n",
      "Grid configuration same as last episode\n",
      "Grid configuration same as last episode\n",
      "Grid configuration same as last episode\n",
      "Grid configuration same as last episode\n",
      "Grid configuration same as last episode\n",
      "Grid configuration same as last episode\n"
     ]
    },
    {
     "name": "stdout",
     "output_type": "stream",
     "text": [
      "Update 1027: Reward P1: -136, Reward P2: -136\n",
      "Update 1028: Reward P1: -126, Reward P2: -126\n"
     ]
    },
    {
     "name": "stderr",
     "output_type": "stream",
     "text": [
      "Grid configuration same as last episode\n",
      "Grid configuration same as last episode\n",
      "Grid configuration same as last episode\n",
      "Grid configuration same as last episode\n",
      "Grid configuration same as last episode\n",
      "Grid configuration same as last episode\n"
     ]
    },
    {
     "name": "stdout",
     "output_type": "stream",
     "text": [
      "Update 1029: Reward P1: -116, Reward P2: -116\n",
      "Update 1030: Reward P1: -126, Reward P2: -126\n"
     ]
    },
    {
     "name": "stderr",
     "output_type": "stream",
     "text": [
      "Grid configuration same as last episode\n",
      "Grid configuration same as last episode\n",
      "Grid configuration same as last episode\n",
      "Grid configuration same as last episode\n",
      "Grid configuration same as last episode\n",
      "Grid configuration same as last episode\n"
     ]
    },
    {
     "name": "stdout",
     "output_type": "stream",
     "text": [
      "Update 1031: Reward P1: -36, Reward P2: -36\n",
      "Update 1032: Reward P1: -76, Reward P2: -76\n"
     ]
    },
    {
     "name": "stderr",
     "output_type": "stream",
     "text": [
      "Grid configuration same as last episode\n",
      "Grid configuration same as last episode\n",
      "Grid configuration same as last episode\n",
      "Grid configuration same as last episode\n",
      "Grid configuration same as last episode\n",
      "Grid configuration same as last episode\n"
     ]
    },
    {
     "name": "stdout",
     "output_type": "stream",
     "text": [
      "Update 1033: Reward P1: -136, Reward P2: -136\n",
      "Update 1034: Reward P1: -116, Reward P2: -116\n"
     ]
    },
    {
     "name": "stderr",
     "output_type": "stream",
     "text": [
      "Grid configuration same as last episode\n",
      "Grid configuration same as last episode\n",
      "Grid configuration same as last episode\n",
      "Grid configuration same as last episode\n",
      "Grid configuration same as last episode\n",
      "Grid configuration same as last episode\n"
     ]
    },
    {
     "name": "stdout",
     "output_type": "stream",
     "text": [
      "Update 1035: Reward P1: -126, Reward P2: -126\n",
      "Update 1036: Reward P1: -146, Reward P2: -146\n"
     ]
    },
    {
     "name": "stderr",
     "output_type": "stream",
     "text": [
      "Grid configuration same as last episode\n",
      "Grid configuration same as last episode\n",
      "Grid configuration same as last episode\n",
      "Grid configuration same as last episode\n",
      "Grid configuration same as last episode\n",
      "Grid configuration same as last episode\n"
     ]
    },
    {
     "name": "stdout",
     "output_type": "stream",
     "text": [
      "Update 1037: Reward P1: -146, Reward P2: -146\n",
      "Update 1038: Reward P1: -146, Reward P2: -146\n"
     ]
    },
    {
     "name": "stderr",
     "output_type": "stream",
     "text": [
      "Grid configuration same as last episode\n",
      "Grid configuration same as last episode\n",
      "Grid configuration same as last episode\n",
      "Grid configuration same as last episode\n",
      "Grid configuration same as last episode\n",
      "Grid configuration same as last episode\n"
     ]
    },
    {
     "name": "stdout",
     "output_type": "stream",
     "text": [
      "Update 1039: Reward P1: -136, Reward P2: -136\n",
      "Update 1040: Reward P1: -96, Reward P2: -96\n"
     ]
    },
    {
     "name": "stderr",
     "output_type": "stream",
     "text": [
      "Grid configuration same as last episode\n",
      "Grid configuration same as last episode\n",
      "Grid configuration same as last episode\n",
      "Grid configuration same as last episode\n",
      "Grid configuration same as last episode\n",
      "Grid configuration same as last episode\n"
     ]
    },
    {
     "name": "stdout",
     "output_type": "stream",
     "text": [
      "Update 1041: Reward P1: -126, Reward P2: -126\n",
      "Update 1042: Reward P1: -116, Reward P2: -116\n"
     ]
    },
    {
     "name": "stderr",
     "output_type": "stream",
     "text": [
      "Grid configuration same as last episode\n",
      "Grid configuration same as last episode\n",
      "Grid configuration same as last episode\n",
      "Grid configuration same as last episode\n"
     ]
    },
    {
     "name": "stdout",
     "output_type": "stream",
     "text": [
      "Update 1043: Reward P1: -156, Reward P2: -156\n"
     ]
    },
    {
     "name": "stderr",
     "output_type": "stream",
     "text": [
      "Grid configuration same as last episode\n",
      "Grid configuration same as last episode\n",
      "Grid configuration same as last episode\n",
      "Grid configuration same as last episode\n"
     ]
    },
    {
     "name": "stdout",
     "output_type": "stream",
     "text": [
      "Update 1044: Reward P1: -126, Reward P2: -126\n",
      "Update 1045: Reward P1: -106, Reward P2: -106\n"
     ]
    },
    {
     "name": "stderr",
     "output_type": "stream",
     "text": [
      "Grid configuration same as last episode\n",
      "Grid configuration same as last episode\n",
      "Grid configuration same as last episode\n",
      "Grid configuration same as last episode\n",
      "Grid configuration same as last episode\n",
      "Grid configuration same as last episode\n",
      "Grid configuration same as last episode\n"
     ]
    },
    {
     "name": "stdout",
     "output_type": "stream",
     "text": [
      "Update 1046: Reward P1: -96, Reward P2: -96\n",
      "Update 1047: Reward P1: -146, Reward P2: -146\n"
     ]
    },
    {
     "name": "stderr",
     "output_type": "stream",
     "text": [
      "Grid configuration same as last episode\n",
      "Grid configuration same as last episode\n",
      "Grid configuration same as last episode\n",
      "Grid configuration same as last episode\n",
      "Grid configuration same as last episode\n",
      "Grid configuration same as last episode\n"
     ]
    },
    {
     "name": "stdout",
     "output_type": "stream",
     "text": [
      "Update 1048: Reward P1: -116, Reward P2: -116\n",
      "Update 1049: Reward P1: -186, Reward P2: -186\n"
     ]
    },
    {
     "name": "stderr",
     "output_type": "stream",
     "text": [
      "Grid configuration same as last episode\n",
      "Grid configuration same as last episode\n",
      "Grid configuration same as last episode\n",
      "Grid configuration same as last episode\n",
      "Grid configuration same as last episode\n",
      "Grid configuration same as last episode\n"
     ]
    },
    {
     "name": "stdout",
     "output_type": "stream",
     "text": [
      "Update 1050: Reward P1: -146, Reward P2: -146\n",
      "Update 1051: Reward P1: -86, Reward P2: -86\n"
     ]
    },
    {
     "name": "stderr",
     "output_type": "stream",
     "text": [
      "Grid configuration same as last episode\n",
      "Grid configuration same as last episode\n",
      "Grid configuration same as last episode\n",
      "Grid configuration same as last episode\n",
      "Grid configuration same as last episode\n",
      "Grid configuration same as last episode\n"
     ]
    },
    {
     "name": "stdout",
     "output_type": "stream",
     "text": [
      "Update 1052: Reward P1: -156, Reward P2: -156\n",
      "Update 1053: Reward P1: -136, Reward P2: -136\n"
     ]
    },
    {
     "name": "stderr",
     "output_type": "stream",
     "text": [
      "Grid configuration same as last episode\n",
      "Grid configuration same as last episode\n",
      "Grid configuration same as last episode\n",
      "Grid configuration same as last episode\n",
      "Grid configuration same as last episode\n",
      "Grid configuration same as last episode\n"
     ]
    },
    {
     "name": "stdout",
     "output_type": "stream",
     "text": [
      "Update 1054: Reward P1: -136, Reward P2: -136\n",
      "Update 1055: Reward P1: -76, Reward P2: -76\n"
     ]
    },
    {
     "name": "stderr",
     "output_type": "stream",
     "text": [
      "Grid configuration same as last episode\n",
      "Grid configuration same as last episode\n",
      "Grid configuration same as last episode\n",
      "Grid configuration same as last episode\n",
      "Grid configuration same as last episode\n",
      "Grid configuration same as last episode\n"
     ]
    },
    {
     "name": "stdout",
     "output_type": "stream",
     "text": [
      "Update 1056: Reward P1: -156, Reward P2: -156\n",
      "Update 1057: Reward P1: -76, Reward P2: -76\n"
     ]
    },
    {
     "name": "stderr",
     "output_type": "stream",
     "text": [
      "Grid configuration same as last episode\n",
      "Grid configuration same as last episode\n",
      "Grid configuration same as last episode\n",
      "Grid configuration same as last episode\n",
      "Grid configuration same as last episode\n",
      "Grid configuration same as last episode\n"
     ]
    },
    {
     "name": "stdout",
     "output_type": "stream",
     "text": [
      "Update 1058: Reward P1: -46, Reward P2: -46\n",
      "Update 1059: Reward P1: -146, Reward P2: -146\n"
     ]
    },
    {
     "name": "stderr",
     "output_type": "stream",
     "text": [
      "Grid configuration same as last episode\n",
      "Grid configuration same as last episode\n",
      "Grid configuration same as last episode\n",
      "Grid configuration same as last episode\n",
      "Grid configuration same as last episode\n",
      "Grid configuration same as last episode\n"
     ]
    },
    {
     "name": "stdout",
     "output_type": "stream",
     "text": [
      "Update 1060: Reward P1: -116, Reward P2: -116\n",
      "Update 1061: Reward P1: -106, Reward P2: -106\n"
     ]
    },
    {
     "name": "stderr",
     "output_type": "stream",
     "text": [
      "Grid configuration same as last episode\n",
      "Grid configuration same as last episode\n",
      "Grid configuration same as last episode\n",
      "Grid configuration same as last episode\n",
      "Grid configuration same as last episode\n",
      "Grid configuration same as last episode\n"
     ]
    },
    {
     "name": "stdout",
     "output_type": "stream",
     "text": [
      "Update 1062: Reward P1: -146, Reward P2: -146\n",
      "Update 1063: Reward P1: -156, Reward P2: -156\n"
     ]
    },
    {
     "name": "stderr",
     "output_type": "stream",
     "text": [
      "Grid configuration same as last episode\n",
      "Grid configuration same as last episode\n",
      "Grid configuration same as last episode\n",
      "Grid configuration same as last episode\n",
      "Grid configuration same as last episode\n",
      "Grid configuration same as last episode\n"
     ]
    },
    {
     "name": "stdout",
     "output_type": "stream",
     "text": [
      "Update 1064: Reward P1: -66, Reward P2: -66\n",
      "Update 1065: Reward P1: -136, Reward P2: -136\n"
     ]
    },
    {
     "name": "stderr",
     "output_type": "stream",
     "text": [
      "Grid configuration same as last episode\n",
      "Grid configuration same as last episode\n",
      "Grid configuration same as last episode\n",
      "Grid configuration same as last episode\n",
      "Grid configuration same as last episode\n",
      "Grid configuration same as last episode\n"
     ]
    },
    {
     "name": "stdout",
     "output_type": "stream",
     "text": [
      "Update 1066: Reward P1: -156, Reward P2: -156\n",
      "Update 1067: Reward P1: -116, Reward P2: -116\n"
     ]
    },
    {
     "name": "stderr",
     "output_type": "stream",
     "text": [
      "Grid configuration same as last episode\n",
      "Grid configuration same as last episode\n",
      "Grid configuration same as last episode\n",
      "Grid configuration same as last episode\n",
      "Grid configuration same as last episode\n"
     ]
    },
    {
     "name": "stdout",
     "output_type": "stream",
     "text": [
      "Update 1068: Reward P1: -146, Reward P2: -146\n",
      "Update 1069: Reward P1: -96, Reward P2: -96\n"
     ]
    },
    {
     "name": "stderr",
     "output_type": "stream",
     "text": [
      "Grid configuration same as last episode\n",
      "Grid configuration same as last episode\n",
      "Grid configuration same as last episode\n",
      "Grid configuration same as last episode\n",
      "Grid configuration same as last episode\n",
      "Grid configuration same as last episode\n",
      "Grid configuration same as last episode\n"
     ]
    },
    {
     "name": "stdout",
     "output_type": "stream",
     "text": [
      "Update 1070: Reward P1: -156, Reward P2: -156\n",
      "Update 1071: Reward P1: -96, Reward P2: -96\n"
     ]
    },
    {
     "name": "stderr",
     "output_type": "stream",
     "text": [
      "Grid configuration same as last episode\n",
      "Grid configuration same as last episode\n",
      "Grid configuration same as last episode\n",
      "Grid configuration same as last episode\n",
      "Grid configuration same as last episode\n",
      "Grid configuration same as last episode\n"
     ]
    },
    {
     "name": "stdout",
     "output_type": "stream",
     "text": [
      "Update 1072: Reward P1: -136, Reward P2: -136\n",
      "Update 1073: Reward P1: -106, Reward P2: -106\n"
     ]
    },
    {
     "name": "stderr",
     "output_type": "stream",
     "text": [
      "Grid configuration same as last episode\n",
      "Grid configuration same as last episode\n",
      "Grid configuration same as last episode\n",
      "Grid configuration same as last episode\n",
      "Grid configuration same as last episode\n",
      "Grid configuration same as last episode\n"
     ]
    },
    {
     "name": "stdout",
     "output_type": "stream",
     "text": [
      "Update 1074: Reward P1: -136, Reward P2: -136\n",
      "Update 1075: Reward P1: -176, Reward P2: -176\n"
     ]
    },
    {
     "name": "stderr",
     "output_type": "stream",
     "text": [
      "Grid configuration same as last episode\n",
      "Grid configuration same as last episode\n",
      "Grid configuration same as last episode\n",
      "Grid configuration same as last episode\n",
      "Grid configuration same as last episode\n",
      "Grid configuration same as last episode\n"
     ]
    },
    {
     "name": "stdout",
     "output_type": "stream",
     "text": [
      "Update 1076: Reward P1: -126, Reward P2: -126\n",
      "Update 1077: Reward P1: -146, Reward P2: -146\n"
     ]
    },
    {
     "name": "stderr",
     "output_type": "stream",
     "text": [
      "Grid configuration same as last episode\n",
      "Grid configuration same as last episode\n",
      "Grid configuration same as last episode\n",
      "Grid configuration same as last episode\n",
      "Grid configuration same as last episode\n",
      "Grid configuration same as last episode\n"
     ]
    },
    {
     "name": "stdout",
     "output_type": "stream",
     "text": [
      "Update 1078: Reward P1: -86, Reward P2: -86\n",
      "Update 1079: Reward P1: -106, Reward P2: -106\n"
     ]
    },
    {
     "name": "stderr",
     "output_type": "stream",
     "text": [
      "Grid configuration same as last episode\n",
      "Grid configuration same as last episode\n",
      "Grid configuration same as last episode\n",
      "Grid configuration same as last episode\n",
      "Grid configuration same as last episode\n"
     ]
    },
    {
     "name": "stdout",
     "output_type": "stream",
     "text": [
      "Update 1080: Reward P1: -136, Reward P2: -136\n",
      "Update 1081: Reward P1: -116, Reward P2: -116\n"
     ]
    },
    {
     "name": "stderr",
     "output_type": "stream",
     "text": [
      "Grid configuration same as last episode\n",
      "Grid configuration same as last episode\n",
      "Grid configuration same as last episode\n",
      "Grid configuration same as last episode\n",
      "Grid configuration same as last episode\n",
      "Grid configuration same as last episode\n"
     ]
    },
    {
     "name": "stdout",
     "output_type": "stream",
     "text": [
      "Update 1082: Reward P1: -126, Reward P2: -126\n",
      "Update 1083: Reward P1: -126, Reward P2: -126\n"
     ]
    },
    {
     "name": "stderr",
     "output_type": "stream",
     "text": [
      "Grid configuration same as last episode\n",
      "Grid configuration same as last episode\n",
      "Grid configuration same as last episode\n",
      "Grid configuration same as last episode\n",
      "Grid configuration same as last episode\n",
      "Grid configuration same as last episode\n",
      "Grid configuration same as last episode\n"
     ]
    },
    {
     "name": "stdout",
     "output_type": "stream",
     "text": [
      "Update 1084: Reward P1: -136, Reward P2: -136\n",
      "Update 1085: Reward P1: -136, Reward P2: -136\n"
     ]
    },
    {
     "name": "stderr",
     "output_type": "stream",
     "text": [
      "Grid configuration same as last episode\n",
      "Grid configuration same as last episode\n",
      "Grid configuration same as last episode\n",
      "Grid configuration same as last episode\n",
      "Grid configuration same as last episode\n",
      "Grid configuration same as last episode\n"
     ]
    },
    {
     "name": "stdout",
     "output_type": "stream",
     "text": [
      "Update 1086: Reward P1: -116, Reward P2: -116\n",
      "Update 1087: Reward P1: -136, Reward P2: -136\n"
     ]
    },
    {
     "name": "stderr",
     "output_type": "stream",
     "text": [
      "Grid configuration same as last episode\n",
      "Grid configuration same as last episode\n",
      "Grid configuration same as last episode\n",
      "Grid configuration same as last episode\n",
      "Grid configuration same as last episode\n",
      "Grid configuration same as last episode\n"
     ]
    },
    {
     "name": "stdout",
     "output_type": "stream",
     "text": [
      "Update 1088: Reward P1: -96, Reward P2: -96\n",
      "Update 1089: Reward P1: -46, Reward P2: -46\n"
     ]
    },
    {
     "name": "stderr",
     "output_type": "stream",
     "text": [
      "Grid configuration same as last episode\n",
      "Grid configuration same as last episode\n",
      "Grid configuration same as last episode\n",
      "Grid configuration same as last episode\n",
      "Grid configuration same as last episode\n",
      "Grid configuration same as last episode\n"
     ]
    },
    {
     "name": "stdout",
     "output_type": "stream",
     "text": [
      "Update 1090: Reward P1: -106, Reward P2: -106\n",
      "Update 1091: Reward P1: -106, Reward P2: -106\n"
     ]
    },
    {
     "name": "stderr",
     "output_type": "stream",
     "text": [
      "Grid configuration same as last episode\n",
      "Grid configuration same as last episode\n",
      "Grid configuration same as last episode\n",
      "Grid configuration same as last episode\n",
      "Grid configuration same as last episode\n",
      "Grid configuration same as last episode\n"
     ]
    },
    {
     "name": "stdout",
     "output_type": "stream",
     "text": [
      "Update 1092: Reward P1: -126, Reward P2: -126\n",
      "Update 1093: Reward P1: -126, Reward P2: -126\n"
     ]
    },
    {
     "name": "stderr",
     "output_type": "stream",
     "text": [
      "Grid configuration same as last episode\n",
      "Grid configuration same as last episode\n",
      "Grid configuration same as last episode\n",
      "Grid configuration same as last episode\n",
      "Grid configuration same as last episode\n",
      "Grid configuration same as last episode\n"
     ]
    },
    {
     "name": "stdout",
     "output_type": "stream",
     "text": [
      "Update 1094: Reward P1: -116, Reward P2: -116\n",
      "Update 1095: Reward P1: -166, Reward P2: -166\n"
     ]
    },
    {
     "name": "stderr",
     "output_type": "stream",
     "text": [
      "Grid configuration same as last episode\n",
      "Grid configuration same as last episode\n",
      "Grid configuration same as last episode\n",
      "Grid configuration same as last episode\n",
      "Grid configuration same as last episode\n",
      "Grid configuration same as last episode\n"
     ]
    },
    {
     "name": "stdout",
     "output_type": "stream",
     "text": [
      "Update 1096: Reward P1: -66, Reward P2: -66\n",
      "Update 1097: Reward P1: -106, Reward P2: -106\n"
     ]
    },
    {
     "name": "stderr",
     "output_type": "stream",
     "text": [
      "Grid configuration same as last episode\n",
      "Grid configuration same as last episode\n",
      "Grid configuration same as last episode\n",
      "Grid configuration same as last episode\n",
      "Grid configuration same as last episode\n",
      "Grid configuration same as last episode\n"
     ]
    },
    {
     "name": "stdout",
     "output_type": "stream",
     "text": [
      "Update 1098: Reward P1: -156, Reward P2: -156\n",
      "Update 1099: Reward P1: -136, Reward P2: -136\n"
     ]
    },
    {
     "name": "stderr",
     "output_type": "stream",
     "text": [
      "Grid configuration same as last episode\n",
      "Grid configuration same as last episode\n",
      "Grid configuration same as last episode\n",
      "Grid configuration same as last episode\n",
      "Grid configuration same as last episode\n",
      "Grid configuration same as last episode\n"
     ]
    },
    {
     "name": "stdout",
     "output_type": "stream",
     "text": [
      "Update 1100: Reward P1: -126, Reward P2: -126\n",
      "Update 1101: Reward P1: -156, Reward P2: -156\n"
     ]
    },
    {
     "name": "stderr",
     "output_type": "stream",
     "text": [
      "Grid configuration same as last episode\n",
      "Grid configuration same as last episode\n",
      "Grid configuration same as last episode\n",
      "Grid configuration same as last episode\n",
      "Grid configuration same as last episode\n",
      "Grid configuration same as last episode\n"
     ]
    },
    {
     "name": "stdout",
     "output_type": "stream",
     "text": [
      "Update 1102: Reward P1: -106, Reward P2: -106\n",
      "Update 1103: Reward P1: -116, Reward P2: -116\n"
     ]
    },
    {
     "name": "stderr",
     "output_type": "stream",
     "text": [
      "Grid configuration same as last episode\n",
      "Grid configuration same as last episode\n",
      "Grid configuration same as last episode\n",
      "Grid configuration same as last episode\n",
      "Grid configuration same as last episode\n"
     ]
    },
    {
     "name": "stdout",
     "output_type": "stream",
     "text": [
      "Update 1104: Reward P1: -116, Reward P2: -116\n",
      "Update 1105: Reward P1: -156, Reward P2: -156\n"
     ]
    },
    {
     "name": "stderr",
     "output_type": "stream",
     "text": [
      "Grid configuration same as last episode\n",
      "Grid configuration same as last episode\n",
      "Grid configuration same as last episode\n",
      "Grid configuration same as last episode\n",
      "Grid configuration same as last episode\n",
      "Grid configuration same as last episode\n",
      "Grid configuration same as last episode\n"
     ]
    },
    {
     "name": "stdout",
     "output_type": "stream",
     "text": [
      "Update 1106: Reward P1: -106, Reward P2: -106\n",
      "Update 1107: Reward P1: -116, Reward P2: -116\n"
     ]
    },
    {
     "name": "stderr",
     "output_type": "stream",
     "text": [
      "Grid configuration same as last episode\n",
      "Grid configuration same as last episode\n",
      "Grid configuration same as last episode\n",
      "Grid configuration same as last episode\n",
      "Grid configuration same as last episode\n",
      "Grid configuration same as last episode\n"
     ]
    },
    {
     "name": "stdout",
     "output_type": "stream",
     "text": [
      "Update 1108: Reward P1: -146, Reward P2: -146\n",
      "Update 1109: Reward P1: -126, Reward P2: -126\n"
     ]
    },
    {
     "name": "stderr",
     "output_type": "stream",
     "text": [
      "Grid configuration same as last episode\n",
      "Grid configuration same as last episode\n",
      "Grid configuration same as last episode\n",
      "Grid configuration same as last episode\n",
      "Grid configuration same as last episode\n",
      "Grid configuration same as last episode\n"
     ]
    },
    {
     "name": "stdout",
     "output_type": "stream",
     "text": [
      "Update 1110: Reward P1: -126, Reward P2: -126\n",
      "Update 1111: Reward P1: -156, Reward P2: -156\n"
     ]
    },
    {
     "name": "stderr",
     "output_type": "stream",
     "text": [
      "Grid configuration same as last episode\n",
      "Grid configuration same as last episode\n",
      "Grid configuration same as last episode\n",
      "Grid configuration same as last episode\n",
      "Grid configuration same as last episode\n",
      "Grid configuration same as last episode\n"
     ]
    },
    {
     "name": "stdout",
     "output_type": "stream",
     "text": [
      "Update 1112: Reward P1: -176, Reward P2: -176\n",
      "Update 1113: Reward P1: -126, Reward P2: -126\n"
     ]
    },
    {
     "name": "stderr",
     "output_type": "stream",
     "text": [
      "Grid configuration same as last episode\n",
      "Grid configuration same as last episode\n",
      "Grid configuration same as last episode\n",
      "Grid configuration same as last episode\n",
      "Grid configuration same as last episode\n",
      "Grid configuration same as last episode\n"
     ]
    },
    {
     "name": "stdout",
     "output_type": "stream",
     "text": [
      "Update 1114: Reward P1: -156, Reward P2: -156\n",
      "Update 1115: Reward P1: -116, Reward P2: -116\n"
     ]
    },
    {
     "name": "stderr",
     "output_type": "stream",
     "text": [
      "Grid configuration same as last episode\n",
      "Grid configuration same as last episode\n",
      "Grid configuration same as last episode\n",
      "Grid configuration same as last episode\n",
      "Grid configuration same as last episode\n",
      "Grid configuration same as last episode\n"
     ]
    },
    {
     "name": "stdout",
     "output_type": "stream",
     "text": [
      "Update 1116: Reward P1: -106, Reward P2: -106\n",
      "Update 1117: Reward P1: -106, Reward P2: -106\n"
     ]
    },
    {
     "name": "stderr",
     "output_type": "stream",
     "text": [
      "Grid configuration same as last episode\n",
      "Grid configuration same as last episode\n",
      "Grid configuration same as last episode\n",
      "Grid configuration same as last episode\n",
      "Grid configuration same as last episode\n",
      "Grid configuration same as last episode\n"
     ]
    },
    {
     "name": "stdout",
     "output_type": "stream",
     "text": [
      "Update 1118: Reward P1: -116, Reward P2: -116\n",
      "Update 1119: Reward P1: -96, Reward P2: -96\n"
     ]
    },
    {
     "name": "stderr",
     "output_type": "stream",
     "text": [
      "Grid configuration same as last episode\n",
      "Grid configuration same as last episode\n",
      "Grid configuration same as last episode\n",
      "Grid configuration same as last episode\n",
      "Grid configuration same as last episode\n",
      "Grid configuration same as last episode\n"
     ]
    },
    {
     "name": "stdout",
     "output_type": "stream",
     "text": [
      "Update 1120: Reward P1: -136, Reward P2: -136\n",
      "Update 1121: Reward P1: -146, Reward P2: -146\n"
     ]
    },
    {
     "name": "stderr",
     "output_type": "stream",
     "text": [
      "Grid configuration same as last episode\n",
      "Grid configuration same as last episode\n",
      "Grid configuration same as last episode\n",
      "Grid configuration same as last episode\n",
      "Grid configuration same as last episode\n",
      "Grid configuration same as last episode\n"
     ]
    },
    {
     "name": "stdout",
     "output_type": "stream",
     "text": [
      "Update 1122: Reward P1: -86, Reward P2: -86\n",
      "Update 1123: Reward P1: -116, Reward P2: -116\n"
     ]
    },
    {
     "name": "stderr",
     "output_type": "stream",
     "text": [
      "Grid configuration same as last episode\n",
      "Grid configuration same as last episode\n",
      "Grid configuration same as last episode\n",
      "Grid configuration same as last episode\n",
      "Grid configuration same as last episode\n",
      "Grid configuration same as last episode\n"
     ]
    },
    {
     "name": "stdout",
     "output_type": "stream",
     "text": [
      "Update 1124: Reward P1: -156, Reward P2: -156\n",
      "Update 1125: Reward P1: -116, Reward P2: -116\n"
     ]
    },
    {
     "name": "stderr",
     "output_type": "stream",
     "text": [
      "Grid configuration same as last episode\n",
      "Grid configuration same as last episode\n",
      "Grid configuration same as last episode\n",
      "Grid configuration same as last episode\n",
      "Grid configuration same as last episode\n",
      "Grid configuration same as last episode\n"
     ]
    },
    {
     "name": "stdout",
     "output_type": "stream",
     "text": [
      "Update 1126: Reward P1: -126, Reward P2: -126\n",
      "Update 1127: Reward P1: -106, Reward P2: -106\n"
     ]
    },
    {
     "name": "stderr",
     "output_type": "stream",
     "text": [
      "Grid configuration same as last episode\n",
      "Grid configuration same as last episode\n",
      "Grid configuration same as last episode\n",
      "Grid configuration same as last episode\n",
      "Grid configuration same as last episode\n",
      "Grid configuration same as last episode\n"
     ]
    },
    {
     "name": "stdout",
     "output_type": "stream",
     "text": [
      "Update 1128: Reward P1: -106, Reward P2: -106\n",
      "Update 1129: Reward P1: -106, Reward P2: -106\n"
     ]
    },
    {
     "name": "stderr",
     "output_type": "stream",
     "text": [
      "Grid configuration same as last episode\n",
      "Grid configuration same as last episode\n",
      "Grid configuration same as last episode\n",
      "Grid configuration same as last episode\n",
      "Grid configuration same as last episode\n",
      "Grid configuration same as last episode\n"
     ]
    },
    {
     "name": "stdout",
     "output_type": "stream",
     "text": [
      "Update 1130: Reward P1: -66, Reward P2: -66\n",
      "Update 1131: Reward P1: -116, Reward P2: -116\n"
     ]
    },
    {
     "name": "stderr",
     "output_type": "stream",
     "text": [
      "Grid configuration same as last episode\n",
      "Grid configuration same as last episode\n",
      "Grid configuration same as last episode\n",
      "Grid configuration same as last episode\n",
      "Grid configuration same as last episode\n",
      "Grid configuration same as last episode\n"
     ]
    },
    {
     "name": "stdout",
     "output_type": "stream",
     "text": [
      "Update 1132: Reward P1: -86, Reward P2: -86\n",
      "Update 1133: Reward P1: -136, Reward P2: -136\n"
     ]
    },
    {
     "name": "stderr",
     "output_type": "stream",
     "text": [
      "Grid configuration same as last episode\n",
      "Grid configuration same as last episode\n",
      "Grid configuration same as last episode\n",
      "Grid configuration same as last episode\n",
      "Grid configuration same as last episode\n",
      "Grid configuration same as last episode\n"
     ]
    },
    {
     "name": "stdout",
     "output_type": "stream",
     "text": [
      "Update 1134: Reward P1: -96, Reward P2: -96\n",
      "Update 1135: Reward P1: -146, Reward P2: -146\n"
     ]
    },
    {
     "name": "stderr",
     "output_type": "stream",
     "text": [
      "Grid configuration same as last episode\n",
      "Grid configuration same as last episode\n",
      "Grid configuration same as last episode\n",
      "Grid configuration same as last episode\n",
      "Grid configuration same as last episode\n",
      "Grid configuration same as last episode\n"
     ]
    },
    {
     "name": "stdout",
     "output_type": "stream",
     "text": [
      "Update 1136: Reward P1: -86, Reward P2: -86\n",
      "Update 1137: Reward P1: -106, Reward P2: -106\n"
     ]
    },
    {
     "name": "stderr",
     "output_type": "stream",
     "text": [
      "Grid configuration same as last episode\n",
      "Grid configuration same as last episode\n",
      "Grid configuration same as last episode\n",
      "Grid configuration same as last episode\n",
      "Grid configuration same as last episode\n",
      "Grid configuration same as last episode\n"
     ]
    },
    {
     "name": "stdout",
     "output_type": "stream",
     "text": [
      "Update 1138: Reward P1: -116, Reward P2: -116\n",
      "Update 1139: Reward P1: -116, Reward P2: -116\n"
     ]
    },
    {
     "name": "stderr",
     "output_type": "stream",
     "text": [
      "Grid configuration same as last episode\n",
      "Grid configuration same as last episode\n",
      "Grid configuration same as last episode\n",
      "Grid configuration same as last episode\n",
      "Grid configuration same as last episode\n",
      "Grid configuration same as last episode\n"
     ]
    },
    {
     "name": "stdout",
     "output_type": "stream",
     "text": [
      "Update 1140: Reward P1: -66, Reward P2: -66\n",
      "Update 1141: Reward P1: -166, Reward P2: -166\n"
     ]
    },
    {
     "name": "stderr",
     "output_type": "stream",
     "text": [
      "Grid configuration same as last episode\n",
      "Grid configuration same as last episode\n",
      "Grid configuration same as last episode\n",
      "Grid configuration same as last episode\n",
      "Grid configuration same as last episode\n",
      "Grid configuration same as last episode\n"
     ]
    },
    {
     "name": "stdout",
     "output_type": "stream",
     "text": [
      "Update 1142: Reward P1: -116, Reward P2: -116\n",
      "Update 1143: Reward P1: -106, Reward P2: -106\n"
     ]
    },
    {
     "name": "stderr",
     "output_type": "stream",
     "text": [
      "Grid configuration same as last episode\n",
      "Grid configuration same as last episode\n",
      "Grid configuration same as last episode\n",
      "Grid configuration same as last episode\n",
      "Grid configuration same as last episode\n",
      "Grid configuration same as last episode\n"
     ]
    },
    {
     "name": "stdout",
     "output_type": "stream",
     "text": [
      "Update 1144: Reward P1: -186, Reward P2: -186\n",
      "Update 1145: Reward P1: -116, Reward P2: -116\n"
     ]
    },
    {
     "name": "stderr",
     "output_type": "stream",
     "text": [
      "Grid configuration same as last episode\n",
      "Grid configuration same as last episode\n",
      "Grid configuration same as last episode\n",
      "Grid configuration same as last episode\n",
      "Grid configuration same as last episode\n",
      "Grid configuration same as last episode\n"
     ]
    },
    {
     "name": "stdout",
     "output_type": "stream",
     "text": [
      "Update 1146: Reward P1: -106, Reward P2: -106\n",
      "Update 1147: Reward P1: -126, Reward P2: -126\n"
     ]
    },
    {
     "name": "stderr",
     "output_type": "stream",
     "text": [
      "Grid configuration same as last episode\n",
      "Grid configuration same as last episode\n",
      "Grid configuration same as last episode\n",
      "Grid configuration same as last episode\n",
      "Grid configuration same as last episode\n",
      "Grid configuration same as last episode\n"
     ]
    },
    {
     "name": "stdout",
     "output_type": "stream",
     "text": [
      "Update 1148: Reward P1: -106, Reward P2: -106\n",
      "Update 1149: Reward P1: -146, Reward P2: -146\n"
     ]
    },
    {
     "name": "stderr",
     "output_type": "stream",
     "text": [
      "Grid configuration same as last episode\n",
      "Grid configuration same as last episode\n",
      "Grid configuration same as last episode\n",
      "Grid configuration same as last episode\n",
      "Grid configuration same as last episode\n",
      "Grid configuration same as last episode\n"
     ]
    },
    {
     "name": "stdout",
     "output_type": "stream",
     "text": [
      "Update 1150: Reward P1: -166, Reward P2: -166\n",
      "Update 1151: Reward P1: -106, Reward P2: -106\n"
     ]
    },
    {
     "name": "stderr",
     "output_type": "stream",
     "text": [
      "Grid configuration same as last episode\n",
      "Grid configuration same as last episode\n",
      "Grid configuration same as last episode\n",
      "Grid configuration same as last episode\n",
      "Grid configuration same as last episode\n",
      "Grid configuration same as last episode\n"
     ]
    },
    {
     "name": "stdout",
     "output_type": "stream",
     "text": [
      "Update 1152: Reward P1: -96, Reward P2: -96\n",
      "Update 1153: Reward P1: -126, Reward P2: -126\n"
     ]
    },
    {
     "name": "stderr",
     "output_type": "stream",
     "text": [
      "Grid configuration same as last episode\n",
      "Grid configuration same as last episode\n",
      "Grid configuration same as last episode\n",
      "Grid configuration same as last episode\n",
      "Grid configuration same as last episode\n",
      "Grid configuration same as last episode\n"
     ]
    },
    {
     "name": "stdout",
     "output_type": "stream",
     "text": [
      "Update 1154: Reward P1: -86, Reward P2: -86\n",
      "Update 1155: Reward P1: -146, Reward P2: -146\n"
     ]
    },
    {
     "name": "stderr",
     "output_type": "stream",
     "text": [
      "Grid configuration same as last episode\n",
      "Grid configuration same as last episode\n",
      "Grid configuration same as last episode\n",
      "Grid configuration same as last episode\n",
      "Grid configuration same as last episode\n",
      "Grid configuration same as last episode\n"
     ]
    },
    {
     "name": "stdout",
     "output_type": "stream",
     "text": [
      "Update 1156: Reward P1: -106, Reward P2: -106\n",
      "Update 1157: Reward P1: -126, Reward P2: -126\n"
     ]
    },
    {
     "name": "stderr",
     "output_type": "stream",
     "text": [
      "Grid configuration same as last episode\n",
      "Grid configuration same as last episode\n",
      "Grid configuration same as last episode\n",
      "Grid configuration same as last episode\n",
      "Grid configuration same as last episode\n",
      "Grid configuration same as last episode\n"
     ]
    },
    {
     "name": "stdout",
     "output_type": "stream",
     "text": [
      "Update 1158: Reward P1: -76, Reward P2: -76\n",
      "Update 1159: Reward P1: -96, Reward P2: -96\n"
     ]
    },
    {
     "name": "stderr",
     "output_type": "stream",
     "text": [
      "Grid configuration same as last episode\n",
      "Grid configuration same as last episode\n",
      "Grid configuration same as last episode\n",
      "Grid configuration same as last episode\n",
      "Grid configuration same as last episode\n",
      "Grid configuration same as last episode\n"
     ]
    },
    {
     "name": "stdout",
     "output_type": "stream",
     "text": [
      "Update 1160: Reward P1: -136, Reward P2: -136\n",
      "Update 1161: Reward P1: -146, Reward P2: -146\n"
     ]
    },
    {
     "name": "stderr",
     "output_type": "stream",
     "text": [
      "Grid configuration same as last episode\n",
      "Grid configuration same as last episode\n",
      "Grid configuration same as last episode\n",
      "Grid configuration same as last episode\n",
      "Grid configuration same as last episode\n",
      "Grid configuration same as last episode\n"
     ]
    },
    {
     "name": "stdout",
     "output_type": "stream",
     "text": [
      "Update 1162: Reward P1: -96, Reward P2: -96\n",
      "Update 1163: Reward P1: -126, Reward P2: -126\n"
     ]
    },
    {
     "name": "stderr",
     "output_type": "stream",
     "text": [
      "Grid configuration same as last episode\n",
      "Grid configuration same as last episode\n",
      "Grid configuration same as last episode\n",
      "Grid configuration same as last episode\n",
      "Grid configuration same as last episode\n",
      "Grid configuration same as last episode\n"
     ]
    },
    {
     "name": "stdout",
     "output_type": "stream",
     "text": [
      "Update 1164: Reward P1: -96, Reward P2: -96\n",
      "Update 1165: Reward P1: -126, Reward P2: -126\n"
     ]
    },
    {
     "name": "stderr",
     "output_type": "stream",
     "text": [
      "Grid configuration same as last episode\n",
      "Grid configuration same as last episode\n",
      "Grid configuration same as last episode\n",
      "Grid configuration same as last episode\n",
      "Grid configuration same as last episode\n",
      "Grid configuration same as last episode\n"
     ]
    },
    {
     "name": "stdout",
     "output_type": "stream",
     "text": [
      "Update 1166: Reward P1: -126, Reward P2: -126\n",
      "Update 1167: Reward P1: -116, Reward P2: -116\n"
     ]
    },
    {
     "name": "stderr",
     "output_type": "stream",
     "text": [
      "Grid configuration same as last episode\n",
      "Grid configuration same as last episode\n",
      "Grid configuration same as last episode\n",
      "Grid configuration same as last episode\n",
      "Grid configuration same as last episode\n",
      "Grid configuration same as last episode\n"
     ]
    },
    {
     "name": "stdout",
     "output_type": "stream",
     "text": [
      "Update 1168: Reward P1: -116, Reward P2: -116\n",
      "Update 1169: Reward P1: -116, Reward P2: -116\n"
     ]
    },
    {
     "name": "stderr",
     "output_type": "stream",
     "text": [
      "Grid configuration same as last episode\n",
      "Grid configuration same as last episode\n",
      "Grid configuration same as last episode\n",
      "Grid configuration same as last episode\n",
      "Grid configuration same as last episode\n",
      "Grid configuration same as last episode\n"
     ]
    },
    {
     "name": "stdout",
     "output_type": "stream",
     "text": [
      "Update 1170: Reward P1: -106, Reward P2: -106\n",
      "Update 1171: Reward P1: -186, Reward P2: -186\n"
     ]
    },
    {
     "name": "stderr",
     "output_type": "stream",
     "text": [
      "Grid configuration same as last episode\n",
      "Grid configuration same as last episode\n",
      "Grid configuration same as last episode\n",
      "Grid configuration same as last episode\n",
      "Grid configuration same as last episode\n",
      "Grid configuration same as last episode\n"
     ]
    },
    {
     "name": "stdout",
     "output_type": "stream",
     "text": [
      "Update 1172: Reward P1: -86, Reward P2: -86\n",
      "Update 1173: Reward P1: -146, Reward P2: -146\n"
     ]
    },
    {
     "name": "stderr",
     "output_type": "stream",
     "text": [
      "Grid configuration same as last episode\n",
      "Grid configuration same as last episode\n",
      "Grid configuration same as last episode\n",
      "Grid configuration same as last episode\n",
      "Grid configuration same as last episode\n",
      "Grid configuration same as last episode\n"
     ]
    },
    {
     "name": "stdout",
     "output_type": "stream",
     "text": [
      "Update 1174: Reward P1: -146, Reward P2: -146\n",
      "Update 1175: Reward P1: -156, Reward P2: -156\n"
     ]
    },
    {
     "name": "stderr",
     "output_type": "stream",
     "text": [
      "Grid configuration same as last episode\n",
      "Grid configuration same as last episode\n",
      "Grid configuration same as last episode\n",
      "Grid configuration same as last episode\n",
      "Grid configuration same as last episode\n",
      "Grid configuration same as last episode\n"
     ]
    },
    {
     "name": "stdout",
     "output_type": "stream",
     "text": [
      "Update 1176: Reward P1: -76, Reward P2: -76\n",
      "Update 1177: Reward P1: -106, Reward P2: -106\n"
     ]
    },
    {
     "name": "stderr",
     "output_type": "stream",
     "text": [
      "Grid configuration same as last episode\n",
      "Grid configuration same as last episode\n",
      "Grid configuration same as last episode\n",
      "Grid configuration same as last episode\n",
      "Grid configuration same as last episode\n",
      "Grid configuration same as last episode\n"
     ]
    },
    {
     "name": "stdout",
     "output_type": "stream",
     "text": [
      "Update 1178: Reward P1: -146, Reward P2: -146\n",
      "Update 1179: Reward P1: -146, Reward P2: -146\n"
     ]
    },
    {
     "name": "stderr",
     "output_type": "stream",
     "text": [
      "Grid configuration same as last episode\n",
      "Grid configuration same as last episode\n",
      "Grid configuration same as last episode\n",
      "Grid configuration same as last episode\n",
      "Grid configuration same as last episode\n",
      "Grid configuration same as last episode\n"
     ]
    },
    {
     "name": "stdout",
     "output_type": "stream",
     "text": [
      "Update 1180: Reward P1: -146, Reward P2: -146\n",
      "Update 1181: Reward P1: -96, Reward P2: -96\n"
     ]
    },
    {
     "name": "stderr",
     "output_type": "stream",
     "text": [
      "Grid configuration same as last episode\n",
      "Grid configuration same as last episode\n",
      "Grid configuration same as last episode\n",
      "Grid configuration same as last episode\n",
      "Grid configuration same as last episode\n",
      "Grid configuration same as last episode\n"
     ]
    },
    {
     "name": "stdout",
     "output_type": "stream",
     "text": [
      "Update 1182: Reward P1: -136, Reward P2: -136\n",
      "Update 1183: Reward P1: -96, Reward P2: -96\n"
     ]
    },
    {
     "name": "stderr",
     "output_type": "stream",
     "text": [
      "Grid configuration same as last episode\n",
      "Grid configuration same as last episode\n",
      "Grid configuration same as last episode\n",
      "Grid configuration same as last episode\n",
      "Grid configuration same as last episode\n",
      "Grid configuration same as last episode\n"
     ]
    },
    {
     "name": "stdout",
     "output_type": "stream",
     "text": [
      "Update 1184: Reward P1: -116, Reward P2: -116\n",
      "Update 1185: Reward P1: -156, Reward P2: -156\n"
     ]
    },
    {
     "name": "stderr",
     "output_type": "stream",
     "text": [
      "Grid configuration same as last episode\n",
      "Grid configuration same as last episode\n",
      "Grid configuration same as last episode\n",
      "Grid configuration same as last episode\n",
      "Grid configuration same as last episode\n",
      "Grid configuration same as last episode\n"
     ]
    },
    {
     "name": "stdout",
     "output_type": "stream",
     "text": [
      "Update 1186: Reward P1: -86, Reward P2: -86\n",
      "Update 1187: Reward P1: -106, Reward P2: -106\n"
     ]
    },
    {
     "name": "stderr",
     "output_type": "stream",
     "text": [
      "Grid configuration same as last episode\n",
      "Grid configuration same as last episode\n",
      "Grid configuration same as last episode\n",
      "Grid configuration same as last episode\n",
      "Grid configuration same as last episode\n",
      "Grid configuration same as last episode\n"
     ]
    },
    {
     "name": "stdout",
     "output_type": "stream",
     "text": [
      "Update 1188: Reward P1: -96, Reward P2: -96\n",
      "Update 1189: Reward P1: -86, Reward P2: -86\n"
     ]
    },
    {
     "name": "stderr",
     "output_type": "stream",
     "text": [
      "Grid configuration same as last episode\n",
      "Grid configuration same as last episode\n",
      "Grid configuration same as last episode\n",
      "Grid configuration same as last episode\n"
     ]
    },
    {
     "name": "stdout",
     "output_type": "stream",
     "text": [
      "Update 1190: Reward P1: -86, Reward P2: -86\n"
     ]
    },
    {
     "name": "stderr",
     "output_type": "stream",
     "text": [
      "Grid configuration same as last episode\n",
      "Grid configuration same as last episode\n",
      "Grid configuration same as last episode\n",
      "Grid configuration same as last episode\n",
      "Grid configuration same as last episode\n"
     ]
    },
    {
     "name": "stdout",
     "output_type": "stream",
     "text": [
      "Update 1191: Reward P1: -116, Reward P2: -116\n",
      "Update 1192: Reward P1: -106, Reward P2: -106\n"
     ]
    },
    {
     "name": "stderr",
     "output_type": "stream",
     "text": [
      "Grid configuration same as last episode\n",
      "Grid configuration same as last episode\n",
      "Grid configuration same as last episode\n",
      "Grid configuration same as last episode\n",
      "Grid configuration same as last episode\n",
      "Grid configuration same as last episode\n"
     ]
    },
    {
     "name": "stdout",
     "output_type": "stream",
     "text": [
      "Update 1193: Reward P1: -136, Reward P2: -136\n",
      "Update 1194: Reward P1: -116, Reward P2: -116\n"
     ]
    },
    {
     "name": "stderr",
     "output_type": "stream",
     "text": [
      "Grid configuration same as last episode\n",
      "Grid configuration same as last episode\n",
      "Grid configuration same as last episode\n",
      "Grid configuration same as last episode\n",
      "Grid configuration same as last episode\n",
      "Grid configuration same as last episode\n"
     ]
    },
    {
     "name": "stdout",
     "output_type": "stream",
     "text": [
      "Update 1195: Reward P1: -126, Reward P2: -126\n",
      "Update 1196: Reward P1: -76, Reward P2: -76\n"
     ]
    },
    {
     "name": "stderr",
     "output_type": "stream",
     "text": [
      "Grid configuration same as last episode\n",
      "Grid configuration same as last episode\n",
      "Grid configuration same as last episode\n",
      "Grid configuration same as last episode\n",
      "Grid configuration same as last episode\n",
      "Grid configuration same as last episode\n"
     ]
    },
    {
     "name": "stdout",
     "output_type": "stream",
     "text": [
      "Update 1197: Reward P1: -136, Reward P2: -136\n",
      "Update 1198: Reward P1: -96, Reward P2: -96\n"
     ]
    },
    {
     "name": "stderr",
     "output_type": "stream",
     "text": [
      "Grid configuration same as last episode\n",
      "Grid configuration same as last episode\n",
      "Grid configuration same as last episode\n",
      "Grid configuration same as last episode\n",
      "Grid configuration same as last episode\n",
      "Grid configuration same as last episode\n"
     ]
    },
    {
     "name": "stdout",
     "output_type": "stream",
     "text": [
      "Update 1199: Reward P1: -126, Reward P2: -126\n",
      "Update 1200: Reward P1: -136, Reward P2: -136\n"
     ]
    },
    {
     "name": "stderr",
     "output_type": "stream",
     "text": [
      "Grid configuration same as last episode\n",
      "Grid configuration same as last episode\n",
      "Grid configuration same as last episode\n",
      "Grid configuration same as last episode\n",
      "Grid configuration same as last episode\n"
     ]
    },
    {
     "name": "stdout",
     "output_type": "stream",
     "text": [
      "Update 1201: Reward P1: -106, Reward P2: -106\n",
      "Update 1202: Reward P1: -86, Reward P2: -86\n"
     ]
    },
    {
     "name": "stderr",
     "output_type": "stream",
     "text": [
      "Grid configuration same as last episode\n",
      "Grid configuration same as last episode\n",
      "Grid configuration same as last episode\n",
      "Grid configuration same as last episode\n",
      "Grid configuration same as last episode\n",
      "Grid configuration same as last episode\n"
     ]
    },
    {
     "name": "stdout",
     "output_type": "stream",
     "text": [
      "Update 1203: Reward P1: -126, Reward P2: -126\n",
      "Update 1204: Reward P1: -126, Reward P2: -126\n"
     ]
    },
    {
     "name": "stderr",
     "output_type": "stream",
     "text": [
      "Grid configuration same as last episode\n",
      "Grid configuration same as last episode\n",
      "Grid configuration same as last episode\n",
      "Grid configuration same as last episode\n",
      "Grid configuration same as last episode\n",
      "Grid configuration same as last episode\n"
     ]
    },
    {
     "name": "stdout",
     "output_type": "stream",
     "text": [
      "Update 1205: Reward P1: -86, Reward P2: -86\n",
      "Update 1206: Reward P1: -116, Reward P2: -116\n"
     ]
    },
    {
     "name": "stderr",
     "output_type": "stream",
     "text": [
      "Grid configuration same as last episode\n",
      "Grid configuration same as last episode\n",
      "Grid configuration same as last episode\n",
      "Grid configuration same as last episode\n",
      "Grid configuration same as last episode\n",
      "Grid configuration same as last episode\n"
     ]
    },
    {
     "name": "stdout",
     "output_type": "stream",
     "text": [
      "Update 1207: Reward P1: -106, Reward P2: -106\n",
      "Update 1208: Reward P1: -156, Reward P2: -156\n"
     ]
    },
    {
     "name": "stderr",
     "output_type": "stream",
     "text": [
      "Grid configuration same as last episode\n",
      "Grid configuration same as last episode\n",
      "Grid configuration same as last episode\n",
      "Grid configuration same as last episode\n",
      "Grid configuration same as last episode\n",
      "Grid configuration same as last episode\n"
     ]
    },
    {
     "name": "stdout",
     "output_type": "stream",
     "text": [
      "Update 1209: Reward P1: -96, Reward P2: -96\n",
      "Update 1210: Reward P1: -76, Reward P2: -76\n"
     ]
    },
    {
     "name": "stderr",
     "output_type": "stream",
     "text": [
      "Grid configuration same as last episode\n",
      "Grid configuration same as last episode\n",
      "Grid configuration same as last episode\n",
      "Grid configuration same as last episode\n",
      "Grid configuration same as last episode\n",
      "Grid configuration same as last episode\n",
      "Grid configuration same as last episode\n"
     ]
    },
    {
     "name": "stdout",
     "output_type": "stream",
     "text": [
      "Update 1211: Reward P1: -96, Reward P2: -96\n",
      "Update 1212: Reward P1: -116, Reward P2: -116\n"
     ]
    },
    {
     "name": "stderr",
     "output_type": "stream",
     "text": [
      "Grid configuration same as last episode\n",
      "Grid configuration same as last episode\n",
      "Grid configuration same as last episode\n",
      "Grid configuration same as last episode\n",
      "Grid configuration same as last episode\n"
     ]
    },
    {
     "name": "stdout",
     "output_type": "stream",
     "text": [
      "Update 1213: Reward P1: -116, Reward P2: -116\n",
      "Update 1214: Reward P1: -146, Reward P2: -146\n"
     ]
    },
    {
     "name": "stderr",
     "output_type": "stream",
     "text": [
      "Grid configuration same as last episode\n",
      "Grid configuration same as last episode\n",
      "Grid configuration same as last episode\n",
      "Grid configuration same as last episode\n",
      "Grid configuration same as last episode\n",
      "Grid configuration same as last episode\n",
      "Grid configuration same as last episode\n"
     ]
    },
    {
     "name": "stdout",
     "output_type": "stream",
     "text": [
      "Update 1215: Reward P1: -126, Reward P2: -126\n",
      "Update 1216: Reward P1: -126, Reward P2: -126\n"
     ]
    },
    {
     "name": "stderr",
     "output_type": "stream",
     "text": [
      "Grid configuration same as last episode\n",
      "Grid configuration same as last episode\n",
      "Grid configuration same as last episode\n",
      "Grid configuration same as last episode\n"
     ]
    },
    {
     "name": "stdout",
     "output_type": "stream",
     "text": [
      "Update 1217: Reward P1: -126, Reward P2: -126\n"
     ]
    },
    {
     "name": "stderr",
     "output_type": "stream",
     "text": [
      "Grid configuration same as last episode\n",
      "Grid configuration same as last episode\n",
      "Grid configuration same as last episode\n"
     ]
    },
    {
     "name": "stdout",
     "output_type": "stream",
     "text": [
      "Update 1218: Reward P1: -146, Reward P2: -146\n"
     ]
    },
    {
     "name": "stderr",
     "output_type": "stream",
     "text": [
      "Grid configuration same as last episode\n",
      "Grid configuration same as last episode\n",
      "Grid configuration same as last episode\n",
      "Grid configuration same as last episode\n"
     ]
    },
    {
     "name": "stdout",
     "output_type": "stream",
     "text": [
      "Update 1219: Reward P1: -126, Reward P2: -126\n",
      "Update 1220: Reward P1: -166, Reward P2: -166\n"
     ]
    },
    {
     "name": "stderr",
     "output_type": "stream",
     "text": [
      "Grid configuration same as last episode\n",
      "Grid configuration same as last episode\n",
      "Grid configuration same as last episode\n",
      "Grid configuration same as last episode\n",
      "Grid configuration same as last episode\n",
      "Grid configuration same as last episode\n",
      "Grid configuration same as last episode\n"
     ]
    },
    {
     "name": "stdout",
     "output_type": "stream",
     "text": [
      "Update 1221: Reward P1: -126, Reward P2: -126\n",
      "Update 1222: Reward P1: -186, Reward P2: -186\n"
     ]
    },
    {
     "name": "stderr",
     "output_type": "stream",
     "text": [
      "Grid configuration same as last episode\n",
      "Grid configuration same as last episode\n",
      "Grid configuration same as last episode\n",
      "Grid configuration same as last episode\n",
      "Grid configuration same as last episode\n"
     ]
    },
    {
     "name": "stdout",
     "output_type": "stream",
     "text": [
      "Update 1223: Reward P1: -106, Reward P2: -106\n",
      "Update 1224: Reward P1: -116, Reward P2: -116\n"
     ]
    },
    {
     "name": "stderr",
     "output_type": "stream",
     "text": [
      "Grid configuration same as last episode\n",
      "Grid configuration same as last episode\n",
      "Grid configuration same as last episode\n",
      "Grid configuration same as last episode\n",
      "Grid configuration same as last episode\n",
      "Grid configuration same as last episode\n",
      "Grid configuration same as last episode\n"
     ]
    },
    {
     "name": "stdout",
     "output_type": "stream",
     "text": [
      "Update 1225: Reward P1: -116, Reward P2: -116\n",
      "Update 1226: Reward P1: -96, Reward P2: -96\n"
     ]
    },
    {
     "name": "stderr",
     "output_type": "stream",
     "text": [
      "Grid configuration same as last episode\n",
      "Grid configuration same as last episode\n",
      "Grid configuration same as last episode\n",
      "Grid configuration same as last episode\n",
      "Grid configuration same as last episode\n",
      "Grid configuration same as last episode\n"
     ]
    },
    {
     "name": "stdout",
     "output_type": "stream",
     "text": [
      "Update 1227: Reward P1: -146, Reward P2: -146\n",
      "Update 1228: Reward P1: -116, Reward P2: -116\n"
     ]
    },
    {
     "name": "stderr",
     "output_type": "stream",
     "text": [
      "Grid configuration same as last episode\n",
      "Grid configuration same as last episode\n",
      "Grid configuration same as last episode\n",
      "Grid configuration same as last episode\n",
      "Grid configuration same as last episode\n"
     ]
    },
    {
     "name": "stdout",
     "output_type": "stream",
     "text": [
      "Update 1229: Reward P1: -96, Reward P2: -96\n",
      "Update 1230: Reward P1: -56, Reward P2: -56\n"
     ]
    },
    {
     "name": "stderr",
     "output_type": "stream",
     "text": [
      "Grid configuration same as last episode\n",
      "Grid configuration same as last episode\n",
      "Grid configuration same as last episode\n",
      "Grid configuration same as last episode\n",
      "Grid configuration same as last episode\n",
      "Grid configuration same as last episode\n"
     ]
    },
    {
     "name": "stdout",
     "output_type": "stream",
     "text": [
      "Update 1231: Reward P1: -146, Reward P2: -146\n",
      "Update 1232: Reward P1: -96, Reward P2: -96\n"
     ]
    },
    {
     "name": "stderr",
     "output_type": "stream",
     "text": [
      "Grid configuration same as last episode\n",
      "Grid configuration same as last episode\n",
      "Grid configuration same as last episode\n",
      "Grid configuration same as last episode\n",
      "Grid configuration same as last episode\n"
     ]
    },
    {
     "name": "stdout",
     "output_type": "stream",
     "text": [
      "Update 1233: Reward P1: -166, Reward P2: -166\n"
     ]
    },
    {
     "name": "stderr",
     "output_type": "stream",
     "text": [
      "Grid configuration same as last episode\n",
      "Grid configuration same as last episode\n",
      "Grid configuration same as last episode\n"
     ]
    },
    {
     "name": "stdout",
     "output_type": "stream",
     "text": [
      "Update 1234: Reward P1: -146, Reward P2: -146\n"
     ]
    },
    {
     "name": "stderr",
     "output_type": "stream",
     "text": [
      "Grid configuration same as last episode\n",
      "Grid configuration same as last episode\n",
      "Grid configuration same as last episode\n",
      "Grid configuration same as last episode\n"
     ]
    },
    {
     "name": "stdout",
     "output_type": "stream",
     "text": [
      "Update 1235: Reward P1: -156, Reward P2: -156\n",
      "Update 1236: Reward P1: -136, Reward P2: -136\n"
     ]
    },
    {
     "name": "stderr",
     "output_type": "stream",
     "text": [
      "Grid configuration same as last episode\n",
      "Grid configuration same as last episode\n",
      "Grid configuration same as last episode\n",
      "Grid configuration same as last episode\n",
      "Grid configuration same as last episode\n",
      "Grid configuration same as last episode\n"
     ]
    },
    {
     "name": "stdout",
     "output_type": "stream",
     "text": [
      "Update 1237: Reward P1: -86, Reward P2: -86\n",
      "Update 1238: Reward P1: -116, Reward P2: -116\n"
     ]
    },
    {
     "name": "stderr",
     "output_type": "stream",
     "text": [
      "Grid configuration same as last episode\n",
      "Grid configuration same as last episode\n",
      "Grid configuration same as last episode\n",
      "Grid configuration same as last episode\n",
      "Grid configuration same as last episode\n",
      "Grid configuration same as last episode\n"
     ]
    },
    {
     "name": "stdout",
     "output_type": "stream",
     "text": [
      "Update 1239: Reward P1: -86, Reward P2: -86\n",
      "Update 1240: Reward P1: -116, Reward P2: -116\n"
     ]
    },
    {
     "name": "stderr",
     "output_type": "stream",
     "text": [
      "Grid configuration same as last episode\n",
      "Grid configuration same as last episode\n",
      "Grid configuration same as last episode\n",
      "Grid configuration same as last episode\n",
      "Grid configuration same as last episode\n",
      "Grid configuration same as last episode\n",
      "Grid configuration same as last episode\n"
     ]
    },
    {
     "name": "stdout",
     "output_type": "stream",
     "text": [
      "Update 1241: Reward P1: -86, Reward P2: -86\n",
      "Update 1242: Reward P1: -146, Reward P2: -146\n"
     ]
    },
    {
     "name": "stderr",
     "output_type": "stream",
     "text": [
      "Grid configuration same as last episode\n",
      "Grid configuration same as last episode\n",
      "Grid configuration same as last episode\n",
      "Grid configuration same as last episode\n",
      "Grid configuration same as last episode\n"
     ]
    },
    {
     "name": "stdout",
     "output_type": "stream",
     "text": [
      "Update 1243: Reward P1: -156, Reward P2: -156\n",
      "Update 1244: Reward P1: -146, Reward P2: -146\n"
     ]
    },
    {
     "name": "stderr",
     "output_type": "stream",
     "text": [
      "Grid configuration same as last episode\n",
      "Grid configuration same as last episode\n",
      "Grid configuration same as last episode\n",
      "Grid configuration same as last episode\n"
     ]
    },
    {
     "name": "stdout",
     "output_type": "stream",
     "text": [
      "Update 1245: Reward P1: -176, Reward P2: -176\n"
     ]
    },
    {
     "name": "stderr",
     "output_type": "stream",
     "text": [
      "Grid configuration same as last episode\n",
      "Grid configuration same as last episode\n",
      "Grid configuration same as last episode\n"
     ]
    },
    {
     "name": "stdout",
     "output_type": "stream",
     "text": [
      "Update 1246: Reward P1: -116, Reward P2: -116\n"
     ]
    },
    {
     "name": "stderr",
     "output_type": "stream",
     "text": [
      "Grid configuration same as last episode\n",
      "Grid configuration same as last episode\n",
      "Grid configuration same as last episode\n",
      "Grid configuration same as last episode\n"
     ]
    },
    {
     "name": "stdout",
     "output_type": "stream",
     "text": [
      "Update 1247: Reward P1: -126, Reward P2: -126\n"
     ]
    },
    {
     "name": "stderr",
     "output_type": "stream",
     "text": [
      "Grid configuration same as last episode\n",
      "Grid configuration same as last episode\n",
      "Grid configuration same as last episode\n",
      "Grid configuration same as last episode\n"
     ]
    },
    {
     "name": "stdout",
     "output_type": "stream",
     "text": [
      "Update 1248: Reward P1: -146, Reward P2: -146\n",
      "Update 1249: Reward P1: -86, Reward P2: -86\n"
     ]
    },
    {
     "name": "stderr",
     "output_type": "stream",
     "text": [
      "Grid configuration same as last episode\n",
      "Grid configuration same as last episode\n",
      "Grid configuration same as last episode\n",
      "Grid configuration same as last episode\n",
      "Grid configuration same as last episode\n",
      "Grid configuration same as last episode\n"
     ]
    },
    {
     "name": "stdout",
     "output_type": "stream",
     "text": [
      "Update 1250: Reward P1: -126, Reward P2: -126\n",
      "Update 1251: Reward P1: -116, Reward P2: -116\n"
     ]
    },
    {
     "name": "stderr",
     "output_type": "stream",
     "text": [
      "Grid configuration same as last episode\n",
      "Grid configuration same as last episode\n",
      "Grid configuration same as last episode\n",
      "Grid configuration same as last episode\n",
      "Grid configuration same as last episode\n",
      "Grid configuration same as last episode\n"
     ]
    },
    {
     "name": "stdout",
     "output_type": "stream",
     "text": [
      "Update 1252: Reward P1: -96, Reward P2: -96\n",
      "Update 1253: Reward P1: -106, Reward P2: -106\n"
     ]
    },
    {
     "name": "stderr",
     "output_type": "stream",
     "text": [
      "Grid configuration same as last episode\n",
      "Grid configuration same as last episode\n",
      "Grid configuration same as last episode\n",
      "Grid configuration same as last episode\n",
      "Grid configuration same as last episode\n",
      "Grid configuration same as last episode\n",
      "Grid configuration same as last episode\n"
     ]
    },
    {
     "name": "stdout",
     "output_type": "stream",
     "text": [
      "Update 1254: Reward P1: -86, Reward P2: -86\n",
      "Update 1255: Reward P1: -126, Reward P2: -126\n"
     ]
    },
    {
     "name": "stderr",
     "output_type": "stream",
     "text": [
      "Grid configuration same as last episode\n",
      "Grid configuration same as last episode\n",
      "Grid configuration same as last episode\n",
      "Grid configuration same as last episode\n",
      "Grid configuration same as last episode\n",
      "Grid configuration same as last episode\n"
     ]
    },
    {
     "name": "stdout",
     "output_type": "stream",
     "text": [
      "Update 1256: Reward P1: -136, Reward P2: -136\n",
      "Update 1257: Reward P1: -146, Reward P2: -146\n"
     ]
    },
    {
     "name": "stderr",
     "output_type": "stream",
     "text": [
      "Grid configuration same as last episode\n",
      "Grid configuration same as last episode\n",
      "Grid configuration same as last episode\n",
      "Grid configuration same as last episode\n",
      "Grid configuration same as last episode\n"
     ]
    },
    {
     "name": "stdout",
     "output_type": "stream",
     "text": [
      "Update 1258: Reward P1: -76, Reward P2: -76\n",
      "Update 1259: Reward P1: -126, Reward P2: -126\n"
     ]
    },
    {
     "name": "stderr",
     "output_type": "stream",
     "text": [
      "Grid configuration same as last episode\n",
      "Grid configuration same as last episode\n",
      "Grid configuration same as last episode\n",
      "Grid configuration same as last episode\n",
      "Grid configuration same as last episode\n",
      "Grid configuration same as last episode\n"
     ]
    },
    {
     "name": "stdout",
     "output_type": "stream",
     "text": [
      "Update 1260: Reward P1: -146, Reward P2: -146\n",
      "Update 1261: Reward P1: -166, Reward P2: -166\n"
     ]
    },
    {
     "name": "stderr",
     "output_type": "stream",
     "text": [
      "Grid configuration same as last episode\n",
      "Grid configuration same as last episode\n",
      "Grid configuration same as last episode\n",
      "Grid configuration same as last episode\n",
      "Grid configuration same as last episode\n",
      "Grid configuration same as last episode\n"
     ]
    },
    {
     "name": "stdout",
     "output_type": "stream",
     "text": [
      "Update 1262: Reward P1: -76, Reward P2: -76\n",
      "Update 1263: Reward P1: -166, Reward P2: -166\n"
     ]
    },
    {
     "name": "stderr",
     "output_type": "stream",
     "text": [
      "Grid configuration same as last episode\n",
      "Grid configuration same as last episode\n",
      "Grid configuration same as last episode\n",
      "Grid configuration same as last episode\n",
      "Grid configuration same as last episode\n",
      "Grid configuration same as last episode\n"
     ]
    },
    {
     "name": "stdout",
     "output_type": "stream",
     "text": [
      "Update 1264: Reward P1: -96, Reward P2: -96\n",
      "Update 1265: Reward P1: -116, Reward P2: -116\n"
     ]
    },
    {
     "name": "stderr",
     "output_type": "stream",
     "text": [
      "Grid configuration same as last episode\n",
      "Grid configuration same as last episode\n",
      "Grid configuration same as last episode\n",
      "Grid configuration same as last episode\n",
      "Grid configuration same as last episode\n",
      "Grid configuration same as last episode\n"
     ]
    },
    {
     "name": "stdout",
     "output_type": "stream",
     "text": [
      "Update 1266: Reward P1: -106, Reward P2: -106\n",
      "Update 1267: Reward P1: -146, Reward P2: -146\n"
     ]
    },
    {
     "name": "stderr",
     "output_type": "stream",
     "text": [
      "Grid configuration same as last episode\n",
      "Grid configuration same as last episode\n",
      "Grid configuration same as last episode\n",
      "Grid configuration same as last episode\n",
      "Grid configuration same as last episode\n",
      "Grid configuration same as last episode\n"
     ]
    },
    {
     "name": "stdout",
     "output_type": "stream",
     "text": [
      "Update 1268: Reward P1: -76, Reward P2: -76\n",
      "Update 1269: Reward P1: -96, Reward P2: -96\n"
     ]
    },
    {
     "name": "stderr",
     "output_type": "stream",
     "text": [
      "Grid configuration same as last episode\n",
      "Grid configuration same as last episode\n",
      "Grid configuration same as last episode\n",
      "Grid configuration same as last episode\n",
      "Grid configuration same as last episode\n"
     ]
    },
    {
     "name": "stdout",
     "output_type": "stream",
     "text": [
      "Update 1270: Reward P1: -106, Reward P2: -106\n"
     ]
    },
    {
     "name": "stderr",
     "output_type": "stream",
     "text": [
      "Grid configuration same as last episode\n",
      "Grid configuration same as last episode\n",
      "Grid configuration same as last episode\n",
      "Grid configuration same as last episode\n"
     ]
    },
    {
     "name": "stdout",
     "output_type": "stream",
     "text": [
      "Update 1271: Reward P1: -136, Reward P2: -136\n",
      "Update 1272: Reward P1: -156, Reward P2: -156\n"
     ]
    },
    {
     "name": "stderr",
     "output_type": "stream",
     "text": [
      "Grid configuration same as last episode\n",
      "Grid configuration same as last episode\n",
      "Grid configuration same as last episode\n",
      "Grid configuration same as last episode\n",
      "Grid configuration same as last episode\n",
      "Grid configuration same as last episode\n"
     ]
    },
    {
     "name": "stdout",
     "output_type": "stream",
     "text": [
      "Update 1273: Reward P1: -156, Reward P2: -156\n",
      "Update 1274: Reward P1: -96, Reward P2: -96\n"
     ]
    },
    {
     "name": "stderr",
     "output_type": "stream",
     "text": [
      "Grid configuration same as last episode\n",
      "Grid configuration same as last episode\n",
      "Grid configuration same as last episode\n",
      "Grid configuration same as last episode\n",
      "Grid configuration same as last episode\n",
      "Grid configuration same as last episode\n",
      "Grid configuration same as last episode\n"
     ]
    },
    {
     "name": "stdout",
     "output_type": "stream",
     "text": [
      "Update 1275: Reward P1: -76, Reward P2: -76\n",
      "Update 1276: Reward P1: -116, Reward P2: -116\n"
     ]
    },
    {
     "name": "stderr",
     "output_type": "stream",
     "text": [
      "Grid configuration same as last episode\n",
      "Grid configuration same as last episode\n",
      "Grid configuration same as last episode\n",
      "Grid configuration same as last episode\n",
      "Grid configuration same as last episode\n"
     ]
    },
    {
     "name": "stdout",
     "output_type": "stream",
     "text": [
      "Update 1277: Reward P1: -76, Reward P2: -76\n",
      "Update 1278: Reward P1: -156, Reward P2: -156\n"
     ]
    },
    {
     "name": "stderr",
     "output_type": "stream",
     "text": [
      "Grid configuration same as last episode\n",
      "Grid configuration same as last episode\n",
      "Grid configuration same as last episode\n",
      "Grid configuration same as last episode\n",
      "Grid configuration same as last episode\n",
      "Grid configuration same as last episode\n"
     ]
    },
    {
     "name": "stdout",
     "output_type": "stream",
     "text": [
      "Update 1279: Reward P1: -106, Reward P2: -106\n",
      "Update 1280: Reward P1: -66, Reward P2: -66\n"
     ]
    },
    {
     "name": "stderr",
     "output_type": "stream",
     "text": [
      "Grid configuration same as last episode\n",
      "Grid configuration same as last episode\n",
      "Grid configuration same as last episode\n",
      "Grid configuration same as last episode\n",
      "Grid configuration same as last episode\n",
      "Grid configuration same as last episode\n",
      "Grid configuration same as last episode\n"
     ]
    },
    {
     "name": "stdout",
     "output_type": "stream",
     "text": [
      "Update 1281: Reward P1: -146, Reward P2: -146\n",
      "Update 1282: Reward P1: -106, Reward P2: -106\n"
     ]
    },
    {
     "name": "stderr",
     "output_type": "stream",
     "text": [
      "Grid configuration same as last episode\n",
      "Grid configuration same as last episode\n",
      "Grid configuration same as last episode\n",
      "Grid configuration same as last episode\n"
     ]
    },
    {
     "name": "stdout",
     "output_type": "stream",
     "text": [
      "Update 1283: Reward P1: -46, Reward P2: -46\n"
     ]
    },
    {
     "name": "stderr",
     "output_type": "stream",
     "text": [
      "Grid configuration same as last episode\n",
      "Grid configuration same as last episode\n",
      "Grid configuration same as last episode\n",
      "Grid configuration same as last episode\n"
     ]
    },
    {
     "name": "stdout",
     "output_type": "stream",
     "text": [
      "Update 1284: Reward P1: -116, Reward P2: -116\n",
      "Update 1285: Reward P1: -136, Reward P2: -136\n"
     ]
    },
    {
     "name": "stderr",
     "output_type": "stream",
     "text": [
      "Grid configuration same as last episode\n",
      "Grid configuration same as last episode\n",
      "Grid configuration same as last episode\n",
      "Grid configuration same as last episode\n",
      "Grid configuration same as last episode\n",
      "Grid configuration same as last episode\n"
     ]
    },
    {
     "name": "stdout",
     "output_type": "stream",
     "text": [
      "Update 1286: Reward P1: -136, Reward P2: -136\n",
      "Update 1287: Reward P1: -126, Reward P2: -126\n"
     ]
    },
    {
     "name": "stderr",
     "output_type": "stream",
     "text": [
      "Grid configuration same as last episode\n",
      "Grid configuration same as last episode\n",
      "Grid configuration same as last episode\n",
      "Grid configuration same as last episode\n",
      "Grid configuration same as last episode\n",
      "Grid configuration same as last episode\n",
      "Grid configuration same as last episode\n"
     ]
    },
    {
     "name": "stdout",
     "output_type": "stream",
     "text": [
      "Update 1288: Reward P1: -156, Reward P2: -156\n",
      "Update 1289: Reward P1: -136, Reward P2: -136\n"
     ]
    },
    {
     "name": "stderr",
     "output_type": "stream",
     "text": [
      "Grid configuration same as last episode\n",
      "Grid configuration same as last episode\n",
      "Grid configuration same as last episode\n",
      "Grid configuration same as last episode\n",
      "Grid configuration same as last episode\n",
      "Grid configuration same as last episode\n"
     ]
    },
    {
     "name": "stdout",
     "output_type": "stream",
     "text": [
      "Update 1290: Reward P1: -176, Reward P2: -176\n",
      "Update 1291: Reward P1: -126, Reward P2: -126\n"
     ]
    },
    {
     "name": "stderr",
     "output_type": "stream",
     "text": [
      "Grid configuration same as last episode\n",
      "Grid configuration same as last episode\n",
      "Grid configuration same as last episode\n",
      "Grid configuration same as last episode\n"
     ]
    },
    {
     "name": "stdout",
     "output_type": "stream",
     "text": [
      "Update 1292: Reward P1: -96, Reward P2: -96\n"
     ]
    },
    {
     "name": "stderr",
     "output_type": "stream",
     "text": [
      "Grid configuration same as last episode\n",
      "Grid configuration same as last episode\n",
      "Grid configuration same as last episode\n",
      "Grid configuration same as last episode\n"
     ]
    },
    {
     "name": "stdout",
     "output_type": "stream",
     "text": [
      "Update 1293: Reward P1: -126, Reward P2: -126\n",
      "Update 1294: Reward P1: -106, Reward P2: -106\n"
     ]
    },
    {
     "name": "stderr",
     "output_type": "stream",
     "text": [
      "Grid configuration same as last episode\n",
      "Grid configuration same as last episode\n",
      "Grid configuration same as last episode\n",
      "Grid configuration same as last episode\n",
      "Grid configuration same as last episode\n",
      "Grid configuration same as last episode\n",
      "Grid configuration same as last episode\n"
     ]
    },
    {
     "name": "stdout",
     "output_type": "stream",
     "text": [
      "Update 1295: Reward P1: -156, Reward P2: -156\n",
      "Update 1296: Reward P1: -156, Reward P2: -156\n"
     ]
    },
    {
     "name": "stderr",
     "output_type": "stream",
     "text": [
      "Grid configuration same as last episode\n",
      "Grid configuration same as last episode\n",
      "Grid configuration same as last episode\n",
      "Grid configuration same as last episode\n",
      "Grid configuration same as last episode\n",
      "Grid configuration same as last episode\n"
     ]
    },
    {
     "name": "stdout",
     "output_type": "stream",
     "text": [
      "Update 1297: Reward P1: -146, Reward P2: -146\n",
      "Update 1298: Reward P1: -126, Reward P2: -126\n"
     ]
    },
    {
     "name": "stderr",
     "output_type": "stream",
     "text": [
      "Grid configuration same as last episode\n",
      "Grid configuration same as last episode\n",
      "Grid configuration same as last episode\n",
      "Grid configuration same as last episode\n",
      "Grid configuration same as last episode\n",
      "Grid configuration same as last episode\n"
     ]
    },
    {
     "name": "stdout",
     "output_type": "stream",
     "text": [
      "Update 1299: Reward P1: -106, Reward P2: -106\n",
      "Update 1300: Reward P1: -116, Reward P2: -116\n"
     ]
    },
    {
     "name": "stderr",
     "output_type": "stream",
     "text": [
      "Grid configuration same as last episode\n",
      "Grid configuration same as last episode\n",
      "Grid configuration same as last episode\n",
      "Grid configuration same as last episode\n",
      "Grid configuration same as last episode\n",
      "Grid configuration same as last episode\n"
     ]
    },
    {
     "name": "stdout",
     "output_type": "stream",
     "text": [
      "Update 1301: Reward P1: -106, Reward P2: -106\n",
      "Update 1302: Reward P1: -166, Reward P2: -166\n"
     ]
    },
    {
     "name": "stderr",
     "output_type": "stream",
     "text": [
      "Grid configuration same as last episode\n",
      "Grid configuration same as last episode\n",
      "Grid configuration same as last episode\n",
      "Grid configuration same as last episode\n",
      "Grid configuration same as last episode\n",
      "Grid configuration same as last episode\n"
     ]
    },
    {
     "name": "stdout",
     "output_type": "stream",
     "text": [
      "Update 1303: Reward P1: -106, Reward P2: -106\n",
      "Update 1304: Reward P1: -116, Reward P2: -116\n"
     ]
    },
    {
     "name": "stderr",
     "output_type": "stream",
     "text": [
      "Grid configuration same as last episode\n",
      "Grid configuration same as last episode\n",
      "Grid configuration same as last episode\n",
      "Grid configuration same as last episode\n",
      "Grid configuration same as last episode\n",
      "Grid configuration same as last episode\n"
     ]
    },
    {
     "name": "stdout",
     "output_type": "stream",
     "text": [
      "Update 1305: Reward P1: -166, Reward P2: -166\n",
      "Update 1306: Reward P1: -126, Reward P2: -126\n"
     ]
    },
    {
     "name": "stderr",
     "output_type": "stream",
     "text": [
      "Grid configuration same as last episode\n",
      "Grid configuration same as last episode\n",
      "Grid configuration same as last episode\n",
      "Grid configuration same as last episode\n",
      "Grid configuration same as last episode\n",
      "Grid configuration same as last episode\n"
     ]
    },
    {
     "name": "stdout",
     "output_type": "stream",
     "text": [
      "Update 1307: Reward P1: -106, Reward P2: -106\n",
      "Update 1308: Reward P1: -146, Reward P2: -146\n"
     ]
    },
    {
     "name": "stderr",
     "output_type": "stream",
     "text": [
      "Grid configuration same as last episode\n",
      "Grid configuration same as last episode\n",
      "Grid configuration same as last episode\n",
      "Grid configuration same as last episode\n",
      "Grid configuration same as last episode\n",
      "Grid configuration same as last episode\n"
     ]
    },
    {
     "name": "stdout",
     "output_type": "stream",
     "text": [
      "Update 1309: Reward P1: -166, Reward P2: -166\n",
      "Update 1310: Reward P1: -166, Reward P2: -166\n"
     ]
    },
    {
     "name": "stderr",
     "output_type": "stream",
     "text": [
      "Grid configuration same as last episode\n",
      "Grid configuration same as last episode\n",
      "Grid configuration same as last episode\n",
      "Grid configuration same as last episode\n",
      "Grid configuration same as last episode\n",
      "Grid configuration same as last episode\n"
     ]
    },
    {
     "name": "stdout",
     "output_type": "stream",
     "text": [
      "Update 1311: Reward P1: -146, Reward P2: -146\n",
      "Update 1312: Reward P1: -126, Reward P2: -126\n"
     ]
    },
    {
     "name": "stderr",
     "output_type": "stream",
     "text": [
      "Grid configuration same as last episode\n",
      "Grid configuration same as last episode\n",
      "Grid configuration same as last episode\n",
      "Grid configuration same as last episode\n",
      "Grid configuration same as last episode\n",
      "Grid configuration same as last episode\n"
     ]
    },
    {
     "name": "stdout",
     "output_type": "stream",
     "text": [
      "Update 1313: Reward P1: -86, Reward P2: -86\n",
      "Update 1314: Reward P1: -136, Reward P2: -136\n"
     ]
    },
    {
     "name": "stderr",
     "output_type": "stream",
     "text": [
      "Grid configuration same as last episode\n",
      "Grid configuration same as last episode\n",
      "Grid configuration same as last episode\n",
      "Grid configuration same as last episode\n",
      "Grid configuration same as last episode\n",
      "Grid configuration same as last episode\n"
     ]
    },
    {
     "name": "stdout",
     "output_type": "stream",
     "text": [
      "Update 1315: Reward P1: -106, Reward P2: -106\n",
      "Update 1316: Reward P1: -126, Reward P2: -126\n"
     ]
    },
    {
     "name": "stderr",
     "output_type": "stream",
     "text": [
      "Grid configuration same as last episode\n",
      "Grid configuration same as last episode\n",
      "Grid configuration same as last episode\n",
      "Grid configuration same as last episode\n",
      "Grid configuration same as last episode\n",
      "Grid configuration same as last episode\n"
     ]
    },
    {
     "name": "stdout",
     "output_type": "stream",
     "text": [
      "Update 1317: Reward P1: -106, Reward P2: -106\n",
      "Update 1318: Reward P1: -126, Reward P2: -126\n"
     ]
    },
    {
     "name": "stderr",
     "output_type": "stream",
     "text": [
      "Grid configuration same as last episode\n",
      "Grid configuration same as last episode\n",
      "Grid configuration same as last episode\n",
      "Grid configuration same as last episode\n",
      "Grid configuration same as last episode\n",
      "Grid configuration same as last episode\n"
     ]
    },
    {
     "name": "stdout",
     "output_type": "stream",
     "text": [
      "Update 1319: Reward P1: -76, Reward P2: -76\n",
      "Update 1320: Reward P1: -166, Reward P2: -166\n"
     ]
    },
    {
     "name": "stderr",
     "output_type": "stream",
     "text": [
      "Grid configuration same as last episode\n",
      "Grid configuration same as last episode\n",
      "Grid configuration same as last episode\n",
      "Grid configuration same as last episode\n",
      "Grid configuration same as last episode\n",
      "Grid configuration same as last episode\n"
     ]
    },
    {
     "name": "stdout",
     "output_type": "stream",
     "text": [
      "Update 1321: Reward P1: -136, Reward P2: -136\n",
      "Update 1322: Reward P1: -136, Reward P2: -136\n"
     ]
    },
    {
     "name": "stderr",
     "output_type": "stream",
     "text": [
      "Grid configuration same as last episode\n",
      "Grid configuration same as last episode\n",
      "Grid configuration same as last episode\n",
      "Grid configuration same as last episode\n",
      "Grid configuration same as last episode\n",
      "Grid configuration same as last episode\n"
     ]
    },
    {
     "name": "stdout",
     "output_type": "stream",
     "text": [
      "Update 1323: Reward P1: -126, Reward P2: -126\n",
      "Update 1324: Reward P1: -86, Reward P2: -86\n"
     ]
    },
    {
     "name": "stderr",
     "output_type": "stream",
     "text": [
      "Grid configuration same as last episode\n",
      "Grid configuration same as last episode\n",
      "Grid configuration same as last episode\n",
      "Grid configuration same as last episode\n",
      "Grid configuration same as last episode\n",
      "Grid configuration same as last episode\n"
     ]
    },
    {
     "name": "stdout",
     "output_type": "stream",
     "text": [
      "Update 1325: Reward P1: -126, Reward P2: -126\n",
      "Update 1326: Reward P1: -126, Reward P2: -126\n"
     ]
    },
    {
     "name": "stderr",
     "output_type": "stream",
     "text": [
      "Grid configuration same as last episode\n",
      "Grid configuration same as last episode\n",
      "Grid configuration same as last episode\n",
      "Grid configuration same as last episode\n",
      "Grid configuration same as last episode\n",
      "Grid configuration same as last episode\n"
     ]
    },
    {
     "name": "stdout",
     "output_type": "stream",
     "text": [
      "Update 1327: Reward P1: -146, Reward P2: -146\n",
      "Update 1328: Reward P1: -126, Reward P2: -126\n"
     ]
    },
    {
     "name": "stderr",
     "output_type": "stream",
     "text": [
      "Grid configuration same as last episode\n",
      "Grid configuration same as last episode\n",
      "Grid configuration same as last episode\n",
      "Grid configuration same as last episode\n",
      "Grid configuration same as last episode\n",
      "Grid configuration same as last episode\n"
     ]
    },
    {
     "name": "stdout",
     "output_type": "stream",
     "text": [
      "Update 1329: Reward P1: -146, Reward P2: -146\n",
      "Update 1330: Reward P1: -116, Reward P2: -116\n"
     ]
    },
    {
     "name": "stderr",
     "output_type": "stream",
     "text": [
      "Grid configuration same as last episode\n",
      "Grid configuration same as last episode\n",
      "Grid configuration same as last episode\n",
      "Grid configuration same as last episode\n",
      "Grid configuration same as last episode\n",
      "Grid configuration same as last episode\n"
     ]
    },
    {
     "name": "stdout",
     "output_type": "stream",
     "text": [
      "Update 1331: Reward P1: -146, Reward P2: -146\n",
      "Update 1332: Reward P1: -126, Reward P2: -126\n"
     ]
    },
    {
     "name": "stderr",
     "output_type": "stream",
     "text": [
      "Grid configuration same as last episode\n",
      "Grid configuration same as last episode\n",
      "Grid configuration same as last episode\n",
      "Grid configuration same as last episode\n",
      "Grid configuration same as last episode\n",
      "Grid configuration same as last episode\n"
     ]
    },
    {
     "name": "stdout",
     "output_type": "stream",
     "text": [
      "Update 1333: Reward P1: -116, Reward P2: -116\n",
      "Update 1334: Reward P1: -136, Reward P2: -136\n"
     ]
    },
    {
     "name": "stderr",
     "output_type": "stream",
     "text": [
      "Grid configuration same as last episode\n",
      "Grid configuration same as last episode\n",
      "Grid configuration same as last episode\n",
      "Grid configuration same as last episode\n",
      "Grid configuration same as last episode\n",
      "Grid configuration same as last episode\n"
     ]
    },
    {
     "name": "stdout",
     "output_type": "stream",
     "text": [
      "Update 1335: Reward P1: -126, Reward P2: -126\n",
      "Update 1336: Reward P1: -106, Reward P2: -106\n"
     ]
    },
    {
     "name": "stderr",
     "output_type": "stream",
     "text": [
      "Grid configuration same as last episode\n",
      "Grid configuration same as last episode\n",
      "Grid configuration same as last episode\n",
      "Grid configuration same as last episode\n"
     ]
    },
    {
     "name": "stdout",
     "output_type": "stream",
     "text": [
      "Update 1337: Reward P1: -136, Reward P2: -136\n"
     ]
    },
    {
     "name": "stderr",
     "output_type": "stream",
     "text": [
      "Grid configuration same as last episode\n",
      "Grid configuration same as last episode\n",
      "Grid configuration same as last episode\n",
      "Grid configuration same as last episode\n",
      "Grid configuration same as last episode\n"
     ]
    },
    {
     "name": "stdout",
     "output_type": "stream",
     "text": [
      "Update 1338: Reward P1: -116, Reward P2: -116\n",
      "Update 1339: Reward P1: -116, Reward P2: -116\n"
     ]
    },
    {
     "name": "stderr",
     "output_type": "stream",
     "text": [
      "Grid configuration same as last episode\n",
      "Grid configuration same as last episode\n",
      "Grid configuration same as last episode\n",
      "Grid configuration same as last episode\n",
      "Grid configuration same as last episode\n",
      "Grid configuration same as last episode\n"
     ]
    },
    {
     "name": "stdout",
     "output_type": "stream",
     "text": [
      "Update 1340: Reward P1: -146, Reward P2: -146\n",
      "Update 1341: Reward P1: -116, Reward P2: -116\n"
     ]
    },
    {
     "name": "stderr",
     "output_type": "stream",
     "text": [
      "Grid configuration same as last episode\n",
      "Grid configuration same as last episode\n",
      "Grid configuration same as last episode\n",
      "Grid configuration same as last episode\n",
      "Grid configuration same as last episode\n",
      "Grid configuration same as last episode\n"
     ]
    },
    {
     "name": "stdout",
     "output_type": "stream",
     "text": [
      "Update 1342: Reward P1: -56, Reward P2: -56\n",
      "Update 1343: Reward P1: -96, Reward P2: -96\n"
     ]
    },
    {
     "name": "stderr",
     "output_type": "stream",
     "text": [
      "Grid configuration same as last episode\n",
      "Grid configuration same as last episode\n",
      "Grid configuration same as last episode\n",
      "Grid configuration same as last episode\n",
      "Grid configuration same as last episode\n",
      "Grid configuration same as last episode\n"
     ]
    },
    {
     "name": "stdout",
     "output_type": "stream",
     "text": [
      "Update 1344: Reward P1: -86, Reward P2: -86\n",
      "Update 1345: Reward P1: -126, Reward P2: -126\n"
     ]
    },
    {
     "name": "stderr",
     "output_type": "stream",
     "text": [
      "Grid configuration same as last episode\n",
      "Grid configuration same as last episode\n",
      "Grid configuration same as last episode\n",
      "Grid configuration same as last episode\n",
      "Grid configuration same as last episode\n",
      "Grid configuration same as last episode\n"
     ]
    },
    {
     "name": "stdout",
     "output_type": "stream",
     "text": [
      "Update 1346: Reward P1: -116, Reward P2: -116\n",
      "Update 1347: Reward P1: -136, Reward P2: -136\n"
     ]
    },
    {
     "name": "stderr",
     "output_type": "stream",
     "text": [
      "Grid configuration same as last episode\n",
      "Grid configuration same as last episode\n",
      "Grid configuration same as last episode\n",
      "Grid configuration same as last episode\n",
      "Grid configuration same as last episode\n",
      "Grid configuration same as last episode\n"
     ]
    },
    {
     "name": "stdout",
     "output_type": "stream",
     "text": [
      "Update 1348: Reward P1: -126, Reward P2: -126\n",
      "Update 1349: Reward P1: -106, Reward P2: -106\n"
     ]
    },
    {
     "name": "stderr",
     "output_type": "stream",
     "text": [
      "Grid configuration same as last episode\n",
      "Grid configuration same as last episode\n",
      "Grid configuration same as last episode\n",
      "Grid configuration same as last episode\n",
      "Grid configuration same as last episode\n",
      "Grid configuration same as last episode\n"
     ]
    },
    {
     "name": "stdout",
     "output_type": "stream",
     "text": [
      "Update 1350: Reward P1: -126, Reward P2: -126\n",
      "Update 1351: Reward P1: -96, Reward P2: -96\n"
     ]
    },
    {
     "name": "stderr",
     "output_type": "stream",
     "text": [
      "Grid configuration same as last episode\n",
      "Grid configuration same as last episode\n",
      "Grid configuration same as last episode\n",
      "Grid configuration same as last episode\n",
      "Grid configuration same as last episode\n",
      "Grid configuration same as last episode\n"
     ]
    },
    {
     "name": "stdout",
     "output_type": "stream",
     "text": [
      "Update 1352: Reward P1: -156, Reward P2: -156\n",
      "Update 1353: Reward P1: -146, Reward P2: -146\n"
     ]
    },
    {
     "name": "stderr",
     "output_type": "stream",
     "text": [
      "Grid configuration same as last episode\n",
      "Grid configuration same as last episode\n",
      "Grid configuration same as last episode\n",
      "Grid configuration same as last episode\n",
      "Grid configuration same as last episode\n",
      "Grid configuration same as last episode\n"
     ]
    },
    {
     "name": "stdout",
     "output_type": "stream",
     "text": [
      "Update 1354: Reward P1: -156, Reward P2: -156\n",
      "Update 1355: Reward P1: -136, Reward P2: -136\n"
     ]
    },
    {
     "name": "stderr",
     "output_type": "stream",
     "text": [
      "Grid configuration same as last episode\n",
      "Grid configuration same as last episode\n",
      "Grid configuration same as last episode\n",
      "Grid configuration same as last episode\n",
      "Grid configuration same as last episode\n",
      "Grid configuration same as last episode\n"
     ]
    },
    {
     "name": "stdout",
     "output_type": "stream",
     "text": [
      "Update 1356: Reward P1: -116, Reward P2: -116\n",
      "Update 1357: Reward P1: -146, Reward P2: -146\n"
     ]
    },
    {
     "name": "stderr",
     "output_type": "stream",
     "text": [
      "Grid configuration same as last episode\n",
      "Grid configuration same as last episode\n",
      "Grid configuration same as last episode\n",
      "Grid configuration same as last episode\n",
      "Grid configuration same as last episode\n",
      "Grid configuration same as last episode\n"
     ]
    },
    {
     "name": "stdout",
     "output_type": "stream",
     "text": [
      "Update 1358: Reward P1: -136, Reward P2: -136\n",
      "Update 1359: Reward P1: -156, Reward P2: -156\n"
     ]
    },
    {
     "name": "stderr",
     "output_type": "stream",
     "text": [
      "Grid configuration same as last episode\n",
      "Grid configuration same as last episode\n",
      "Grid configuration same as last episode\n",
      "Grid configuration same as last episode\n",
      "Grid configuration same as last episode\n",
      "Grid configuration same as last episode\n"
     ]
    },
    {
     "name": "stdout",
     "output_type": "stream",
     "text": [
      "Update 1360: Reward P1: -186, Reward P2: -186\n",
      "Update 1361: Reward P1: -156, Reward P2: -156\n"
     ]
    },
    {
     "name": "stderr",
     "output_type": "stream",
     "text": [
      "Grid configuration same as last episode\n",
      "Grid configuration same as last episode\n",
      "Grid configuration same as last episode\n",
      "Grid configuration same as last episode\n",
      "Grid configuration same as last episode\n",
      "Grid configuration same as last episode\n"
     ]
    },
    {
     "name": "stdout",
     "output_type": "stream",
     "text": [
      "Update 1362: Reward P1: -96, Reward P2: -96\n",
      "Update 1363: Reward P1: -156, Reward P2: -156\n"
     ]
    },
    {
     "name": "stderr",
     "output_type": "stream",
     "text": [
      "Grid configuration same as last episode\n",
      "Grid configuration same as last episode\n",
      "Grid configuration same as last episode\n",
      "Grid configuration same as last episode\n",
      "Grid configuration same as last episode\n",
      "Grid configuration same as last episode\n"
     ]
    },
    {
     "name": "stdout",
     "output_type": "stream",
     "text": [
      "Update 1364: Reward P1: -116, Reward P2: -116\n",
      "Update 1365: Reward P1: -146, Reward P2: -146\n"
     ]
    },
    {
     "name": "stderr",
     "output_type": "stream",
     "text": [
      "Grid configuration same as last episode\n",
      "Grid configuration same as last episode\n",
      "Grid configuration same as last episode\n",
      "Grid configuration same as last episode\n",
      "Grid configuration same as last episode\n",
      "Grid configuration same as last episode\n"
     ]
    },
    {
     "name": "stdout",
     "output_type": "stream",
     "text": [
      "Update 1366: Reward P1: -116, Reward P2: -116\n",
      "Update 1367: Reward P1: -126, Reward P2: -126\n"
     ]
    },
    {
     "name": "stderr",
     "output_type": "stream",
     "text": [
      "Grid configuration same as last episode\n",
      "Grid configuration same as last episode\n",
      "Grid configuration same as last episode\n",
      "Grid configuration same as last episode\n",
      "Grid configuration same as last episode\n",
      "Grid configuration same as last episode\n"
     ]
    },
    {
     "name": "stdout",
     "output_type": "stream",
     "text": [
      "Update 1368: Reward P1: -216, Reward P2: -216\n",
      "Update 1369: Reward P1: -76, Reward P2: -76\n"
     ]
    },
    {
     "name": "stderr",
     "output_type": "stream",
     "text": [
      "Grid configuration same as last episode\n",
      "Grid configuration same as last episode\n",
      "Grid configuration same as last episode\n",
      "Grid configuration same as last episode\n",
      "Grid configuration same as last episode\n",
      "Grid configuration same as last episode\n"
     ]
    },
    {
     "name": "stdout",
     "output_type": "stream",
     "text": [
      "Update 1370: Reward P1: -76, Reward P2: -76\n",
      "Update 1371: Reward P1: -146, Reward P2: -146\n"
     ]
    },
    {
     "name": "stderr",
     "output_type": "stream",
     "text": [
      "Grid configuration same as last episode\n",
      "Grid configuration same as last episode\n",
      "Grid configuration same as last episode\n",
      "Grid configuration same as last episode\n",
      "Grid configuration same as last episode\n",
      "Grid configuration same as last episode\n"
     ]
    },
    {
     "name": "stdout",
     "output_type": "stream",
     "text": [
      "Update 1372: Reward P1: -126, Reward P2: -126\n",
      "Update 1373: Reward P1: -136, Reward P2: -136\n"
     ]
    },
    {
     "name": "stderr",
     "output_type": "stream",
     "text": [
      "Grid configuration same as last episode\n",
      "Grid configuration same as last episode\n",
      "Grid configuration same as last episode\n",
      "Grid configuration same as last episode\n",
      "Grid configuration same as last episode\n",
      "Grid configuration same as last episode\n"
     ]
    },
    {
     "name": "stdout",
     "output_type": "stream",
     "text": [
      "Update 1374: Reward P1: -126, Reward P2: -126\n",
      "Update 1375: Reward P1: -126, Reward P2: -126\n"
     ]
    },
    {
     "name": "stderr",
     "output_type": "stream",
     "text": [
      "Grid configuration same as last episode\n",
      "Grid configuration same as last episode\n",
      "Grid configuration same as last episode\n",
      "Grid configuration same as last episode\n",
      "Grid configuration same as last episode\n",
      "Grid configuration same as last episode\n"
     ]
    },
    {
     "name": "stdout",
     "output_type": "stream",
     "text": [
      "Update 1376: Reward P1: -156, Reward P2: -156\n",
      "Update 1377: Reward P1: -126, Reward P2: -126\n"
     ]
    },
    {
     "name": "stderr",
     "output_type": "stream",
     "text": [
      "Grid configuration same as last episode\n",
      "Grid configuration same as last episode\n",
      "Grid configuration same as last episode\n",
      "Grid configuration same as last episode\n",
      "Grid configuration same as last episode\n",
      "Grid configuration same as last episode\n"
     ]
    },
    {
     "name": "stdout",
     "output_type": "stream",
     "text": [
      "Update 1378: Reward P1: -156, Reward P2: -156\n",
      "Update 1379: Reward P1: -146, Reward P2: -146\n"
     ]
    },
    {
     "name": "stderr",
     "output_type": "stream",
     "text": [
      "Grid configuration same as last episode\n",
      "Grid configuration same as last episode\n",
      "Grid configuration same as last episode\n",
      "Grid configuration same as last episode\n",
      "Grid configuration same as last episode\n",
      "Grid configuration same as last episode\n"
     ]
    },
    {
     "name": "stdout",
     "output_type": "stream",
     "text": [
      "Update 1380: Reward P1: -126, Reward P2: -126\n",
      "Update 1381: Reward P1: -136, Reward P2: -136\n"
     ]
    },
    {
     "name": "stderr",
     "output_type": "stream",
     "text": [
      "Grid configuration same as last episode\n",
      "Grid configuration same as last episode\n",
      "Grid configuration same as last episode\n",
      "Grid configuration same as last episode\n",
      "Grid configuration same as last episode\n",
      "Grid configuration same as last episode\n"
     ]
    },
    {
     "name": "stdout",
     "output_type": "stream",
     "text": [
      "Update 1382: Reward P1: -116, Reward P2: -116\n",
      "Update 1383: Reward P1: -116, Reward P2: -116\n"
     ]
    },
    {
     "name": "stderr",
     "output_type": "stream",
     "text": [
      "Grid configuration same as last episode\n",
      "Grid configuration same as last episode\n",
      "Grid configuration same as last episode\n",
      "Grid configuration same as last episode\n",
      "Grid configuration same as last episode\n",
      "Grid configuration same as last episode\n"
     ]
    },
    {
     "name": "stdout",
     "output_type": "stream",
     "text": [
      "Update 1384: Reward P1: -96, Reward P2: -96\n",
      "Update 1385: Reward P1: -116, Reward P2: -116\n"
     ]
    },
    {
     "name": "stderr",
     "output_type": "stream",
     "text": [
      "Grid configuration same as last episode\n",
      "Grid configuration same as last episode\n",
      "Grid configuration same as last episode\n",
      "Grid configuration same as last episode\n",
      "Grid configuration same as last episode\n",
      "Grid configuration same as last episode\n"
     ]
    },
    {
     "name": "stdout",
     "output_type": "stream",
     "text": [
      "Update 1386: Reward P1: -126, Reward P2: -126\n",
      "Update 1387: Reward P1: -96, Reward P2: -96\n"
     ]
    },
    {
     "name": "stderr",
     "output_type": "stream",
     "text": [
      "Grid configuration same as last episode\n",
      "Grid configuration same as last episode\n",
      "Grid configuration same as last episode\n",
      "Grid configuration same as last episode\n",
      "Grid configuration same as last episode\n",
      "Grid configuration same as last episode\n"
     ]
    },
    {
     "name": "stdout",
     "output_type": "stream",
     "text": [
      "Update 1388: Reward P1: -116, Reward P2: -116\n",
      "Update 1389: Reward P1: -116, Reward P2: -116\n"
     ]
    },
    {
     "name": "stderr",
     "output_type": "stream",
     "text": [
      "Grid configuration same as last episode\n",
      "Grid configuration same as last episode\n",
      "Grid configuration same as last episode\n",
      "Grid configuration same as last episode\n",
      "Grid configuration same as last episode\n",
      "Grid configuration same as last episode\n"
     ]
    },
    {
     "name": "stdout",
     "output_type": "stream",
     "text": [
      "Update 1390: Reward P1: -126, Reward P2: -126\n",
      "Update 1391: Reward P1: -136, Reward P2: -136\n"
     ]
    },
    {
     "name": "stderr",
     "output_type": "stream",
     "text": [
      "Grid configuration same as last episode\n",
      "Grid configuration same as last episode\n",
      "Grid configuration same as last episode\n",
      "Grid configuration same as last episode\n",
      "Grid configuration same as last episode\n",
      "Grid configuration same as last episode\n"
     ]
    },
    {
     "name": "stdout",
     "output_type": "stream",
     "text": [
      "Update 1392: Reward P1: -146, Reward P2: -146\n",
      "Update 1393: Reward P1: -96, Reward P2: -96\n"
     ]
    },
    {
     "name": "stderr",
     "output_type": "stream",
     "text": [
      "Grid configuration same as last episode\n",
      "Grid configuration same as last episode\n",
      "Grid configuration same as last episode\n",
      "Grid configuration same as last episode\n",
      "Grid configuration same as last episode\n"
     ]
    },
    {
     "name": "stdout",
     "output_type": "stream",
     "text": [
      "Update 1394: Reward P1: -106, Reward P2: -106\n",
      "Update 1395: Reward P1: -106, Reward P2: -106\n"
     ]
    },
    {
     "name": "stderr",
     "output_type": "stream",
     "text": [
      "Grid configuration same as last episode\n",
      "Grid configuration same as last episode\n",
      "Grid configuration same as last episode\n",
      "Grid configuration same as last episode\n",
      "Grid configuration same as last episode\n",
      "Grid configuration same as last episode\n"
     ]
    },
    {
     "name": "stdout",
     "output_type": "stream",
     "text": [
      "Update 1396: Reward P1: -156, Reward P2: -156\n",
      "Update 1397: Reward P1: -96, Reward P2: -96\n"
     ]
    },
    {
     "name": "stderr",
     "output_type": "stream",
     "text": [
      "Grid configuration same as last episode\n",
      "Grid configuration same as last episode\n",
      "Grid configuration same as last episode\n",
      "Grid configuration same as last episode\n",
      "Grid configuration same as last episode\n",
      "Grid configuration same as last episode\n",
      "Grid configuration same as last episode\n"
     ]
    },
    {
     "name": "stdout",
     "output_type": "stream",
     "text": [
      "Update 1398: Reward P1: -86, Reward P2: -86\n",
      "Update 1399: Reward P1: -166, Reward P2: -166\n"
     ]
    },
    {
     "name": "stderr",
     "output_type": "stream",
     "text": [
      "Grid configuration same as last episode\n",
      "Grid configuration same as last episode\n",
      "Grid configuration same as last episode\n",
      "Grid configuration same as last episode\n",
      "Grid configuration same as last episode\n"
     ]
    },
    {
     "name": "stdout",
     "output_type": "stream",
     "text": [
      "Update 1400: Reward P1: -166, Reward P2: -166\n",
      "Update 1401: Reward P1: -66, Reward P2: -66\n"
     ]
    },
    {
     "name": "stderr",
     "output_type": "stream",
     "text": [
      "Grid configuration same as last episode\n",
      "Grid configuration same as last episode\n",
      "Grid configuration same as last episode\n",
      "Grid configuration same as last episode\n",
      "Grid configuration same as last episode\n",
      "Grid configuration same as last episode\n",
      "Grid configuration same as last episode\n"
     ]
    },
    {
     "name": "stdout",
     "output_type": "stream",
     "text": [
      "Update 1402: Reward P1: -86, Reward P2: -86\n",
      "Update 1403: Reward P1: -126, Reward P2: -126\n"
     ]
    },
    {
     "name": "stderr",
     "output_type": "stream",
     "text": [
      "Grid configuration same as last episode\n",
      "Grid configuration same as last episode\n",
      "Grid configuration same as last episode\n",
      "Grid configuration same as last episode\n",
      "Grid configuration same as last episode\n",
      "Grid configuration same as last episode\n"
     ]
    },
    {
     "name": "stdout",
     "output_type": "stream",
     "text": [
      "Update 1404: Reward P1: -116, Reward P2: -116\n",
      "Update 1405: Reward P1: -126, Reward P2: -126\n"
     ]
    },
    {
     "name": "stderr",
     "output_type": "stream",
     "text": [
      "Grid configuration same as last episode\n",
      "Grid configuration same as last episode\n",
      "Grid configuration same as last episode\n",
      "Grid configuration same as last episode\n",
      "Grid configuration same as last episode\n"
     ]
    },
    {
     "name": "stdout",
     "output_type": "stream",
     "text": [
      "Update 1406: Reward P1: -106, Reward P2: -106\n",
      "Update 1407: Reward P1: -146, Reward P2: -146\n"
     ]
    },
    {
     "name": "stderr",
     "output_type": "stream",
     "text": [
      "Grid configuration same as last episode\n",
      "Grid configuration same as last episode\n",
      "Grid configuration same as last episode\n",
      "Grid configuration same as last episode\n",
      "Grid configuration same as last episode\n",
      "Grid configuration same as last episode\n",
      "Grid configuration same as last episode\n"
     ]
    },
    {
     "name": "stdout",
     "output_type": "stream",
     "text": [
      "Update 1408: Reward P1: -136, Reward P2: -136\n",
      "Update 1409: Reward P1: -56, Reward P2: -56\n"
     ]
    },
    {
     "name": "stderr",
     "output_type": "stream",
     "text": [
      "Grid configuration same as last episode\n",
      "Grid configuration same as last episode\n",
      "Grid configuration same as last episode\n",
      "Grid configuration same as last episode\n",
      "Grid configuration same as last episode\n"
     ]
    },
    {
     "name": "stdout",
     "output_type": "stream",
     "text": [
      "Update 1410: Reward P1: -146, Reward P2: -146\n",
      "Update 1411: Reward P1: -136, Reward P2: -136\n"
     ]
    },
    {
     "name": "stderr",
     "output_type": "stream",
     "text": [
      "Grid configuration same as last episode\n",
      "Grid configuration same as last episode\n",
      "Grid configuration same as last episode\n",
      "Grid configuration same as last episode\n",
      "Grid configuration same as last episode\n",
      "Grid configuration same as last episode\n",
      "Grid configuration same as last episode\n"
     ]
    },
    {
     "name": "stdout",
     "output_type": "stream",
     "text": [
      "Update 1412: Reward P1: -106, Reward P2: -106\n",
      "Update 1413: Reward P1: -146, Reward P2: -146\n"
     ]
    },
    {
     "name": "stderr",
     "output_type": "stream",
     "text": [
      "Grid configuration same as last episode\n",
      "Grid configuration same as last episode\n",
      "Grid configuration same as last episode\n",
      "Grid configuration same as last episode\n",
      "Grid configuration same as last episode\n",
      "Grid configuration same as last episode\n"
     ]
    },
    {
     "name": "stdout",
     "output_type": "stream",
     "text": [
      "Update 1414: Reward P1: -106, Reward P2: -106\n",
      "Update 1415: Reward P1: -116, Reward P2: -116\n"
     ]
    },
    {
     "name": "stderr",
     "output_type": "stream",
     "text": [
      "Grid configuration same as last episode\n",
      "Grid configuration same as last episode\n",
      "Grid configuration same as last episode\n",
      "Grid configuration same as last episode\n",
      "Grid configuration same as last episode\n",
      "Grid configuration same as last episode\n"
     ]
    },
    {
     "name": "stdout",
     "output_type": "stream",
     "text": [
      "Update 1416: Reward P1: -136, Reward P2: -136\n",
      "Update 1417: Reward P1: -106, Reward P2: -106\n"
     ]
    },
    {
     "name": "stderr",
     "output_type": "stream",
     "text": [
      "Grid configuration same as last episode\n",
      "Grid configuration same as last episode\n",
      "Grid configuration same as last episode\n",
      "Grid configuration same as last episode\n",
      "Grid configuration same as last episode\n"
     ]
    },
    {
     "name": "stdout",
     "output_type": "stream",
     "text": [
      "Update 1418: Reward P1: -136, Reward P2: -136\n",
      "Update 1419: Reward P1: -106, Reward P2: -106\n"
     ]
    },
    {
     "name": "stderr",
     "output_type": "stream",
     "text": [
      "Grid configuration same as last episode\n",
      "Grid configuration same as last episode\n",
      "Grid configuration same as last episode\n",
      "Grid configuration same as last episode\n",
      "Grid configuration same as last episode\n",
      "Grid configuration same as last episode\n",
      "Grid configuration same as last episode\n"
     ]
    },
    {
     "name": "stdout",
     "output_type": "stream",
     "text": [
      "Update 1420: Reward P1: -146, Reward P2: -146\n",
      "Update 1421: Reward P1: -136, Reward P2: -136\n"
     ]
    },
    {
     "name": "stderr",
     "output_type": "stream",
     "text": [
      "Grid configuration same as last episode\n",
      "Grid configuration same as last episode\n",
      "Grid configuration same as last episode\n",
      "Grid configuration same as last episode\n"
     ]
    },
    {
     "name": "stdout",
     "output_type": "stream",
     "text": [
      "Update 1422: Reward P1: -126, Reward P2: -126\n"
     ]
    },
    {
     "name": "stderr",
     "output_type": "stream",
     "text": [
      "Grid configuration same as last episode\n",
      "Grid configuration same as last episode\n",
      "Grid configuration same as last episode\n"
     ]
    },
    {
     "name": "stdout",
     "output_type": "stream",
     "text": [
      "Update 1423: Reward P1: -126, Reward P2: -126\n"
     ]
    },
    {
     "name": "stderr",
     "output_type": "stream",
     "text": [
      "Grid configuration same as last episode\n",
      "Grid configuration same as last episode\n",
      "Grid configuration same as last episode\n",
      "Grid configuration same as last episode\n"
     ]
    },
    {
     "name": "stdout",
     "output_type": "stream",
     "text": [
      "Update 1424: Reward P1: -116, Reward P2: -116\n",
      "Update 1425: Reward P1: -146, Reward P2: -146\n"
     ]
    },
    {
     "name": "stderr",
     "output_type": "stream",
     "text": [
      "Grid configuration same as last episode\n",
      "Grid configuration same as last episode\n",
      "Grid configuration same as last episode\n",
      "Grid configuration same as last episode\n",
      "Grid configuration same as last episode\n",
      "Grid configuration same as last episode\n",
      "Grid configuration same as last episode\n"
     ]
    },
    {
     "name": "stdout",
     "output_type": "stream",
     "text": [
      "Update 1426: Reward P1: -156, Reward P2: -156\n",
      "Update 1427: Reward P1: -46, Reward P2: -46\n"
     ]
    },
    {
     "name": "stderr",
     "output_type": "stream",
     "text": [
      "Grid configuration same as last episode\n",
      "Grid configuration same as last episode\n",
      "Grid configuration same as last episode\n",
      "Grid configuration same as last episode\n",
      "Grid configuration same as last episode\n",
      "Grid configuration same as last episode\n"
     ]
    },
    {
     "name": "stdout",
     "output_type": "stream",
     "text": [
      "Update 1428: Reward P1: -136, Reward P2: -136\n",
      "Update 1429: Reward P1: -106, Reward P2: -106\n"
     ]
    },
    {
     "name": "stderr",
     "output_type": "stream",
     "text": [
      "Grid configuration same as last episode\n",
      "Grid configuration same as last episode\n",
      "Grid configuration same as last episode\n",
      "Grid configuration same as last episode\n",
      "Grid configuration same as last episode\n",
      "Grid configuration same as last episode\n"
     ]
    },
    {
     "name": "stdout",
     "output_type": "stream",
     "text": [
      "Update 1430: Reward P1: -126, Reward P2: -126\n",
      "Update 1431: Reward P1: -166, Reward P2: -166\n"
     ]
    },
    {
     "name": "stderr",
     "output_type": "stream",
     "text": [
      "Grid configuration same as last episode\n",
      "Grid configuration same as last episode\n",
      "Grid configuration same as last episode\n",
      "Grid configuration same as last episode\n",
      "Grid configuration same as last episode\n"
     ]
    },
    {
     "name": "stdout",
     "output_type": "stream",
     "text": [
      "Update 1432: Reward P1: -156, Reward P2: -156\n",
      "Update 1433: Reward P1: -176, Reward P2: -176\n"
     ]
    },
    {
     "name": "stderr",
     "output_type": "stream",
     "text": [
      "Grid configuration same as last episode\n",
      "Grid configuration same as last episode\n",
      "Grid configuration same as last episode\n",
      "Grid configuration same as last episode\n",
      "Grid configuration same as last episode\n",
      "Grid configuration same as last episode\n",
      "Grid configuration same as last episode\n"
     ]
    },
    {
     "name": "stdout",
     "output_type": "stream",
     "text": [
      "Update 1434: Reward P1: -156, Reward P2: -156\n",
      "Update 1435: Reward P1: -146, Reward P2: -146\n"
     ]
    },
    {
     "name": "stderr",
     "output_type": "stream",
     "text": [
      "Grid configuration same as last episode\n",
      "Grid configuration same as last episode\n",
      "Grid configuration same as last episode\n",
      "Grid configuration same as last episode\n",
      "Grid configuration same as last episode\n",
      "Grid configuration same as last episode\n"
     ]
    },
    {
     "name": "stdout",
     "output_type": "stream",
     "text": [
      "Update 1436: Reward P1: -106, Reward P2: -106\n",
      "Update 1437: Reward P1: -106, Reward P2: -106\n"
     ]
    },
    {
     "name": "stderr",
     "output_type": "stream",
     "text": [
      "Grid configuration same as last episode\n",
      "Grid configuration same as last episode\n",
      "Grid configuration same as last episode\n",
      "Grid configuration same as last episode\n",
      "Grid configuration same as last episode\n",
      "Grid configuration same as last episode\n"
     ]
    },
    {
     "name": "stdout",
     "output_type": "stream",
     "text": [
      "Update 1438: Reward P1: -126, Reward P2: -126\n",
      "Update 1439: Reward P1: -146, Reward P2: -146\n"
     ]
    },
    {
     "name": "stderr",
     "output_type": "stream",
     "text": [
      "Grid configuration same as last episode\n",
      "Grid configuration same as last episode\n",
      "Grid configuration same as last episode\n",
      "Grid configuration same as last episode\n",
      "Grid configuration same as last episode\n",
      "Grid configuration same as last episode\n"
     ]
    },
    {
     "name": "stdout",
     "output_type": "stream",
     "text": [
      "Update 1440: Reward P1: -126, Reward P2: -126\n",
      "Update 1441: Reward P1: -96, Reward P2: -96\n"
     ]
    },
    {
     "name": "stderr",
     "output_type": "stream",
     "text": [
      "Grid configuration same as last episode\n",
      "Grid configuration same as last episode\n",
      "Grid configuration same as last episode\n",
      "Grid configuration same as last episode\n",
      "Grid configuration same as last episode\n",
      "Grid configuration same as last episode\n"
     ]
    },
    {
     "name": "stdout",
     "output_type": "stream",
     "text": [
      "Update 1442: Reward P1: -156, Reward P2: -156\n",
      "Update 1443: Reward P1: -106, Reward P2: -106\n"
     ]
    },
    {
     "name": "stderr",
     "output_type": "stream",
     "text": [
      "Grid configuration same as last episode\n",
      "Grid configuration same as last episode\n",
      "Grid configuration same as last episode\n",
      "Grid configuration same as last episode\n",
      "Grid configuration same as last episode\n",
      "Grid configuration same as last episode\n"
     ]
    },
    {
     "name": "stdout",
     "output_type": "stream",
     "text": [
      "Update 1444: Reward P1: -116, Reward P2: -116\n",
      "Update 1445: Reward P1: -146, Reward P2: -146\n"
     ]
    },
    {
     "name": "stderr",
     "output_type": "stream",
     "text": [
      "Grid configuration same as last episode\n",
      "Grid configuration same as last episode\n",
      "Grid configuration same as last episode\n",
      "Grid configuration same as last episode\n",
      "Grid configuration same as last episode\n",
      "Grid configuration same as last episode\n"
     ]
    },
    {
     "name": "stdout",
     "output_type": "stream",
     "text": [
      "Update 1446: Reward P1: -136, Reward P2: -136\n",
      "Update 1447: Reward P1: -126, Reward P2: -126\n"
     ]
    },
    {
     "name": "stderr",
     "output_type": "stream",
     "text": [
      "Grid configuration same as last episode\n",
      "Grid configuration same as last episode\n",
      "Grid configuration same as last episode\n",
      "Grid configuration same as last episode\n",
      "Grid configuration same as last episode\n",
      "Grid configuration same as last episode\n"
     ]
    },
    {
     "name": "stdout",
     "output_type": "stream",
     "text": [
      "Update 1448: Reward P1: -116, Reward P2: -116\n",
      "Update 1449: Reward P1: -96, Reward P2: -96\n"
     ]
    },
    {
     "name": "stderr",
     "output_type": "stream",
     "text": [
      "Grid configuration same as last episode\n",
      "Grid configuration same as last episode\n",
      "Grid configuration same as last episode\n",
      "Grid configuration same as last episode\n",
      "Grid configuration same as last episode\n",
      "Grid configuration same as last episode\n"
     ]
    },
    {
     "name": "stdout",
     "output_type": "stream",
     "text": [
      "Update 1450: Reward P1: -106, Reward P2: -106\n",
      "Update 1451: Reward P1: -86, Reward P2: -86\n"
     ]
    },
    {
     "name": "stderr",
     "output_type": "stream",
     "text": [
      "Grid configuration same as last episode\n",
      "Grid configuration same as last episode\n",
      "Grid configuration same as last episode\n",
      "Grid configuration same as last episode\n",
      "Grid configuration same as last episode\n",
      "Grid configuration same as last episode\n"
     ]
    },
    {
     "name": "stdout",
     "output_type": "stream",
     "text": [
      "Update 1452: Reward P1: -146, Reward P2: -146\n",
      "Update 1453: Reward P1: -146, Reward P2: -146\n"
     ]
    },
    {
     "name": "stderr",
     "output_type": "stream",
     "text": [
      "Grid configuration same as last episode\n",
      "Grid configuration same as last episode\n",
      "Grid configuration same as last episode\n",
      "Grid configuration same as last episode\n",
      "Grid configuration same as last episode\n",
      "Grid configuration same as last episode\n"
     ]
    },
    {
     "name": "stdout",
     "output_type": "stream",
     "text": [
      "Update 1454: Reward P1: -126, Reward P2: -126\n",
      "Update 1455: Reward P1: -136, Reward P2: -136\n"
     ]
    },
    {
     "name": "stderr",
     "output_type": "stream",
     "text": [
      "Grid configuration same as last episode\n",
      "Grid configuration same as last episode\n",
      "Grid configuration same as last episode\n",
      "Grid configuration same as last episode\n",
      "Grid configuration same as last episode\n",
      "Grid configuration same as last episode\n"
     ]
    },
    {
     "name": "stdout",
     "output_type": "stream",
     "text": [
      "Update 1456: Reward P1: -116, Reward P2: -116\n",
      "Update 1457: Reward P1: -96, Reward P2: -96\n"
     ]
    },
    {
     "name": "stderr",
     "output_type": "stream",
     "text": [
      "Grid configuration same as last episode\n",
      "Grid configuration same as last episode\n",
      "Grid configuration same as last episode\n",
      "Grid configuration same as last episode\n",
      "Grid configuration same as last episode\n",
      "Grid configuration same as last episode\n"
     ]
    },
    {
     "name": "stdout",
     "output_type": "stream",
     "text": [
      "Update 1458: Reward P1: -196, Reward P2: -196\n",
      "Update 1459: Reward P1: -126, Reward P2: -126\n"
     ]
    },
    {
     "name": "stderr",
     "output_type": "stream",
     "text": [
      "Grid configuration same as last episode\n",
      "Grid configuration same as last episode\n",
      "Grid configuration same as last episode\n",
      "Grid configuration same as last episode\n",
      "Grid configuration same as last episode\n",
      "Grid configuration same as last episode\n"
     ]
    },
    {
     "name": "stdout",
     "output_type": "stream",
     "text": [
      "Update 1460: Reward P1: -106, Reward P2: -106\n",
      "Update 1461: Reward P1: -76, Reward P2: -76\n"
     ]
    },
    {
     "name": "stderr",
     "output_type": "stream",
     "text": [
      "Grid configuration same as last episode\n",
      "Grid configuration same as last episode\n",
      "Grid configuration same as last episode\n",
      "Grid configuration same as last episode\n",
      "Grid configuration same as last episode\n"
     ]
    },
    {
     "name": "stdout",
     "output_type": "stream",
     "text": [
      "Update 1462: Reward P1: -146, Reward P2: -146\n",
      "Update 1463: Reward P1: -116, Reward P2: -116\n"
     ]
    },
    {
     "name": "stderr",
     "output_type": "stream",
     "text": [
      "Grid configuration same as last episode\n",
      "Grid configuration same as last episode\n",
      "Grid configuration same as last episode\n",
      "Grid configuration same as last episode\n",
      "Grid configuration same as last episode\n"
     ]
    },
    {
     "name": "stdout",
     "output_type": "stream",
     "text": [
      "Update 1464: Reward P1: -116, Reward P2: -116\n"
     ]
    },
    {
     "name": "stderr",
     "output_type": "stream",
     "text": [
      "Grid configuration same as last episode\n",
      "Grid configuration same as last episode\n",
      "Grid configuration same as last episode\n",
      "Grid configuration same as last episode\n"
     ]
    },
    {
     "name": "stdout",
     "output_type": "stream",
     "text": [
      "Update 1465: Reward P1: -106, Reward P2: -106\n",
      "Update 1466: Reward P1: -156, Reward P2: -156\n"
     ]
    },
    {
     "name": "stderr",
     "output_type": "stream",
     "text": [
      "Grid configuration same as last episode\n",
      "Grid configuration same as last episode\n",
      "Grid configuration same as last episode\n",
      "Grid configuration same as last episode\n",
      "Grid configuration same as last episode\n",
      "Grid configuration same as last episode\n",
      "Grid configuration same as last episode\n"
     ]
    },
    {
     "name": "stdout",
     "output_type": "stream",
     "text": [
      "Update 1467: Reward P1: -116, Reward P2: -116\n",
      "Update 1468: Reward P1: -116, Reward P2: -116\n"
     ]
    },
    {
     "name": "stderr",
     "output_type": "stream",
     "text": [
      "Grid configuration same as last episode\n",
      "Grid configuration same as last episode\n",
      "Grid configuration same as last episode\n",
      "Grid configuration same as last episode\n",
      "Grid configuration same as last episode\n"
     ]
    },
    {
     "name": "stdout",
     "output_type": "stream",
     "text": [
      "Update 1469: Reward P1: -126, Reward P2: -126\n",
      "Update 1470: Reward P1: -106, Reward P2: -106\n"
     ]
    },
    {
     "name": "stderr",
     "output_type": "stream",
     "text": [
      "Grid configuration same as last episode\n",
      "Grid configuration same as last episode\n",
      "Grid configuration same as last episode\n",
      "Grid configuration same as last episode\n",
      "Grid configuration same as last episode\n",
      "Grid configuration same as last episode\n"
     ]
    },
    {
     "name": "stdout",
     "output_type": "stream",
     "text": [
      "Update 1471: Reward P1: -96, Reward P2: -96\n",
      "Update 1472: Reward P1: -126, Reward P2: -126\n"
     ]
    },
    {
     "name": "stderr",
     "output_type": "stream",
     "text": [
      "Grid configuration same as last episode\n",
      "Grid configuration same as last episode\n",
      "Grid configuration same as last episode\n",
      "Grid configuration same as last episode\n",
      "Grid configuration same as last episode\n",
      "Grid configuration same as last episode\n",
      "Grid configuration same as last episode\n"
     ]
    },
    {
     "name": "stdout",
     "output_type": "stream",
     "text": [
      "Update 1473: Reward P1: -136, Reward P2: -136\n",
      "Update 1474: Reward P1: -86, Reward P2: -86\n"
     ]
    },
    {
     "name": "stderr",
     "output_type": "stream",
     "text": [
      "Grid configuration same as last episode\n",
      "Grid configuration same as last episode\n",
      "Grid configuration same as last episode\n",
      "Grid configuration same as last episode\n",
      "Grid configuration same as last episode\n",
      "Grid configuration same as last episode\n"
     ]
    },
    {
     "name": "stdout",
     "output_type": "stream",
     "text": [
      "Update 1475: Reward P1: -126, Reward P2: -126\n",
      "Update 1476: Reward P1: -96, Reward P2: -96\n"
     ]
    },
    {
     "name": "stderr",
     "output_type": "stream",
     "text": [
      "Grid configuration same as last episode\n",
      "Grid configuration same as last episode\n",
      "Grid configuration same as last episode\n",
      "Grid configuration same as last episode\n",
      "Grid configuration same as last episode\n",
      "Grid configuration same as last episode\n"
     ]
    },
    {
     "name": "stdout",
     "output_type": "stream",
     "text": [
      "Update 1477: Reward P1: -136, Reward P2: -136\n",
      "Update 1478: Reward P1: -86, Reward P2: -86\n"
     ]
    },
    {
     "name": "stderr",
     "output_type": "stream",
     "text": [
      "Grid configuration same as last episode\n",
      "Grid configuration same as last episode\n",
      "Grid configuration same as last episode\n",
      "Grid configuration same as last episode\n",
      "Grid configuration same as last episode\n",
      "Grid configuration same as last episode\n"
     ]
    },
    {
     "name": "stdout",
     "output_type": "stream",
     "text": [
      "Update 1479: Reward P1: -126, Reward P2: -126\n",
      "Update 1480: Reward P1: -156, Reward P2: -156\n"
     ]
    },
    {
     "name": "stderr",
     "output_type": "stream",
     "text": [
      "Grid configuration same as last episode\n",
      "Grid configuration same as last episode\n",
      "Grid configuration same as last episode\n",
      "Grid configuration same as last episode\n",
      "Grid configuration same as last episode\n",
      "Grid configuration same as last episode\n"
     ]
    },
    {
     "name": "stdout",
     "output_type": "stream",
     "text": [
      "Update 1481: Reward P1: -136, Reward P2: -136\n",
      "Update 1482: Reward P1: -36, Reward P2: -36\n"
     ]
    },
    {
     "name": "stderr",
     "output_type": "stream",
     "text": [
      "Grid configuration same as last episode\n",
      "Grid configuration same as last episode\n",
      "Grid configuration same as last episode\n",
      "Grid configuration same as last episode\n",
      "Grid configuration same as last episode\n"
     ]
    },
    {
     "name": "stdout",
     "output_type": "stream",
     "text": [
      "Update 1483: Reward P1: -66, Reward P2: -66\n",
      "Update 1484: Reward P1: -156, Reward P2: -156\n"
     ]
    },
    {
     "name": "stderr",
     "output_type": "stream",
     "text": [
      "Grid configuration same as last episode\n",
      "Grid configuration same as last episode\n",
      "Grid configuration same as last episode\n",
      "Grid configuration same as last episode\n",
      "Grid configuration same as last episode\n",
      "Grid configuration same as last episode\n",
      "Grid configuration same as last episode\n"
     ]
    },
    {
     "name": "stdout",
     "output_type": "stream",
     "text": [
      "Update 1485: Reward P1: -116, Reward P2: -116\n",
      "Update 1486: Reward P1: -126, Reward P2: -126\n"
     ]
    },
    {
     "name": "stderr",
     "output_type": "stream",
     "text": [
      "Grid configuration same as last episode\n",
      "Grid configuration same as last episode\n",
      "Grid configuration same as last episode\n",
      "Grid configuration same as last episode\n",
      "Grid configuration same as last episode\n",
      "Grid configuration same as last episode\n"
     ]
    },
    {
     "name": "stdout",
     "output_type": "stream",
     "text": [
      "Update 1487: Reward P1: -176, Reward P2: -176\n",
      "Update 1488: Reward P1: -186, Reward P2: -186\n"
     ]
    },
    {
     "name": "stderr",
     "output_type": "stream",
     "text": [
      "Grid configuration same as last episode\n",
      "Grid configuration same as last episode\n",
      "Grid configuration same as last episode\n",
      "Grid configuration same as last episode\n",
      "Grid configuration same as last episode\n",
      "Grid configuration same as last episode\n"
     ]
    },
    {
     "name": "stdout",
     "output_type": "stream",
     "text": [
      "Update 1489: Reward P1: -106, Reward P2: -106\n",
      "Update 1490: Reward P1: -86, Reward P2: -86\n"
     ]
    },
    {
     "name": "stderr",
     "output_type": "stream",
     "text": [
      "Grid configuration same as last episode\n",
      "Grid configuration same as last episode\n",
      "Grid configuration same as last episode\n",
      "Grid configuration same as last episode\n",
      "Grid configuration same as last episode\n",
      "Grid configuration same as last episode\n"
     ]
    },
    {
     "name": "stdout",
     "output_type": "stream",
     "text": [
      "Update 1491: Reward P1: -96, Reward P2: -96\n",
      "Update 1492: Reward P1: -76, Reward P2: -76\n"
     ]
    },
    {
     "name": "stderr",
     "output_type": "stream",
     "text": [
      "Grid configuration same as last episode\n",
      "Grid configuration same as last episode\n",
      "Grid configuration same as last episode\n",
      "Grid configuration same as last episode\n",
      "Grid configuration same as last episode\n",
      "Grid configuration same as last episode\n"
     ]
    },
    {
     "name": "stdout",
     "output_type": "stream",
     "text": [
      "Update 1493: Reward P1: -36, Reward P2: -36\n",
      "Update 1494: Reward P1: -106, Reward P2: -106\n"
     ]
    },
    {
     "name": "stderr",
     "output_type": "stream",
     "text": [
      "Grid configuration same as last episode\n",
      "Grid configuration same as last episode\n",
      "Grid configuration same as last episode\n",
      "Grid configuration same as last episode\n",
      "Grid configuration same as last episode\n",
      "Grid configuration same as last episode\n"
     ]
    },
    {
     "name": "stdout",
     "output_type": "stream",
     "text": [
      "Update 1495: Reward P1: -116, Reward P2: -116\n",
      "Update 1496: Reward P1: -136, Reward P2: -136\n"
     ]
    },
    {
     "name": "stderr",
     "output_type": "stream",
     "text": [
      "Grid configuration same as last episode\n",
      "Grid configuration same as last episode\n",
      "Grid configuration same as last episode\n",
      "Grid configuration same as last episode\n",
      "Grid configuration same as last episode\n",
      "Grid configuration same as last episode\n"
     ]
    },
    {
     "name": "stdout",
     "output_type": "stream",
     "text": [
      "Update 1497: Reward P1: -116, Reward P2: -116\n",
      "Update 1498: Reward P1: -136, Reward P2: -136\n"
     ]
    },
    {
     "name": "stderr",
     "output_type": "stream",
     "text": [
      "Grid configuration same as last episode\n",
      "Grid configuration same as last episode\n",
      "Grid configuration same as last episode\n",
      "Grid configuration same as last episode\n",
      "Grid configuration same as last episode\n",
      "Grid configuration same as last episode\n"
     ]
    },
    {
     "name": "stdout",
     "output_type": "stream",
     "text": [
      "Update 1499: Reward P1: -126, Reward P2: -126\n",
      "Update 1500: Reward P1: -96, Reward P2: -96\n"
     ]
    },
    {
     "name": "stderr",
     "output_type": "stream",
     "text": [
      "Grid configuration same as last episode\n",
      "Grid configuration same as last episode\n",
      "Grid configuration same as last episode\n",
      "Grid configuration same as last episode\n",
      "Grid configuration same as last episode\n",
      "Grid configuration same as last episode\n"
     ]
    },
    {
     "name": "stdout",
     "output_type": "stream",
     "text": [
      "Update 1501: Reward P1: -136, Reward P2: -136\n",
      "Update 1502: Reward P1: -116, Reward P2: -116\n"
     ]
    },
    {
     "name": "stderr",
     "output_type": "stream",
     "text": [
      "Grid configuration same as last episode\n",
      "Grid configuration same as last episode\n",
      "Grid configuration same as last episode\n",
      "Grid configuration same as last episode\n",
      "Grid configuration same as last episode\n",
      "Grid configuration same as last episode\n"
     ]
    },
    {
     "name": "stdout",
     "output_type": "stream",
     "text": [
      "Update 1503: Reward P1: -126, Reward P2: -126\n",
      "Update 1504: Reward P1: -96, Reward P2: -96\n"
     ]
    },
    {
     "name": "stderr",
     "output_type": "stream",
     "text": [
      "Grid configuration same as last episode\n",
      "Grid configuration same as last episode\n",
      "Grid configuration same as last episode\n",
      "Grid configuration same as last episode\n",
      "Grid configuration same as last episode\n",
      "Grid configuration same as last episode\n"
     ]
    },
    {
     "name": "stdout",
     "output_type": "stream",
     "text": [
      "Update 1505: Reward P1: -126, Reward P2: -126\n",
      "Update 1506: Reward P1: -146, Reward P2: -146\n"
     ]
    },
    {
     "name": "stderr",
     "output_type": "stream",
     "text": [
      "Grid configuration same as last episode\n",
      "Grid configuration same as last episode\n",
      "Grid configuration same as last episode\n",
      "Grid configuration same as last episode\n",
      "Grid configuration same as last episode\n"
     ]
    },
    {
     "name": "stdout",
     "output_type": "stream",
     "text": [
      "Update 1507: Reward P1: -146, Reward P2: -146\n",
      "Update 1508: Reward P1: -146, Reward P2: -146\n"
     ]
    },
    {
     "name": "stderr",
     "output_type": "stream",
     "text": [
      "Grid configuration same as last episode\n",
      "Grid configuration same as last episode\n",
      "Grid configuration same as last episode\n",
      "Grid configuration same as last episode\n",
      "Grid configuration same as last episode\n",
      "Grid configuration same as last episode\n"
     ]
    },
    {
     "name": "stdout",
     "output_type": "stream",
     "text": [
      "Update 1509: Reward P1: -136, Reward P2: -136\n",
      "Update 1510: Reward P1: -146, Reward P2: -146\n"
     ]
    },
    {
     "name": "stderr",
     "output_type": "stream",
     "text": [
      "Grid configuration same as last episode\n",
      "Grid configuration same as last episode\n",
      "Grid configuration same as last episode\n",
      "Grid configuration same as last episode\n",
      "Grid configuration same as last episode\n"
     ]
    },
    {
     "name": "stdout",
     "output_type": "stream",
     "text": [
      "Update 1511: Reward P1: -66, Reward P2: -66\n"
     ]
    },
    {
     "name": "stderr",
     "output_type": "stream",
     "text": [
      "Grid configuration same as last episode\n",
      "Grid configuration same as last episode\n",
      "Grid configuration same as last episode\n"
     ]
    },
    {
     "name": "stdout",
     "output_type": "stream",
     "text": [
      "Update 1512: Reward P1: -116, Reward P2: -116\n"
     ]
    },
    {
     "name": "stderr",
     "output_type": "stream",
     "text": [
      "Grid configuration same as last episode\n",
      "Grid configuration same as last episode\n",
      "Grid configuration same as last episode\n",
      "Grid configuration same as last episode\n"
     ]
    },
    {
     "name": "stdout",
     "output_type": "stream",
     "text": [
      "Update 1513: Reward P1: -116, Reward P2: -116\n",
      "Update 1514: Reward P1: -116, Reward P2: -116\n"
     ]
    },
    {
     "name": "stderr",
     "output_type": "stream",
     "text": [
      "Grid configuration same as last episode\n",
      "Grid configuration same as last episode\n",
      "Grid configuration same as last episode\n",
      "Grid configuration same as last episode\n",
      "Grid configuration same as last episode\n",
      "Grid configuration same as last episode\n",
      "Grid configuration same as last episode\n"
     ]
    },
    {
     "name": "stdout",
     "output_type": "stream",
     "text": [
      "Update 1515: Reward P1: -156, Reward P2: -156\n",
      "Update 1516: Reward P1: -166, Reward P2: -166\n"
     ]
    },
    {
     "name": "stderr",
     "output_type": "stream",
     "text": [
      "Grid configuration same as last episode\n",
      "Grid configuration same as last episode\n",
      "Grid configuration same as last episode\n",
      "Grid configuration same as last episode\n",
      "Grid configuration same as last episode\n",
      "Grid configuration same as last episode\n"
     ]
    },
    {
     "name": "stdout",
     "output_type": "stream",
     "text": [
      "Update 1517: Reward P1: -106, Reward P2: -106\n",
      "Update 1518: Reward P1: -86, Reward P2: -86\n"
     ]
    },
    {
     "name": "stderr",
     "output_type": "stream",
     "text": [
      "Grid configuration same as last episode\n",
      "Grid configuration same as last episode\n",
      "Grid configuration same as last episode\n",
      "Grid configuration same as last episode\n",
      "Grid configuration same as last episode\n",
      "Grid configuration same as last episode\n"
     ]
    },
    {
     "name": "stdout",
     "output_type": "stream",
     "text": [
      "Update 1519: Reward P1: -116, Reward P2: -116\n",
      "Update 1520: Reward P1: -126, Reward P2: -126\n"
     ]
    },
    {
     "name": "stderr",
     "output_type": "stream",
     "text": [
      "Grid configuration same as last episode\n",
      "Grid configuration same as last episode\n",
      "Grid configuration same as last episode\n",
      "Grid configuration same as last episode\n",
      "Grid configuration same as last episode\n",
      "Grid configuration same as last episode\n"
     ]
    },
    {
     "name": "stdout",
     "output_type": "stream",
     "text": [
      "Update 1521: Reward P1: -116, Reward P2: -116\n",
      "Update 1522: Reward P1: -126, Reward P2: -126\n"
     ]
    },
    {
     "name": "stderr",
     "output_type": "stream",
     "text": [
      "Grid configuration same as last episode\n",
      "Grid configuration same as last episode\n",
      "Grid configuration same as last episode\n",
      "Grid configuration same as last episode\n",
      "Grid configuration same as last episode\n",
      "Grid configuration same as last episode\n"
     ]
    },
    {
     "name": "stdout",
     "output_type": "stream",
     "text": [
      "Update 1523: Reward P1: -136, Reward P2: -136\n",
      "Update 1524: Reward P1: -156, Reward P2: -156\n"
     ]
    },
    {
     "name": "stderr",
     "output_type": "stream",
     "text": [
      "Grid configuration same as last episode\n",
      "Grid configuration same as last episode\n",
      "Grid configuration same as last episode\n",
      "Grid configuration same as last episode\n",
      "Grid configuration same as last episode\n",
      "Grid configuration same as last episode\n"
     ]
    },
    {
     "name": "stdout",
     "output_type": "stream",
     "text": [
      "Update 1525: Reward P1: -76, Reward P2: -76\n",
      "Update 1526: Reward P1: -116, Reward P2: -116\n"
     ]
    },
    {
     "name": "stderr",
     "output_type": "stream",
     "text": [
      "Grid configuration same as last episode\n",
      "Grid configuration same as last episode\n",
      "Grid configuration same as last episode\n",
      "Grid configuration same as last episode\n",
      "Grid configuration same as last episode\n",
      "Grid configuration same as last episode\n"
     ]
    },
    {
     "name": "stdout",
     "output_type": "stream",
     "text": [
      "Update 1527: Reward P1: -96, Reward P2: -96\n",
      "Update 1528: Reward P1: -126, Reward P2: -126\n"
     ]
    },
    {
     "name": "stderr",
     "output_type": "stream",
     "text": [
      "Grid configuration same as last episode\n",
      "Grid configuration same as last episode\n",
      "Grid configuration same as last episode\n",
      "Grid configuration same as last episode\n",
      "Grid configuration same as last episode\n",
      "Grid configuration same as last episode\n"
     ]
    },
    {
     "name": "stdout",
     "output_type": "stream",
     "text": [
      "Update 1529: Reward P1: -126, Reward P2: -126\n",
      "Update 1530: Reward P1: -96, Reward P2: -96\n"
     ]
    },
    {
     "name": "stderr",
     "output_type": "stream",
     "text": [
      "Grid configuration same as last episode\n",
      "Grid configuration same as last episode\n",
      "Grid configuration same as last episode\n",
      "Grid configuration same as last episode\n",
      "Grid configuration same as last episode\n",
      "Grid configuration same as last episode\n"
     ]
    },
    {
     "name": "stdout",
     "output_type": "stream",
     "text": [
      "Update 1531: Reward P1: -126, Reward P2: -126\n",
      "Update 1532: Reward P1: -136, Reward P2: -136\n"
     ]
    },
    {
     "name": "stderr",
     "output_type": "stream",
     "text": [
      "Grid configuration same as last episode\n",
      "Grid configuration same as last episode\n",
      "Grid configuration same as last episode\n",
      "Grid configuration same as last episode\n",
      "Grid configuration same as last episode\n",
      "Grid configuration same as last episode\n"
     ]
    },
    {
     "name": "stdout",
     "output_type": "stream",
     "text": [
      "Update 1533: Reward P1: -176, Reward P2: -176\n",
      "Update 1534: Reward P1: -136, Reward P2: -136\n"
     ]
    },
    {
     "name": "stderr",
     "output_type": "stream",
     "text": [
      "Grid configuration same as last episode\n",
      "Grid configuration same as last episode\n",
      "Grid configuration same as last episode\n",
      "Grid configuration same as last episode\n",
      "Grid configuration same as last episode\n",
      "Grid configuration same as last episode\n"
     ]
    },
    {
     "name": "stdout",
     "output_type": "stream",
     "text": [
      "Update 1535: Reward P1: -146, Reward P2: -146\n",
      "Update 1536: Reward P1: -126, Reward P2: -126\n"
     ]
    },
    {
     "name": "stderr",
     "output_type": "stream",
     "text": [
      "Grid configuration same as last episode\n",
      "Grid configuration same as last episode\n",
      "Grid configuration same as last episode\n",
      "Grid configuration same as last episode\n",
      "Grid configuration same as last episode\n",
      "Grid configuration same as last episode\n"
     ]
    },
    {
     "name": "stdout",
     "output_type": "stream",
     "text": [
      "Update 1537: Reward P1: -156, Reward P2: -156\n",
      "Update 1538: Reward P1: -76, Reward P2: -76\n"
     ]
    },
    {
     "name": "stderr",
     "output_type": "stream",
     "text": [
      "Grid configuration same as last episode\n",
      "Grid configuration same as last episode\n",
      "Grid configuration same as last episode\n",
      "Grid configuration same as last episode\n",
      "Grid configuration same as last episode\n",
      "Grid configuration same as last episode\n"
     ]
    },
    {
     "name": "stdout",
     "output_type": "stream",
     "text": [
      "Update 1539: Reward P1: -116, Reward P2: -116\n",
      "Update 1540: Reward P1: -146, Reward P2: -146\n"
     ]
    },
    {
     "name": "stderr",
     "output_type": "stream",
     "text": [
      "Grid configuration same as last episode\n",
      "Grid configuration same as last episode\n",
      "Grid configuration same as last episode\n",
      "Grid configuration same as last episode\n",
      "Grid configuration same as last episode\n",
      "Grid configuration same as last episode\n"
     ]
    },
    {
     "name": "stdout",
     "output_type": "stream",
     "text": [
      "Update 1541: Reward P1: -96, Reward P2: -96\n",
      "Update 1542: Reward P1: -166, Reward P2: -166\n"
     ]
    },
    {
     "name": "stderr",
     "output_type": "stream",
     "text": [
      "Grid configuration same as last episode\n",
      "Grid configuration same as last episode\n",
      "Grid configuration same as last episode\n",
      "Grid configuration same as last episode\n",
      "Grid configuration same as last episode\n"
     ]
    },
    {
     "name": "stdout",
     "output_type": "stream",
     "text": [
      "Update 1543: Reward P1: -76, Reward P2: -76\n",
      "Update 1544: Reward P1: -46, Reward P2: -46\n"
     ]
    },
    {
     "name": "stderr",
     "output_type": "stream",
     "text": [
      "Grid configuration same as last episode\n",
      "Grid configuration same as last episode\n",
      "Grid configuration same as last episode\n",
      "Grid configuration same as last episode\n",
      "Grid configuration same as last episode\n",
      "Grid configuration same as last episode\n"
     ]
    },
    {
     "name": "stdout",
     "output_type": "stream",
     "text": [
      "Update 1545: Reward P1: -116, Reward P2: -116\n",
      "Update 1546: Reward P1: -146, Reward P2: -146\n"
     ]
    },
    {
     "name": "stderr",
     "output_type": "stream",
     "text": [
      "Grid configuration same as last episode\n",
      "Grid configuration same as last episode\n",
      "Grid configuration same as last episode\n",
      "Grid configuration same as last episode\n",
      "Grid configuration same as last episode\n"
     ]
    },
    {
     "name": "stdout",
     "output_type": "stream",
     "text": [
      "Update 1547: Reward P1: -136, Reward P2: -136\n"
     ]
    },
    {
     "name": "stderr",
     "output_type": "stream",
     "text": [
      "Grid configuration same as last episode\n",
      "Grid configuration same as last episode\n",
      "Grid configuration same as last episode\n",
      "Grid configuration same as last episode\n"
     ]
    },
    {
     "name": "stdout",
     "output_type": "stream",
     "text": [
      "Update 1548: Reward P1: -136, Reward P2: -136\n",
      "Update 1549: Reward P1: -126, Reward P2: -126\n"
     ]
    },
    {
     "name": "stderr",
     "output_type": "stream",
     "text": [
      "Grid configuration same as last episode\n",
      "Grid configuration same as last episode\n",
      "Grid configuration same as last episode\n",
      "Grid configuration same as last episode\n",
      "Grid configuration same as last episode\n",
      "Grid configuration same as last episode\n",
      "Grid configuration same as last episode\n"
     ]
    },
    {
     "name": "stdout",
     "output_type": "stream",
     "text": [
      "Update 1550: Reward P1: -176, Reward P2: -176\n",
      "Update 1551: Reward P1: -86, Reward P2: -86\n"
     ]
    },
    {
     "name": "stderr",
     "output_type": "stream",
     "text": [
      "Grid configuration same as last episode\n",
      "Grid configuration same as last episode\n",
      "Grid configuration same as last episode\n",
      "Grid configuration same as last episode\n",
      "Grid configuration same as last episode\n",
      "Grid configuration same as last episode\n"
     ]
    },
    {
     "name": "stdout",
     "output_type": "stream",
     "text": [
      "Update 1552: Reward P1: -126, Reward P2: -126\n",
      "Update 1553: Reward P1: -126, Reward P2: -126\n"
     ]
    },
    {
     "name": "stderr",
     "output_type": "stream",
     "text": [
      "Grid configuration same as last episode\n",
      "Grid configuration same as last episode\n",
      "Grid configuration same as last episode\n",
      "Grid configuration same as last episode\n",
      "Grid configuration same as last episode\n",
      "Grid configuration same as last episode\n"
     ]
    },
    {
     "name": "stdout",
     "output_type": "stream",
     "text": [
      "Update 1554: Reward P1: -136, Reward P2: -136\n",
      "Update 1555: Reward P1: -136, Reward P2: -136\n"
     ]
    },
    {
     "name": "stderr",
     "output_type": "stream",
     "text": [
      "Grid configuration same as last episode\n",
      "Grid configuration same as last episode\n",
      "Grid configuration same as last episode\n",
      "Grid configuration same as last episode\n",
      "Grid configuration same as last episode\n",
      "Grid configuration same as last episode\n"
     ]
    },
    {
     "name": "stdout",
     "output_type": "stream",
     "text": [
      "Update 1556: Reward P1: -176, Reward P2: -176\n",
      "Update 1557: Reward P1: -126, Reward P2: -126\n"
     ]
    },
    {
     "name": "stderr",
     "output_type": "stream",
     "text": [
      "Grid configuration same as last episode\n",
      "Grid configuration same as last episode\n",
      "Grid configuration same as last episode\n",
      "Grid configuration same as last episode\n",
      "Grid configuration same as last episode\n",
      "Grid configuration same as last episode\n"
     ]
    },
    {
     "name": "stdout",
     "output_type": "stream",
     "text": [
      "Update 1558: Reward P1: -96, Reward P2: -96\n",
      "Update 1559: Reward P1: -166, Reward P2: -166\n"
     ]
    },
    {
     "name": "stderr",
     "output_type": "stream",
     "text": [
      "Grid configuration same as last episode\n",
      "Grid configuration same as last episode\n",
      "Grid configuration same as last episode\n",
      "Grid configuration same as last episode\n",
      "Grid configuration same as last episode\n",
      "Grid configuration same as last episode\n"
     ]
    },
    {
     "name": "stdout",
     "output_type": "stream",
     "text": [
      "Update 1560: Reward P1: -126, Reward P2: -126\n",
      "Update 1561: Reward P1: -116, Reward P2: -116\n"
     ]
    },
    {
     "name": "stderr",
     "output_type": "stream",
     "text": [
      "Grid configuration same as last episode\n",
      "Grid configuration same as last episode\n",
      "Grid configuration same as last episode\n",
      "Grid configuration same as last episode\n",
      "Grid configuration same as last episode\n",
      "Grid configuration same as last episode\n"
     ]
    },
    {
     "name": "stdout",
     "output_type": "stream",
     "text": [
      "Update 1562: Reward P1: -136, Reward P2: -136\n",
      "Update 1563: Reward P1: -156, Reward P2: -156\n"
     ]
    },
    {
     "name": "stderr",
     "output_type": "stream",
     "text": [
      "Grid configuration same as last episode\n",
      "Grid configuration same as last episode\n",
      "Grid configuration same as last episode\n",
      "Grid configuration same as last episode\n",
      "Grid configuration same as last episode\n",
      "Grid configuration same as last episode\n"
     ]
    },
    {
     "name": "stdout",
     "output_type": "stream",
     "text": [
      "Update 1564: Reward P1: -146, Reward P2: -146\n",
      "Update 1565: Reward P1: -126, Reward P2: -126\n"
     ]
    },
    {
     "name": "stderr",
     "output_type": "stream",
     "text": [
      "Grid configuration same as last episode\n",
      "Grid configuration same as last episode\n",
      "Grid configuration same as last episode\n",
      "Grid configuration same as last episode\n",
      "Grid configuration same as last episode\n",
      "Grid configuration same as last episode\n"
     ]
    },
    {
     "name": "stdout",
     "output_type": "stream",
     "text": [
      "Update 1566: Reward P1: -136, Reward P2: -136\n",
      "Update 1567: Reward P1: -76, Reward P2: -76\n"
     ]
    },
    {
     "name": "stderr",
     "output_type": "stream",
     "text": [
      "Grid configuration same as last episode\n",
      "Grid configuration same as last episode\n",
      "Grid configuration same as last episode\n",
      "Grid configuration same as last episode\n",
      "Grid configuration same as last episode\n",
      "Grid configuration same as last episode\n"
     ]
    },
    {
     "name": "stdout",
     "output_type": "stream",
     "text": [
      "Update 1568: Reward P1: -116, Reward P2: -116\n",
      "Update 1569: Reward P1: -126, Reward P2: -126\n"
     ]
    },
    {
     "name": "stderr",
     "output_type": "stream",
     "text": [
      "Grid configuration same as last episode\n",
      "Grid configuration same as last episode\n",
      "Grid configuration same as last episode\n",
      "Grid configuration same as last episode\n",
      "Grid configuration same as last episode\n",
      "Grid configuration same as last episode\n"
     ]
    },
    {
     "name": "stdout",
     "output_type": "stream",
     "text": [
      "Update 1570: Reward P1: -96, Reward P2: -96\n",
      "Update 1571: Reward P1: -116, Reward P2: -116\n"
     ]
    },
    {
     "name": "stderr",
     "output_type": "stream",
     "text": [
      "Grid configuration same as last episode\n",
      "Grid configuration same as last episode\n",
      "Grid configuration same as last episode\n",
      "Grid configuration same as last episode\n",
      "Grid configuration same as last episode\n"
     ]
    },
    {
     "name": "stdout",
     "output_type": "stream",
     "text": [
      "Update 1572: Reward P1: -86, Reward P2: -86\n",
      "Update 1573: Reward P1: -116, Reward P2: -116\n"
     ]
    },
    {
     "name": "stderr",
     "output_type": "stream",
     "text": [
      "Grid configuration same as last episode\n",
      "Grid configuration same as last episode\n",
      "Grid configuration same as last episode\n",
      "Grid configuration same as last episode\n",
      "Grid configuration same as last episode\n",
      "Grid configuration same as last episode\n",
      "Grid configuration same as last episode\n"
     ]
    },
    {
     "name": "stdout",
     "output_type": "stream",
     "text": [
      "Update 1574: Reward P1: -126, Reward P2: -126\n",
      "Update 1575: Reward P1: -106, Reward P2: -106\n"
     ]
    },
    {
     "name": "stderr",
     "output_type": "stream",
     "text": [
      "Grid configuration same as last episode\n",
      "Grid configuration same as last episode\n",
      "Grid configuration same as last episode\n",
      "Grid configuration same as last episode\n",
      "Grid configuration same as last episode\n"
     ]
    },
    {
     "name": "stdout",
     "output_type": "stream",
     "text": [
      "Update 1576: Reward P1: -146, Reward P2: -146\n",
      "Update 1577: Reward P1: -116, Reward P2: -116\n"
     ]
    },
    {
     "name": "stderr",
     "output_type": "stream",
     "text": [
      "Grid configuration same as last episode\n",
      "Grid configuration same as last episode\n",
      "Grid configuration same as last episode\n",
      "Grid configuration same as last episode\n",
      "Grid configuration same as last episode\n",
      "Grid configuration same as last episode\n",
      "Grid configuration same as last episode\n"
     ]
    },
    {
     "name": "stdout",
     "output_type": "stream",
     "text": [
      "Update 1578: Reward P1: -156, Reward P2: -156\n",
      "Update 1579: Reward P1: -126, Reward P2: -126\n"
     ]
    },
    {
     "name": "stderr",
     "output_type": "stream",
     "text": [
      "Grid configuration same as last episode\n",
      "Grid configuration same as last episode\n",
      "Grid configuration same as last episode\n",
      "Grid configuration same as last episode\n",
      "Grid configuration same as last episode\n",
      "Grid configuration same as last episode\n"
     ]
    },
    {
     "name": "stdout",
     "output_type": "stream",
     "text": [
      "Update 1580: Reward P1: -116, Reward P2: -116\n",
      "Update 1581: Reward P1: -156, Reward P2: -156\n"
     ]
    },
    {
     "name": "stderr",
     "output_type": "stream",
     "text": [
      "Grid configuration same as last episode\n",
      "Grid configuration same as last episode\n",
      "Grid configuration same as last episode\n",
      "Grid configuration same as last episode\n",
      "Grid configuration same as last episode\n",
      "Grid configuration same as last episode\n"
     ]
    },
    {
     "name": "stdout",
     "output_type": "stream",
     "text": [
      "Update 1582: Reward P1: -116, Reward P2: -116\n",
      "Update 1583: Reward P1: -116, Reward P2: -116\n"
     ]
    },
    {
     "name": "stderr",
     "output_type": "stream",
     "text": [
      "Grid configuration same as last episode\n",
      "Grid configuration same as last episode\n",
      "Grid configuration same as last episode\n",
      "Grid configuration same as last episode\n",
      "Grid configuration same as last episode\n",
      "Grid configuration same as last episode\n"
     ]
    },
    {
     "name": "stdout",
     "output_type": "stream",
     "text": [
      "Update 1584: Reward P1: -106, Reward P2: -106\n",
      "Update 1585: Reward P1: -116, Reward P2: -116\n"
     ]
    },
    {
     "name": "stderr",
     "output_type": "stream",
     "text": [
      "Grid configuration same as last episode\n",
      "Grid configuration same as last episode\n",
      "Grid configuration same as last episode\n",
      "Grid configuration same as last episode\n"
     ]
    },
    {
     "name": "stdout",
     "output_type": "stream",
     "text": [
      "Update 1586: Reward P1: -116, Reward P2: -116\n"
     ]
    },
    {
     "name": "stderr",
     "output_type": "stream",
     "text": [
      "Grid configuration same as last episode\n",
      "Grid configuration same as last episode\n",
      "Grid configuration same as last episode\n",
      "Grid configuration same as last episode\n",
      "Grid configuration same as last episode\n"
     ]
    },
    {
     "name": "stdout",
     "output_type": "stream",
     "text": [
      "Update 1587: Reward P1: -146, Reward P2: -146\n",
      "Update 1588: Reward P1: -156, Reward P2: -156\n"
     ]
    },
    {
     "name": "stderr",
     "output_type": "stream",
     "text": [
      "Grid configuration same as last episode\n",
      "Grid configuration same as last episode\n",
      "Grid configuration same as last episode\n",
      "Grid configuration same as last episode\n",
      "Grid configuration same as last episode\n",
      "Grid configuration same as last episode\n"
     ]
    },
    {
     "name": "stdout",
     "output_type": "stream",
     "text": [
      "Update 1589: Reward P1: -136, Reward P2: -136\n",
      "Update 1590: Reward P1: -106, Reward P2: -106\n"
     ]
    },
    {
     "name": "stderr",
     "output_type": "stream",
     "text": [
      "Grid configuration same as last episode\n",
      "Grid configuration same as last episode\n",
      "Grid configuration same as last episode\n",
      "Grid configuration same as last episode\n",
      "Grid configuration same as last episode\n",
      "Grid configuration same as last episode\n"
     ]
    },
    {
     "name": "stdout",
     "output_type": "stream",
     "text": [
      "Update 1591: Reward P1: -106, Reward P2: -106\n",
      "Update 1592: Reward P1: -136, Reward P2: -136\n"
     ]
    },
    {
     "name": "stderr",
     "output_type": "stream",
     "text": [
      "Grid configuration same as last episode\n",
      "Grid configuration same as last episode\n",
      "Grid configuration same as last episode\n",
      "Grid configuration same as last episode\n",
      "Grid configuration same as last episode\n",
      "Grid configuration same as last episode\n"
     ]
    },
    {
     "name": "stdout",
     "output_type": "stream",
     "text": [
      "Update 1593: Reward P1: -106, Reward P2: -106\n",
      "Update 1594: Reward P1: -106, Reward P2: -106\n"
     ]
    },
    {
     "name": "stderr",
     "output_type": "stream",
     "text": [
      "Grid configuration same as last episode\n",
      "Grid configuration same as last episode\n",
      "Grid configuration same as last episode\n",
      "Grid configuration same as last episode\n",
      "Grid configuration same as last episode\n"
     ]
    },
    {
     "name": "stdout",
     "output_type": "stream",
     "text": [
      "Update 1595: Reward P1: -66, Reward P2: -66\n",
      "Update 1596: Reward P1: -96, Reward P2: -96\n"
     ]
    },
    {
     "name": "stderr",
     "output_type": "stream",
     "text": [
      "Grid configuration same as last episode\n",
      "Grid configuration same as last episode\n",
      "Grid configuration same as last episode\n",
      "Grid configuration same as last episode\n",
      "Grid configuration same as last episode\n",
      "Grid configuration same as last episode\n",
      "Grid configuration same as last episode\n"
     ]
    },
    {
     "name": "stdout",
     "output_type": "stream",
     "text": [
      "Update 1597: Reward P1: -156, Reward P2: -156\n",
      "Update 1598: Reward P1: -116, Reward P2: -116\n"
     ]
    },
    {
     "name": "stderr",
     "output_type": "stream",
     "text": [
      "Grid configuration same as last episode\n",
      "Grid configuration same as last episode\n",
      "Grid configuration same as last episode\n",
      "Grid configuration same as last episode\n",
      "Grid configuration same as last episode\n"
     ]
    },
    {
     "name": "stdout",
     "output_type": "stream",
     "text": [
      "Update 1599: Reward P1: -106, Reward P2: -106\n",
      "Update 1600: Reward P1: -116, Reward P2: -116\n"
     ]
    },
    {
     "name": "stderr",
     "output_type": "stream",
     "text": [
      "Grid configuration same as last episode\n",
      "Grid configuration same as last episode\n",
      "Grid configuration same as last episode\n",
      "Grid configuration same as last episode\n",
      "Grid configuration same as last episode\n"
     ]
    },
    {
     "name": "stdout",
     "output_type": "stream",
     "text": [
      "Update 1601: Reward P1: -106, Reward P2: -106\n"
     ]
    },
    {
     "name": "stderr",
     "output_type": "stream",
     "text": [
      "Grid configuration same as last episode\n",
      "Grid configuration same as last episode\n",
      "Grid configuration same as last episode\n"
     ]
    },
    {
     "name": "stdout",
     "output_type": "stream",
     "text": [
      "Update 1602: Reward P1: -136, Reward P2: -136\n"
     ]
    },
    {
     "name": "stderr",
     "output_type": "stream",
     "text": [
      "Grid configuration same as last episode\n",
      "Grid configuration same as last episode\n",
      "Grid configuration same as last episode\n",
      "Grid configuration same as last episode\n"
     ]
    },
    {
     "name": "stdout",
     "output_type": "stream",
     "text": [
      "Update 1603: Reward P1: -126, Reward P2: -126\n",
      "Update 1604: Reward P1: -86, Reward P2: -86\n"
     ]
    },
    {
     "name": "stderr",
     "output_type": "stream",
     "text": [
      "Grid configuration same as last episode\n",
      "Grid configuration same as last episode\n",
      "Grid configuration same as last episode\n",
      "Grid configuration same as last episode\n",
      "Grid configuration same as last episode\n",
      "Grid configuration same as last episode\n",
      "Grid configuration same as last episode\n"
     ]
    },
    {
     "name": "stdout",
     "output_type": "stream",
     "text": [
      "Update 1605: Reward P1: -96, Reward P2: -96\n",
      "Update 1606: Reward P1: -126, Reward P2: -126\n"
     ]
    },
    {
     "name": "stderr",
     "output_type": "stream",
     "text": [
      "Grid configuration same as last episode\n",
      "Grid configuration same as last episode\n",
      "Grid configuration same as last episode\n",
      "Grid configuration same as last episode\n",
      "Grid configuration same as last episode\n",
      "Grid configuration same as last episode\n"
     ]
    },
    {
     "name": "stdout",
     "output_type": "stream",
     "text": [
      "Update 1607: Reward P1: -106, Reward P2: -106\n",
      "Update 1608: Reward P1: -106, Reward P2: -106\n"
     ]
    },
    {
     "name": "stderr",
     "output_type": "stream",
     "text": [
      "Grid configuration same as last episode\n",
      "Grid configuration same as last episode\n",
      "Grid configuration same as last episode\n",
      "Grid configuration same as last episode\n",
      "Grid configuration same as last episode\n",
      "Grid configuration same as last episode\n"
     ]
    },
    {
     "name": "stdout",
     "output_type": "stream",
     "text": [
      "Update 1609: Reward P1: -136, Reward P2: -136\n",
      "Update 1610: Reward P1: -96, Reward P2: -96\n"
     ]
    },
    {
     "name": "stderr",
     "output_type": "stream",
     "text": [
      "Grid configuration same as last episode\n",
      "Grid configuration same as last episode\n",
      "Grid configuration same as last episode\n",
      "Grid configuration same as last episode\n",
      "Grid configuration same as last episode\n"
     ]
    },
    {
     "name": "stdout",
     "output_type": "stream",
     "text": [
      "Update 1611: Reward P1: -106, Reward P2: -106\n",
      "Update 1612: Reward P1: -96, Reward P2: -96\n"
     ]
    },
    {
     "name": "stderr",
     "output_type": "stream",
     "text": [
      "Grid configuration same as last episode\n",
      "Grid configuration same as last episode\n",
      "Grid configuration same as last episode\n",
      "Grid configuration same as last episode\n",
      "Grid configuration same as last episode\n",
      "Grid configuration same as last episode\n",
      "Grid configuration same as last episode\n"
     ]
    },
    {
     "name": "stdout",
     "output_type": "stream",
     "text": [
      "Update 1613: Reward P1: -116, Reward P2: -116\n",
      "Update 1614: Reward P1: -116, Reward P2: -116\n"
     ]
    },
    {
     "name": "stderr",
     "output_type": "stream",
     "text": [
      "Grid configuration same as last episode\n",
      "Grid configuration same as last episode\n",
      "Grid configuration same as last episode\n",
      "Grid configuration same as last episode\n",
      "Grid configuration same as last episode\n"
     ]
    },
    {
     "name": "stdout",
     "output_type": "stream",
     "text": [
      "Update 1615: Reward P1: -96, Reward P2: -96\n",
      "Update 1616: Reward P1: -116, Reward P2: -116\n"
     ]
    },
    {
     "name": "stderr",
     "output_type": "stream",
     "text": [
      "Grid configuration same as last episode\n",
      "Grid configuration same as last episode\n",
      "Grid configuration same as last episode\n",
      "Grid configuration same as last episode\n",
      "Grid configuration same as last episode\n",
      "Grid configuration same as last episode\n",
      "Grid configuration same as last episode\n"
     ]
    },
    {
     "name": "stdout",
     "output_type": "stream",
     "text": [
      "Update 1617: Reward P1: -126, Reward P2: -126\n",
      "Update 1618: Reward P1: -76, Reward P2: -76\n"
     ]
    },
    {
     "name": "stderr",
     "output_type": "stream",
     "text": [
      "Grid configuration same as last episode\n",
      "Grid configuration same as last episode\n",
      "Grid configuration same as last episode\n",
      "Grid configuration same as last episode\n",
      "Grid configuration same as last episode\n",
      "Grid configuration same as last episode\n"
     ]
    },
    {
     "name": "stdout",
     "output_type": "stream",
     "text": [
      "Update 1619: Reward P1: -106, Reward P2: -106\n",
      "Update 1620: Reward P1: -156, Reward P2: -156\n"
     ]
    },
    {
     "name": "stderr",
     "output_type": "stream",
     "text": [
      "Grid configuration same as last episode\n",
      "Grid configuration same as last episode\n",
      "Grid configuration same as last episode\n",
      "Grid configuration same as last episode\n",
      "Grid configuration same as last episode\n"
     ]
    },
    {
     "name": "stdout",
     "output_type": "stream",
     "text": [
      "Update 1621: Reward P1: -126, Reward P2: -126\n",
      "Update 1622: Reward P1: -116, Reward P2: -116\n"
     ]
    },
    {
     "name": "stderr",
     "output_type": "stream",
     "text": [
      "Grid configuration same as last episode\n",
      "Grid configuration same as last episode\n",
      "Grid configuration same as last episode\n",
      "Grid configuration same as last episode\n",
      "Grid configuration same as last episode\n",
      "Grid configuration same as last episode\n",
      "Grid configuration same as last episode\n"
     ]
    },
    {
     "name": "stdout",
     "output_type": "stream",
     "text": [
      "Update 1623: Reward P1: -96, Reward P2: -96\n",
      "Update 1624: Reward P1: -166, Reward P2: -166\n"
     ]
    },
    {
     "name": "stderr",
     "output_type": "stream",
     "text": [
      "Grid configuration same as last episode\n",
      "Grid configuration same as last episode\n",
      "Grid configuration same as last episode\n",
      "Grid configuration same as last episode\n"
     ]
    },
    {
     "name": "stdout",
     "output_type": "stream",
     "text": [
      "Update 1625: Reward P1: -116, Reward P2: -116\n"
     ]
    },
    {
     "name": "stderr",
     "output_type": "stream",
     "text": [
      "Grid configuration same as last episode\n",
      "Grid configuration same as last episode\n",
      "Grid configuration same as last episode\n"
     ]
    },
    {
     "name": "stdout",
     "output_type": "stream",
     "text": [
      "Update 1626: Reward P1: -86, Reward P2: -86\n"
     ]
    },
    {
     "name": "stderr",
     "output_type": "stream",
     "text": [
      "Grid configuration same as last episode\n",
      "Grid configuration same as last episode\n",
      "Grid configuration same as last episode\n",
      "Grid configuration same as last episode\n"
     ]
    },
    {
     "name": "stdout",
     "output_type": "stream",
     "text": [
      "Update 1627: Reward P1: -116, Reward P2: -116\n",
      "Update 1628: Reward P1: -136, Reward P2: -136\n"
     ]
    },
    {
     "name": "stderr",
     "output_type": "stream",
     "text": [
      "Grid configuration same as last episode\n",
      "Grid configuration same as last episode\n",
      "Grid configuration same as last episode\n",
      "Grid configuration same as last episode\n",
      "Grid configuration same as last episode\n",
      "Grid configuration same as last episode\n",
      "Grid configuration same as last episode\n"
     ]
    },
    {
     "name": "stdout",
     "output_type": "stream",
     "text": [
      "Update 1629: Reward P1: -126, Reward P2: -126\n",
      "Update 1630: Reward P1: -106, Reward P2: -106\n"
     ]
    },
    {
     "name": "stderr",
     "output_type": "stream",
     "text": [
      "Grid configuration same as last episode\n",
      "Grid configuration same as last episode\n",
      "Grid configuration same as last episode\n",
      "Grid configuration same as last episode\n"
     ]
    },
    {
     "name": "stdout",
     "output_type": "stream",
     "text": [
      "Update 1631: Reward P1: -106, Reward P2: -106\n"
     ]
    },
    {
     "name": "stderr",
     "output_type": "stream",
     "text": [
      "Grid configuration same as last episode\n",
      "Grid configuration same as last episode\n",
      "Grid configuration same as last episode\n",
      "Grid configuration same as last episode\n",
      "Grid configuration same as last episode\n"
     ]
    },
    {
     "name": "stdout",
     "output_type": "stream",
     "text": [
      "Update 1632: Reward P1: -116, Reward P2: -116\n",
      "Update 1633: Reward P1: -116, Reward P2: -116\n"
     ]
    },
    {
     "name": "stderr",
     "output_type": "stream",
     "text": [
      "Grid configuration same as last episode\n",
      "Grid configuration same as last episode\n",
      "Grid configuration same as last episode\n",
      "Grid configuration same as last episode\n",
      "Grid configuration same as last episode\n",
      "Grid configuration same as last episode\n"
     ]
    },
    {
     "name": "stdout",
     "output_type": "stream",
     "text": [
      "Update 1634: Reward P1: -76, Reward P2: -76\n",
      "Update 1635: Reward P1: -136, Reward P2: -136\n"
     ]
    },
    {
     "name": "stderr",
     "output_type": "stream",
     "text": [
      "Grid configuration same as last episode\n",
      "Grid configuration same as last episode\n",
      "Grid configuration same as last episode\n",
      "Grid configuration same as last episode\n",
      "Grid configuration same as last episode\n"
     ]
    },
    {
     "name": "stdout",
     "output_type": "stream",
     "text": [
      "Update 1636: Reward P1: -126, Reward P2: -126\n",
      "Update 1637: Reward P1: -106, Reward P2: -106\n"
     ]
    },
    {
     "name": "stderr",
     "output_type": "stream",
     "text": [
      "Grid configuration same as last episode\n",
      "Grid configuration same as last episode\n",
      "Grid configuration same as last episode\n",
      "Grid configuration same as last episode\n",
      "Grid configuration same as last episode\n",
      "Grid configuration same as last episode\n",
      "Grid configuration same as last episode\n"
     ]
    },
    {
     "name": "stdout",
     "output_type": "stream",
     "text": [
      "Update 1638: Reward P1: -156, Reward P2: -156\n",
      "Update 1639: Reward P1: -176, Reward P2: -176\n"
     ]
    },
    {
     "name": "stderr",
     "output_type": "stream",
     "text": [
      "Grid configuration same as last episode\n",
      "Grid configuration same as last episode\n",
      "Grid configuration same as last episode\n",
      "Grid configuration same as last episode\n",
      "Grid configuration same as last episode\n",
      "Grid configuration same as last episode\n"
     ]
    },
    {
     "name": "stdout",
     "output_type": "stream",
     "text": [
      "Update 1640: Reward P1: -136, Reward P2: -136\n",
      "Update 1641: Reward P1: -96, Reward P2: -96\n"
     ]
    },
    {
     "name": "stderr",
     "output_type": "stream",
     "text": [
      "Grid configuration same as last episode\n",
      "Grid configuration same as last episode\n",
      "Grid configuration same as last episode\n",
      "Grid configuration same as last episode\n",
      "Grid configuration same as last episode\n",
      "Grid configuration same as last episode\n"
     ]
    },
    {
     "name": "stdout",
     "output_type": "stream",
     "text": [
      "Update 1642: Reward P1: -156, Reward P2: -156\n",
      "Update 1643: Reward P1: -116, Reward P2: -116\n"
     ]
    },
    {
     "name": "stderr",
     "output_type": "stream",
     "text": [
      "Grid configuration same as last episode\n",
      "Grid configuration same as last episode\n",
      "Grid configuration same as last episode\n",
      "Grid configuration same as last episode\n",
      "Grid configuration same as last episode\n",
      "Grid configuration same as last episode\n"
     ]
    },
    {
     "name": "stdout",
     "output_type": "stream",
     "text": [
      "Update 1644: Reward P1: -106, Reward P2: -106\n",
      "Update 1645: Reward P1: -116, Reward P2: -116\n"
     ]
    },
    {
     "name": "stderr",
     "output_type": "stream",
     "text": [
      "Grid configuration same as last episode\n",
      "Grid configuration same as last episode\n",
      "Grid configuration same as last episode\n",
      "Grid configuration same as last episode\n",
      "Grid configuration same as last episode\n",
      "Grid configuration same as last episode\n"
     ]
    },
    {
     "name": "stdout",
     "output_type": "stream",
     "text": [
      "Update 1646: Reward P1: -126, Reward P2: -126\n",
      "Update 1647: Reward P1: -136, Reward P2: -136\n"
     ]
    },
    {
     "name": "stderr",
     "output_type": "stream",
     "text": [
      "Grid configuration same as last episode\n",
      "Grid configuration same as last episode\n",
      "Grid configuration same as last episode\n",
      "Grid configuration same as last episode\n",
      "Grid configuration same as last episode\n",
      "Grid configuration same as last episode\n"
     ]
    },
    {
     "name": "stdout",
     "output_type": "stream",
     "text": [
      "Update 1648: Reward P1: -96, Reward P2: -96\n",
      "Update 1649: Reward P1: -76, Reward P2: -76\n"
     ]
    },
    {
     "name": "stderr",
     "output_type": "stream",
     "text": [
      "Grid configuration same as last episode\n",
      "Grid configuration same as last episode\n",
      "Grid configuration same as last episode\n",
      "Grid configuration same as last episode\n",
      "Grid configuration same as last episode\n",
      "Grid configuration same as last episode\n"
     ]
    },
    {
     "name": "stdout",
     "output_type": "stream",
     "text": [
      "Update 1650: Reward P1: -86, Reward P2: -86\n",
      "Update 1651: Reward P1: -106, Reward P2: -106\n"
     ]
    },
    {
     "name": "stderr",
     "output_type": "stream",
     "text": [
      "Grid configuration same as last episode\n",
      "Grid configuration same as last episode\n",
      "Grid configuration same as last episode\n",
      "Grid configuration same as last episode\n",
      "Grid configuration same as last episode\n",
      "Grid configuration same as last episode\n"
     ]
    },
    {
     "name": "stdout",
     "output_type": "stream",
     "text": [
      "Update 1652: Reward P1: -146, Reward P2: -146\n",
      "Update 1653: Reward P1: -106, Reward P2: -106\n"
     ]
    },
    {
     "name": "stderr",
     "output_type": "stream",
     "text": [
      "Grid configuration same as last episode\n",
      "Grid configuration same as last episode\n",
      "Grid configuration same as last episode\n",
      "Grid configuration same as last episode\n",
      "Grid configuration same as last episode\n",
      "Grid configuration same as last episode\n"
     ]
    },
    {
     "name": "stdout",
     "output_type": "stream",
     "text": [
      "Update 1654: Reward P1: -116, Reward P2: -116\n",
      "Update 1655: Reward P1: -136, Reward P2: -136\n"
     ]
    },
    {
     "name": "stderr",
     "output_type": "stream",
     "text": [
      "Grid configuration same as last episode\n",
      "Grid configuration same as last episode\n",
      "Grid configuration same as last episode\n",
      "Grid configuration same as last episode\n",
      "Grid configuration same as last episode\n",
      "Grid configuration same as last episode\n"
     ]
    },
    {
     "name": "stdout",
     "output_type": "stream",
     "text": [
      "Update 1656: Reward P1: -56, Reward P2: -56\n",
      "Update 1657: Reward P1: -146, Reward P2: -146\n"
     ]
    },
    {
     "name": "stderr",
     "output_type": "stream",
     "text": [
      "Grid configuration same as last episode\n",
      "Grid configuration same as last episode\n",
      "Grid configuration same as last episode\n",
      "Grid configuration same as last episode\n",
      "Grid configuration same as last episode\n",
      "Grid configuration same as last episode\n"
     ]
    },
    {
     "name": "stdout",
     "output_type": "stream",
     "text": [
      "Update 1658: Reward P1: -116, Reward P2: -116\n",
      "Update 1659: Reward P1: -136, Reward P2: -136\n"
     ]
    },
    {
     "name": "stderr",
     "output_type": "stream",
     "text": [
      "Grid configuration same as last episode\n",
      "Grid configuration same as last episode\n",
      "Grid configuration same as last episode\n",
      "Grid configuration same as last episode\n",
      "Grid configuration same as last episode\n",
      "Grid configuration same as last episode\n"
     ]
    },
    {
     "name": "stdout",
     "output_type": "stream",
     "text": [
      "Update 1660: Reward P1: -116, Reward P2: -116\n",
      "Update 1661: Reward P1: -136, Reward P2: -136\n"
     ]
    },
    {
     "name": "stderr",
     "output_type": "stream",
     "text": [
      "Grid configuration same as last episode\n",
      "Grid configuration same as last episode\n",
      "Grid configuration same as last episode\n",
      "Grid configuration same as last episode\n",
      "Grid configuration same as last episode\n",
      "Grid configuration same as last episode\n"
     ]
    },
    {
     "name": "stdout",
     "output_type": "stream",
     "text": [
      "Update 1662: Reward P1: -116, Reward P2: -116\n",
      "Update 1663: Reward P1: -146, Reward P2: -146\n"
     ]
    },
    {
     "name": "stderr",
     "output_type": "stream",
     "text": [
      "Grid configuration same as last episode\n",
      "Grid configuration same as last episode\n",
      "Grid configuration same as last episode\n",
      "Grid configuration same as last episode\n",
      "Grid configuration same as last episode\n",
      "Grid configuration same as last episode\n"
     ]
    },
    {
     "name": "stdout",
     "output_type": "stream",
     "text": [
      "Update 1664: Reward P1: -116, Reward P2: -116\n",
      "Update 1665: Reward P1: -96, Reward P2: -96\n"
     ]
    },
    {
     "name": "stderr",
     "output_type": "stream",
     "text": [
      "Grid configuration same as last episode\n",
      "Grid configuration same as last episode\n",
      "Grid configuration same as last episode\n",
      "Grid configuration same as last episode\n",
      "Grid configuration same as last episode\n",
      "Grid configuration same as last episode\n"
     ]
    },
    {
     "name": "stdout",
     "output_type": "stream",
     "text": [
      "Update 1666: Reward P1: -106, Reward P2: -106\n",
      "Update 1667: Reward P1: -146, Reward P2: -146\n"
     ]
    },
    {
     "name": "stderr",
     "output_type": "stream",
     "text": [
      "Grid configuration same as last episode\n",
      "Grid configuration same as last episode\n",
      "Grid configuration same as last episode\n",
      "Grid configuration same as last episode\n",
      "Grid configuration same as last episode\n"
     ]
    },
    {
     "name": "stdout",
     "output_type": "stream",
     "text": [
      "Update 1668: Reward P1: -116, Reward P2: -116\n",
      "Update 1669: Reward P1: -76, Reward P2: -76\n"
     ]
    },
    {
     "name": "stderr",
     "output_type": "stream",
     "text": [
      "Grid configuration same as last episode\n",
      "Grid configuration same as last episode\n",
      "Grid configuration same as last episode\n",
      "Grid configuration same as last episode\n",
      "Grid configuration same as last episode\n",
      "Grid configuration same as last episode\n",
      "Grid configuration same as last episode\n"
     ]
    },
    {
     "name": "stdout",
     "output_type": "stream",
     "text": [
      "Update 1670: Reward P1: -146, Reward P2: -146\n",
      "Update 1671: Reward P1: -96, Reward P2: -96\n"
     ]
    },
    {
     "name": "stderr",
     "output_type": "stream",
     "text": [
      "Grid configuration same as last episode\n",
      "Grid configuration same as last episode\n",
      "Grid configuration same as last episode\n",
      "Grid configuration same as last episode\n",
      "Grid configuration same as last episode\n",
      "Grid configuration same as last episode\n"
     ]
    },
    {
     "name": "stdout",
     "output_type": "stream",
     "text": [
      "Update 1672: Reward P1: -96, Reward P2: -96\n",
      "Update 1673: Reward P1: -76, Reward P2: -76\n"
     ]
    },
    {
     "name": "stderr",
     "output_type": "stream",
     "text": [
      "Grid configuration same as last episode\n",
      "Grid configuration same as last episode\n",
      "Grid configuration same as last episode\n",
      "Grid configuration same as last episode\n",
      "Grid configuration same as last episode\n",
      "Grid configuration same as last episode\n"
     ]
    },
    {
     "name": "stdout",
     "output_type": "stream",
     "text": [
      "Update 1674: Reward P1: -196, Reward P2: -196\n",
      "Update 1675: Reward P1: -86, Reward P2: -86\n"
     ]
    },
    {
     "name": "stderr",
     "output_type": "stream",
     "text": [
      "Grid configuration same as last episode\n",
      "Grid configuration same as last episode\n",
      "Grid configuration same as last episode\n",
      "Grid configuration same as last episode\n",
      "Grid configuration same as last episode\n",
      "Grid configuration same as last episode\n"
     ]
    },
    {
     "name": "stdout",
     "output_type": "stream",
     "text": [
      "Update 1676: Reward P1: -126, Reward P2: -126\n",
      "Update 1677: Reward P1: -96, Reward P2: -96\n"
     ]
    },
    {
     "name": "stderr",
     "output_type": "stream",
     "text": [
      "Grid configuration same as last episode\n",
      "Grid configuration same as last episode\n",
      "Grid configuration same as last episode\n",
      "Grid configuration same as last episode\n",
      "Grid configuration same as last episode\n",
      "Grid configuration same as last episode\n"
     ]
    },
    {
     "name": "stdout",
     "output_type": "stream",
     "text": [
      "Update 1678: Reward P1: -126, Reward P2: -126\n",
      "Update 1679: Reward P1: -136, Reward P2: -136\n"
     ]
    },
    {
     "name": "stderr",
     "output_type": "stream",
     "text": [
      "Grid configuration same as last episode\n",
      "Grid configuration same as last episode\n",
      "Grid configuration same as last episode\n",
      "Grid configuration same as last episode\n",
      "Grid configuration same as last episode\n",
      "Grid configuration same as last episode\n"
     ]
    },
    {
     "name": "stdout",
     "output_type": "stream",
     "text": [
      "Update 1680: Reward P1: -76, Reward P2: -76\n",
      "Update 1681: Reward P1: -106, Reward P2: -106\n"
     ]
    },
    {
     "name": "stderr",
     "output_type": "stream",
     "text": [
      "Grid configuration same as last episode\n",
      "Grid configuration same as last episode\n",
      "Grid configuration same as last episode\n",
      "Grid configuration same as last episode\n",
      "Grid configuration same as last episode\n",
      "Grid configuration same as last episode\n"
     ]
    },
    {
     "name": "stdout",
     "output_type": "stream",
     "text": [
      "Update 1682: Reward P1: -136, Reward P2: -136\n",
      "Update 1683: Reward P1: -116, Reward P2: -116\n"
     ]
    },
    {
     "name": "stderr",
     "output_type": "stream",
     "text": [
      "Grid configuration same as last episode\n",
      "Grid configuration same as last episode\n",
      "Grid configuration same as last episode\n",
      "Grid configuration same as last episode\n",
      "Grid configuration same as last episode\n",
      "Grid configuration same as last episode\n"
     ]
    },
    {
     "name": "stdout",
     "output_type": "stream",
     "text": [
      "Update 1684: Reward P1: -106, Reward P2: -106\n",
      "Update 1685: Reward P1: -126, Reward P2: -126\n"
     ]
    },
    {
     "name": "stderr",
     "output_type": "stream",
     "text": [
      "Grid configuration same as last episode\n",
      "Grid configuration same as last episode\n",
      "Grid configuration same as last episode\n",
      "Grid configuration same as last episode\n",
      "Grid configuration same as last episode\n",
      "Grid configuration same as last episode\n"
     ]
    },
    {
     "name": "stdout",
     "output_type": "stream",
     "text": [
      "Update 1686: Reward P1: -116, Reward P2: -116\n",
      "Update 1687: Reward P1: -136, Reward P2: -136\n"
     ]
    },
    {
     "name": "stderr",
     "output_type": "stream",
     "text": [
      "Grid configuration same as last episode\n",
      "Grid configuration same as last episode\n",
      "Grid configuration same as last episode\n",
      "Grid configuration same as last episode\n",
      "Grid configuration same as last episode\n",
      "Grid configuration same as last episode\n"
     ]
    },
    {
     "name": "stdout",
     "output_type": "stream",
     "text": [
      "Update 1688: Reward P1: -66, Reward P2: -66\n",
      "Update 1689: Reward P1: -126, Reward P2: -126\n"
     ]
    },
    {
     "name": "stderr",
     "output_type": "stream",
     "text": [
      "Grid configuration same as last episode\n",
      "Grid configuration same as last episode\n",
      "Grid configuration same as last episode\n",
      "Grid configuration same as last episode\n",
      "Grid configuration same as last episode\n",
      "Grid configuration same as last episode\n"
     ]
    },
    {
     "name": "stdout",
     "output_type": "stream",
     "text": [
      "Update 1690: Reward P1: -156, Reward P2: -156\n",
      "Update 1691: Reward P1: -186, Reward P2: -186\n"
     ]
    },
    {
     "name": "stderr",
     "output_type": "stream",
     "text": [
      "Grid configuration same as last episode\n",
      "Grid configuration same as last episode\n",
      "Grid configuration same as last episode\n",
      "Grid configuration same as last episode\n",
      "Grid configuration same as last episode\n"
     ]
    },
    {
     "name": "stdout",
     "output_type": "stream",
     "text": [
      "Update 1692: Reward P1: -106, Reward P2: -106\n",
      "Update 1693: Reward P1: -156, Reward P2: -156\n"
     ]
    },
    {
     "name": "stderr",
     "output_type": "stream",
     "text": [
      "Grid configuration same as last episode\n",
      "Grid configuration same as last episode\n",
      "Grid configuration same as last episode\n",
      "Grid configuration same as last episode\n",
      "Grid configuration same as last episode\n",
      "Grid configuration same as last episode\n",
      "Grid configuration same as last episode\n"
     ]
    },
    {
     "name": "stdout",
     "output_type": "stream",
     "text": [
      "Update 1694: Reward P1: -116, Reward P2: -116\n",
      "Update 1695: Reward P1: -66, Reward P2: -66\n"
     ]
    },
    {
     "name": "stderr",
     "output_type": "stream",
     "text": [
      "Grid configuration same as last episode\n",
      "Grid configuration same as last episode\n",
      "Grid configuration same as last episode\n",
      "Grid configuration same as last episode\n",
      "Grid configuration same as last episode\n",
      "Grid configuration same as last episode\n"
     ]
    },
    {
     "name": "stdout",
     "output_type": "stream",
     "text": [
      "Update 1696: Reward P1: -116, Reward P2: -116\n",
      "Update 1697: Reward P1: -116, Reward P2: -116\n"
     ]
    },
    {
     "name": "stderr",
     "output_type": "stream",
     "text": [
      "Grid configuration same as last episode\n",
      "Grid configuration same as last episode\n",
      "Grid configuration same as last episode\n",
      "Grid configuration same as last episode\n",
      "Grid configuration same as last episode\n",
      "Grid configuration same as last episode\n"
     ]
    },
    {
     "name": "stdout",
     "output_type": "stream",
     "text": [
      "Update 1698: Reward P1: -146, Reward P2: -146\n",
      "Update 1699: Reward P1: -146, Reward P2: -146\n"
     ]
    },
    {
     "name": "stderr",
     "output_type": "stream",
     "text": [
      "Grid configuration same as last episode\n",
      "Grid configuration same as last episode\n",
      "Grid configuration same as last episode\n",
      "Grid configuration same as last episode\n",
      "Grid configuration same as last episode\n",
      "Grid configuration same as last episode\n"
     ]
    },
    {
     "name": "stdout",
     "output_type": "stream",
     "text": [
      "Update 1700: Reward P1: -86, Reward P2: -86\n",
      "Update 1701: Reward P1: -136, Reward P2: -136\n"
     ]
    },
    {
     "name": "stderr",
     "output_type": "stream",
     "text": [
      "Grid configuration same as last episode\n",
      "Grid configuration same as last episode\n",
      "Grid configuration same as last episode\n",
      "Grid configuration same as last episode\n",
      "Grid configuration same as last episode\n",
      "Grid configuration same as last episode\n"
     ]
    },
    {
     "name": "stdout",
     "output_type": "stream",
     "text": [
      "Update 1702: Reward P1: -106, Reward P2: -106\n",
      "Update 1703: Reward P1: -96, Reward P2: -96\n"
     ]
    },
    {
     "name": "stderr",
     "output_type": "stream",
     "text": [
      "Grid configuration same as last episode\n",
      "Grid configuration same as last episode\n",
      "Grid configuration same as last episode\n",
      "Grid configuration same as last episode\n",
      "Grid configuration same as last episode\n",
      "Grid configuration same as last episode\n"
     ]
    },
    {
     "name": "stdout",
     "output_type": "stream",
     "text": [
      "Update 1704: Reward P1: -106, Reward P2: -106\n",
      "Update 1705: Reward P1: -156, Reward P2: -156\n"
     ]
    },
    {
     "name": "stderr",
     "output_type": "stream",
     "text": [
      "Grid configuration same as last episode\n",
      "Grid configuration same as last episode\n",
      "Grid configuration same as last episode\n",
      "Grid configuration same as last episode\n",
      "Grid configuration same as last episode\n",
      "Grid configuration same as last episode\n"
     ]
    },
    {
     "name": "stdout",
     "output_type": "stream",
     "text": [
      "Update 1706: Reward P1: -156, Reward P2: -156\n",
      "Update 1707: Reward P1: -156, Reward P2: -156\n"
     ]
    },
    {
     "name": "stderr",
     "output_type": "stream",
     "text": [
      "Grid configuration same as last episode\n",
      "Grid configuration same as last episode\n",
      "Grid configuration same as last episode\n",
      "Grid configuration same as last episode\n",
      "Grid configuration same as last episode\n",
      "Grid configuration same as last episode\n"
     ]
    },
    {
     "name": "stdout",
     "output_type": "stream",
     "text": [
      "Update 1708: Reward P1: -156, Reward P2: -156\n",
      "Update 1709: Reward P1: -96, Reward P2: -96\n"
     ]
    },
    {
     "name": "stderr",
     "output_type": "stream",
     "text": [
      "Grid configuration same as last episode\n",
      "Grid configuration same as last episode\n",
      "Grid configuration same as last episode\n",
      "Grid configuration same as last episode\n",
      "Grid configuration same as last episode\n",
      "Grid configuration same as last episode\n"
     ]
    },
    {
     "name": "stdout",
     "output_type": "stream",
     "text": [
      "Update 1710: Reward P1: -126, Reward P2: -126\n",
      "Update 1711: Reward P1: -106, Reward P2: -106\n"
     ]
    },
    {
     "name": "stderr",
     "output_type": "stream",
     "text": [
      "Grid configuration same as last episode\n",
      "Grid configuration same as last episode\n",
      "Grid configuration same as last episode\n",
      "Grid configuration same as last episode\n",
      "Grid configuration same as last episode\n",
      "Grid configuration same as last episode\n"
     ]
    },
    {
     "name": "stdout",
     "output_type": "stream",
     "text": [
      "Update 1712: Reward P1: -116, Reward P2: -116\n",
      "Update 1713: Reward P1: -106, Reward P2: -106\n"
     ]
    },
    {
     "name": "stderr",
     "output_type": "stream",
     "text": [
      "Grid configuration same as last episode\n",
      "Grid configuration same as last episode\n",
      "Grid configuration same as last episode\n",
      "Grid configuration same as last episode\n",
      "Grid configuration same as last episode\n",
      "Grid configuration same as last episode\n"
     ]
    },
    {
     "name": "stdout",
     "output_type": "stream",
     "text": [
      "Update 1714: Reward P1: -146, Reward P2: -146\n",
      "Update 1715: Reward P1: -156, Reward P2: -156\n"
     ]
    },
    {
     "name": "stderr",
     "output_type": "stream",
     "text": [
      "Grid configuration same as last episode\n",
      "Grid configuration same as last episode\n",
      "Grid configuration same as last episode\n",
      "Grid configuration same as last episode\n",
      "Grid configuration same as last episode\n"
     ]
    },
    {
     "name": "stdout",
     "output_type": "stream",
     "text": [
      "Update 1716: Reward P1: -136, Reward P2: -136\n",
      "Update 1717: Reward P1: -166, Reward P2: -166\n"
     ]
    },
    {
     "name": "stderr",
     "output_type": "stream",
     "text": [
      "Grid configuration same as last episode\n",
      "Grid configuration same as last episode\n",
      "Grid configuration same as last episode\n",
      "Grid configuration same as last episode\n",
      "Grid configuration same as last episode\n",
      "Grid configuration same as last episode\n"
     ]
    },
    {
     "name": "stdout",
     "output_type": "stream",
     "text": [
      "Update 1718: Reward P1: -136, Reward P2: -136\n",
      "Update 1719: Reward P1: -146, Reward P2: -146\n"
     ]
    },
    {
     "name": "stderr",
     "output_type": "stream",
     "text": [
      "Grid configuration same as last episode\n",
      "Grid configuration same as last episode\n",
      "Grid configuration same as last episode\n",
      "Grid configuration same as last episode\n",
      "Grid configuration same as last episode\n",
      "Grid configuration same as last episode\n"
     ]
    },
    {
     "name": "stdout",
     "output_type": "stream",
     "text": [
      "Update 1720: Reward P1: -96, Reward P2: -96\n",
      "Update 1721: Reward P1: -116, Reward P2: -116\n"
     ]
    },
    {
     "name": "stderr",
     "output_type": "stream",
     "text": [
      "Grid configuration same as last episode\n",
      "Grid configuration same as last episode\n",
      "Grid configuration same as last episode\n",
      "Grid configuration same as last episode\n",
      "Grid configuration same as last episode\n",
      "Grid configuration same as last episode\n"
     ]
    },
    {
     "name": "stdout",
     "output_type": "stream",
     "text": [
      "Update 1722: Reward P1: -186, Reward P2: -186\n",
      "Update 1723: Reward P1: -146, Reward P2: -146\n"
     ]
    },
    {
     "name": "stderr",
     "output_type": "stream",
     "text": [
      "Grid configuration same as last episode\n",
      "Grid configuration same as last episode\n",
      "Grid configuration same as last episode\n",
      "Grid configuration same as last episode\n",
      "Grid configuration same as last episode\n",
      "Grid configuration same as last episode\n",
      "Grid configuration same as last episode\n"
     ]
    },
    {
     "name": "stdout",
     "output_type": "stream",
     "text": [
      "Update 1724: Reward P1: -166, Reward P2: -166\n",
      "Update 1725: Reward P1: -166, Reward P2: -166\n"
     ]
    },
    {
     "name": "stderr",
     "output_type": "stream",
     "text": [
      "Grid configuration same as last episode\n",
      "Grid configuration same as last episode\n",
      "Grid configuration same as last episode\n",
      "Grid configuration same as last episode\n",
      "Grid configuration same as last episode\n",
      "Grid configuration same as last episode\n"
     ]
    },
    {
     "name": "stdout",
     "output_type": "stream",
     "text": [
      "Update 1726: Reward P1: -96, Reward P2: -96\n",
      "Update 1727: Reward P1: -86, Reward P2: -86\n"
     ]
    },
    {
     "name": "stderr",
     "output_type": "stream",
     "text": [
      "Grid configuration same as last episode\n",
      "Grid configuration same as last episode\n",
      "Grid configuration same as last episode\n",
      "Grid configuration same as last episode\n",
      "Grid configuration same as last episode\n"
     ]
    },
    {
     "name": "stdout",
     "output_type": "stream",
     "text": [
      "Update 1728: Reward P1: -86, Reward P2: -86\n",
      "Update 1729: Reward P1: -96, Reward P2: -96\n"
     ]
    },
    {
     "name": "stderr",
     "output_type": "stream",
     "text": [
      "Grid configuration same as last episode\n",
      "Grid configuration same as last episode\n",
      "Grid configuration same as last episode\n",
      "Grid configuration same as last episode\n",
      "Grid configuration same as last episode\n",
      "Grid configuration same as last episode\n"
     ]
    },
    {
     "name": "stdout",
     "output_type": "stream",
     "text": [
      "Update 1730: Reward P1: -106, Reward P2: -106\n",
      "Update 1731: Reward P1: -106, Reward P2: -106\n"
     ]
    },
    {
     "name": "stderr",
     "output_type": "stream",
     "text": [
      "Grid configuration same as last episode\n",
      "Grid configuration same as last episode\n",
      "Grid configuration same as last episode\n",
      "Grid configuration same as last episode\n",
      "Grid configuration same as last episode\n",
      "Grid configuration same as last episode\n"
     ]
    },
    {
     "name": "stdout",
     "output_type": "stream",
     "text": [
      "Update 1732: Reward P1: -146, Reward P2: -146\n",
      "Update 1733: Reward P1: -66, Reward P2: -66\n"
     ]
    },
    {
     "name": "stderr",
     "output_type": "stream",
     "text": [
      "Grid configuration same as last episode\n",
      "Grid configuration same as last episode\n",
      "Grid configuration same as last episode\n",
      "Grid configuration same as last episode\n",
      "Grid configuration same as last episode\n",
      "Grid configuration same as last episode\n"
     ]
    },
    {
     "name": "stdout",
     "output_type": "stream",
     "text": [
      "Update 1734: Reward P1: -76, Reward P2: -76\n",
      "Update 1735: Reward P1: -66, Reward P2: -66\n"
     ]
    },
    {
     "name": "stderr",
     "output_type": "stream",
     "text": [
      "Grid configuration same as last episode\n",
      "Grid configuration same as last episode\n",
      "Grid configuration same as last episode\n",
      "Grid configuration same as last episode\n",
      "Grid configuration same as last episode\n",
      "Grid configuration same as last episode\n",
      "Grid configuration same as last episode\n"
     ]
    },
    {
     "name": "stdout",
     "output_type": "stream",
     "text": [
      "Update 1736: Reward P1: -126, Reward P2: -126\n",
      "Update 1737: Reward P1: -126, Reward P2: -126\n"
     ]
    },
    {
     "name": "stderr",
     "output_type": "stream",
     "text": [
      "Grid configuration same as last episode\n",
      "Grid configuration same as last episode\n",
      "Grid configuration same as last episode\n",
      "Grid configuration same as last episode\n",
      "Grid configuration same as last episode\n",
      "Grid configuration same as last episode\n"
     ]
    },
    {
     "name": "stdout",
     "output_type": "stream",
     "text": [
      "Update 1738: Reward P1: -146, Reward P2: -146\n",
      "Update 1739: Reward P1: -176, Reward P2: -176\n"
     ]
    },
    {
     "name": "stderr",
     "output_type": "stream",
     "text": [
      "Grid configuration same as last episode\n",
      "Grid configuration same as last episode\n",
      "Grid configuration same as last episode\n",
      "Grid configuration same as last episode\n",
      "Grid configuration same as last episode\n"
     ]
    },
    {
     "name": "stdout",
     "output_type": "stream",
     "text": [
      "Update 1740: Reward P1: -126, Reward P2: -126\n",
      "Update 1741: Reward P1: -66, Reward P2: -66\n"
     ]
    },
    {
     "name": "stderr",
     "output_type": "stream",
     "text": [
      "Grid configuration same as last episode\n",
      "Grid configuration same as last episode\n",
      "Grid configuration same as last episode\n",
      "Grid configuration same as last episode\n",
      "Grid configuration same as last episode\n",
      "Grid configuration same as last episode\n"
     ]
    },
    {
     "name": "stdout",
     "output_type": "stream",
     "text": [
      "Update 1742: Reward P1: -106, Reward P2: -106\n",
      "Update 1743: Reward P1: -126, Reward P2: -126\n"
     ]
    },
    {
     "name": "stderr",
     "output_type": "stream",
     "text": [
      "Grid configuration same as last episode\n",
      "Grid configuration same as last episode\n",
      "Grid configuration same as last episode\n",
      "Grid configuration same as last episode\n",
      "Grid configuration same as last episode\n",
      "Grid configuration same as last episode\n"
     ]
    },
    {
     "name": "stdout",
     "output_type": "stream",
     "text": [
      "Update 1744: Reward P1: -86, Reward P2: -86\n",
      "Update 1745: Reward P1: -166, Reward P2: -166\n"
     ]
    },
    {
     "name": "stderr",
     "output_type": "stream",
     "text": [
      "Grid configuration same as last episode\n",
      "Grid configuration same as last episode\n",
      "Grid configuration same as last episode\n",
      "Grid configuration same as last episode\n",
      "Grid configuration same as last episode\n",
      "Grid configuration same as last episode\n",
      "Grid configuration same as last episode\n"
     ]
    },
    {
     "name": "stdout",
     "output_type": "stream",
     "text": [
      "Update 1746: Reward P1: -176, Reward P2: -176\n",
      "Update 1747: Reward P1: -146, Reward P2: -146\n"
     ]
    },
    {
     "name": "stderr",
     "output_type": "stream",
     "text": [
      "Grid configuration same as last episode\n",
      "Grid configuration same as last episode\n",
      "Grid configuration same as last episode\n",
      "Grid configuration same as last episode\n",
      "Grid configuration same as last episode\n"
     ]
    },
    {
     "name": "stdout",
     "output_type": "stream",
     "text": [
      "Update 1748: Reward P1: -116, Reward P2: -116\n",
      "Update 1749: Reward P1: -96, Reward P2: -96\n"
     ]
    },
    {
     "name": "stderr",
     "output_type": "stream",
     "text": [
      "Grid configuration same as last episode\n",
      "Grid configuration same as last episode\n",
      "Grid configuration same as last episode\n",
      "Grid configuration same as last episode\n",
      "Grid configuration same as last episode\n",
      "Grid configuration same as last episode\n"
     ]
    },
    {
     "name": "stdout",
     "output_type": "stream",
     "text": [
      "Update 1750: Reward P1: -156, Reward P2: -156\n",
      "Update 1751: Reward P1: -106, Reward P2: -106\n"
     ]
    },
    {
     "name": "stderr",
     "output_type": "stream",
     "text": [
      "Grid configuration same as last episode\n",
      "Grid configuration same as last episode\n",
      "Grid configuration same as last episode\n",
      "Grid configuration same as last episode\n",
      "Grid configuration same as last episode\n",
      "Grid configuration same as last episode\n"
     ]
    },
    {
     "name": "stdout",
     "output_type": "stream",
     "text": [
      "Update 1752: Reward P1: -156, Reward P2: -156\n",
      "Update 1753: Reward P1: -96, Reward P2: -96\n"
     ]
    },
    {
     "name": "stderr",
     "output_type": "stream",
     "text": [
      "Grid configuration same as last episode\n",
      "Grid configuration same as last episode\n",
      "Grid configuration same as last episode\n",
      "Grid configuration same as last episode\n",
      "Grid configuration same as last episode\n",
      "Grid configuration same as last episode\n"
     ]
    },
    {
     "name": "stdout",
     "output_type": "stream",
     "text": [
      "Update 1754: Reward P1: -136, Reward P2: -136\n",
      "Update 1755: Reward P1: -116, Reward P2: -116\n"
     ]
    },
    {
     "name": "stderr",
     "output_type": "stream",
     "text": [
      "Grid configuration same as last episode\n",
      "Grid configuration same as last episode\n",
      "Grid configuration same as last episode\n",
      "Grid configuration same as last episode\n",
      "Grid configuration same as last episode\n",
      "Grid configuration same as last episode\n"
     ]
    },
    {
     "name": "stdout",
     "output_type": "stream",
     "text": [
      "Update 1756: Reward P1: -86, Reward P2: -86\n",
      "Update 1757: Reward P1: -156, Reward P2: -156\n"
     ]
    },
    {
     "name": "stderr",
     "output_type": "stream",
     "text": [
      "Grid configuration same as last episode\n",
      "Grid configuration same as last episode\n",
      "Grid configuration same as last episode\n",
      "Grid configuration same as last episode\n",
      "Grid configuration same as last episode\n",
      "Grid configuration same as last episode\n"
     ]
    },
    {
     "name": "stdout",
     "output_type": "stream",
     "text": [
      "Update 1758: Reward P1: -126, Reward P2: -126\n",
      "Update 1759: Reward P1: -96, Reward P2: -96\n"
     ]
    },
    {
     "name": "stderr",
     "output_type": "stream",
     "text": [
      "Grid configuration same as last episode\n",
      "Grid configuration same as last episode\n",
      "Grid configuration same as last episode\n",
      "Grid configuration same as last episode\n",
      "Grid configuration same as last episode\n",
      "Grid configuration same as last episode\n"
     ]
    },
    {
     "name": "stdout",
     "output_type": "stream",
     "text": [
      "Update 1760: Reward P1: -126, Reward P2: -126\n",
      "Update 1761: Reward P1: -136, Reward P2: -136\n"
     ]
    },
    {
     "name": "stderr",
     "output_type": "stream",
     "text": [
      "Grid configuration same as last episode\n",
      "Grid configuration same as last episode\n",
      "Grid configuration same as last episode\n",
      "Grid configuration same as last episode\n",
      "Grid configuration same as last episode\n",
      "Grid configuration same as last episode\n"
     ]
    },
    {
     "name": "stdout",
     "output_type": "stream",
     "text": [
      "Update 1762: Reward P1: -126, Reward P2: -126\n",
      "Update 1763: Reward P1: -156, Reward P2: -156\n"
     ]
    },
    {
     "name": "stderr",
     "output_type": "stream",
     "text": [
      "Grid configuration same as last episode\n",
      "Grid configuration same as last episode\n",
      "Grid configuration same as last episode\n",
      "Grid configuration same as last episode\n",
      "Grid configuration same as last episode\n",
      "Grid configuration same as last episode\n"
     ]
    },
    {
     "name": "stdout",
     "output_type": "stream",
     "text": [
      "Update 1764: Reward P1: -86, Reward P2: -86\n",
      "Update 1765: Reward P1: -126, Reward P2: -126\n"
     ]
    },
    {
     "name": "stderr",
     "output_type": "stream",
     "text": [
      "Grid configuration same as last episode\n",
      "Grid configuration same as last episode\n",
      "Grid configuration same as last episode\n",
      "Grid configuration same as last episode\n",
      "Grid configuration same as last episode\n",
      "Grid configuration same as last episode\n"
     ]
    },
    {
     "name": "stdout",
     "output_type": "stream",
     "text": [
      "Update 1766: Reward P1: -116, Reward P2: -116\n",
      "Update 1767: Reward P1: -106, Reward P2: -106\n"
     ]
    },
    {
     "name": "stderr",
     "output_type": "stream",
     "text": [
      "Grid configuration same as last episode\n",
      "Grid configuration same as last episode\n",
      "Grid configuration same as last episode\n",
      "Grid configuration same as last episode\n",
      "Grid configuration same as last episode\n",
      "Grid configuration same as last episode\n"
     ]
    },
    {
     "name": "stdout",
     "output_type": "stream",
     "text": [
      "Update 1768: Reward P1: -166, Reward P2: -166\n",
      "Update 1769: Reward P1: -116, Reward P2: -116\n"
     ]
    },
    {
     "name": "stderr",
     "output_type": "stream",
     "text": [
      "Grid configuration same as last episode\n",
      "Grid configuration same as last episode\n",
      "Grid configuration same as last episode\n",
      "Grid configuration same as last episode\n",
      "Grid configuration same as last episode\n",
      "Grid configuration same as last episode\n"
     ]
    },
    {
     "name": "stdout",
     "output_type": "stream",
     "text": [
      "Update 1770: Reward P1: -136, Reward P2: -136\n",
      "Update 1771: Reward P1: -106, Reward P2: -106\n"
     ]
    },
    {
     "name": "stderr",
     "output_type": "stream",
     "text": [
      "Grid configuration same as last episode\n",
      "Grid configuration same as last episode\n",
      "Grid configuration same as last episode\n",
      "Grid configuration same as last episode\n",
      "Grid configuration same as last episode\n",
      "Grid configuration same as last episode\n"
     ]
    },
    {
     "name": "stdout",
     "output_type": "stream",
     "text": [
      "Update 1772: Reward P1: -126, Reward P2: -126\n",
      "Update 1773: Reward P1: -136, Reward P2: -136\n"
     ]
    },
    {
     "name": "stderr",
     "output_type": "stream",
     "text": [
      "Grid configuration same as last episode\n",
      "Grid configuration same as last episode\n",
      "Grid configuration same as last episode\n",
      "Grid configuration same as last episode\n",
      "Grid configuration same as last episode\n",
      "Grid configuration same as last episode\n"
     ]
    },
    {
     "name": "stdout",
     "output_type": "stream",
     "text": [
      "Update 1774: Reward P1: -126, Reward P2: -126\n",
      "Update 1775: Reward P1: -86, Reward P2: -86\n"
     ]
    },
    {
     "name": "stderr",
     "output_type": "stream",
     "text": [
      "Grid configuration same as last episode\n",
      "Grid configuration same as last episode\n",
      "Grid configuration same as last episode\n",
      "Grid configuration same as last episode\n",
      "Grid configuration same as last episode\n",
      "Grid configuration same as last episode\n"
     ]
    },
    {
     "name": "stdout",
     "output_type": "stream",
     "text": [
      "Update 1776: Reward P1: -146, Reward P2: -146\n",
      "Update 1777: Reward P1: -106, Reward P2: -106\n"
     ]
    },
    {
     "name": "stderr",
     "output_type": "stream",
     "text": [
      "Grid configuration same as last episode\n",
      "Grid configuration same as last episode\n",
      "Grid configuration same as last episode\n",
      "Grid configuration same as last episode\n"
     ]
    },
    {
     "name": "stdout",
     "output_type": "stream",
     "text": [
      "Update 1778: Reward P1: -96, Reward P2: -96\n"
     ]
    },
    {
     "name": "stderr",
     "output_type": "stream",
     "text": [
      "Grid configuration same as last episode\n",
      "Grid configuration same as last episode\n",
      "Grid configuration same as last episode\n",
      "Grid configuration same as last episode\n",
      "Grid configuration same as last episode\n"
     ]
    },
    {
     "name": "stdout",
     "output_type": "stream",
     "text": [
      "Update 1779: Reward P1: -116, Reward P2: -116\n",
      "Update 1780: Reward P1: -126, Reward P2: -126\n"
     ]
    },
    {
     "name": "stderr",
     "output_type": "stream",
     "text": [
      "Grid configuration same as last episode\n",
      "Grid configuration same as last episode\n",
      "Grid configuration same as last episode\n",
      "Grid configuration same as last episode\n",
      "Grid configuration same as last episode\n",
      "Grid configuration same as last episode\n"
     ]
    },
    {
     "name": "stdout",
     "output_type": "stream",
     "text": [
      "Update 1781: Reward P1: -106, Reward P2: -106\n",
      "Update 1782: Reward P1: -106, Reward P2: -106\n"
     ]
    },
    {
     "name": "stderr",
     "output_type": "stream",
     "text": [
      "Grid configuration same as last episode\n",
      "Grid configuration same as last episode\n",
      "Grid configuration same as last episode\n",
      "Grid configuration same as last episode\n",
      "Grid configuration same as last episode\n",
      "Grid configuration same as last episode\n"
     ]
    },
    {
     "name": "stdout",
     "output_type": "stream",
     "text": [
      "Update 1783: Reward P1: -136, Reward P2: -136\n",
      "Update 1784: Reward P1: -96, Reward P2: -96\n"
     ]
    },
    {
     "name": "stderr",
     "output_type": "stream",
     "text": [
      "Grid configuration same as last episode\n",
      "Grid configuration same as last episode\n",
      "Grid configuration same as last episode\n",
      "Grid configuration same as last episode\n",
      "Grid configuration same as last episode\n",
      "Grid configuration same as last episode\n"
     ]
    },
    {
     "name": "stdout",
     "output_type": "stream",
     "text": [
      "Update 1785: Reward P1: -136, Reward P2: -136\n",
      "Update 1786: Reward P1: -136, Reward P2: -136\n"
     ]
    },
    {
     "name": "stderr",
     "output_type": "stream",
     "text": [
      "Grid configuration same as last episode\n",
      "Grid configuration same as last episode\n",
      "Grid configuration same as last episode\n",
      "Grid configuration same as last episode\n",
      "Grid configuration same as last episode\n",
      "Grid configuration same as last episode\n"
     ]
    },
    {
     "name": "stdout",
     "output_type": "stream",
     "text": [
      "Update 1787: Reward P1: -76, Reward P2: -76\n",
      "Update 1788: Reward P1: -106, Reward P2: -106\n"
     ]
    },
    {
     "name": "stderr",
     "output_type": "stream",
     "text": [
      "Grid configuration same as last episode\n",
      "Grid configuration same as last episode\n",
      "Grid configuration same as last episode\n",
      "Grid configuration same as last episode\n",
      "Grid configuration same as last episode\n",
      "Grid configuration same as last episode\n"
     ]
    },
    {
     "name": "stdout",
     "output_type": "stream",
     "text": [
      "Update 1789: Reward P1: -66, Reward P2: -66\n",
      "Update 1790: Reward P1: -126, Reward P2: -126\n"
     ]
    },
    {
     "name": "stderr",
     "output_type": "stream",
     "text": [
      "Grid configuration same as last episode\n",
      "Grid configuration same as last episode\n",
      "Grid configuration same as last episode\n",
      "Grid configuration same as last episode\n",
      "Grid configuration same as last episode\n",
      "Grid configuration same as last episode\n",
      "Grid configuration same as last episode\n"
     ]
    },
    {
     "name": "stdout",
     "output_type": "stream",
     "text": [
      "Update 1791: Reward P1: -86, Reward P2: -86\n",
      "Update 1792: Reward P1: -116, Reward P2: -116\n"
     ]
    },
    {
     "name": "stderr",
     "output_type": "stream",
     "text": [
      "Grid configuration same as last episode\n",
      "Grid configuration same as last episode\n",
      "Grid configuration same as last episode\n",
      "Grid configuration same as last episode\n",
      "Grid configuration same as last episode\n"
     ]
    },
    {
     "name": "stdout",
     "output_type": "stream",
     "text": [
      "Update 1793: Reward P1: -126, Reward P2: -126\n",
      "Update 1794: Reward P1: -136, Reward P2: -136\n"
     ]
    },
    {
     "name": "stderr",
     "output_type": "stream",
     "text": [
      "Grid configuration same as last episode\n",
      "Grid configuration same as last episode\n",
      "Grid configuration same as last episode\n",
      "Grid configuration same as last episode\n",
      "Grid configuration same as last episode\n",
      "Grid configuration same as last episode\n"
     ]
    },
    {
     "name": "stdout",
     "output_type": "stream",
     "text": [
      "Update 1795: Reward P1: -86, Reward P2: -86\n",
      "Update 1796: Reward P1: -146, Reward P2: -146\n"
     ]
    },
    {
     "name": "stderr",
     "output_type": "stream",
     "text": [
      "Grid configuration same as last episode\n",
      "Grid configuration same as last episode\n",
      "Grid configuration same as last episode\n",
      "Grid configuration same as last episode\n",
      "Grid configuration same as last episode\n",
      "Grid configuration same as last episode\n",
      "Grid configuration same as last episode\n"
     ]
    },
    {
     "name": "stdout",
     "output_type": "stream",
     "text": [
      "Update 1797: Reward P1: -116, Reward P2: -116\n",
      "Update 1798: Reward P1: -126, Reward P2: -126\n"
     ]
    },
    {
     "name": "stderr",
     "output_type": "stream",
     "text": [
      "Grid configuration same as last episode\n",
      "Grid configuration same as last episode\n",
      "Grid configuration same as last episode\n",
      "Grid configuration same as last episode\n",
      "Grid configuration same as last episode\n",
      "Grid configuration same as last episode\n"
     ]
    },
    {
     "name": "stdout",
     "output_type": "stream",
     "text": [
      "Update 1799: Reward P1: -106, Reward P2: -106\n",
      "Update 1800: Reward P1: -146, Reward P2: -146\n"
     ]
    },
    {
     "name": "stderr",
     "output_type": "stream",
     "text": [
      "Grid configuration same as last episode\n",
      "Grid configuration same as last episode\n",
      "Grid configuration same as last episode\n",
      "Grid configuration same as last episode\n",
      "Grid configuration same as last episode\n"
     ]
    },
    {
     "name": "stdout",
     "output_type": "stream",
     "text": [
      "Update 1801: Reward P1: -146, Reward P2: -146\n",
      "Update 1802: Reward P1: -166, Reward P2: -166\n"
     ]
    },
    {
     "name": "stderr",
     "output_type": "stream",
     "text": [
      "Grid configuration same as last episode\n",
      "Grid configuration same as last episode\n",
      "Grid configuration same as last episode\n",
      "Grid configuration same as last episode\n",
      "Grid configuration same as last episode\n",
      "Grid configuration same as last episode\n"
     ]
    },
    {
     "name": "stdout",
     "output_type": "stream",
     "text": [
      "Update 1803: Reward P1: -116, Reward P2: -116\n",
      "Update 1804: Reward P1: -136, Reward P2: -136\n"
     ]
    },
    {
     "name": "stderr",
     "output_type": "stream",
     "text": [
      "Grid configuration same as last episode\n",
      "Grid configuration same as last episode\n",
      "Grid configuration same as last episode\n",
      "Grid configuration same as last episode\n",
      "Grid configuration same as last episode\n",
      "Grid configuration same as last episode\n"
     ]
    },
    {
     "name": "stdout",
     "output_type": "stream",
     "text": [
      "Update 1805: Reward P1: -96, Reward P2: -96\n",
      "Update 1806: Reward P1: -146, Reward P2: -146\n"
     ]
    },
    {
     "name": "stderr",
     "output_type": "stream",
     "text": [
      "Grid configuration same as last episode\n",
      "Grid configuration same as last episode\n",
      "Grid configuration same as last episode\n",
      "Grid configuration same as last episode\n",
      "Grid configuration same as last episode\n",
      "Grid configuration same as last episode\n"
     ]
    },
    {
     "name": "stdout",
     "output_type": "stream",
     "text": [
      "Update 1807: Reward P1: -96, Reward P2: -96\n",
      "Update 1808: Reward P1: -126, Reward P2: -126\n"
     ]
    },
    {
     "name": "stderr",
     "output_type": "stream",
     "text": [
      "Grid configuration same as last episode\n",
      "Grid configuration same as last episode\n",
      "Grid configuration same as last episode\n",
      "Grid configuration same as last episode\n",
      "Grid configuration same as last episode\n",
      "Grid configuration same as last episode\n"
     ]
    },
    {
     "name": "stdout",
     "output_type": "stream",
     "text": [
      "Update 1809: Reward P1: -126, Reward P2: -126\n",
      "Update 1810: Reward P1: -146, Reward P2: -146\n"
     ]
    },
    {
     "name": "stderr",
     "output_type": "stream",
     "text": [
      "Grid configuration same as last episode\n",
      "Grid configuration same as last episode\n",
      "Grid configuration same as last episode\n",
      "Grid configuration same as last episode\n",
      "Grid configuration same as last episode\n",
      "Grid configuration same as last episode\n"
     ]
    },
    {
     "name": "stdout",
     "output_type": "stream",
     "text": [
      "Update 1811: Reward P1: -106, Reward P2: -106\n",
      "Update 1812: Reward P1: -146, Reward P2: -146\n"
     ]
    },
    {
     "name": "stderr",
     "output_type": "stream",
     "text": [
      "Grid configuration same as last episode\n",
      "Grid configuration same as last episode\n",
      "Grid configuration same as last episode\n",
      "Grid configuration same as last episode\n",
      "Grid configuration same as last episode\n",
      "Grid configuration same as last episode\n"
     ]
    },
    {
     "name": "stdout",
     "output_type": "stream",
     "text": [
      "Update 1813: Reward P1: -116, Reward P2: -116\n",
      "Update 1814: Reward P1: -126, Reward P2: -126\n"
     ]
    },
    {
     "name": "stderr",
     "output_type": "stream",
     "text": [
      "Grid configuration same as last episode\n",
      "Grid configuration same as last episode\n",
      "Grid configuration same as last episode\n",
      "Grid configuration same as last episode\n",
      "Grid configuration same as last episode\n",
      "Grid configuration same as last episode\n"
     ]
    },
    {
     "name": "stdout",
     "output_type": "stream",
     "text": [
      "Update 1815: Reward P1: -146, Reward P2: -146\n",
      "Update 1816: Reward P1: -96, Reward P2: -96\n"
     ]
    },
    {
     "name": "stderr",
     "output_type": "stream",
     "text": [
      "Grid configuration same as last episode\n",
      "Grid configuration same as last episode\n",
      "Grid configuration same as last episode\n",
      "Grid configuration same as last episode\n",
      "Grid configuration same as last episode\n",
      "Grid configuration same as last episode\n"
     ]
    },
    {
     "name": "stdout",
     "output_type": "stream",
     "text": [
      "Update 1817: Reward P1: -96, Reward P2: -96\n",
      "Update 1818: Reward P1: -186, Reward P2: -186\n"
     ]
    },
    {
     "name": "stderr",
     "output_type": "stream",
     "text": [
      "Grid configuration same as last episode\n",
      "Grid configuration same as last episode\n",
      "Grid configuration same as last episode\n",
      "Grid configuration same as last episode\n",
      "Grid configuration same as last episode\n",
      "Grid configuration same as last episode\n"
     ]
    },
    {
     "name": "stdout",
     "output_type": "stream",
     "text": [
      "Update 1819: Reward P1: -136, Reward P2: -136\n",
      "Update 1820: Reward P1: -96, Reward P2: -96\n"
     ]
    },
    {
     "name": "stderr",
     "output_type": "stream",
     "text": [
      "Grid configuration same as last episode\n",
      "Grid configuration same as last episode\n",
      "Grid configuration same as last episode\n",
      "Grid configuration same as last episode\n",
      "Grid configuration same as last episode\n",
      "Grid configuration same as last episode\n"
     ]
    },
    {
     "name": "stdout",
     "output_type": "stream",
     "text": [
      "Update 1821: Reward P1: -116, Reward P2: -116\n",
      "Update 1822: Reward P1: -176, Reward P2: -176\n"
     ]
    },
    {
     "name": "stderr",
     "output_type": "stream",
     "text": [
      "Grid configuration same as last episode\n",
      "Grid configuration same as last episode\n",
      "Grid configuration same as last episode\n",
      "Grid configuration same as last episode\n",
      "Grid configuration same as last episode\n",
      "Grid configuration same as last episode\n"
     ]
    },
    {
     "name": "stdout",
     "output_type": "stream",
     "text": [
      "Update 1823: Reward P1: -116, Reward P2: -116\n",
      "Update 1824: Reward P1: -146, Reward P2: -146\n"
     ]
    },
    {
     "name": "stderr",
     "output_type": "stream",
     "text": [
      "Grid configuration same as last episode\n",
      "Grid configuration same as last episode\n",
      "Grid configuration same as last episode\n",
      "Grid configuration same as last episode\n",
      "Grid configuration same as last episode\n",
      "Grid configuration same as last episode\n"
     ]
    },
    {
     "name": "stdout",
     "output_type": "stream",
     "text": [
      "Update 1825: Reward P1: -136, Reward P2: -136\n",
      "Update 1826: Reward P1: -116, Reward P2: -116\n"
     ]
    },
    {
     "name": "stderr",
     "output_type": "stream",
     "text": [
      "Grid configuration same as last episode\n",
      "Grid configuration same as last episode\n",
      "Grid configuration same as last episode\n",
      "Grid configuration same as last episode\n",
      "Grid configuration same as last episode\n",
      "Grid configuration same as last episode\n"
     ]
    },
    {
     "name": "stdout",
     "output_type": "stream",
     "text": [
      "Update 1827: Reward P1: -136, Reward P2: -136\n",
      "Update 1828: Reward P1: -166, Reward P2: -166\n"
     ]
    },
    {
     "name": "stderr",
     "output_type": "stream",
     "text": [
      "Grid configuration same as last episode\n",
      "Grid configuration same as last episode\n",
      "Grid configuration same as last episode\n",
      "Grid configuration same as last episode\n",
      "Grid configuration same as last episode\n",
      "Grid configuration same as last episode\n"
     ]
    },
    {
     "name": "stdout",
     "output_type": "stream",
     "text": [
      "Update 1829: Reward P1: -136, Reward P2: -136\n",
      "Update 1830: Reward P1: -76, Reward P2: -76\n"
     ]
    },
    {
     "name": "stderr",
     "output_type": "stream",
     "text": [
      "Grid configuration same as last episode\n",
      "Grid configuration same as last episode\n",
      "Grid configuration same as last episode\n",
      "Grid configuration same as last episode\n",
      "Grid configuration same as last episode\n",
      "Grid configuration same as last episode\n"
     ]
    },
    {
     "name": "stdout",
     "output_type": "stream",
     "text": [
      "Update 1831: Reward P1: -156, Reward P2: -156\n",
      "Update 1832: Reward P1: -106, Reward P2: -106\n"
     ]
    },
    {
     "name": "stderr",
     "output_type": "stream",
     "text": [
      "Grid configuration same as last episode\n",
      "Grid configuration same as last episode\n",
      "Grid configuration same as last episode\n",
      "Grid configuration same as last episode\n",
      "Grid configuration same as last episode\n",
      "Grid configuration same as last episode\n"
     ]
    },
    {
     "name": "stdout",
     "output_type": "stream",
     "text": [
      "Update 1833: Reward P1: -146, Reward P2: -146\n",
      "Update 1834: Reward P1: -146, Reward P2: -146\n"
     ]
    },
    {
     "name": "stderr",
     "output_type": "stream",
     "text": [
      "Grid configuration same as last episode\n",
      "Grid configuration same as last episode\n",
      "Grid configuration same as last episode\n",
      "Grid configuration same as last episode\n",
      "Grid configuration same as last episode\n",
      "Grid configuration same as last episode\n"
     ]
    },
    {
     "name": "stdout",
     "output_type": "stream",
     "text": [
      "Update 1835: Reward P1: -146, Reward P2: -146\n",
      "Update 1836: Reward P1: -126, Reward P2: -126\n"
     ]
    },
    {
     "name": "stderr",
     "output_type": "stream",
     "text": [
      "Grid configuration same as last episode\n",
      "Grid configuration same as last episode\n",
      "Grid configuration same as last episode\n",
      "Grid configuration same as last episode\n",
      "Grid configuration same as last episode\n",
      "Grid configuration same as last episode\n"
     ]
    },
    {
     "name": "stdout",
     "output_type": "stream",
     "text": [
      "Update 1837: Reward P1: -146, Reward P2: -146\n",
      "Update 1838: Reward P1: -116, Reward P2: -116\n"
     ]
    },
    {
     "name": "stderr",
     "output_type": "stream",
     "text": [
      "Grid configuration same as last episode\n",
      "Grid configuration same as last episode\n",
      "Grid configuration same as last episode\n",
      "Grid configuration same as last episode\n",
      "Grid configuration same as last episode\n",
      "Grid configuration same as last episode\n",
      "Grid configuration same as last episode\n"
     ]
    },
    {
     "name": "stdout",
     "output_type": "stream",
     "text": [
      "Update 1839: Reward P1: -116, Reward P2: -116\n",
      "Update 1840: Reward P1: -126, Reward P2: -126\n"
     ]
    },
    {
     "name": "stderr",
     "output_type": "stream",
     "text": [
      "Grid configuration same as last episode\n",
      "Grid configuration same as last episode\n",
      "Grid configuration same as last episode\n",
      "Grid configuration same as last episode\n",
      "Grid configuration same as last episode\n",
      "Grid configuration same as last episode\n"
     ]
    },
    {
     "name": "stdout",
     "output_type": "stream",
     "text": [
      "Update 1841: Reward P1: -146, Reward P2: -146\n",
      "Update 1842: Reward P1: -126, Reward P2: -126\n"
     ]
    },
    {
     "name": "stderr",
     "output_type": "stream",
     "text": [
      "Grid configuration same as last episode\n",
      "Grid configuration same as last episode\n",
      "Grid configuration same as last episode\n",
      "Grid configuration same as last episode\n",
      "Grid configuration same as last episode\n",
      "Grid configuration same as last episode\n"
     ]
    },
    {
     "name": "stdout",
     "output_type": "stream",
     "text": [
      "Update 1843: Reward P1: -116, Reward P2: -116\n",
      "Update 1844: Reward P1: -116, Reward P2: -116\n"
     ]
    },
    {
     "name": "stderr",
     "output_type": "stream",
     "text": [
      "Grid configuration same as last episode\n",
      "Grid configuration same as last episode\n",
      "Grid configuration same as last episode\n",
      "Grid configuration same as last episode\n",
      "Grid configuration same as last episode\n"
     ]
    },
    {
     "name": "stdout",
     "output_type": "stream",
     "text": [
      "Update 1845: Reward P1: -126, Reward P2: -126\n",
      "Update 1846: Reward P1: -86, Reward P2: -86\n"
     ]
    },
    {
     "name": "stderr",
     "output_type": "stream",
     "text": [
      "Grid configuration same as last episode\n",
      "Grid configuration same as last episode\n",
      "Grid configuration same as last episode\n",
      "Grid configuration same as last episode\n",
      "Grid configuration same as last episode\n",
      "Grid configuration same as last episode\n"
     ]
    },
    {
     "name": "stdout",
     "output_type": "stream",
     "text": [
      "Update 1847: Reward P1: -146, Reward P2: -146\n",
      "Update 1848: Reward P1: -126, Reward P2: -126\n"
     ]
    },
    {
     "name": "stderr",
     "output_type": "stream",
     "text": [
      "Grid configuration same as last episode\n",
      "Grid configuration same as last episode\n",
      "Grid configuration same as last episode\n",
      "Grid configuration same as last episode\n",
      "Grid configuration same as last episode\n",
      "Grid configuration same as last episode\n",
      "Grid configuration same as last episode\n"
     ]
    },
    {
     "name": "stdout",
     "output_type": "stream",
     "text": [
      "Update 1849: Reward P1: -156, Reward P2: -156\n",
      "Update 1850: Reward P1: -86, Reward P2: -86\n"
     ]
    },
    {
     "name": "stderr",
     "output_type": "stream",
     "text": [
      "Grid configuration same as last episode\n",
      "Grid configuration same as last episode\n",
      "Grid configuration same as last episode\n",
      "Grid configuration same as last episode\n",
      "Grid configuration same as last episode\n",
      "Grid configuration same as last episode\n"
     ]
    },
    {
     "name": "stdout",
     "output_type": "stream",
     "text": [
      "Update 1851: Reward P1: -116, Reward P2: -116\n",
      "Update 1852: Reward P1: -136, Reward P2: -136\n"
     ]
    },
    {
     "name": "stderr",
     "output_type": "stream",
     "text": [
      "Grid configuration same as last episode\n",
      "Grid configuration same as last episode\n",
      "Grid configuration same as last episode\n",
      "Grid configuration same as last episode\n",
      "Grid configuration same as last episode\n",
      "Grid configuration same as last episode\n"
     ]
    },
    {
     "name": "stdout",
     "output_type": "stream",
     "text": [
      "Update 1853: Reward P1: -116, Reward P2: -116\n",
      "Update 1854: Reward P1: -76, Reward P2: -76\n"
     ]
    },
    {
     "name": "stderr",
     "output_type": "stream",
     "text": [
      "Grid configuration same as last episode\n",
      "Grid configuration same as last episode\n",
      "Grid configuration same as last episode\n",
      "Grid configuration same as last episode\n",
      "Grid configuration same as last episode\n",
      "Grid configuration same as last episode\n"
     ]
    },
    {
     "name": "stdout",
     "output_type": "stream",
     "text": [
      "Update 1855: Reward P1: -96, Reward P2: -96\n",
      "Update 1856: Reward P1: -106, Reward P2: -106\n"
     ]
    },
    {
     "name": "stderr",
     "output_type": "stream",
     "text": [
      "Grid configuration same as last episode\n",
      "Grid configuration same as last episode\n",
      "Grid configuration same as last episode\n",
      "Grid configuration same as last episode\n",
      "Grid configuration same as last episode\n",
      "Grid configuration same as last episode\n"
     ]
    },
    {
     "name": "stdout",
     "output_type": "stream",
     "text": [
      "Update 1857: Reward P1: -136, Reward P2: -136\n",
      "Update 1858: Reward P1: -146, Reward P2: -146\n"
     ]
    },
    {
     "name": "stderr",
     "output_type": "stream",
     "text": [
      "Grid configuration same as last episode\n",
      "Grid configuration same as last episode\n",
      "Grid configuration same as last episode\n",
      "Grid configuration same as last episode\n",
      "Grid configuration same as last episode\n"
     ]
    },
    {
     "name": "stdout",
     "output_type": "stream",
     "text": [
      "Update 1859: Reward P1: -106, Reward P2: -106\n",
      "Update 1860: Reward P1: -106, Reward P2: -106\n"
     ]
    },
    {
     "name": "stderr",
     "output_type": "stream",
     "text": [
      "Grid configuration same as last episode\n",
      "Grid configuration same as last episode\n",
      "Grid configuration same as last episode\n",
      "Grid configuration same as last episode\n",
      "Grid configuration same as last episode\n",
      "Grid configuration same as last episode\n"
     ]
    },
    {
     "name": "stdout",
     "output_type": "stream",
     "text": [
      "Update 1861: Reward P1: -126, Reward P2: -126\n",
      "Update 1862: Reward P1: -116, Reward P2: -116\n"
     ]
    },
    {
     "name": "stderr",
     "output_type": "stream",
     "text": [
      "Grid configuration same as last episode\n",
      "Grid configuration same as last episode\n",
      "Grid configuration same as last episode\n",
      "Grid configuration same as last episode\n",
      "Grid configuration same as last episode\n",
      "Grid configuration same as last episode\n"
     ]
    },
    {
     "name": "stdout",
     "output_type": "stream",
     "text": [
      "Update 1863: Reward P1: -166, Reward P2: -166\n",
      "Update 1864: Reward P1: -106, Reward P2: -106\n"
     ]
    },
    {
     "name": "stderr",
     "output_type": "stream",
     "text": [
      "Grid configuration same as last episode\n",
      "Grid configuration same as last episode\n",
      "Grid configuration same as last episode\n",
      "Grid configuration same as last episode\n",
      "Grid configuration same as last episode\n",
      "Grid configuration same as last episode\n",
      "Grid configuration same as last episode\n"
     ]
    },
    {
     "name": "stdout",
     "output_type": "stream",
     "text": [
      "Update 1865: Reward P1: -136, Reward P2: -136\n",
      "Update 1866: Reward P1: -126, Reward P2: -126\n"
     ]
    },
    {
     "name": "stderr",
     "output_type": "stream",
     "text": [
      "Grid configuration same as last episode\n",
      "Grid configuration same as last episode\n",
      "Grid configuration same as last episode\n",
      "Grid configuration same as last episode\n",
      "Grid configuration same as last episode\n"
     ]
    },
    {
     "name": "stdout",
     "output_type": "stream",
     "text": [
      "Update 1867: Reward P1: -156, Reward P2: -156\n",
      "Update 1868: Reward P1: -126, Reward P2: -126\n"
     ]
    },
    {
     "name": "stderr",
     "output_type": "stream",
     "text": [
      "Grid configuration same as last episode\n",
      "Grid configuration same as last episode\n",
      "Grid configuration same as last episode\n",
      "Grid configuration same as last episode\n",
      "Grid configuration same as last episode\n",
      "Grid configuration same as last episode\n"
     ]
    },
    {
     "name": "stdout",
     "output_type": "stream",
     "text": [
      "Update 1869: Reward P1: -126, Reward P2: -126\n",
      "Update 1870: Reward P1: -126, Reward P2: -126\n"
     ]
    },
    {
     "name": "stderr",
     "output_type": "stream",
     "text": [
      "Grid configuration same as last episode\n",
      "Grid configuration same as last episode\n",
      "Grid configuration same as last episode\n",
      "Grid configuration same as last episode\n",
      "Grid configuration same as last episode\n"
     ]
    },
    {
     "name": "stdout",
     "output_type": "stream",
     "text": [
      "Update 1871: Reward P1: -146, Reward P2: -146\n"
     ]
    },
    {
     "name": "stderr",
     "output_type": "stream",
     "text": [
      "Grid configuration same as last episode\n",
      "Grid configuration same as last episode\n",
      "Grid configuration same as last episode\n"
     ]
    },
    {
     "name": "stdout",
     "output_type": "stream",
     "text": [
      "Update 1872: Reward P1: -136, Reward P2: -136\n"
     ]
    },
    {
     "name": "stderr",
     "output_type": "stream",
     "text": [
      "Grid configuration same as last episode\n",
      "Grid configuration same as last episode\n",
      "Grid configuration same as last episode\n",
      "Grid configuration same as last episode\n"
     ]
    },
    {
     "name": "stdout",
     "output_type": "stream",
     "text": [
      "Update 1873: Reward P1: -146, Reward P2: -146\n",
      "Update 1874: Reward P1: -146, Reward P2: -146\n"
     ]
    },
    {
     "name": "stderr",
     "output_type": "stream",
     "text": [
      "Grid configuration same as last episode\n",
      "Grid configuration same as last episode\n",
      "Grid configuration same as last episode\n",
      "Grid configuration same as last episode\n",
      "Grid configuration same as last episode\n",
      "Grid configuration same as last episode\n",
      "Grid configuration same as last episode\n"
     ]
    },
    {
     "name": "stdout",
     "output_type": "stream",
     "text": [
      "Update 1875: Reward P1: -146, Reward P2: -146\n",
      "Update 1876: Reward P1: -166, Reward P2: -166\n"
     ]
    },
    {
     "name": "stderr",
     "output_type": "stream",
     "text": [
      "Grid configuration same as last episode\n",
      "Grid configuration same as last episode\n",
      "Grid configuration same as last episode\n",
      "Grid configuration same as last episode\n",
      "Grid configuration same as last episode\n",
      "Grid configuration same as last episode\n"
     ]
    },
    {
     "name": "stdout",
     "output_type": "stream",
     "text": [
      "Update 1877: Reward P1: -126, Reward P2: -126\n",
      "Update 1878: Reward P1: -166, Reward P2: -166\n"
     ]
    },
    {
     "name": "stderr",
     "output_type": "stream",
     "text": [
      "Grid configuration same as last episode\n",
      "Grid configuration same as last episode\n",
      "Grid configuration same as last episode\n",
      "Grid configuration same as last episode\n",
      "Grid configuration same as last episode\n"
     ]
    },
    {
     "name": "stdout",
     "output_type": "stream",
     "text": [
      "Update 1879: Reward P1: -116, Reward P2: -116\n",
      "Update 1880: Reward P1: -156, Reward P2: -156\n"
     ]
    },
    {
     "name": "stderr",
     "output_type": "stream",
     "text": [
      "Grid configuration same as last episode\n",
      "Grid configuration same as last episode\n",
      "Grid configuration same as last episode\n",
      "Grid configuration same as last episode\n",
      "Grid configuration same as last episode\n",
      "Grid configuration same as last episode\n"
     ]
    },
    {
     "name": "stdout",
     "output_type": "stream",
     "text": [
      "Update 1881: Reward P1: -126, Reward P2: -126\n",
      "Update 1882: Reward P1: -86, Reward P2: -86\n"
     ]
    },
    {
     "name": "stderr",
     "output_type": "stream",
     "text": [
      "Grid configuration same as last episode\n",
      "Grid configuration same as last episode\n",
      "Grid configuration same as last episode\n",
      "Grid configuration same as last episode\n",
      "Grid configuration same as last episode\n"
     ]
    },
    {
     "name": "stdout",
     "output_type": "stream",
     "text": [
      "Update 1883: Reward P1: -96, Reward P2: -96\n"
     ]
    },
    {
     "name": "stderr",
     "output_type": "stream",
     "text": [
      "Grid configuration same as last episode\n",
      "Grid configuration same as last episode\n",
      "Grid configuration same as last episode\n",
      "Grid configuration same as last episode\n"
     ]
    },
    {
     "name": "stdout",
     "output_type": "stream",
     "text": [
      "Update 1884: Reward P1: -96, Reward P2: -96\n",
      "Update 1885: Reward P1: -96, Reward P2: -96\n"
     ]
    },
    {
     "name": "stderr",
     "output_type": "stream",
     "text": [
      "Grid configuration same as last episode\n",
      "Grid configuration same as last episode\n",
      "Grid configuration same as last episode\n",
      "Grid configuration same as last episode\n",
      "Grid configuration same as last episode\n",
      "Grid configuration same as last episode\n",
      "Grid configuration same as last episode\n"
     ]
    },
    {
     "name": "stdout",
     "output_type": "stream",
     "text": [
      "Update 1886: Reward P1: -126, Reward P2: -126\n",
      "Update 1887: Reward P1: -116, Reward P2: -116\n"
     ]
    },
    {
     "name": "stderr",
     "output_type": "stream",
     "text": [
      "Grid configuration same as last episode\n",
      "Grid configuration same as last episode\n",
      "Grid configuration same as last episode\n",
      "Grid configuration same as last episode\n",
      "Grid configuration same as last episode\n",
      "Grid configuration same as last episode\n"
     ]
    },
    {
     "name": "stdout",
     "output_type": "stream",
     "text": [
      "Update 1888: Reward P1: -136, Reward P2: -136\n",
      "Update 1889: Reward P1: -96, Reward P2: -96\n"
     ]
    },
    {
     "name": "stderr",
     "output_type": "stream",
     "text": [
      "Grid configuration same as last episode\n",
      "Grid configuration same as last episode\n",
      "Grid configuration same as last episode\n",
      "Grid configuration same as last episode\n",
      "Grid configuration same as last episode\n",
      "Grid configuration same as last episode\n"
     ]
    },
    {
     "name": "stdout",
     "output_type": "stream",
     "text": [
      "Update 1890: Reward P1: -136, Reward P2: -136\n",
      "Update 1891: Reward P1: -126, Reward P2: -126\n"
     ]
    },
    {
     "name": "stderr",
     "output_type": "stream",
     "text": [
      "Grid configuration same as last episode\n",
      "Grid configuration same as last episode\n",
      "Grid configuration same as last episode\n",
      "Grid configuration same as last episode\n",
      "Grid configuration same as last episode\n"
     ]
    },
    {
     "name": "stdout",
     "output_type": "stream",
     "text": [
      "Update 1892: Reward P1: -126, Reward P2: -126\n",
      "Update 1893: Reward P1: -86, Reward P2: -86\n"
     ]
    },
    {
     "name": "stderr",
     "output_type": "stream",
     "text": [
      "Grid configuration same as last episode\n",
      "Grid configuration same as last episode\n",
      "Grid configuration same as last episode\n",
      "Grid configuration same as last episode\n",
      "Grid configuration same as last episode\n",
      "Grid configuration same as last episode\n"
     ]
    },
    {
     "name": "stdout",
     "output_type": "stream",
     "text": [
      "Update 1894: Reward P1: -106, Reward P2: -106\n",
      "Update 1895: Reward P1: -136, Reward P2: -136\n"
     ]
    },
    {
     "name": "stderr",
     "output_type": "stream",
     "text": [
      "Grid configuration same as last episode\n",
      "Grid configuration same as last episode\n",
      "Grid configuration same as last episode\n",
      "Grid configuration same as last episode\n",
      "Grid configuration same as last episode\n",
      "Grid configuration same as last episode\n",
      "Grid configuration same as last episode\n"
     ]
    },
    {
     "name": "stdout",
     "output_type": "stream",
     "text": [
      "Update 1896: Reward P1: -116, Reward P2: -116\n",
      "Update 1897: Reward P1: -166, Reward P2: -166\n"
     ]
    },
    {
     "name": "stderr",
     "output_type": "stream",
     "text": [
      "Grid configuration same as last episode\n",
      "Grid configuration same as last episode\n",
      "Grid configuration same as last episode\n",
      "Grid configuration same as last episode\n",
      "Grid configuration same as last episode\n",
      "Grid configuration same as last episode\n"
     ]
    },
    {
     "name": "stdout",
     "output_type": "stream",
     "text": [
      "Update 1898: Reward P1: -56, Reward P2: -56\n",
      "Update 1899: Reward P1: -86, Reward P2: -86\n"
     ]
    },
    {
     "name": "stderr",
     "output_type": "stream",
     "text": [
      "Grid configuration same as last episode\n",
      "Grid configuration same as last episode\n",
      "Grid configuration same as last episode\n",
      "Grid configuration same as last episode\n",
      "Grid configuration same as last episode\n",
      "Grid configuration same as last episode\n"
     ]
    },
    {
     "name": "stdout",
     "output_type": "stream",
     "text": [
      "Update 1900: Reward P1: -136, Reward P2: -136\n",
      "Update 1901: Reward P1: -126, Reward P2: -126\n"
     ]
    },
    {
     "name": "stderr",
     "output_type": "stream",
     "text": [
      "Grid configuration same as last episode\n",
      "Grid configuration same as last episode\n",
      "Grid configuration same as last episode\n",
      "Grid configuration same as last episode\n",
      "Grid configuration same as last episode\n"
     ]
    },
    {
     "name": "stdout",
     "output_type": "stream",
     "text": [
      "Update 1902: Reward P1: -86, Reward P2: -86\n",
      "Update 1903: Reward P1: -116, Reward P2: -116\n"
     ]
    },
    {
     "name": "stderr",
     "output_type": "stream",
     "text": [
      "Grid configuration same as last episode\n",
      "Grid configuration same as last episode\n",
      "Grid configuration same as last episode\n",
      "Grid configuration same as last episode\n",
      "Grid configuration same as last episode\n",
      "Grid configuration same as last episode\n",
      "Grid configuration same as last episode\n"
     ]
    },
    {
     "name": "stdout",
     "output_type": "stream",
     "text": [
      "Update 1904: Reward P1: -156, Reward P2: -156\n",
      "Update 1905: Reward P1: -166, Reward P2: -166\n"
     ]
    },
    {
     "name": "stderr",
     "output_type": "stream",
     "text": [
      "Grid configuration same as last episode\n",
      "Grid configuration same as last episode\n",
      "Grid configuration same as last episode\n",
      "Grid configuration same as last episode\n",
      "Grid configuration same as last episode\n",
      "Grid configuration same as last episode\n"
     ]
    },
    {
     "name": "stdout",
     "output_type": "stream",
     "text": [
      "Update 1906: Reward P1: -126, Reward P2: -126\n",
      "Update 1907: Reward P1: -156, Reward P2: -156\n"
     ]
    },
    {
     "name": "stderr",
     "output_type": "stream",
     "text": [
      "Grid configuration same as last episode\n",
      "Grid configuration same as last episode\n",
      "Grid configuration same as last episode\n",
      "Grid configuration same as last episode\n",
      "Grid configuration same as last episode\n"
     ]
    },
    {
     "name": "stdout",
     "output_type": "stream",
     "text": [
      "Update 1908: Reward P1: -126, Reward P2: -126\n",
      "Update 1909: Reward P1: -186, Reward P2: -186\n"
     ]
    },
    {
     "name": "stderr",
     "output_type": "stream",
     "text": [
      "Grid configuration same as last episode\n",
      "Grid configuration same as last episode\n",
      "Grid configuration same as last episode\n",
      "Grid configuration same as last episode\n",
      "Grid configuration same as last episode\n"
     ]
    },
    {
     "name": "stdout",
     "output_type": "stream",
     "text": [
      "Update 1910: Reward P1: -126, Reward P2: -126\n"
     ]
    },
    {
     "name": "stderr",
     "output_type": "stream",
     "text": [
      "Grid configuration same as last episode\n",
      "Grid configuration same as last episode\n",
      "Grid configuration same as last episode\n",
      "Grid configuration same as last episode\n"
     ]
    },
    {
     "name": "stdout",
     "output_type": "stream",
     "text": [
      "Update 1911: Reward P1: -146, Reward P2: -146\n",
      "Update 1912: Reward P1: -126, Reward P2: -126\n"
     ]
    },
    {
     "name": "stderr",
     "output_type": "stream",
     "text": [
      "Grid configuration same as last episode\n",
      "Grid configuration same as last episode\n",
      "Grid configuration same as last episode\n",
      "Grid configuration same as last episode\n",
      "Grid configuration same as last episode\n",
      "Grid configuration same as last episode\n",
      "Grid configuration same as last episode\n"
     ]
    },
    {
     "name": "stdout",
     "output_type": "stream",
     "text": [
      "Update 1913: Reward P1: -136, Reward P2: -136\n",
      "Update 1914: Reward P1: -156, Reward P2: -156\n"
     ]
    },
    {
     "name": "stderr",
     "output_type": "stream",
     "text": [
      "Grid configuration same as last episode\n",
      "Grid configuration same as last episode\n",
      "Grid configuration same as last episode\n",
      "Grid configuration same as last episode\n",
      "Grid configuration same as last episode\n",
      "Grid configuration same as last episode\n"
     ]
    },
    {
     "name": "stdout",
     "output_type": "stream",
     "text": [
      "Update 1915: Reward P1: -106, Reward P2: -106\n",
      "Update 1916: Reward P1: -106, Reward P2: -106\n"
     ]
    },
    {
     "name": "stderr",
     "output_type": "stream",
     "text": [
      "Grid configuration same as last episode\n",
      "Grid configuration same as last episode\n",
      "Grid configuration same as last episode\n",
      "Grid configuration same as last episode\n",
      "Grid configuration same as last episode\n"
     ]
    },
    {
     "name": "stdout",
     "output_type": "stream",
     "text": [
      "Update 1917: Reward P1: -126, Reward P2: -126\n",
      "Update 1918: Reward P1: -86, Reward P2: -86\n"
     ]
    },
    {
     "name": "stderr",
     "output_type": "stream",
     "text": [
      "Grid configuration same as last episode\n",
      "Grid configuration same as last episode\n",
      "Grid configuration same as last episode\n",
      "Grid configuration same as last episode\n",
      "Grid configuration same as last episode\n",
      "Grid configuration same as last episode\n",
      "Grid configuration same as last episode\n"
     ]
    },
    {
     "name": "stdout",
     "output_type": "stream",
     "text": [
      "Update 1919: Reward P1: -66, Reward P2: -66\n",
      "Update 1920: Reward P1: -126, Reward P2: -126\n"
     ]
    },
    {
     "name": "stderr",
     "output_type": "stream",
     "text": [
      "Grid configuration same as last episode\n",
      "Grid configuration same as last episode\n",
      "Grid configuration same as last episode\n",
      "Grid configuration same as last episode\n",
      "Grid configuration same as last episode\n",
      "Grid configuration same as last episode\n"
     ]
    },
    {
     "name": "stdout",
     "output_type": "stream",
     "text": [
      "Update 1921: Reward P1: -106, Reward P2: -106\n",
      "Update 1922: Reward P1: -66, Reward P2: -66\n"
     ]
    },
    {
     "name": "stderr",
     "output_type": "stream",
     "text": [
      "Grid configuration same as last episode\n",
      "Grid configuration same as last episode\n",
      "Grid configuration same as last episode\n",
      "Grid configuration same as last episode\n",
      "Grid configuration same as last episode\n",
      "Grid configuration same as last episode\n"
     ]
    },
    {
     "name": "stdout",
     "output_type": "stream",
     "text": [
      "Update 1923: Reward P1: -56, Reward P2: -56\n",
      "Update 1924: Reward P1: -176, Reward P2: -176\n"
     ]
    },
    {
     "name": "stderr",
     "output_type": "stream",
     "text": [
      "Grid configuration same as last episode\n",
      "Grid configuration same as last episode\n",
      "Grid configuration same as last episode\n"
     ]
    },
    {
     "name": "stdout",
     "output_type": "stream",
     "text": [
      "Update 1925: Reward P1: -126, Reward P2: -126\n"
     ]
    },
    {
     "name": "stderr",
     "output_type": "stream",
     "text": [
      "Grid configuration same as last episode\n",
      "Grid configuration same as last episode\n",
      "Grid configuration same as last episode\n",
      "Grid configuration same as last episode\n",
      "Grid configuration same as last episode\n",
      "Grid configuration same as last episode\n"
     ]
    },
    {
     "name": "stdout",
     "output_type": "stream",
     "text": [
      "Update 1926: Reward P1: -126, Reward P2: -126\n",
      "Update 1927: Reward P1: -116, Reward P2: -116\n"
     ]
    },
    {
     "name": "stderr",
     "output_type": "stream",
     "text": [
      "Grid configuration same as last episode\n",
      "Grid configuration same as last episode\n",
      "Grid configuration same as last episode\n",
      "Grid configuration same as last episode\n",
      "Grid configuration same as last episode\n",
      "Grid configuration same as last episode\n"
     ]
    },
    {
     "name": "stdout",
     "output_type": "stream",
     "text": [
      "Update 1928: Reward P1: -86, Reward P2: -86\n",
      "Update 1929: Reward P1: -126, Reward P2: -126\n"
     ]
    },
    {
     "name": "stderr",
     "output_type": "stream",
     "text": [
      "Grid configuration same as last episode\n",
      "Grid configuration same as last episode\n",
      "Grid configuration same as last episode\n",
      "Grid configuration same as last episode\n"
     ]
    },
    {
     "name": "stdout",
     "output_type": "stream",
     "text": [
      "Update 1930: Reward P1: -126, Reward P2: -126\n"
     ]
    },
    {
     "name": "stderr",
     "output_type": "stream",
     "text": [
      "Grid configuration same as last episode\n",
      "Grid configuration same as last episode\n",
      "Grid configuration same as last episode\n"
     ]
    },
    {
     "name": "stdout",
     "output_type": "stream",
     "text": [
      "Update 1931: Reward P1: -106, Reward P2: -106\n"
     ]
    },
    {
     "name": "stderr",
     "output_type": "stream",
     "text": [
      "Grid configuration same as last episode\n",
      "Grid configuration same as last episode\n",
      "Grid configuration same as last episode\n"
     ]
    },
    {
     "name": "stdout",
     "output_type": "stream",
     "text": [
      "Update 1932: Reward P1: -56, Reward P2: -56\n"
     ]
    },
    {
     "name": "stderr",
     "output_type": "stream",
     "text": [
      "Grid configuration same as last episode\n",
      "Grid configuration same as last episode\n",
      "Grid configuration same as last episode\n",
      "Grid configuration same as last episode\n"
     ]
    },
    {
     "name": "stdout",
     "output_type": "stream",
     "text": [
      "Update 1933: Reward P1: -66, Reward P2: -66\n",
      "Update 1934: Reward P1: -136, Reward P2: -136\n"
     ]
    },
    {
     "name": "stderr",
     "output_type": "stream",
     "text": [
      "Grid configuration same as last episode\n",
      "Grid configuration same as last episode\n",
      "Grid configuration same as last episode\n",
      "Grid configuration same as last episode\n",
      "Grid configuration same as last episode\n",
      "Grid configuration same as last episode\n"
     ]
    },
    {
     "name": "stdout",
     "output_type": "stream",
     "text": [
      "Update 1935: Reward P1: -166, Reward P2: -166\n",
      "Update 1936: Reward P1: -146, Reward P2: -146\n"
     ]
    },
    {
     "name": "stderr",
     "output_type": "stream",
     "text": [
      "Grid configuration same as last episode\n",
      "Grid configuration same as last episode\n",
      "Grid configuration same as last episode\n",
      "Grid configuration same as last episode\n",
      "Grid configuration same as last episode\n"
     ]
    },
    {
     "name": "stdout",
     "output_type": "stream",
     "text": [
      "Update 1937: Reward P1: -136, Reward P2: -136\n"
     ]
    },
    {
     "name": "stderr",
     "output_type": "stream",
     "text": [
      "Grid configuration same as last episode\n",
      "Grid configuration same as last episode\n",
      "Grid configuration same as last episode\n"
     ]
    },
    {
     "name": "stdout",
     "output_type": "stream",
     "text": [
      "Update 1938: Reward P1: -126, Reward P2: -126\n"
     ]
    },
    {
     "name": "stderr",
     "output_type": "stream",
     "text": [
      "Grid configuration same as last episode\n",
      "Grid configuration same as last episode\n",
      "Grid configuration same as last episode\n",
      "Grid configuration same as last episode\n"
     ]
    },
    {
     "name": "stdout",
     "output_type": "stream",
     "text": [
      "Update 1939: Reward P1: -136, Reward P2: -136\n",
      "Update 1940: Reward P1: -136, Reward P2: -136\n"
     ]
    },
    {
     "name": "stderr",
     "output_type": "stream",
     "text": [
      "Grid configuration same as last episode\n",
      "Grid configuration same as last episode\n",
      "Grid configuration same as last episode\n",
      "Grid configuration same as last episode\n",
      "Grid configuration same as last episode\n",
      "Grid configuration same as last episode\n",
      "Grid configuration same as last episode\n"
     ]
    },
    {
     "name": "stdout",
     "output_type": "stream",
     "text": [
      "Update 1941: Reward P1: -116, Reward P2: -116\n",
      "Update 1942: Reward P1: -116, Reward P2: -116\n"
     ]
    },
    {
     "name": "stderr",
     "output_type": "stream",
     "text": [
      "Grid configuration same as last episode\n",
      "Grid configuration same as last episode\n",
      "Grid configuration same as last episode\n",
      "Grid configuration same as last episode\n",
      "Grid configuration same as last episode\n"
     ]
    },
    {
     "name": "stdout",
     "output_type": "stream",
     "text": [
      "Update 1943: Reward P1: -106, Reward P2: -106\n",
      "Update 1944: Reward P1: -126, Reward P2: -126\n"
     ]
    },
    {
     "name": "stderr",
     "output_type": "stream",
     "text": [
      "Grid configuration same as last episode\n",
      "Grid configuration same as last episode\n",
      "Grid configuration same as last episode\n",
      "Grid configuration same as last episode\n",
      "Grid configuration same as last episode\n",
      "Grid configuration same as last episode\n",
      "Grid configuration same as last episode\n"
     ]
    },
    {
     "name": "stdout",
     "output_type": "stream",
     "text": [
      "Update 1945: Reward P1: -126, Reward P2: -126\n",
      "Update 1946: Reward P1: -66, Reward P2: -66\n"
     ]
    },
    {
     "name": "stderr",
     "output_type": "stream",
     "text": [
      "Grid configuration same as last episode\n",
      "Grid configuration same as last episode\n",
      "Grid configuration same as last episode\n",
      "Grid configuration same as last episode\n"
     ]
    },
    {
     "name": "stdout",
     "output_type": "stream",
     "text": [
      "Update 1947: Reward P1: -86, Reward P2: -86\n"
     ]
    },
    {
     "name": "stderr",
     "output_type": "stream",
     "text": [
      "Grid configuration same as last episode\n",
      "Grid configuration same as last episode\n",
      "Grid configuration same as last episode\n"
     ]
    },
    {
     "name": "stdout",
     "output_type": "stream",
     "text": [
      "Update 1948: Reward P1: -126, Reward P2: -126\n"
     ]
    },
    {
     "name": "stderr",
     "output_type": "stream",
     "text": [
      "Grid configuration same as last episode\n",
      "Grid configuration same as last episode\n",
      "Grid configuration same as last episode\n"
     ]
    },
    {
     "name": "stdout",
     "output_type": "stream",
     "text": [
      "Update 1949: Reward P1: -96, Reward P2: -96\n"
     ]
    },
    {
     "name": "stderr",
     "output_type": "stream",
     "text": [
      "Grid configuration same as last episode\n",
      "Grid configuration same as last episode\n",
      "Grid configuration same as last episode\n",
      "Grid configuration same as last episode\n"
     ]
    },
    {
     "name": "stdout",
     "output_type": "stream",
     "text": [
      "Update 1950: Reward P1: -156, Reward P2: -156\n",
      "Update 1951: Reward P1: -106, Reward P2: -106\n"
     ]
    },
    {
     "name": "stderr",
     "output_type": "stream",
     "text": [
      "Grid configuration same as last episode\n",
      "Grid configuration same as last episode\n",
      "Grid configuration same as last episode\n",
      "Grid configuration same as last episode\n",
      "Grid configuration same as last episode\n",
      "Grid configuration same as last episode\n",
      "Grid configuration same as last episode\n"
     ]
    },
    {
     "name": "stdout",
     "output_type": "stream",
     "text": [
      "Update 1952: Reward P1: -146, Reward P2: -146\n",
      "Update 1953: Reward P1: -76, Reward P2: -76\n"
     ]
    },
    {
     "name": "stderr",
     "output_type": "stream",
     "text": [
      "Grid configuration same as last episode\n",
      "Grid configuration same as last episode\n",
      "Grid configuration same as last episode\n",
      "Grid configuration same as last episode\n",
      "Grid configuration same as last episode\n",
      "Grid configuration same as last episode\n"
     ]
    },
    {
     "name": "stdout",
     "output_type": "stream",
     "text": [
      "Update 1954: Reward P1: -96, Reward P2: -96\n",
      "Update 1955: Reward P1: -96, Reward P2: -96\n"
     ]
    },
    {
     "name": "stderr",
     "output_type": "stream",
     "text": [
      "Grid configuration same as last episode\n",
      "Grid configuration same as last episode\n",
      "Grid configuration same as last episode\n",
      "Grid configuration same as last episode\n",
      "Grid configuration same as last episode\n",
      "Grid configuration same as last episode\n"
     ]
    },
    {
     "name": "stdout",
     "output_type": "stream",
     "text": [
      "Update 1956: Reward P1: -116, Reward P2: -116\n",
      "Update 1957: Reward P1: -156, Reward P2: -156\n"
     ]
    },
    {
     "name": "stderr",
     "output_type": "stream",
     "text": [
      "Grid configuration same as last episode\n",
      "Grid configuration same as last episode\n",
      "Grid configuration same as last episode\n",
      "Grid configuration same as last episode\n",
      "Grid configuration same as last episode\n",
      "Grid configuration same as last episode\n"
     ]
    },
    {
     "name": "stdout",
     "output_type": "stream",
     "text": [
      "Update 1958: Reward P1: -106, Reward P2: -106\n",
      "Update 1959: Reward P1: -86, Reward P2: -86\n"
     ]
    },
    {
     "name": "stderr",
     "output_type": "stream",
     "text": [
      "Grid configuration same as last episode\n",
      "Grid configuration same as last episode\n",
      "Grid configuration same as last episode\n",
      "Grid configuration same as last episode\n",
      "Grid configuration same as last episode\n",
      "Grid configuration same as last episode\n"
     ]
    },
    {
     "name": "stdout",
     "output_type": "stream",
     "text": [
      "Update 1960: Reward P1: -126, Reward P2: -126\n",
      "Update 1961: Reward P1: -166, Reward P2: -166\n"
     ]
    },
    {
     "name": "stderr",
     "output_type": "stream",
     "text": [
      "Grid configuration same as last episode\n",
      "Grid configuration same as last episode\n",
      "Grid configuration same as last episode\n",
      "Grid configuration same as last episode\n",
      "Grid configuration same as last episode\n",
      "Grid configuration same as last episode\n"
     ]
    },
    {
     "name": "stdout",
     "output_type": "stream",
     "text": [
      "Update 1962: Reward P1: -116, Reward P2: -116\n",
      "Update 1963: Reward P1: -116, Reward P2: -116\n"
     ]
    },
    {
     "name": "stderr",
     "output_type": "stream",
     "text": [
      "Grid configuration same as last episode\n",
      "Grid configuration same as last episode\n",
      "Grid configuration same as last episode\n",
      "Grid configuration same as last episode\n",
      "Grid configuration same as last episode\n"
     ]
    },
    {
     "name": "stdout",
     "output_type": "stream",
     "text": [
      "Update 1964: Reward P1: -76, Reward P2: -76\n",
      "Update 1965: Reward P1: -96, Reward P2: -96\n"
     ]
    },
    {
     "name": "stderr",
     "output_type": "stream",
     "text": [
      "Grid configuration same as last episode\n",
      "Grid configuration same as last episode\n",
      "Grid configuration same as last episode\n",
      "Grid configuration same as last episode\n",
      "Grid configuration same as last episode\n",
      "Grid configuration same as last episode\n",
      "Grid configuration same as last episode\n"
     ]
    },
    {
     "name": "stdout",
     "output_type": "stream",
     "text": [
      "Update 1966: Reward P1: -156, Reward P2: -156\n",
      "Update 1967: Reward P1: -136, Reward P2: -136\n"
     ]
    },
    {
     "name": "stderr",
     "output_type": "stream",
     "text": [
      "Grid configuration same as last episode\n",
      "Grid configuration same as last episode\n",
      "Grid configuration same as last episode\n",
      "Grid configuration same as last episode\n",
      "Grid configuration same as last episode\n",
      "Grid configuration same as last episode\n"
     ]
    },
    {
     "name": "stdout",
     "output_type": "stream",
     "text": [
      "Update 1968: Reward P1: -66, Reward P2: -66\n",
      "Update 1969: Reward P1: -106, Reward P2: -106\n"
     ]
    },
    {
     "name": "stderr",
     "output_type": "stream",
     "text": [
      "Grid configuration same as last episode\n",
      "Grid configuration same as last episode\n",
      "Grid configuration same as last episode\n",
      "Grid configuration same as last episode\n",
      "Grid configuration same as last episode\n",
      "Grid configuration same as last episode\n"
     ]
    },
    {
     "name": "stdout",
     "output_type": "stream",
     "text": [
      "Update 1970: Reward P1: -146, Reward P2: -146\n",
      "Update 1971: Reward P1: -116, Reward P2: -116\n"
     ]
    },
    {
     "name": "stderr",
     "output_type": "stream",
     "text": [
      "Grid configuration same as last episode\n",
      "Grid configuration same as last episode\n",
      "Grid configuration same as last episode\n",
      "Grid configuration same as last episode\n",
      "Grid configuration same as last episode\n",
      "Grid configuration same as last episode\n"
     ]
    },
    {
     "name": "stdout",
     "output_type": "stream",
     "text": [
      "Update 1972: Reward P1: -106, Reward P2: -106\n",
      "Update 1973: Reward P1: -156, Reward P2: -156\n"
     ]
    },
    {
     "name": "stderr",
     "output_type": "stream",
     "text": [
      "Grid configuration same as last episode\n",
      "Grid configuration same as last episode\n",
      "Grid configuration same as last episode\n",
      "Grid configuration same as last episode\n",
      "Grid configuration same as last episode\n"
     ]
    },
    {
     "name": "stdout",
     "output_type": "stream",
     "text": [
      "Update 1974: Reward P1: -106, Reward P2: -106\n",
      "Update 1975: Reward P1: -126, Reward P2: -126\n"
     ]
    },
    {
     "name": "stderr",
     "output_type": "stream",
     "text": [
      "Grid configuration same as last episode\n",
      "Grid configuration same as last episode\n",
      "Grid configuration same as last episode\n",
      "Grid configuration same as last episode\n",
      "Grid configuration same as last episode\n"
     ]
    },
    {
     "name": "stdout",
     "output_type": "stream",
     "text": [
      "Update 1976: Reward P1: -76, Reward P2: -76\n"
     ]
    },
    {
     "name": "stderr",
     "output_type": "stream",
     "text": [
      "Grid configuration same as last episode\n",
      "Grid configuration same as last episode\n",
      "Grid configuration same as last episode\n",
      "Grid configuration same as last episode\n"
     ]
    },
    {
     "name": "stdout",
     "output_type": "stream",
     "text": [
      "Update 1977: Reward P1: -96, Reward P2: -96\n",
      "Update 1978: Reward P1: -86, Reward P2: -86\n"
     ]
    },
    {
     "name": "stderr",
     "output_type": "stream",
     "text": [
      "Grid configuration same as last episode\n",
      "Grid configuration same as last episode\n",
      "Grid configuration same as last episode\n",
      "Grid configuration same as last episode\n",
      "Grid configuration same as last episode\n"
     ]
    },
    {
     "name": "stdout",
     "output_type": "stream",
     "text": [
      "Update 1979: Reward P1: -106, Reward P2: -106\n"
     ]
    },
    {
     "name": "stderr",
     "output_type": "stream",
     "text": [
      "Grid configuration same as last episode\n",
      "Grid configuration same as last episode\n",
      "Grid configuration same as last episode\n",
      "Grid configuration same as last episode\n"
     ]
    },
    {
     "name": "stdout",
     "output_type": "stream",
     "text": [
      "Update 1980: Reward P1: -136, Reward P2: -136\n",
      "Update 1981: Reward P1: -116, Reward P2: -116\n"
     ]
    },
    {
     "name": "stderr",
     "output_type": "stream",
     "text": [
      "Grid configuration same as last episode\n",
      "Grid configuration same as last episode\n",
      "Grid configuration same as last episode\n",
      "Grid configuration same as last episode\n",
      "Grid configuration same as last episode\n",
      "Grid configuration same as last episode\n",
      "Grid configuration same as last episode\n"
     ]
    },
    {
     "name": "stdout",
     "output_type": "stream",
     "text": [
      "Update 1982: Reward P1: -136, Reward P2: -136\n",
      "Update 1983: Reward P1: -126, Reward P2: -126\n"
     ]
    },
    {
     "name": "stderr",
     "output_type": "stream",
     "text": [
      "Grid configuration same as last episode\n",
      "Grid configuration same as last episode\n",
      "Grid configuration same as last episode\n",
      "Grid configuration same as last episode\n"
     ]
    },
    {
     "name": "stdout",
     "output_type": "stream",
     "text": [
      "Update 1984: Reward P1: -146, Reward P2: -146\n"
     ]
    },
    {
     "name": "stderr",
     "output_type": "stream",
     "text": [
      "Grid configuration same as last episode\n",
      "Grid configuration same as last episode\n",
      "Grid configuration same as last episode\n"
     ]
    },
    {
     "name": "stdout",
     "output_type": "stream",
     "text": [
      "Update 1985: Reward P1: -136, Reward P2: -136\n"
     ]
    },
    {
     "name": "stderr",
     "output_type": "stream",
     "text": [
      "Grid configuration same as last episode\n",
      "Grid configuration same as last episode\n",
      "Grid configuration same as last episode\n"
     ]
    },
    {
     "name": "stdout",
     "output_type": "stream",
     "text": [
      "Update 1986: Reward P1: -136, Reward P2: -136\n"
     ]
    },
    {
     "name": "stderr",
     "output_type": "stream",
     "text": [
      "Grid configuration same as last episode\n",
      "Grid configuration same as last episode\n",
      "Grid configuration same as last episode\n",
      "Grid configuration same as last episode\n"
     ]
    },
    {
     "name": "stdout",
     "output_type": "stream",
     "text": [
      "Update 1987: Reward P1: -136, Reward P2: -136\n",
      "Update 1988: Reward P1: -126, Reward P2: -126\n"
     ]
    },
    {
     "name": "stderr",
     "output_type": "stream",
     "text": [
      "Grid configuration same as last episode\n",
      "Grid configuration same as last episode\n",
      "Grid configuration same as last episode\n",
      "Grid configuration same as last episode\n",
      "Grid configuration same as last episode\n",
      "Grid configuration same as last episode\n"
     ]
    },
    {
     "name": "stdout",
     "output_type": "stream",
     "text": [
      "Update 1989: Reward P1: -116, Reward P2: -116\n",
      "Update 1990: Reward P1: -136, Reward P2: -136\n"
     ]
    },
    {
     "name": "stderr",
     "output_type": "stream",
     "text": [
      "Grid configuration same as last episode\n",
      "Grid configuration same as last episode\n",
      "Grid configuration same as last episode\n",
      "Grid configuration same as last episode\n",
      "Grid configuration same as last episode\n",
      "Grid configuration same as last episode\n",
      "Grid configuration same as last episode\n"
     ]
    },
    {
     "name": "stdout",
     "output_type": "stream",
     "text": [
      "Update 1991: Reward P1: -116, Reward P2: -116\n",
      "Update 1992: Reward P1: -136, Reward P2: -136\n"
     ]
    },
    {
     "name": "stderr",
     "output_type": "stream",
     "text": [
      "Grid configuration same as last episode\n",
      "Grid configuration same as last episode\n",
      "Grid configuration same as last episode\n",
      "Grid configuration same as last episode\n",
      "Grid configuration same as last episode\n",
      "Grid configuration same as last episode\n"
     ]
    },
    {
     "name": "stdout",
     "output_type": "stream",
     "text": [
      "Update 1993: Reward P1: -136, Reward P2: -136\n",
      "Update 1994: Reward P1: -176, Reward P2: -176\n"
     ]
    },
    {
     "name": "stderr",
     "output_type": "stream",
     "text": [
      "Grid configuration same as last episode\n",
      "Grid configuration same as last episode\n",
      "Grid configuration same as last episode\n",
      "Grid configuration same as last episode\n",
      "Grid configuration same as last episode\n",
      "Grid configuration same as last episode\n"
     ]
    },
    {
     "name": "stdout",
     "output_type": "stream",
     "text": [
      "Update 1995: Reward P1: -86, Reward P2: -86\n",
      "Update 1996: Reward P1: -86, Reward P2: -86\n"
     ]
    },
    {
     "name": "stderr",
     "output_type": "stream",
     "text": [
      "Grid configuration same as last episode\n",
      "Grid configuration same as last episode\n",
      "Grid configuration same as last episode\n",
      "Grid configuration same as last episode\n",
      "Grid configuration same as last episode\n",
      "Grid configuration same as last episode\n"
     ]
    },
    {
     "name": "stdout",
     "output_type": "stream",
     "text": [
      "Update 1997: Reward P1: -136, Reward P2: -136\n",
      "Update 1998: Reward P1: -106, Reward P2: -106\n"
     ]
    },
    {
     "name": "stderr",
     "output_type": "stream",
     "text": [
      "Grid configuration same as last episode\n",
      "Grid configuration same as last episode\n",
      "Grid configuration same as last episode\n",
      "Grid configuration same as last episode\n"
     ]
    },
    {
     "name": "stdout",
     "output_type": "stream",
     "text": [
      "Update 1999: Reward P1: -106, Reward P2: -106\n",
      "Update 2000: Reward P1: -126, Reward P2: -126\n"
     ]
    }
   ],
   "source": [
    "import gym\n",
    "\n",
    "# Initialize the environment\n",
    "config = {\n",
    "    \"grid_shape\": (5, 5),\n",
    "    \"n_agents\": 2,\n",
    "    \"n_trees\": 12,\n",
    "    \"agent_view\": (1, 1),\n",
    "    \"full_observable\": False,\n",
    "    \"step_cost\": -1,\n",
    "    \"tree_cutdown_reward\": 10,\n",
    "    \"max_steps\": 100\n",
    "}\n",
    "env = Lumberjacks(**config)\n",
    "\n",
    "input_dim = env.observation_space[0].shape[0]\n",
    "action_dim = env.action_space[0].n\n",
    "\n",
    "model_p1 = ActorCritic(input_dim, action_dim)\n",
    "model_p2 = ActorCritic(input_dim, action_dim)\n",
    "\n",
    "# Initialize the optimizers\n",
    "optimizer_p1 = optim.Adam(model_p1.parameters(), lr=2.5e-4)\n",
    "optimizer_p2 = optim.Adam(model_p2.parameters(), lr=2.5e-4)\n",
    "\n",
    "# Train the models\n",
    "rewards_p1, rewards_p2 = train_multiagent(env, model_p1, model_p2, optimizer_p1, optimizer_p2, num_updates=2000, batch_size=256)"
   ]
  },
  {
   "cell_type": "code",
   "execution_count": 136,
   "id": "2532a01c",
   "metadata": {},
   "outputs": [],
   "source": [
    "save_multiagent_models(model_p1, model_p2, 'ppo_lumberjacks_p1.pth', 'ppo_lumberjacks_p2.pth')\n"
   ]
  },
  {
   "cell_type": "code",
   "execution_count": 137,
   "id": "e6414333",
   "metadata": {},
   "outputs": [
    {
     "data": {
      "image/png": "[encoded data removed]",
      "text/plain": [
       "<Figure size 1200x500 with 2 Axes>"
      ]
     },
     "metadata": {},
     "output_type": "display_data"
    }
   ],
   "source": [
    "import matplotlib.pyplot as plt\n",
    "\n",
    "def plot_rewards(rewards_p1, rewards_p2):\n",
    "    fig, axs = plt.subplots(1, 2, figsize=(12, 5))\n",
    "\n",
    "    axs[0].plot(rewards_p1, label=\"Agent 1\", color='blue')\n",
    "    axs[0].set_xlabel(\"Updates\")\n",
    "    axs[0].set_ylabel(\"Total Rewards\")\n",
    "    axs[0].set_title(\"Agent 1 Rewards per Update\")\n",
    "    axs[0].legend()\n",
    "\n",
    "    axs[1].plot(rewards_p2, label=\"Agent 2\", color='orange')\n",
    "    axs[1].set_xlabel(\"Updates\")\n",
    "    axs[1].set_ylabel(\"Total Rewards\")\n",
    "    axs[1].set_title(\"Agent 2 Rewards per Update\")\n",
    "    axs[1].legend()\n",
    "\n",
    "    fig.suptitle(\"Rewards per Update for Each Agent\", fontsize=16)\n",
    "    plt.tight_layout(rect=[0, 0, 1, 0.95])\n",
    "    plt.show()\n",
    "\n",
    "plot_rewards(rewards_p1, rewards_p2)"
   ]
  },
  {
   "cell_type": "code",
   "execution_count": 138,
   "id": "7c2c9b8a",
   "metadata": {},
   "outputs": [],
   "source": [
    "save_multiagent_models(model_p1, model_p2, 'ppo_lumberjacks_p1.pth', 'ppo_lumberjacks_p2.pth')\n",
    "\n"
   ]
  },
  {
   "cell_type": "code",
   "execution_count": 139,
   "id": "21c48b78",
   "metadata": {},
   "outputs": [
    {
     "name": "stderr",
     "output_type": "stream",
     "text": [
      "Grid configuration same as last episode\n",
      "Grid configuration same as last episode\n",
      "Grid configuration same as last episode\n",
      "Grid configuration same as last episode\n",
      "Grid configuration same as last episode\n",
      "Grid configuration same as last episode\n",
      "Grid configuration same as last episode\n",
      "Grid configuration same as last episode\n",
      "Grid configuration same as last episode\n",
      "Grid configuration same as last episode\n"
     ]
    }
   ],
   "source": [
    "load_multiagent_models(model_p1, model_p2, 'ppo_lumberjacks_p1.pth', 'ppo_lumberjacks_p2.pth')\n",
    "eval_rewards_p1, eval_rewards_p2 = evaluate_multiagent(env, model_p1, model_p2, num_episodes=10, render=False)"
   ]
  },
  {
   "cell_type": "code",
   "execution_count": 140,
   "id": "ead21a88",
   "metadata": {},
   "outputs": [
    {
     "data": {
      "image/png": "[encoded data removed]",
      "text/plain": [
       "<Figure size 1200x500 with 2 Axes>"
      ]
     },
     "metadata": {},
     "output_type": "display_data"
    }
   ],
   "source": [
    "plot_rewards(eval_rewards_p1, eval_rewards_p2)"
   ]
  },
  {
   "cell_type": "markdown",
   "id": "ff90c094",
   "metadata": {},
   "source": [
    "# References\n",
    "1. https://github.com/koulanurag/ma-gym"
   ]
  },
  {
   "cell_type": "markdown",
   "id": "ba6c012b",
   "metadata": {},
   "source": []
  }
 ],
 "metadata": {
  "kernelspec": {
   "display_name": "Python 3",
   "language": "python",
   "name": "python3"
  },
  "language_info": {
   "codemirror_mode": {
    "name": "ipython",
    "version": 3
   },
   "file_extension": ".py",
   "mimetype": "text/x-python",
   "name": "python",
   "nbconvert_exporter": "python",
   "pygments_lexer": "ipython3",
   "version": "3.11.4"
  }
 },
 "nbformat": 4,
 "nbformat_minor": 5
}
